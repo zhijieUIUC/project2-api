{
 "cells": [
  {
   "cell_type": "markdown",
   "metadata": {},
   "source": [
    "# Project 2: Web Scraping and API access"
   ]
  },
  {
   "cell_type": "code",
   "execution_count": 1,
   "metadata": {},
   "outputs": [
    {
     "name": "stdout",
     "output_type": "stream",
     "text": [
      "Collecting beautifulsoup4\n",
      "  Using cached beautifulsoup4-4.13.3-py3-none-any.whl.metadata (3.8 kB)\n",
      "Collecting soupsieve>1.2 (from beautifulsoup4)\n",
      "  Using cached soupsieve-2.6-py3-none-any.whl.metadata (4.6 kB)\n",
      "Requirement already satisfied: typing-extensions>=4.0.0 in /opt/homebrew/Caskroom/miniconda/base/envs/is310-env/lib/python3.10/site-packages (from beautifulsoup4) (4.12.2)\n",
      "Using cached beautifulsoup4-4.13.3-py3-none-any.whl (186 kB)\n",
      "Using cached soupsieve-2.6-py3-none-any.whl (36 kB)\n",
      "Installing collected packages: soupsieve, beautifulsoup4\n",
      "Successfully installed beautifulsoup4-4.13.3 soupsieve-2.6\n",
      "Note: you may need to restart the kernel to use updated packages.\n"
     ]
    }
   ],
   "source": [
    "%pip install beautifulsoup4"
   ]
  },
  {
   "cell_type": "code",
   "execution_count": 3,
   "metadata": {},
   "outputs": [
    {
     "name": "stdout",
     "output_type": "stream",
     "text": [
      "Collecting requests\n",
      "  Using cached requests-2.32.3-py3-none-any.whl.metadata (4.6 kB)\n",
      "Requirement already satisfied: pandas in /opt/homebrew/Caskroom/miniconda/base/envs/is310-env/lib/python3.10/site-packages (2.2.3)\n",
      "Collecting charset-normalizer<4,>=2 (from requests)\n",
      "  Downloading charset_normalizer-3.4.1-cp310-cp310-macosx_10_9_universal2.whl.metadata (35 kB)\n",
      "Collecting idna<4,>=2.5 (from requests)\n",
      "  Using cached idna-3.10-py3-none-any.whl.metadata (10 kB)\n",
      "Collecting urllib3<3,>=1.21.1 (from requests)\n",
      "  Using cached urllib3-2.3.0-py3-none-any.whl.metadata (6.5 kB)\n",
      "Collecting certifi>=2017.4.17 (from requests)\n",
      "  Using cached certifi-2025.1.31-py3-none-any.whl.metadata (2.5 kB)\n",
      "Requirement already satisfied: numpy>=1.22.4 in /opt/homebrew/Caskroom/miniconda/base/envs/is310-env/lib/python3.10/site-packages (from pandas) (2.2.3)\n",
      "Requirement already satisfied: python-dateutil>=2.8.2 in /opt/homebrew/Caskroom/miniconda/base/envs/is310-env/lib/python3.10/site-packages (from pandas) (2.9.0.post0)\n",
      "Requirement already satisfied: pytz>=2020.1 in /opt/homebrew/Caskroom/miniconda/base/envs/is310-env/lib/python3.10/site-packages (from pandas) (2025.1)\n",
      "Requirement already satisfied: tzdata>=2022.7 in /opt/homebrew/Caskroom/miniconda/base/envs/is310-env/lib/python3.10/site-packages (from pandas) (2025.1)\n",
      "Requirement already satisfied: six>=1.5 in /opt/homebrew/Caskroom/miniconda/base/envs/is310-env/lib/python3.10/site-packages (from python-dateutil>=2.8.2->pandas) (1.17.0)\n",
      "Using cached requests-2.32.3-py3-none-any.whl (64 kB)\n",
      "Using cached certifi-2025.1.31-py3-none-any.whl (166 kB)\n",
      "Downloading charset_normalizer-3.4.1-cp310-cp310-macosx_10_9_universal2.whl (198 kB)\n",
      "Using cached idna-3.10-py3-none-any.whl (70 kB)\n",
      "Using cached urllib3-2.3.0-py3-none-any.whl (128 kB)\n",
      "Installing collected packages: urllib3, idna, charset-normalizer, certifi, requests\n",
      "Successfully installed certifi-2025.1.31 charset-normalizer-3.4.1 idna-3.10 requests-2.32.3 urllib3-2.3.0\n",
      "Note: you may need to restart the kernel to use updated packages.\n"
     ]
    }
   ],
   "source": [
    "%pip install requests pandas"
   ]
  },
  {
   "cell_type": "markdown",
   "metadata": {},
   "source": [
    "## Part 1: Explore the html for Wikipedia articles. "
   ]
  },
  {
   "cell_type": "markdown",
   "metadata": {},
   "source": [
    "### A. Using inspect element, copy the html code for a table."
   ]
  },
  {
   "cell_type": "markdown",
   "metadata": {},
   "source": [
    "<table class=\"wikitable\" style=\"text-align:center; float:left; font-size:90%; margin:10px\">\n",
    "<caption><b>Fall First-Time Freshman Statistics</b><sup id=\"cite_ref-FallEnrollmentReport_54-1\" class=\"reference\"><a href=\"#cite_note-FallEnrollmentReport-54\"><span class=\"cite-bracket\">[</span>54<span class=\"cite-bracket\">]</span></a></sup><sup id=\"cite_ref-63\" class=\"reference\"><a href=\"#cite_note-63\"><span class=\"cite-bracket\">[</span>62<span class=\"cite-bracket\">]</span></a></sup><sup id=\"cite_ref-64\" class=\"reference\"><a href=\"#cite_note-64\"><span class=\"cite-bracket\">[</span>63<span class=\"cite-bracket\">]</span></a></sup><sup id=\"cite_ref-65\" class=\"reference\"><a href=\"#cite_note-65\"><span class=\"cite-bracket\">[</span>64<span class=\"cite-bracket\">]</span></a></sup><sup id=\"cite_ref-66\" class=\"reference\"><a href=\"#cite_note-66\"><span class=\"cite-bracket\">[</span>65<span class=\"cite-bracket\">]</span></a></sup><sup id=\"cite_ref-67\" class=\"reference\"><a href=\"#cite_note-67\"><span class=\"cite-bracket\">[</span>66<span class=\"cite-bracket\">]</span></a></sup><sup id=\"cite_ref-:1_61-1\" class=\"reference\"><a href=\"#cite_note-:1-61\"><span class=\"cite-bracket\">[</span>60<span class=\"cite-bracket\">]</span></a></sup><sup id=\"cite_ref-:2_68-0\" class=\"reference\"><a href=\"#cite_note-:2-68\"><span class=\"cite-bracket\">[</span>67<span class=\"cite-bracket\">]</span></a></sup>\n",
    "</caption>\n",
    "<tbody><tr>\n",
    "<th>\n",
    "</th>\n",
    "<th>2022\n",
    "</th>\n",
    "<th>2021</th>\n",
    "<th>2020</th>\n",
    "<th>2019</th>\n",
    "<th>2018</th>\n",
    "<th>2017</th>\n",
    "<th>2016\n",
    "</th></tr>\n",
    "<tr>\n",
    "<th>Applicants\n",
    "</th>\n",
    "<td>63,257\n",
    "</td>\n",
    "<td>47,593</td>\n",
    "<td>43,473</td>\n",
    "<td>43,509</td>\n",
    "<td>39,406</td>\n",
    "<td>38,965</td>\n",
    "<td>38,093\n",
    "</td></tr>\n",
    "<tr>\n",
    "<th>Admits\n",
    "</th>\n",
    "<td>28,354\n",
    "</td>\n",
    "<td>28,395</td>\n",
    "<td>27,520</td>\n",
    "<td>25,684</td>\n",
    "<td>24,496</td>\n",
    "<td>23,974</td>\n",
    "<td>22,881\n",
    "</td></tr>\n",
    "<tr>\n",
    "<th>Admit rate\n",
    "</th>\n",
    "<td>44.8\n",
    "</td>\n",
    "<td>59.7</td>\n",
    "<td>63.3</td>\n",
    "<td>59.0</td>\n",
    "<td>62.2</td>\n",
    "<td>61.5</td>\n",
    "<td>60.1\n",
    "</td></tr>\n",
    "<tr>\n",
    "<th>Enrolled\n",
    "</th>\n",
    "<td>7,957\n",
    "</td>\n",
    "<td>8,303</td>\n",
    "<td>7,530</td>\n",
    "<td>7,665</td>\n",
    "<td>7,609</td>\n",
    "<td>7,518</td>\n",
    "<td>7,593\n",
    "</td></tr>\n",
    "<tr>\n",
    "<th>Yield rate\n",
    "</th>\n",
    "<td>27.4\n",
    "</td>\n",
    "<td>29.2</td>\n",
    "<td>27.4</td>\n",
    "<td>29.8</td>\n",
    "<td>31.1</td>\n",
    "<td>31.4</td>\n",
    "<td>33.2\n",
    "</td></tr>\n",
    "<tr>\n",
    "<th>ACT composite*<br><small>(out of 36)</small>\n",
    "</th>\n",
    "<td>30–34<br><small>(55.4%<sup>†</sup>)</small>\n",
    "</td>\n",
    "<td>29–34<br><small>(24%<sup>†</sup>)</small></td>\n",
    "<td>27–33<br><small>(50%<sup>†</sup>)</small></td>\n",
    "<td>27–33<br><small>(55%<sup>†</sup>)</small></td>\n",
    "<td>26–32<br><small>(63%<sup>†</sup>)</small></td>\n",
    "<td>26–32<br><small>(85%<sup>†</sup>)</small></td>\n",
    "<td>26–32<br><small>(85%<sup>†</sup>)</small>\n",
    "</td></tr>\n",
    "<tr>\n",
    "<th>SAT composite*<br><small>(out of 1600)</small>\n",
    "</th>\n",
    "<td>1350–1510<br><small>(55.4%<sup>†</sup>)</small>\n",
    "</td>\n",
    "<td>1340–1510<br><small>(43%<sup>†</sup>)</small></td>\n",
    "<td>1220–1450<br><small>(75%<sup>†</sup>)</small></td>\n",
    "<td>1230–1460<br><small>(79%<sup>†</sup>)</small></td>\n",
    "<td>1220–1480<br><small>(63%<sup>†</sup>)</small></td>\n",
    "<td>1340–1500<br><small>(22%<sup>†</sup>)</small></td>\n",
    "<td data-sort-value=\"\" style=\"vertical-align:middle; text-align:center\" class=\"table-na\">—\n",
    "</td></tr>\n",
    "<tr>\n",
    "<td colspan=\"8\">* middle 50% range<br> <sup>†</sup> percentage of first-time freshmen who chose to submit\n",
    "</td></tr></tbody></table>"
   ]
  },
  {
   "cell_type": "markdown",
   "metadata": {},
   "source": [
    "### B. Using inspect element, find the html syntax for a link. "
   ]
  },
  {
   "cell_type": "markdown",
   "metadata": {},
   "source": [
    "<a href=\"/wiki/UIUC_College_of_Engineering\" class=\"mw-redirect\" title=\"UIUC College of Engineering\">Grainger College of Engineering</a>"
   ]
  },
  {
   "cell_type": "markdown",
   "metadata": {},
   "source": [
    "### C. Using inspect element, find the html syntax for linking an image"
   ]
  },
  {
   "cell_type": "markdown",
   "metadata": {},
   "source": [
    "<img src=\"//upload.wikimedia.org/wikipedia/commons/thumb/a/af/University_of_Illinois_seal.svg/150px-University_of_Illinois_seal.svg.png\" decoding=\"async\" width=\"150\" height=\"150\" class=\"mw-file-element\" srcset=\"//upload.wikimedia.org/wikipedia/commons/thumb/a/af/University_of_Illinois_seal.svg/225px-University_of_Illinois_seal.svg.png 1.5x, //upload.wikimedia.org/wikipedia/commons/thumb/a/af/University_of_Illinois_seal.svg/300px-University_of_Illinois_seal.svg.png 2x\" data-file-width=\"202\" data-file-height=\"202\">"
   ]
  },
  {
   "cell_type": "markdown",
   "metadata": {},
   "source": [
    "## Part 2: Explore one Wikipedia page with the beautifulsoup package"
   ]
  },
  {
   "cell_type": "code",
   "execution_count": 4,
   "metadata": {},
   "outputs": [],
   "source": [
    "import bs4\n",
    "import requests\n",
    "import pandas as pd"
   ]
  },
  {
   "cell_type": "code",
   "execution_count": 7,
   "metadata": {},
   "outputs": [
    {
     "name": "stdout",
     "output_type": "stream",
     "text": [
      "\n",
      "\n",
      "\n",
      "\n",
      "University of Illinois Urbana-Champaign - Wikipedia\n",
      "\n",
      "\n",
      "\n",
      "\n",
      "\n",
      "\n",
      "\n",
      "\n",
      "\n",
      "\n",
      "\n",
      "\n",
      "\n",
      "\n",
      "\n",
      "\n",
      "\n",
      "\n",
      "\n",
      "\n",
      "\n",
      "\n",
      "\n",
      "\n",
      "\n",
      "\n",
      "\n",
      "\n",
      "\n",
      "\n",
      "\n",
      "\n",
      "\n",
      "\n",
      "\n",
      "\n",
      "Jump to content\n",
      "\n",
      "\n",
      "\n",
      "\n",
      "\n",
      "\n",
      "\n",
      "Main menu\n",
      "\n",
      "\n",
      "\n",
      "\n",
      "\n",
      "Main menu\n",
      "move to sidebar\n",
      "hide\n",
      "\n",
      "\n",
      "\n",
      "\t\tNavigation\n",
      "\t\n",
      "\n",
      "\n",
      "Main pageContentsCurrent eventsRandom articleAbout WikipediaContact us\n",
      "\n",
      "\n",
      "\n",
      "\n",
      "\n",
      "\t\tContribute\n",
      "\t\n",
      "\n",
      "\n",
      "HelpLearn to editCommunity portalRecent changesUpload fileSpecial pages\n",
      "\n",
      "\n",
      "\n",
      "\n",
      "\n",
      "\n",
      "\n",
      "\n",
      "\n",
      "\n",
      "\n",
      "\n",
      "\n",
      "\n",
      "\n",
      "\n",
      "\n",
      "\n",
      "\n",
      "Search\n",
      "\n",
      "\n",
      "\n",
      "\n",
      "\n",
      "\n",
      "\n",
      "\n",
      "\n",
      "\n",
      "\n",
      "Search\n",
      "\n",
      "\n",
      "\n",
      "\n",
      "\n",
      "\n",
      "\n",
      "\n",
      "\n",
      "\n",
      "\n",
      "\n",
      "\n",
      "\n",
      "\n",
      "\n",
      "\n",
      "\n",
      "\n",
      "\n",
      "\n",
      "\n",
      "Appearance\n",
      "\n",
      "\n",
      "\n",
      "\n",
      "\n",
      "\n",
      "\n",
      "\n",
      "\n",
      "\n",
      "\n",
      "\n",
      "\n",
      "\n",
      "\n",
      "\n",
      "Donate\n",
      "\n",
      "Create account\n",
      "\n",
      "Log in\n",
      "\n",
      "\n",
      "\n",
      "\n",
      "\n",
      "\n",
      "\n",
      "\n",
      "Personal tools\n",
      "\n",
      "\n",
      "\n",
      "\n",
      "\n",
      "Donate Create account Log in\n",
      "\n",
      "\n",
      "\n",
      "\n",
      "\n",
      "\t\tPages for logged out editors learn more\n",
      "\n",
      "\n",
      "\n",
      "ContributionsTalk\n",
      "\n",
      "\n",
      "\n",
      "\n",
      "\n",
      "\n",
      "\n",
      "\n",
      "\n",
      "\n",
      "\n",
      "\n",
      "\n",
      "\n",
      "\n",
      "\n",
      "\n",
      "\n",
      "\n",
      "\n",
      "\n",
      "\n",
      "\n",
      "\n",
      "\n",
      "\n",
      "\n",
      "\n",
      "Contents\n",
      "move to sidebar\n",
      "hide\n",
      "\n",
      "\n",
      "\n",
      "\n",
      "(Top)\n",
      "\n",
      "\n",
      "\n",
      "\n",
      "\n",
      "1\n",
      "History\n",
      "\n",
      "\n",
      "\n",
      "\n",
      "Toggle History subsection\n",
      "\n",
      "\n",
      "\n",
      "\n",
      "\n",
      "1.1\n",
      "Illinois Industrial University (1867–1885)\n",
      "\n",
      "\n",
      "\n",
      "\n",
      "\n",
      "\n",
      "\n",
      "\n",
      "1.2\n",
      "University of Illinois (1885–1977)\n",
      "\n",
      "\n",
      "\n",
      "\n",
      "\n",
      "\n",
      "\n",
      "\n",
      "1.3\n",
      "University of Illinois Urbana-Champaign (1977–present)\n",
      "\n",
      "\n",
      "\n",
      "\n",
      "\n",
      "\n",
      "\n",
      "\n",
      "1.4\n",
      "Philanthropy\n",
      "\n",
      "\n",
      "\n",
      "\n",
      "\n",
      "\n",
      "\n",
      "\n",
      "\n",
      "\n",
      "2\n",
      "Campus\n",
      "\n",
      "\n",
      "\n",
      "\n",
      "Toggle Campus subsection\n",
      "\n",
      "\n",
      "\n",
      "\n",
      "\n",
      "2.1\n",
      "Sustainability\n",
      "\n",
      "\n",
      "\n",
      "\n",
      "\n",
      "\n",
      "\n",
      "\n",
      "\n",
      "\n",
      "3\n",
      "Academics\n",
      "\n",
      "\n",
      "\n",
      "\n",
      "Toggle Academics subsection\n",
      "\n",
      "\n",
      "\n",
      "\n",
      "\n",
      "3.1\n",
      "Undergraduate admissions\n",
      "\n",
      "\n",
      "\n",
      "\n",
      "\n",
      "\n",
      "\n",
      "\n",
      "3.2\n",
      "Academic divisions\n",
      "\n",
      "\n",
      "\n",
      "\n",
      "\n",
      "\n",
      "\n",
      "\n",
      "3.3\n",
      "Online learning\n",
      "\n",
      "\n",
      "\n",
      "\n",
      "\n",
      "\n",
      "\n",
      "\n",
      "3.4\n",
      "Reputation and rankings\n",
      "\n",
      "\n",
      "\n",
      "\n",
      "\n",
      "\n",
      "\n",
      "\n",
      "\n",
      "\n",
      "4\n",
      "Research\n",
      "\n",
      "\n",
      "\n",
      "\n",
      "Toggle Research subsection\n",
      "\n",
      "\n",
      "\n",
      "\n",
      "\n",
      "4.1\n",
      "Centers and institutes\n",
      "\n",
      "\n",
      "\n",
      "\n",
      "\n",
      "\n",
      "\n",
      "\n",
      "4.2\n",
      "Research Park\n",
      "\n",
      "\n",
      "\n",
      "\n",
      "\n",
      "\n",
      "\n",
      "\n",
      "4.3\n",
      "Notable discoveries and innovations\n",
      "\n",
      "\n",
      "\n",
      "\n",
      "\n",
      "\n",
      "\n",
      "\n",
      "\n",
      "\n",
      "5\n",
      "Student life\n",
      "\n",
      "\n",
      "\n",
      "\n",
      "Toggle Student life subsection\n",
      "\n",
      "\n",
      "\n",
      "\n",
      "\n",
      "5.1\n",
      "Student body\n",
      "\n",
      "\n",
      "\n",
      "\n",
      "\n",
      "\n",
      "\n",
      "\n",
      "5.2\n",
      "Student organizations\n",
      "\n",
      "\n",
      "\n",
      "\n",
      "\n",
      "\n",
      "5.2.1\n",
      "Greek life\n",
      "\n",
      "\n",
      "\n",
      "\n",
      "\n",
      "\n",
      "\n",
      "\n",
      "5.2.2\n",
      "Student government\n",
      "\n",
      "\n",
      "\n",
      "\n",
      "\n",
      "\n",
      "\n",
      "\n",
      "\n",
      "\n",
      "5.3\n",
      "Residence halls\n",
      "\n",
      "\n",
      "\n",
      "\n",
      "\n",
      "\n",
      "\n",
      "\n",
      "5.4\n",
      "Libraries and museums\n",
      "\n",
      "\n",
      "\n",
      "\n",
      "\n",
      "\n",
      "\n",
      "\n",
      "5.5\n",
      "Recreation\n",
      "\n",
      "\n",
      "\n",
      "\n",
      "\n",
      "\n",
      "\n",
      "\n",
      "5.6\n",
      "Transportation\n",
      "\n",
      "\n",
      "\n",
      "\n",
      "\n",
      "\n",
      "\n",
      "\n",
      "5.7\n",
      "Security\n",
      "\n",
      "\n",
      "\n",
      "\n",
      "\n",
      "\n",
      "\n",
      "\n",
      "\n",
      "\n",
      "6\n",
      "Athletics\n",
      "\n",
      "\n",
      "\n",
      "\n",
      "Toggle Athletics subsection\n",
      "\n",
      "\n",
      "\n",
      "\n",
      "\n",
      "6.1\n",
      "Mascot\n",
      "\n",
      "\n",
      "\n",
      "\n",
      "\n",
      "\n",
      "\n",
      "\n",
      "\n",
      "\n",
      "7\n",
      "Notable alumni and faculty\n",
      "\n",
      "\n",
      "\n",
      "\n",
      "\n",
      "\n",
      "\n",
      "\n",
      "8\n",
      "Notes\n",
      "\n",
      "\n",
      "\n",
      "\n",
      "\n",
      "\n",
      "\n",
      "\n",
      "9\n",
      "References\n",
      "\n",
      "\n",
      "\n",
      "\n",
      "\n",
      "\n",
      "\n",
      "\n",
      "10\n",
      "Further reading\n",
      "\n",
      "\n",
      "\n",
      "\n",
      "\n",
      "\n",
      "\n",
      "\n",
      "11\n",
      "External links\n",
      "\n",
      "\n",
      "\n",
      "\n",
      "\n",
      "\n",
      "\n",
      "\n",
      "\n",
      "\n",
      "\n",
      "\n",
      "\n",
      "\n",
      "\n",
      "\n",
      "\n",
      "\n",
      "Toggle the table of contents\n",
      "\n",
      "\n",
      "\n",
      "\n",
      "\n",
      "\n",
      "\n",
      "University of Illinois Urbana-Champaign\n",
      "\n",
      "\n",
      "\n",
      "42 languages\n",
      "\n",
      "\n",
      "\n",
      "\n",
      "العربيةAzərbaycancaتۆرکجهবাংলাБеларускаяБългарскиCatalàČeštinaDeutschEestiEspañolEsperantoفارسیFrançais한국어Bahasa IndonesiaItalianoעבריתLietuviųमराठीმარგალურიمصرىBahasa MelayuNederlands日本語پنجابیPlattdüütschPolskiPortuguêsRomânăРусскийSimple EnglishکوردیSuomiSvenskaTagalogதமிழ்ไทยTürkçeУкраїнськаاردو中文\n",
      "\n",
      "Edit links\n",
      "\n",
      "\n",
      "\n",
      "\n",
      "\n",
      "\n",
      "\n",
      "\n",
      "\n",
      "\n",
      "\n",
      "ArticleTalk\n",
      "\n",
      "\n",
      "\n",
      "\n",
      "\n",
      "English\n",
      "\n",
      "\n",
      "\n",
      "\n",
      "\n",
      "\n",
      "\n",
      "\n",
      "\n",
      "\n",
      "\n",
      "\n",
      "\n",
      "\n",
      "\n",
      "\n",
      "\n",
      "ReadEditView history\n",
      "\n",
      "\n",
      "\n",
      "\n",
      "\n",
      "\n",
      "\n",
      "Tools\n",
      "\n",
      "\n",
      "\n",
      "\n",
      "\n",
      "Tools\n",
      "move to sidebar\n",
      "hide\n",
      "\n",
      "\n",
      "\n",
      "\t\tActions\n",
      "\t\n",
      "\n",
      "\n",
      "ReadEditView history\n",
      "\n",
      "\n",
      "\n",
      "\n",
      "\n",
      "\t\tGeneral\n",
      "\t\n",
      "\n",
      "\n",
      "What links hereRelated changesUpload filePermanent linkPage informationCite this pageGet shortened URLDownload QR code\n",
      "\n",
      "\n",
      "\n",
      "\n",
      "\n",
      "\t\tPrint/export\n",
      "\t\n",
      "\n",
      "\n",
      "Download as PDFPrintable version\n",
      "\n",
      "\n",
      "\n",
      "\n",
      "\n",
      "\t\tIn other projects\n",
      "\t\n",
      "\n",
      "\n",
      "Wikimedia CommonsWikidata item\n",
      "\n",
      "\n",
      "\n",
      "\n",
      "\n",
      "\n",
      "\n",
      "\n",
      "\n",
      "\n",
      "\n",
      "\n",
      "\n",
      "\n",
      "\n",
      "\n",
      "\n",
      "\n",
      "\n",
      "\n",
      "\n",
      "Appearance\n",
      "move to sidebar\n",
      "hide\n",
      "\n",
      "\n",
      "\n",
      "\n",
      "\n",
      "\n",
      "\n",
      "\n",
      "\n",
      "Coordinates: 40°6′38″N 88°13′42″W﻿ / ﻿40.11056°N 88.22833°W﻿ / 40.11056; -88.22833\n",
      "\n",
      "From Wikipedia, the free encyclopedia\n",
      "\n",
      "\n",
      "Public university in Illinois, US\n",
      "\"University of Illinois\" redirects here. For the university system, see University of Illinois System.\n",
      "\n",
      "\n",
      "University of Illinois Urbana-ChampaignFormer namesIllinois Industrial University (1867–1885)University of Illinois (1885–1982)University of Illinois at Urbana-Champaign (1982–2021)[1]Motto\"Learning & Labor\"TypePublic land-grant research universityEstablished1867; 158 years ago (1867)Parent institutionUniversity of Illinois SystemAccreditationHLCAcademic affiliationsAAUURASea-grantSpace-grantEndowment$3.38 billion (2023)(system-wide)[2]Budget$7.7 billion (2023) (system-wide)[3]ChancellorRobert J. Jones[4]PresidentTimothy L. Killeen[5]ProvostJohn Coleman[6]Academic staff2,548Administrative staff8,803[7]Students59,238 (2024)[8]Undergraduates37,140 (2024)[8]Postgraduates20,765 (2024)[8]LocationUrbana-Champaign, Illinois, United StatesCampusSmall city[10], 6,370 acres (2,578 ha)[9]NewspaperThe Daily IlliniColorsOrange and blue[11]   NicknameFighting IlliniSporting affiliationsNCAA Division I FBS – Big TenWebsiteillinois.edu \n",
      "The University of Illinois Urbana-Champaign (UIUC, U of I, Illinois, or University of Illinois)[12][13] is a public land-grant research university in the Champaign–Urbana metropolitan area, Illinois, United States. Established in 1867, it is the flagship institution of the University of Illinois System. With over 59,000 students, the University of Illinois is one of the largest public universities by enrollment in the United States.\n",
      "The university contains 16 schools and colleges[14] and offers more than 150 undergraduate and over 100 graduate programs of study. The university holds 651 buildings on 6,370 acres (2,578 ha)[9] and its annual operating budget in 2016 was over $2 billion.[15] The University of Illinois Urbana-Champaign also operates a research park home to innovation centers for over 90 start-up companies and multinational corporations.[16]\n",
      "The University of Illinois Urbana-Champaign is a member of the Association of American Universities and is classified among \"R1: Doctoral Universities – Very high research activity\".[17] In fiscal year 2019, research expenditures at Illinois totaled $652 million.[18][16] The campus library system possesses the fourth-largest university library in the United States by holdings.[19] The university also hosts the National Center for Supercomputing Applications.[20]\n",
      "Illinois athletic teams compete in Division I of the NCAA and are collectively known as the Fighting Illini. They are members of the Big Ten Conference and have won the second-most conference titles. Illinois Fighting Illini football won the Rose Bowl Game in 1947, 1952, 1964 and a total of five national championships. Illinois athletes have won 29 medals in Olympic events. The alumni, faculty members, or researchers of the university include 24 Nobel laureates, 27 Pulitzer Prize winners, 2 Fields medalists, and 2 Turing Award winners.\n",
      "\n",
      "\n",
      "History[edit]\n",
      "Main article: History of the University of Illinois Urbana-Champaign\n",
      "Illinois Industrial University (1867–1885)[edit]\n",
      "University Hall stood from 1871 until 1938 and was replaced by Gregory Hall and the Illini Union. Pieces were used in the erection of Hallene Gateway.[21]\n",
      "The University of Illinois, originally named \"Illinois Industrial University\", was one of the 37 universities created under the first Morrill Land-Grant Act, which provided public land for the creation of agricultural and industrial colleges and universities across the United States. Among several cities, Urbana was selected in 1867 as the site for the new school.[22][23] From the beginning, President John Milton Gregory's desire to establish an institution firmly grounded in the liberal arts tradition was at odds with many state residents and lawmakers who wanted the university to offer classes based solely around \"industrial education\".[24] The university opened for classes on March 2, 1868, and had two faculty members and 77 students.[25]\n",
      "The library, which opened with the school in 1868, started with 1,039 volumes. Subsequently, President Edmund J. James, in a speech to the board of trustees in 1912, proposed to create a research library. It is now one of the world's largest public academic collections.[23][26][27] In 1870, the Mumford House was constructed as a model farmhouse for the school's experimental farm. The Mumford House remains the oldest structure on campus.[28] The original University Hall (1871) was the fourth building built; it stood where the Illini Union stands today.[29]\n",
      "The University of Illinois' Undergraduate Library (UGL) was constructed underground to preserve open space on campus and to prevent casting shadows on the adjacent Morrow Plots, the oldest continually used experimental agricultural fields in the United States.[30] This unique design inspired The Other Guys, a student a cappella group, to create the \"Morrow Plots Song,\" humorously explaining that the library was built underground \"'Cause you can't throw shade on the corn\".\n",
      "[31] The song has become a beloved piece among students and alumni, celebrating the university's history and traditions.\n",
      "\n",
      "University of Illinois (1885–1977)[edit]\n",
      "Alma Mater by Lorado Taft, located in front of Altgeld Hall\n",
      "In 1885, the Illinois Industrial University officially changed its name to the \"University of Illinois\", reflecting its agricultural, mechanical, and liberal arts curriculum.[24]  According to educational historian Roger L. Geiger, Illinois and a few other public and private universities set the standard for what the research university in the United States would become.[32][33]\n",
      "During his presidency, Edmund J. James (1904–1920) set the policy of building a massive research library.[34]   He also laid  the foundation for the large Chinese international student population on campus.[35] James established ties with China through the Chinese Minister to the United States Wu Ting-Fang. Class rivalries and Bob Zuppke's winning football teams contributed to campus morale.[23]\n",
      "Alma Mater, a prominent statue on campus created by alumnus Lorado Taft, was unveiled on June 11, 1929. It was funded from donations by the Alumni Fund and the classes of 1923–1929.[36]\n",
      "The Great Depression in the United States slowed construction and expansion on the campus. The university replaced the original university hall with Gregory Hall and the Illini Union. After World War II, the university experienced rapid growth. The enrollment doubled and the academic standing improved.[37]  This period was also marked by large growth in the Graduate College and increased federal support of scientific and technological research. During the 1950s and 1960s the university experienced the turmoil common on many American campuses. Among these were the water fights of the 1950s and 1960s.[38]\n",
      "\n",
      "University of Illinois Urbana-Champaign (1977–present)[edit]\n",
      "Engineering Hall is located along Boneyard Creek on the Engineering Campus\n",
      "By 1967, the University of Illinois system consisted of a main campus in Champaign-Urbana and two Chicago campuses, Chicago Circle (UICC) and Medical Center (UIMC), and people began using \"Urbana-Champaign\" or the reverse to refer to the main campus specifically. The university name officially changed to the University of Illinois at Urbana-Champaign by 1977 (although the word \"at\" was later dropped for marketing purposes by all U of I System campuses by 2021). While this was a reversal of the commonly used designation for the metropolitan area (Champaign-Urbana), a majority of the campus is located in Urbana. The name change established a separate identity for the main campus within the University of Illinois System, which today includes separate institutions at the University of Illinois Chicago (formed by the merger of UICC and UIMC) and University of Illinois Springfield.\n",
      "In 1998, the Hallene Gateway Plaza was dedicated. The Plaza features the original sandstone portal of University Hall, which was originally the fourth building on campus.[29] In recent years, state support has declined from 4.5% of the state's tax appropriations in 1980 to 2.28% in 2011, a nearly 50% decline.[39]  As a result, the university's budget has shifted away from relying on state support with nearly 84% of the budget coming from other sources in 2012.[40]\n",
      "On March 12, 2015, the Board of Trustees approved the creation of a medical school, the first college created at Urbana-Champaign in 60 years.[41][42][43] The Carle Illinois College of Medicine began classes in 2018.[44]\n",
      "\n",
      "Philanthropy[edit]\n",
      "Over the last twenty years state funding for the university has fallen. Private philanthropy increasingly supplements revenue from tuition and state funding, providing about 19% of the annual budget in 2012.[40] Notable among significant donors, alumnus entrepreneur Thomas M. Siebel has committed nearly $150 million to the university, including $36 million to build the Thomas M. Siebel Center for Computer Science, $25 million to build the Siebel Center for Design, and $50 million to support the renamed Department of Computer Science to become Siebel School of Computing and Data Science.[45] Furthermore, the Grainger Foundation (founded by alumnus W. W. Grainger) has contributed more than $300 million to the university over the last half-century,[citation needed] including donations for the construction of the Grainger Engineering Library. Larry Gies and his wife Beth donated $150 million in 2017 to the shortly thereafter renamed Gies College of Business.[46]\n",
      "\n",
      "Campus[edit]\n",
      "Main article: Campus of the University of Illinois Urbana-Champaign\n",
      "See also: Campustown (Champaign, Illinois)\n",
      "Green Street in Campustown\n",
      "The main research and academic facilities are divided almost evenly between the twin cities of Urbana and Champaign, which form part of the Champaign–Urbana metropolitan area. Some parts are in Urbana Township.[47]\n",
      "Four main quads compose the center of the university and are arranged from north to south. The Beckman Quadrangle and the John Bardeen Quadrangle occupy the center of the Engineering Campus. Boneyard Creek flows through the John Bardeen Quadrangle, parallel to Green Street. The Beckman Quadrangle, named after Arnold Orville Beckman, is primarily composed of research units and laboratories, and features a large solar calendar consisting of an obelisk and several copper fountains. The Main Quadrangle and South Quadrangle follow immediately after the John Bardeen Quad. The former makes up a large part of the Liberal Arts and Sciences portion of the campus, while the latter comprises many of the buildings of the College of Agriculture, Consumer, and Environmental Sciences (ACES) spread across the campus map.[48]\n",
      "Additionally, the research fields of the College of ACES stretch south from Urbana and Champaign into Savoy and Champaign County. The university also maintains formal gardens and a conference center in nearby Monticello at Allerton Park.\n",
      "The campus is known for its landscape and architecture, as well as distinctive landmarks.[49] It was identified as one of 50 college or university \"works of art\" by T.A. Gaines in his book The Campus as a Work of Art.[50] The campus also has a number of buildings and sites on the U.S. National Register of Historic Places including Harker Hall, the Astronomical Observatory, Louise Freer Hall, the Main Library, the Experimental Dairy Farm Historic District, and the Morrow Plots. University of Illinois Willard Airport is one of the few airports owned by an educational institution.[51]\n",
      "\n",
      " Panorama facing north on the Main Quad\n",
      "Sustainability[edit]\n",
      "Morrow Plots in front of the Carl R. Woese Institute for Genomic Biology\n",
      "In 2008, the University of Illinois Urbana-Champaign became a signatory of the American College and University Presidents' Climate Commitment, binding the campus to the goal of carbon neutrality as soon as possible. In 2010, the first Illinois Climate Action Plan (iCAP) was written to chart a path to this goal. The iCAP is a strategic framework for meeting the university's Climate Leadership Commitments to be carbon-neutral by 2050 or sooner and build resilience with its local community. Since then, the iCAP has been rewritten every five years to track the university's progress.\n",
      "In December 2013, the University of Illinois launched the Institute for Sustainability, Energy, and Environment (iSEE) on the Urbana-Champaign campus. The institute, under the Vice Chancellor for Research and Innovation, leads an interdisciplinary approach to researching solutions for the world's most pressing sustainability, energy, and environmental needs. In addition, iSEE has engaged students, faculty, staff, and campus leadership in the iCAP process — especially in the areas of zero waste and conservation of energy, food, water, land, and natural resources — as well as sustainability outreach and immersive educational programs.\n",
      "In 2022, new solar and geothermal energy projects, a reduction in water use, and wide-ranging sustainability research helped the University of Illinois Urbana-Champaign earn its fifth consecutive gold certification in the Sustainability Tracking, Assessment & Rating System (STARS).[52] Illinois has consistently achieved gold certification since it began reporting data through STARS in 2013, and the 2022 score was one of its highest to date.\n",
      "Currently, the campus features 27 LEED-certified buildings.\n",
      "\n",
      "Academics[edit]\n",
      "As of 2024, 87% of students graduate within 8 years of entering, compared to the national median of 58% for all 4-year universities nationwide.[53]\n",
      "\n",
      "Undergraduate admissions[edit]\n",
      "Undergraduate admissions statistics2023 enteringclass[54]\n",
      "[55]Change vs.2018Admit rate43.7% ( −18.5)Yield rate28.0% ( −3.1)Test scores middle 50%[i]SAT Total1350–1510(among 40% of FTFs)ACT Composite30–34(among 16% of FTFs)\n",
      "\n",
      "^ Among students who chose to submit\n",
      "\n",
      "\n",
      "The overall first-year admit rate for 2023 is 43.7%,[56] which differ greatly among UIUC colleges — whereas the overall first-choice admit rate is 34.7%, the Grainger College of Engineering has an admit rate of 22.3%. Certain in-demand majors like Computer Science, including Computer Science + X, of which the program being ranked consistently 5th nationwide[57][58] can be extremely competitive, with an acceptance rate of less than 6.8% in 2022,\n",
      "[59]\n",
      "[60] and average freshman ACT composite score of 33.7.[61]\n",
      "\n",
      "\n",
      "Fall First-Time Freshman Statistics[54][62][63][64][65][66][60][67]\n",
      "\n",
      "\n",
      "\n",
      "\n",
      "2022\n",
      "\n",
      "2021\n",
      "2020\n",
      "2019\n",
      "2018\n",
      "2017\n",
      "2016\n",
      "\n",
      "\n",
      "Applicants\n",
      "\n",
      "63,257\n",
      "\n",
      "47,593\n",
      "43,473\n",
      "43,509\n",
      "39,406\n",
      "38,965\n",
      "38,093\n",
      "\n",
      "\n",
      "Admits\n",
      "\n",
      "28,354\n",
      "\n",
      "28,395\n",
      "27,520\n",
      "25,684\n",
      "24,496\n",
      "23,974\n",
      "22,881\n",
      "\n",
      "\n",
      "Admit rate\n",
      "\n",
      "44.8\n",
      "\n",
      "59.7\n",
      "63.3\n",
      "59.0\n",
      "62.2\n",
      "61.5\n",
      "60.1\n",
      "\n",
      "\n",
      "Enrolled\n",
      "\n",
      "7,957\n",
      "\n",
      "8,303\n",
      "7,530\n",
      "7,665\n",
      "7,609\n",
      "7,518\n",
      "7,593\n",
      "\n",
      "\n",
      "Yield rate\n",
      "\n",
      "27.4\n",
      "\n",
      "29.2\n",
      "27.4\n",
      "29.8\n",
      "31.1\n",
      "31.4\n",
      "33.2\n",
      "\n",
      "\n",
      "ACT composite*(out of 36)\n",
      "\n",
      "30–34(55.4%†)\n",
      "\n",
      "29–34(24%†)\n",
      "27–33(50%†)\n",
      "27–33(55%†)\n",
      "26–32(63%†)\n",
      "26–32(85%†)\n",
      "26–32(85%†)\n",
      "\n",
      "\n",
      "SAT composite*(out of 1600)\n",
      "\n",
      "1350–1510(55.4%†)\n",
      "\n",
      "1340–1510(43%†)\n",
      "1220–1450(75%†)\n",
      "1230–1460(79%†)\n",
      "1220–1480(63%†)\n",
      "1340–1500(22%†)\n",
      "—\n",
      "\n",
      "\n",
      "* middle 50% range † percentage of first-time freshmen who chose to submit\n",
      "\n",
      "\n",
      "\n",
      "Freshmen admitted in Fall 2024\n",
      "[68]\n",
      "[56]\n",
      "\n",
      "\n",
      "College\n",
      "\n",
      "ACT composite*(middle 50%, out of 36)\n",
      "\n",
      "SAT composite*(middle 50%, out of 1600)\n",
      "\n",
      "Admit rate\n",
      "\n",
      "Computer Science Programs[56][69]\n",
      "\n",
      "\n",
      "Grainger College of Engineering\n",
      "\n",
      "33–35\n",
      "\n",
      "1460–1550\n",
      "\n",
      "24.2%\n",
      "\n",
      "Computer Science admit rate: 7.2%\n",
      "Computer Science + X admit rate: 18.1%\n",
      "\n",
      "\n",
      "\n",
      "College of Liberal Arts & Sciences\n",
      "\n",
      "30–34\n",
      "\n",
      "1390–1520\n",
      "\n",
      "41.5%\n",
      "\n",
      "\n",
      "\n",
      "\n",
      "Gies College of Business\n",
      "\n",
      "31–34\n",
      "\n",
      "1400–1500\n",
      "\n",
      "23.1%\n",
      "\n",
      "\n",
      "\n",
      "\n",
      "School of Information Sciences\n",
      "\n",
      "31–35\n",
      "\n",
      "1420–1520\n",
      "\n",
      "55.2%\n",
      "\n",
      "\n",
      "School of Social Work\n",
      "\n",
      "26–30\n",
      "\n",
      "1190–1360\n",
      "\n",
      "50.9%\n",
      "\n",
      "\n",
      "\n",
      "\n",
      "\n",
      "In 2009, an investigation by The Chicago Tribune reported that some applicants \"received special consideration\" for acceptance between 2005 and 2009, despite having sub-par qualifications.[70] This incident became known as the University of Illinois clout scandal.\n",
      "\n",
      "Academic divisions[edit]\n",
      "\n",
      "\n",
      "University of Illinois Urbana-Champaign\n",
      "\n",
      "\n",
      "College/School\n",
      "Year Founded\n",
      "\n",
      "\n",
      "Agriculture, Consumer, and Environmental Sciences\n",
      "1867\n",
      "\n",
      "\n",
      "Fine and Applied Arts\n",
      "1867\n",
      "\n",
      "\n",
      "Grainger College of Engineering\n",
      "1868\n",
      "\n",
      "\n",
      "Medicine\n",
      "1882\n",
      "\n",
      "\n",
      "Information Sciences\n",
      "1893\n",
      "\n",
      "\n",
      "Applied Health Sciences\n",
      "1895\n",
      "\n",
      "\n",
      "Law\n",
      "1897\n",
      "\n",
      "\n",
      "Education\n",
      "1905\n",
      "\n",
      "\n",
      "Liberal Arts and Sciences\n",
      "1913\n",
      "\n",
      "\n",
      "Gies College of Business\n",
      "1915\n",
      "\n",
      "\n",
      "Media\n",
      "1927\n",
      "\n",
      "\n",
      "Social Work\n",
      "1944\n",
      "\n",
      "\n",
      "Aviation\n",
      "1946\n",
      "\n",
      "\n",
      "Labor and Employment Relations\n",
      "1946\n",
      "\n",
      "\n",
      "Veterinary Medicine\n",
      "1948\n",
      "\n",
      "\n",
      "Carle Illinois College of Medicine\n",
      "2015\n",
      "\n",
      "The university offers more than 150 undergraduate and 100 graduate and professional programs in over 15 academic units, among several online specializations such as Digital Marketing and an online MBA program launched in January 2016. In 2015, the university announced its expansion to include an engineering-based medical program, which would be the first new college created in Urbana-Champaign in 60 years.[42][43] The university also offers undergraduate students the opportunity for graduation honors. University Honors is an academic distinction awarded to the highest achieving students. To earn the distinction, students must have a cumulative grade point average of a 3.5/4.0 within the academic year of their graduation and rank within the top 3% of their graduating class. Their names are inscribed on a Bronze Tablet that hangs in the Main Library.[71]\n",
      "\n",
      "Online learning[edit]\n",
      "In addition to the university's Illinois Online platform, in 2015 the university entered into a partnership with the Silicon Valley educational technology company Coursera to offer a series of master's degrees, certifications, and specialization courses, currently including more than 70 joint learning classes. In August 2015, the Master of Business Administration program was launched through the platform.[72] On March 31, 2016, Coursera announced the launch of the Master of Computer Science in Data Science from the University of Illinois Urbana-Champaign.[73] At the time, the university's computer-science graduate program was ranked fifth in the United States by U.S. News & World Report.[74] On March 29, 2017, the University of Illinois Urbana-Champaign launched their Master's in Accounting (iMSA) program, now called the Master of Science in Accountancy (iMSA) program. The iMSA program is led through live sessions, headed by UIUC faculty.[75]\n",
      "Similar to the university's on-campus admission policies, the online master's degrees offered by The University of Illinois through Coursera also has admission requirements.  All applicants must hold a bachelor's degree, and have earned a 3.0 GPA or higher in the last two years of study. Additionally, all applicants must prove their proficiency in English.[76][77]\n",
      "The University of Illinois also offers online courses in partnership with Coursera, such as Marketing in a Digital World, which focuses on how digital tools like internet, smartphone and 3D printers are changing the marketing landscape.\n",
      "\n",
      "Reputation and rankings[edit]\n",
      "\n",
      "\n",
      "\n",
      "\n",
      "Academic rankingsNationalForbes[78]40U.S. News & World Report[79]33 (tie)Washington Monthly[80]27WSJ/College Pulse[81]53GlobalARWU[82]55 (tie)QS[83]69 (tie)THE[84]42U.S. News & World Report[85]100 (tie)\n",
      "\n",
      "\n",
      "\n",
      "\n",
      "Computer Science Rankings\n",
      "\n",
      "\n",
      "THE[86]\n",
      "19\n",
      "\n",
      "\n",
      "QS[87]\n",
      "25\n",
      "\n",
      "\n",
      "CSRankings[88]\n",
      "2\n",
      "\n",
      "\n",
      "\n",
      "\n",
      "\n",
      "USNews National Rankings[89]\n",
      "\n",
      "\n",
      "Program\n",
      "\n",
      "Ranking\n",
      "\n",
      "\n",
      "Audiology\n",
      "16\n",
      "\n",
      "\n",
      "Biological Sciences\n",
      "32\n",
      "\n",
      "\n",
      "Chemistry\n",
      "9\n",
      "\n",
      "\n",
      "Clinical Psychology\n",
      "18\n",
      "\n",
      "\n",
      "Computer Science\n",
      "5\n",
      "\n",
      "\n",
      "Earth Sciences\n",
      "30\n",
      "\n",
      "\n",
      "Economics\n",
      "34\n",
      "\n",
      "\n",
      "Education\n",
      "34\n",
      "\n",
      "\n",
      "Engineering\n",
      "11\n",
      "\n",
      "\n",
      "English\n",
      "20\n",
      "\n",
      "\n",
      "Fine Arts\n",
      "53\n",
      "\n",
      "\n",
      "History\n",
      "21\n",
      "\n",
      "\n",
      "Law\n",
      "36\n",
      "\n",
      "\n",
      "Library and Information Studies\n",
      "1\n",
      "\n",
      "\n",
      "Mathematics\n",
      "20\n",
      "\n",
      "\n",
      "Physics\n",
      "9\n",
      "\n",
      "\n",
      "Political Science\n",
      "27\n",
      "\n",
      "\n",
      "Psychology\n",
      "6\n",
      "\n",
      "\n",
      "Public Health\n",
      "59\n",
      "\n",
      "\n",
      "Social Work\n",
      "24\n",
      "\n",
      "\n",
      "Sociology\n",
      "49\n",
      "\n",
      "\n",
      "Speech-Language Pathology\n",
      "14\n",
      "\n",
      "\n",
      "Statistics\n",
      "22\n",
      "\n",
      "\n",
      "Veterinary Medicine\n",
      "15\n",
      "\n",
      "\n",
      "\n",
      "\n",
      "\n",
      "USNews Global Rankings[90]\n",
      "\n",
      "\n",
      "Program\n",
      "\n",
      "Ranking\n",
      "\n",
      "\n",
      "Agricultural Sciences\n",
      "20\n",
      "\n",
      "\n",
      "Arts and Humanities\n",
      "31\n",
      "\n",
      "\n",
      "Biology and Biochemistry\n",
      "35\n",
      "\n",
      "\n",
      "Biotechnology & Applied Microbiology\n",
      "30\n",
      "\n",
      "\n",
      "Cell Biology\n",
      "119\n",
      "\n",
      "\n",
      "Chemical Engineering\n",
      "178\n",
      "\n",
      "\n",
      "Chemistry\n",
      "47\n",
      "\n",
      "\n",
      "Civil Engineering\n",
      "70\n",
      "\n",
      "\n",
      "Clinical Medicine\n",
      "328\n",
      "\n",
      "\n",
      "Computer Science\n",
      "13\n",
      "\n",
      "\n",
      "Economics and Business\n",
      "63\n",
      "\n",
      "\n",
      "Electrical & Electronic Engineering\n",
      "5\n",
      "\n",
      "\n",
      "Energy & Fuels\n",
      "75\n",
      "\n",
      "\n",
      "Engineering\n",
      "38\n",
      "\n",
      "\n",
      "Environment/Ecology\n",
      "96\n",
      "\n",
      "\n",
      "Geosciences\n",
      "99\n",
      "\n",
      "\n",
      "Materials Science\n",
      "4\n",
      "\n",
      "\n",
      "Mathematics\n",
      "54\n",
      "\n",
      "\n",
      "Mechanical Engineering\n",
      "42\n",
      "\n",
      "\n",
      "Microbiology\n",
      "87\n",
      "\n",
      "\n",
      "Molecular Biology & Genetics\n",
      "101\n",
      "\n",
      "\n",
      "Nanoscience & Nanotechnology\n",
      "81\n",
      "\n",
      "\n",
      "Neuroscience & Behavior\n",
      "186\n",
      "\n",
      "\n",
      "Physics\n",
      "22\n",
      "\n",
      "\n",
      "Plant & Animal Science\n",
      "31\n",
      "\n",
      "\n",
      "Psychiatry/Psychology\n",
      "54\n",
      "\n",
      "\n",
      "Public, Environmental & Occupational Health\n",
      "177\n",
      "\n",
      "\n",
      "Social Sciences & Public Health\n",
      "82\n",
      "\n",
      "\n",
      "Space Science\n",
      "20\n",
      "\n",
      "\n",
      "\n",
      "\n",
      "In the 2021 U.S. News & World Report \"America's Best Colleges\" report, UIUC's undergraduate program was ranked tied for 47th among national universities and tied for 15th among public universities, with its undergraduate engineering program ranked tied for 6th in the U.S. among schools whose highest degree is a doctorate.[91]\n",
      "Washington Monthly ranked UIUC 18th among 389 national universities in the U.S. for 2020, based on its contribution to the public good as measured by social mobility, research, and promoting public service.[92] Kiplinger's Personal Finance rated Illinois 12th in its 2019 list of 174 Best Values in Public Colleges,[93] which \"measures academic quality, cost and financial aid.\"\n",
      "The Graduate Program in Urban Planning at the College of Fine and Applied Arts was ranked 3rd nationally by Planetizen in 2015.[94]  The university was also listed as a \"Public Ivy\" in The Public Ivies: America's Flagship Public Universities (2001) by Howard and Matthew Greene.[95] The Princeton Review ranked Illinois 1st in its 2016 list of top party schools.[96]\n",
      "Internationally, UIUC engineering was ranked 13th in the world in 2016 by the Academic Ranking of World Universities (ARWU) and the university 38th in 2019;[97] the university was also ranked 48th globally by the Times Higher Education World University Rankings in 2020 and 75th in the world by the QS World University Rankings for 2020. The Center for World University Rankings (CWUR) has ranked University of Illinois Urbana-Champaign as the 20th best university in the world for 2019–20.[98]\n",
      "UIUC is also ranked 32nd in the world in Times Higher Education World Reputation Rankings for 2018.[99]\n",
      "\n",
      "Research[edit]\n",
      "Round Barns found on the University of Illinois Experimental Dairy Farm Historic District, part of ACES\n",
      "The University of Illinois Urbana-Champaign is often regarded as a world-leading magnet for engineering and sciences (both applied and basic).[100] According to the National Science Foundation, the university spent $625 million on research and development in 2018, ranking it 37th in the nation.[18][16] It is also listed as one of the top 25 American research universities by The Center for Measuring University Performance.[101]\n",
      "Besides the annual influx of grants and sponsored projects, the university manages an extensive modern research infrastructure.[102] The university has been a leader in computer-based education and hosted the PLATO project, which was a precursor to the internet and resulted in the development of the plasma display. Illinois was a 2nd-generation ARPAnet site in 1971 and was the first institution to license the UNIX operating system from Bell Labs. In Bill Gates' 2004 talk as part of his five-university campus tour titled \"Software Breakthroughs: Solving the Toughest Problems in Computer Science,\"[103] he mentioned that Microsoft hired more graduates from the University of Illinois Urbana-Champaign than from any other university in the world.[104]\n",
      "\n",
      "Centers and institutes[edit]\n",
      "Main articles: National Center for Supercomputing Applications, Beckman Institute for Advanced Science and Technology, Carl R. Woese Institute for Genomic Biology, and Prairie Research Institute\n",
      "The Beckman Institute for Advanced Science and Technology is the largest interdisciplinary facility on campus at 313,000 square feet (29,100 m2)\n",
      "The university hosts the National Center for Supercomputing Applications (NCSA), which created Mosaic, the first graphical web browser, the Apache HTTP server, and NCSA Telnet. The Parallel@Illinois program hosts several programs in parallel computing, including the Universal Parallel Computing Research Center. The university contracted with Cray to build the National Science Foundation-funded supercomputer Blue Waters.[105][106][107] The system also has the largest public online storage system in the world with more than 25 petabytes of usable space.[108]  The university celebrated January 12, 1997, as the \"birthday\" of HAL 9000, the fictional supercomputer from the novel and film 2001: A Space Odyssey; in both works, HAL credits \"Urbana, Illinois\" as his place of operational origin.\n",
      "The Beckman Institute for Advanced Science and Technology supports interdisciplinary collaborative research in the broad areas of intelligent systems, neuroscience, molecular science and engineering, and biomedical imaging.\n",
      "The Carl R. Woese Institute for Genomic Biology supports research in genomics and related areas of biology.\n",
      "\n",
      "One of the university's research prairie fields, located off Florida Avenue\n",
      "The Prairie Research Institute on campus houses several divisions, including the Illinois Natural History Survey, Illinois State Geological Survey, Illinois State Water Survey, Illinois Sustainable Technology Center, and Illinois State Archaeological Survey. Researchers focus on areas such as agriculture, biodiversity, climate, public health, emerging pests, energy, mineral resources, pollution mitigation, and water resources. The Illinois Natural History Survey holds extensive collections, including one of North America's largest insect collections. The Illinois State Geological Survey manages the Illinois Geological Samples Library and paleontological collections. The Illinois State Archaeological Survey preserves a large collection of Illinois archaeological artifacts, including those from the Cahokia Mounds.[109]\n",
      "The Technology Entrepreneur Center at the University of Illinois Urbana-Champaign offers resources for students to develop their entrepreneurial ideas, including classes, competitions, and workshops.[110] It hosts events including the Cozad New Venture Challenge, Silicon Valley Entrepreneurship Workshop, Illinois I-Corps, and SocialFuse. The Cozad Challenge, held annually since 2000, provides mentorship and workshops on venture creation, with teams competing for funding.[111] The Silicon Valley Workshop, a week-long event in January, exposes students to startups, technology companies, and entrepreneurial alumni in Silicon Valley.[112] Illinois I-Corps helps National Science Foundation grantees identify valuable product opportunities from academic research through customer discovery and entrepreneurship training.[113][114] SocialFuse is a pitching and networking event where students can present ideas and connect with potential teammates.[115]\n",
      "The Center for Plasma-Material Interactions was established in 2004 by Professor David N. Ruzic to research the complex behavior between ions, electrons, and energetic atoms generated in plasmas and the surfaces of materials. CPMI encompasses fusion plasmas in its research.[116][117][118]\n",
      "In 2007, the university-hosted research Institute for Condensed Matter Theory (ICMT) was launched, with the director Paul Goldbart and the chief scientist Anthony Leggett. ICMT is currently located at the Engineering Science Building on campus.\n",
      "\n",
      "Research Park[edit]\n",
      "Main article: Research Park at the University of Illinois Urbana-Champaign\n",
      "Research Park at the University of Illinois Urbana-Champaign\n",
      "Located in the southwest part of campus, Research Park opened its first building in 2001 and has grown to encompass 13 buildings. Ninety companies have established roots in research park, employing over 1,400 people. Tenants of the Research Park facilities include prominent Fortune 500 companies Capital One, John Deere, State Farm, Caterpillar, and Yahoo, Inc. Companies also employ about 400 total student interns at any given time throughout the year. The complex is also a center for entrepreneurs, and has over 50 startup companies stationed at its EnterpriseWorks Incubator facility.[119]\n",
      "In 2011, Urbana, Illinois was named number 11 on Popular Mechanics' \"14 Best Startup Cities in America\" list, in a large part due to the contributions of Research Park's programs.[120] The park has gained recognition from other notable publications, such as inc.com and Forbes magazine. For the 2011 fiscal year, Research Park produced an economic output of $169.5M for the state of Illinois.[121]\n",
      "\n",
      "Notable discoveries and innovations[edit]\n",
      "Grainger Engineering Library\n",
      "In the field of natural sciences, the BCS theory, a groundbreaking theory of superconductivity, was proposed by John Bardeen in collaboration with Leon Cooper and his doctoral student John Robert Schrieffer. Their work earned them the Nobel Prize in Physics in 1972.[122] In the realm of agricultural science, John Laughnan, while a professor, developed sweet corn with higher-than-normal sugar content, a significant advancement in crop science.[123]\n",
      "In computer and applied sciences, several notable achievements originated from the University of Illinois. The ILLIAC I, built in 1952, was the first computer entirely constructed and owned by a U.S. educational institution. It was also used by Lejaren Hiller and Leonard Issacson to create the Illiac Suite, the first known composition written by an electronic computer.[124][125] The development of LLVM, initially started by Vikram Adve and Chris Lattner, is now recognized as a major project in compiler infrastructure.[126] Another milestone was the development of the Mosaic web browser at the National Center for Supercomputing Applications in 1993.[127]\n",
      "NAMD, a molecular dynamics simulation code, was pioneered by Klaus Schulten and his team at the Beckman Institute for Advanced Science and Technology, further advancing computational biophysics. The PLATO system, also developed at the University of Illinois, was the first generalized computer assisted instruction system, which by the late 1970s supported thousands of terminals globally, introducing many concepts foundational to modern multi-user computing such as forums, instant messaging, and online testing.[128][129] In terms of interface technologies, Donald Bitzer was instrumental in the 1960s development of both touchscreens and plasma displays.[130] Furthermore, Doug Brown and David R. Woolley created Talkomatic in 1973 on the PLATO system, an early online chat system enabling real-time text communication among small groups.[131][132][133]\n",
      "In the realm of audio-visual technology, Joseph Tykociński-Tykociner publicly demonstrated for the first time a motion picture with a soundtrack optically recorded directly onto the film in 1922.[134]\n",
      "\n",
      "Student life[edit]\n",
      "\n",
      "Student body composition as of September 2024\n",
      "\n",
      "\n",
      "Race and ethnicity[53]\n",
      "\n",
      "Total\n",
      "\n",
      "\n",
      "White\n",
      "\n",
      "39%\n",
      "\n",
      "39 \n",
      "\n",
      "\n",
      "Asian\n",
      "\n",
      "22%\n",
      "\n",
      "22 \n",
      "\n",
      "\n",
      "Hispanic\n",
      "\n",
      "14%\n",
      "\n",
      "14 \n",
      "\n",
      "\n",
      "Foreign national\n",
      "\n",
      "14%\n",
      "\n",
      "14 \n",
      "\n",
      "\n",
      "Black\n",
      "\n",
      "6%\n",
      "\n",
      "6 \n",
      "\n",
      "\n",
      "Other[a]\n",
      "\n",
      "5%\n",
      "\n",
      "5 \n",
      "\n",
      "\n",
      "Economic diversity\n",
      "\n",
      "\n",
      "Low-income[b]\n",
      "\n",
      "26%\n",
      "\n",
      "26 \n",
      "\n",
      "\n",
      "Affluent[c]\n",
      "\n",
      "74%\n",
      "\n",
      "74 \n",
      "\n",
      "Student body[edit]\n",
      "As of spring 2018, the university had 45,813 students.[135] As of 2015[update], over 10,000 students were international students, and of them 5,295 were Mainland Chinese.[136] The university also recruits students from over 100 countries[137][138] among its 32,878[139] undergraduate students and 10,245[139] graduate and professional students.[138] The gender breakdown is 55% men, 45% women.[138] UIUC in 2014 enrolled 4,898 students from China, more than any other American university. They comprise the largest group of international students on the campus, followed by South Korea (1,268 in fall 2014) and India (1,167). Graduate enrollment of Chinese students at UIUC has grown from 649 in 2000 to 1,973 in 2014.[140]\n",
      "\n",
      "Student organizations[edit]\n",
      "Illini Union\n",
      "The university has over 1,000 active registered student organizations,[141] showcased at the start of each academic year during Illinois's \"Quad Day.\" Registration and support is provided by the Student Programs & Activities Office, an administrative arm established in pursuit of the larger social, intellectual, and educative goals of the Illini Student Union. The Office's mission is to \"enhance ... classroom education,\" \"meet the needs and desires of the campus community,\" and \"prepare students to be contributing and humane citizens.\"[142] Beyond student organizations, The Daily Illini is a student-run newspaper that has been published for the community of since 1871. The paper is published by Illini Media Company, a not-for-profit which also prints other publications, and operates WPGU 107.1 FM, a student-run commercial radio station. The Varsity Men's Glee Club is an all-male choir at the University of Illinois that was founded in 1886.[143] The Varsity Men's Glee Club[144] is one of the oldest glee clubs in the United States as well as the oldest registered student organization at the University of Illinois. As of 2018, the university also has the largest chapter of Alpha Phi Omega with over 340 active members.[145]\n",
      "\n",
      "Greek life[edit]\n",
      "Main article: List of University of Illinois at Urbana–Champaign fraternities and sororities\n",
      "There are 59 fraternities and 38 sororities on campus.[146] Of the approximately 30,366 undergraduates, 3,463 are members of sororities and 3,674 are members of fraternities.[147] The Greek system at the University of Illinois Urbana-Champaign has a system of self-government. While staff advisors and directors manage certain aspects of the Greek community, most of the day-to-day operations of the Greek community are governed by the Interfraternity Council and Panhellenic Council.[148] A smaller minority of fraternities and sororities fall under the jurisdiction of the Black Greek Council and United Greek Council; the Black Greek Council serves historically black Greek organizations while the United Greek council comprises other multicultural organizations.[149][150] Many of the fraternity and sorority houses on campus are on the National Register of Historic Places.\n",
      "\n",
      "Student government[edit]\n",
      "Foellinger Auditorium\n",
      "U of I has an extensive history of past student governments. Two years after the university opened in 1868, John Milton Gregory and a group of students created a constitution for a student government. Their governance expanded to the entire university in 1873, having a legislative, executive, and judicial branch. For a period of time, this government had the ability to discipline students. In 1883, however, due to a combination of events from Gregory's resignation to student-faculty infighting, the government formally dissolved itself via plebiscite.[151]\n",
      "It was not until 1934, when the Student Senate, the next university-wide student government, was created. A year before, future U of I Dean of Students, Fred H. Turner and the university's Senate Committee on Student Affairs gave increased power to the Student Council, an organization primarily known for organizing dances. A year after, the Student Council created a constitution and became the Student Senate, under the oversight of the Committee on Student Affairs. This Student Senate would last for 35 years.[152] The Student Senate changed its purpose and name in 1969, when it became the Undergraduate Student Association (UGSA). It ceased being a representational government, becoming a collective bargaining agency instead. It often worked with the Graduate Student Association to work on various projects[153]\n",
      "In 1967, Bruce A. Morrison and other U of I graduate founded the Graduate Student Association (GSA). GSA would last until 1978, when it merged with the UGSA to form the Champaign-Urbana Student Association (CUSA).[154][155] CUSA lasted for only two years when it was replaced by the Student Government Association (SGA) in 1980. SGA lasted for 15 years until it became the Illinois Student Government (ISG) in 1995. ISG lasted until 2004.[155]\n",
      "The current university student government, created in 2004, is the Illinois Student Senate, a combined undergraduate and graduate student senate with 54 voting members. The student senators are elected by college and represent the students in the Urbana-Champaign Senate (which comprises both faculty and students), as well as on a variety of faculty and administrative committees, and are led by an internally elected executive board of a President, External Vice President, Internal Vice President, and Treasurer. As of 2012[update], the executive board is supported by an executive staff consisting of a Chief of Staff, Clerk of the Senate, Parliamentarian, Director of Communications, Intern Coordinator, and the Historian of the Senate.[156]\n",
      "\n",
      "Residence halls[edit]\n",
      "Main article: UIUC Residence Halls\n",
      "Busey-Evans Residence Halls is one of many buildings on the NRHP\n",
      "The university provides housing for undergraduates through 24 residence halls in both Urbana and Champaign. Incoming freshmen are required to live in student housing (campus or certified) their first year on campus. The university also maintains two graduate residence halls, which are restricted to students who are sophomores or above, and three university-owned apartment complexes. Some undergraduates choose to move into apartments or the Greek houses after their first year. There are a number of private dormitories around campus, as well as 15 private, certified residences that partner with the university to offer a variety of different housing options, including ones that are cooperatives, single-gender or religiously affiliated.[157] The university is known for being one of the first universities to provide accommodations for students with disabilities.[158] In 2015, the University of Illinois announced that they would be naming its newest residence hall after Carlos Montezuma also known as Wassaja. Wassaja is the first Native American graduate and is believed to be one of the first Native Americans to receive a medical degree.[159]\n",
      "\n",
      "Libraries and museums[edit]\n",
      "See also: University of Illinois Urbana-Champaign University Library, Main Library (University of Illinois Urbana-Champaign), Spurlock Museum, Krannert Center for the Performing Arts, Grainger Engineering Library, and Krannert Art Museum\n",
      "Krannert Art Museum\n",
      "Among universities in North America, only the collections of Harvard are larger.[160] Currently, the University of Illinois' 20+ departmental libraries and divisions hold more than 24 million items, including more than 12 million print volumes.[26] As of 2012[update], it had also the largest \"browsable\" university library in the United States, with 5 million volumes directly accessible in stacks in a single location.[161] University of Illinois also has the largest public engineering library (Grainger Engineering Library) in the country.[162][26][163]  In addition to the main library building, which houses numerous subject-oriented libraries, the Isaac Funk Family Library on the South Quad serves the College of Agriculture, Consumer, and Environmental Sciences and the Grainger Engineering Library Information Center serves the College of Engineering on the John Bardeen Quad.\n",
      "\n",
      "The Main Library, which includes the Rare Book & Manuscript Library\n",
      "Residence Hall Library System is one of three in the nation.[164][165] The Residence Hall Libraries were created in 1948 to serve the educational, recreational, and cultural information needs of first- and second-year undergraduate students residing in the residence halls, and the living-learning communities within the residence halls. The collection also serves University Housing staff as well as the larger campus community.[166] The Rare Book & Manuscript Library (RBML) is one of the Special collections units within the University Library.[167] The RBML is one of the largest special collections repositories in the United States.[168][169][170][171]\n",
      "The university has several museums, galleries, and archives which include Krannert Art Museum, Sousa Archives and Center for American Music and Spurlock Museum. Gallery and exhibit locations include Krannert Center for the Performing Arts and at the School of Art and Design.\n",
      "The Illinois Open Publishing Network (IOPN) is hosted and coordinated by the University of Illinois Urbana-Champaign Library, offering publishing services to members of the University of Illinois Urbana-Champaign community, to disseminate open access scholarly publications.[172]\n",
      "\n",
      "Recreation[edit]\n",
      "Activities and Recreation Center\n",
      "The campus has two main recreation facilities, the Activities and Recreation Center (ARC) and the Campus Recreation Center – East (CRCE). Originally known as the Intramural Physical Education Building (IMPE) and opened in 1971, IMPE was renovated in 2006 and reopened in August 2008 as the ARC.[173] The renovations expanded the facility, adding 103,433 square feet to the existing structure and costing $54.9 million. This facility is touted by the university as \"one of the country's largest on-campus recreation centers.\" CRCE was originally known as the Satellite Recreation Center and was opened in 1989. The facility was renovated in 2005 to expand the space and update equipment, officially reopening in March 2005 as CRCE.[174]\n",
      "\n",
      "Transportation[edit]\n",
      "A Champaign–Urbana Mass Transit District (MTD) bus\n",
      "The bus system that operates throughout the campus and community is operated by the Champaign-Urbana Mass Transit District. The MTD receives a student-approved transportation fee from the university, which provides unlimited access for university students, faculty, and staff.\n",
      "Daily Amtrak trains through Illinois Terminal connect Champaign-Urbana with Chicago and Carbondale, Illinois. This includes the corridor service Illini and Saluki and the long-distance City of New Orleans, which provides a direct route to Memphis, Tennessee; Jackson, Mississippi; and New Orleans, Louisiana southbound, in addition to Chicago northbound.\n",
      "Willard Airport, opened in 1954 and is named for former University of Illinois president Arthur Cutts Willard. The airport is located in Savoy. Willard Airport is home to University research projects, along with flights from American Airlines. In 2013, the university's Institute of Aviation was closed at the University of Illinois and the program was transferred to Parkland College.\n",
      "\n",
      "Campus bus routes\n",
      "Security[edit]\n",
      "The University of Illinois has a dedicated police department, UIPD, which operates independently from CPD, the department that serves the surrounding Champaign area.\n",
      "On June 9, 2017, Yingying Zhang, a Chinese international student, was abducted and murdered in a case that made national headlines at the time. The university subsequently announced plans to install additional, high-definition, security cameras across the campus.[175]\n",
      "On April 18, 2022, Sayed A. Quraishi, a 23-year-old man who had recently graduated from the university, assaulted a Jewish student outside of the campus' Hillel building during an anti-Israel protest organized by Students for Justice in Palestine (SJP). Quraishi was subsequently charged with a hate crime.[176]\n",
      "In July 2022, the university announced that it was partnering with local businesses to invest $300,000 to combat violent crime in Champaign County.[177]\n",
      "In September 2022, the City of Champaign transferred responsibility for a large swath of Campustown from CPD (Champaign Police Department) to UIPD, claiming that doing so would reduce response times and improve the quality of service. As part of the jurisdictional reforms, the city agreed to pay a substantial portion of the cost to hire seven new officers to patrol the new coverage area.[178]\n",
      "Violent crime fell sharply in 2022 compared to the year prior, with shootings and homicides declining by 50 and 47 percent, respectively. The city attributed the decrease in crime to improved staffing levels and the installation of automatic license plate readers.[179]\n",
      "\n",
      "Athletics[edit]\n",
      "Main article: Illinois Fighting Illini\n",
      "Memorial Stadium with the State Farm Center in the background\n",
      "U of I's Division of Intercollegiate Athletics fields teams for ten men's and eleven women's varsity sports. The university participates in the NCAA's Division I. The university's athletic teams are known as the Fighting Illini. The university operates a number of athletic facilities, including Memorial Stadium for football, the State Farm Center for men's and women's basketball, and the Atkins Tennis Center for men's and women's tennis. The men's NCAA basketball team had a dream run in the 2005 season, with Bruce Weber's Fighting Illini tying the record for most victories in a season. Their run ended 37–2 with a loss to the North Carolina Tar Heels in the national championship game. Illinois is a member of the Big Ten Conference. Notable among a number of songs commonly played and sung at various events such as commencement and convocation, and athletic games are: Illinois Loyalty, the school song; Oskee Wow Wow, the fight song; and Hail to the Orange, the alma mater.\n",
      "On October 15, 1910, the Illinois football team defeated the University of Chicago Maroons with a score of 3–0 in a game that Illinois claims was the first homecoming game, though several other schools claim to have held the first homecoming as well.[180][181] On November 10, 2007, the unranked Illinois football team defeated the No. 1 ranked Ohio State football team in Ohio Stadium, the first time that the Illini beat a No. 1 ranked team on the road.\n",
      "The University of Illinois Ice Arena is home to the university's club college ice hockey team competing at the ACHA Division I level and is also available for recreational use through the Division of Campus Recreation. It was built in 1931 and designed by Chicago architecture firm Holabird and Root, the same firm that designed the University of Illinois Memorial Stadium and Chicago's Soldier Field. It is located on Armory Drive across from the Armory. The structure features four rows of bleacher seating in an elevated balcony that runs the length of the ice rink on either side. These bleachers provide seating for roughly 1,200 fans, with standing room and bench seating available underneath. Because of this set-up the team benches are actually directly underneath the stands.[182]\n",
      "In 2015, the university began Mandarin Chinese broadcasts of its American football games as a service to its Chinese international students.[136]\n",
      "\n",
      "Mascot[edit]\n",
      "Main article: Chief Illiniwek\n",
      "The Fighting Illini athletics logo since 2014[183]\n",
      "The University of Illinois currently has no mascot.[184] Chief Illiniwek, also referred to as \"The Chief\", was from 1926 to 2007 the official symbol of the University of Illinois in university intercollegiate athletic programs. The Chief was typically portrayed by a student dressed in Sioux regalia. Several groups protested that the use of a Native American figure and indigenous customs in such a manner was inappropriate and promoted ethnic stereotypes. In August 2005, the National Collegiate Athletic Association expressed disapproval of the university's use of a \"hostile or abusive\" image.[185] While initially proposing a consensus approach to the decision about the Chief, the board in 2007 decided that the Chief, its name, image and regalia should be officially retired. Nevertheless, the controversy continues on campus with some students unofficially maintaining the Chief. Complaints continue that indigenous students feel insulted when images of the Chief continue to be present on campus.[186] The effort to resolve the controversy has included the work of a committee, which issued a report of its \"critical conversations\" that included over 600 participants representing all sides.[187]\n",
      "There is a grassroots campaign of students and alumni to officially recognize the belted kingfisher as the mascot of the University of Illinois.[188][189] Female belted kingfishers are orange and blue (the school's colors) and the bird is native to Illinois.[190] A Kingfisher costume has been created and has made appearances on campus.[191] The campaign to adopt the mascot is not seeking to change the name \"Fighting Illini.\"[192] Multiple Indigenous organizations have also expressed support for the Kingfisher.[193]\n",
      "\n",
      "Notable alumni and faculty[edit]\n",
      "For a more comprehensive list, see List of University of Illinois Urbana-Champaign people, Category:University of Illinois Urbana-Champaign alumni, and Category:University of Illinois Urbana-Champaign faculty.\n",
      "Hallene Gateway was dedicated in 1998 by donations from alumni Alan M. and Phyllis Welsh Hallene.[29]\n",
      "Twenty-seven alumni and faculty members of the University of Illinois Urbana-Champaign have won a Pulitzer Prize.[194] As of 2019[update], the University of Illinois Urbana-Champaign alumni, faculty, and researchers include 24 Nobel laureates (including 11 alumni). In particular, John Bardeen is the only person to have won two Nobel prizes in physics, having done so in 1956 and 1972 while on faculty at the university. In 2003, two faculty members won Nobel prizes in different disciplines: Paul C. Lauterbur for physiology or medicine, and Anthony Leggett for physics.\n",
      "Alumni and faculty have invented the LED and the quantum well laser (Nick Holonyak, B.S. 1950, M.S. 1951, Ph.D. 1954), DSL (John Cioffi, B.S. 1978), JavaScript (Brendan Eich, M.S. 1986),[195] the integrated circuit (Jack Kilby, B.S. 1947), the transistor (John Bardeen, faculty, 1951–1991), the pH meter (Arnold Beckman, B.S. 1922, M.S. 1923), MRI (Paul C. Lauterbur), the plasma screen (Donald Bitzer, B.S. 1955, M.S. 1956, Ph.D. 1960), color plasma display (Larry F. Weber, B.S. 1968 M.S. 1971 Ph.D. 1975), the training methodology called PdEI and the coin counter (James P. Liautaud, B.S. 1963), the statistical algorithm called Gibbs sampling in computer vision and the machine learning technique called random forests (Donald Geman, B.A. 1965), and are responsible for the structural design of such buildings as the Willis Tower, the John Hancock Center, and the Burj Khalifa.[196]\n",
      "Mathematician Richard Hamming, known for the Hamming code and Hamming distance, earned a PhD in mathematics from the university's Mathematics Department in 1942.[197] Primetime Emmy Award-winning engineer Alan Bovik (B.S. 1980, M.S. 1982, Ph.D. 1984) invented neuroscience-based video quality measurement tools that pervade television, social media and home cinema.[198] Structural engineer Fazlur Rahman Khan earned two master's degrees, and a PhD in structural engineering from the university.[199]\n",
      "UIUC alumni and faculty have founded numerous companies and organizations. Notable founders include Marc Andreessen, co-founder of Andreessen Horowitz (2009); Jerry Sanders, co-founder of AMD (1969); and Jerry Colangelo, founder of the Arizona Diamondbacks (1995). George Halas, who founded the Chicago Bears (1920) and co-founded the NFL, and Reshma Saujani, founder of Girls Who Code (2012), also made significant contributions. In technology, Marc Andreessen and Brendan Eich co-founded Mozilla Corporation and Netscape in the 1990s, while Larry Ellison and Bob Miner co-founded Oracle (1977). Other tech innovators include Nathan Gettings (Palantir Technologies, 2003), Luke Nosek and Max Levchin (PayPal, 1998), Martin Eberhard (Tesla, Inc., 2003), and Stephen Wolfram and Theodore Gray (Wolfram Research, 1987). Additionally, Hugh Hefner founded Playboy Enterprises (1953), Thomas Siebel co-founded Siebel Systems (1993), and Jerry Yue founded Brain Technologies, Inc. (2010). Other prominent companies like Yelp (2004) and YouTube (2005) were co-founded by Jeremy Stoppelman, Russel Simmons, Steve Chen, and Jawed Karim.[200][201][202] Alumni have also led several companies, including McDonald's, Goldman Sachs, BP, Kodak, Shell, General Motors, AT&T, and General Electric and others.[195]\n",
      "\n",
      "Eta Kappa Nu was founded at U of I in 1904.\n",
      "Alumni have founded many organizations, including the Susan G. Komen for the Cure and Project Gutenberg, and have served in a wide variety of government and public interest roles. Rafael Correa, President of The Republic of Ecuador from 2007 to 2017, secured his M.S. and PhD degrees from the university's Economics Department in 1999 and 2001 respectively.[203] Nathan C. Ricker attended U of I and in 1873 was the first person to graduate in the United States with a certificate in architecture. Mary L. Page, the first woman to obtain a degree in architecture, also graduated from U of I.[204] Disability rights activist and co-organizer of the 504 Sit-in, Kitty Cone, attended during the 1960s, but left six hours short of her degree to continue her activism in New York.[205]\n",
      "In sports, baseball pitcher Ken Holtzman was a two-time All Star major leaguer, and threw two no-hitters in his career.[206] In sports entertainment, David Otunga became a two-time WWE Tag Team Champion.\n",
      "Eta Kappa Nu (ΗΚΝ) was founded at the University of Illinois Urbana-Champaign as the national honor society for electrical engineering in 1904.  Maurice LeRoy Carr (B.S. 1905) and Edmund B. Wheeler (B.S. 1905) were part of the founding group of ten students and they served as the first and second national presidents of ΗΚΝ. The Eta Kappa Nu organization is now the international honor society for IEEE as the IEEE-Eta Kappa Nu (IEEE-ΗΚΝ).[207] The U of I collegiate chapter is known as the Alpha chapter of ΗΚΝ.[208] Lowell P. Hager was the head of the Department of Biochemistry from 1969 until 1989 and was elected to the National Academy of Sciences in 1995.[209]\n",
      "James Holzhauer, the third-highest-earning American game show contestant of all time and holder of several Jeopardy! records, attended University of Illinois Urbana-Champaign. He was a member of the Worldwide Youth in Science and Engineering Team that won the state competition for the university, contributing by taking first place in physics and second in math.[210] Holzhauer graduated with a Bachelor of Science degree in mathematics in 2005.[211]\n",
      "\n",
      "Notes[edit]\n",
      "\n",
      "\n",
      "^ Other consists of Multiracial Americans and those who prefer to not say.\n",
      "\n",
      "^ The percentage of students who received an income-based federal Pell grant intended for low-income students.\n",
      "\n",
      "^ The percentage of students who are a part of the American middle class at the bare minimum.\n",
      "\n",
      "\n",
      "References[edit]\n",
      "\n",
      "\n",
      "^ \"HLC - University of Illinois Urbana Champaign\".\n",
      "\n",
      "^ As of June 30, 2023. \"U.S. and Canadian 2023 NCSE Participating Institutions Listed by Fiscal Year 2023 Endowment Market Value, Change in Market Value from FY22 to FY23, and FY23 Endowment Market Values Per Full-time Equivalent Student\" (XLSX). National Association of College and University Business Officers (NACUBO). February 15, 2024. Archived from the original on May 23, 2024. Retrieved July 12, 2024.\n",
      "\n",
      "^ \"Budget\". uillinois.edu. University of Illinois Foundation. Archived from the original on December 3, 2022. Retrieved December 5, 2022.\n",
      "\n",
      "^ \"Meet the Chancellor\". Illinois.edu. Archived from the original on September 27, 2016. Retrieved September 26, 2016.\n",
      "\n",
      "^ \"Staff & Office Locations\". uillinois.edu. University of Illinois System. Archived from the original on January 28, 2021. Retrieved December 14, 2020.\n",
      "\n",
      "^ \"Coleman, John\". illinois.edu. Office of the Provost, University of Illinois. Retrieved August 10, 2023.\n",
      "\n",
      "^ \"2024-2025 Campus Profile - Campus Total\". dmi.illinois.edu. Archived from the original on January 20, 2025. Retrieved January 21, 2025.\n",
      "\n",
      "^ a b c \"Illinois welcomes largest number of students in university history\". illinois.edu. University of Illinois Urbana-Champaign. September 11, 2024. Retrieved October 14, 2024.\n",
      "\n",
      "^ a b \"Campus Facts\". illinois.edu. University of Illinois Urbana-Champaign. Archived from the original on August 28, 2017. Retrieved August 30, 2017.\n",
      "\n",
      "^ \"College Navigator - University of Illinois Urbana-Champaign\". National Center for Education Statistics. US Department of Education. Archived from the original on June 2, 2022. Retrieved February 23, 2022.\n",
      "\n",
      "^ \"University of Illinois Urbana-Champaign Visual Identity: Color\". Retrieved November 13, 2022.\n",
      "\n",
      "^ \"Our name\". Office of Strategic Marketing and Branding, University of Illinois Urbana-Champaign. Archived from the original on December 2, 2021. Retrieved November 24, 2021.\n",
      "\n",
      "^ \"Campus Administrative Manual – Urbana–Champaign Campus Designation\". marketing.illinois.edu. University of Illinois Office of the Chancellor. Archived from the original on March 6, 2016. Retrieved August 14, 2016.\n",
      "\n",
      "^ \"Academics\". illinois.edu. University of Illinois Urbana–Champaign. Archived from the original on March 25, 2018. Retrieved March 20, 2018.\n",
      "\n",
      "^ \"PROSPECTUS FOR THE POSITION OF CHANCELLOR, University of Illinois at Urbana-Champaign and VICE PRESIDENT, University of Illinois\" (PDF). illinois.edu. University of Illinois President's Office. Spring 2016. Archived (PDF) from the original on June 30, 2018. Retrieved May 16, 2019.\n",
      "\n",
      "^ a b c \"By the Numbers - Office of the Vice Chancellor for Research\". research.illinois.edu. Archived from the original on July 31, 2016. Retrieved August 6, 2016.\n",
      "\n",
      "^ \"Carnegie Classifications Institution Lookup\". carnegieclassifications.iu.edu. Center for Postsecondary Education. Archived from the original on July 26, 2020. Retrieved July 25, 2020.\n",
      "\n",
      "^ a b \"Table 20. Higher education R&D expenditures, ranked by FY 2018 R&D expenditures: FYs 2009–18\". ncsesdata.nsf.gov. National Science Foundation. Archived from the original on September 30, 2020. Retrieved July 25, 2020.\n",
      "\n",
      "^ Mian, Anam; Roebuck, Gary (2020). ARL Statistics 2020. Washington, DC: Association of Research Libraries. Archived from the original on February 3, 2023. Retrieved March 12, 2023.\n",
      "\n",
      "^ \"The National Center for Supercomputing Applications at the University of Illinois at Urbana-Champaign\". ncsa.illinois.edu. Archived from the original on December 24, 2012. Retrieved December 11, 2012.\n",
      "\n",
      "^ \"Daily Illini\". Illinois Digital Newspaper Collections. January 1, 1879. Archived from the original on July 21, 2015. Retrieved July 20, 2015.\n",
      "\n",
      "^ Illini Years: A Picture History of the University of Illinois (1950). p. 6\n",
      "\n",
      "^ a b c Brichford, Maynard. \"A Brief History of the University of Illinois\". A Brief History of the University of Illinois. University of Illinois Archives. Archived from the original on August 23, 2015. Retrieved September 17, 2015.\n",
      "\n",
      "^ a b Brichford, Maynard. (1983), A Brief History of the University of Illinois Archived June 15, 2007, at the Wayback Machine\n",
      "\n",
      "^ McGinty, Alice. \"The Story of Champaign-Urbana\" Archived February 14, 2016, at the Wayback Machine Champaign Public Library\n",
      "\n",
      "^ a b c \"Facts | Illinois\". Illinois.edu. Archived from the original on August 11, 2011. Retrieved July 29, 2012.\n",
      "\n",
      "^ \"About the University Library\". About the University Library. University of Illinois. Archived from the original on October 3, 2015. Retrieved September 17, 2015.\n",
      "\n",
      "^ \"University of Illinois Campus Tour- Alma Mater\". Archived from the original on July 8, 2010. Retrieved June 13, 2007.\n",
      "\n",
      "^ a b c Leetaru, Kalev. \"Hallene Gateway\". University of Illinois: Virtual Campus Tour. UIHistories. Archived from the original on October 18, 2015. Retrieved September 18, 2015.\n",
      "\n",
      "^ \"Why is the Undergraduate Library underground? - FAQ and Chat\". faq.library.illinois.edu. Retrieved March 12, 2025.\n",
      "\n",
      "^ Ross, Ryan A. (December 12, 2022). \"University of Illinois Alumni\". University of Illinois Alumni. Retrieved March 12, 2025.\n",
      "\n",
      "^ Crow, Michael M.; Dabars, William B. (2015). Designing the New American University. Baltimore: Johns Hopkins University Press. pp. 17–18. ISBN 9781421417233. Retrieved May 28, 2017.  The quoted sentence is Crow and Dabars' paraphrasing of Geiger's analysis.\n",
      "\n",
      "^ Geiger, Roger L. (1986). To Advance Knowledge: The Growth of American Research Universities, 1900–1940 (2004 ed.). New Brunswick, New Jersey: Transaction Publishers. p. 3. ISBN 9781412840088. Archived from the original on March 14, 2023. Retrieved May 28, 2021.\n",
      "\n",
      "^ Solberg, Winton U. (2004) \"Edmund Janes James Builds a Library: The University of Illinois Library, 1904–1920\" Libraries & Culture 39(1): pp. 36–75 [67]\n",
      "\n",
      "^ Mary Timmins, \"Enter the Dragon\" Archived September 6, 2015, at the Wayback Machine, Illinois Alumni Magazine December 15, 2011.\n",
      "\n",
      "^ \"Alma Mater\". University of Illinois: Virtual Campus Tour. University of illinois. Archived from the original on October 18, 2015. Retrieved September 18, 2015.\n",
      "\n",
      "^ \"David . Henry, 89, President Of Illinois U. in Time of Tumult\". The New York Times. September 7, 1995. Archived from the original on May 19, 2017. Retrieved February 20, 2017.\n",
      "\n",
      "^ Peterson, Doug (April 9, 2015). \"University of Illinois Alumni\". University of Illinois Alumni. Retrieved March 12, 2025.\n",
      "\n",
      "^ \"University of Illinois FY2010 Budget Request\" (PDF). Archived (PDF) from the original on June 16, 2011. Retrieved May 26, 2011.\n",
      "\n",
      "^ a b \"Budget by Source of Funds | Stewarding Excellence @ Illinois\". Oc.illinois.edu. Archived from the original on March 5, 2012. Retrieved July 29, 2012.\n",
      "\n",
      "^ \"Frequently Asked Questions\". Carle Illinois College of Medicine. Archived from the original on June 1, 2015. Retrieved April 27, 2015.\n",
      "\n",
      "^ a b \"U. of I. pitches new medical school\". Chicago Tribune. September 30, 2015. Archived from the original on April 20, 2015. Retrieved April 27, 2015.\n",
      "\n",
      "^ a b \"U. of I., Carle moving forward with the first engineering-based college of medicine\". Illinois News Bureau. March 12, 2015. Archived from the original on May 2, 2015. Retrieved April 27, 2015.\n",
      "\n",
      "^ \"Core curriculum committee formed for Carle Illinois College of Medicine\" (PDF). University of Illinois. December 10, 2015. Archived from the original (PDF) on March 28, 2016. Retrieved June 23, 2016.\n",
      "\n",
      "^ \"University of Illinois Urbana-Champaign announces the Siebel School of Computing and Data Science\". April 24, 2024. Retrieved August 2, 2024.\n",
      "\n",
      "^ Lee, William (October 26, 2017). \"Couple donate $150 million to University of Illinois in its largest gift ever\". chicagotribune.com. Archived from the original on May 3, 2023. Retrieved July 9, 2021.\n",
      "\n",
      "^ \n",
      "\"2020 CENSUS - CENSUS BLOCK MAP: Champaign city, IL\" (PDF). U.S. Census Bureau. pp. 2, 4 (PDF p. 3, 5/5). Retrieved July 1, 2023. Univ of Illinois\n",
      "\"2020 CENSUS - CENSUS BLOCK MAP: Urbana city, IL\" (PDF). U.S. Census Bureau. p. 2 (PDF p. 3/4). Retrieved July 1, 2023. Univ of Illinois - Compare to:\n",
      "\"Campus Map\" (PDF). University of Illinois. Retrieved July 1, 2023.\n",
      "\n",
      "^ \"Campus map\". Archived from the original on November 7, 2005. Retrieved November 23, 2005.\n",
      "\n",
      "^ \"Campus Landmarks\". Archived from the original on August 19, 2007. Retrieved August 30, 2007.\n",
      "\n",
      "^ Ellertson, Shari L. \"Expenditures on O&M at America's Most Beautiful Campuses\". APPA. Archived from the original on February 19, 2008. Retrieved July 24, 2007.\n",
      "\n",
      "^ Committee on Campus Operations. UIUC Senate Archived September 6, 2006, at the Wayback Machine. April 26, 2004.\n",
      "\n",
      "^ \"University of Illinois, Urbana-Champaign | Scorecard | Institutions | STARS Reports\". Archived from the original on February 7, 2023. Retrieved March 23, 2023.\n",
      "\n",
      "^ a b \"College Scorecard: University of Illinois Urbana-Champaign\". United States Department of Education. Retrieved September 7, 2024.\n",
      "\n",
      "^ a b \"UIUC Common Data Set 2023-2024\". University of Illinois Urbana-Champaign. Retrieved September 17, 2024.\n",
      "\n",
      "^ \"UIUC Acceptance Data\". University of Illinois Urbana-Champaign. Retrieved December 13, 2023.\n",
      "\n",
      "^ a b c \"Admit Rates\". University of Illinois Urbana-Champaign. Retrieved November 1, 2024.\n",
      "\n",
      "^ \"2021 Best Undergraduate Computer Science Programs Rankings\". Archived from the original on October 29, 2020.\n",
      "\n",
      "^ \"Computer Science Open Rankings\". Archived from the original on February 4, 2021. Retrieved January 30, 2021.\n",
      "\n",
      "^ \"Jeff Erickson answer to Is the UIUC selective for CS?\".\n",
      "\n",
      "^ a b \"first-year admit rates for 2022 - official\". admissions.illinois.edu. Archived from the original on September 9, 2022. Retrieved August 23, 2022.\n",
      "\n",
      "^ Communications, Grainger Engineering Office of Marketing and. \"Rankings & Statistics\". cs.illinois.edu. Archived from the original on October 20, 2020. Retrieved October 25, 2020.\n",
      "\n",
      "^ \"UIUC Common Data Set 2020-2021\". University of Illinois Urbana-Champaign. Archived from the original on November 12, 2022. Retrieved November 12, 2022.\n",
      "\n",
      "^ \"UIUC Common Data Set 2019-2020\". University of Illinois Urbana-Champaign. Archived from the original on November 12, 2022. Retrieved November 12, 2022.\n",
      "\n",
      "^ \"UIUC Common Data Set 2018-2019\". University of Illinois Urbana-Champaign. Archived from the original on November 16, 2022. Retrieved November 12, 2022.\n",
      "\n",
      "^ \"UIUC Common Data Set 2017-2018\". University of Illinois Urbana-Champaign. Archived from the original on November 16, 2022. Retrieved November 12, 2022.\n",
      "\n",
      "^ \"UIUC Common Data Set 2016-2017\". University of Illinois Urbana-Champaign. Archived from the original on November 12, 2022. Retrieved November 12, 2022.\n",
      "\n",
      "^ \"First-Year Enrollment 10th Day Report 2022\" (PDF). University of Illinois at Urbana-Champaign. Archived (PDF) from the original on December 4, 2022. Retrieved February 14, 2023.\n",
      "\n",
      "^ \"First-Year Class Profile\". University of Illinois Urbana-Champaign. Retrieved November 1, 2024.\n",
      "\n",
      "^ \"UIUC CS Rankings & Statistics\". University of Illinois Urbana-Champaign. Retrieved November 1, 2024.\n",
      "\n",
      "^ \"Illinois' very own college admissions scandal: Editorials from a shameful chapter in U. of I. history\". Chicago Tribune. March 13, 2019. Archived from the original on October 6, 2020.\n",
      "\n",
      "^ \"University of Illinois Academics\". University of Illinois Urbana-Champaign. Archived from the original on February 10, 2017. Retrieved February 15, 2017.\n",
      "\n",
      "^ Jackson, Cheryl V. \"The online MBA: Advantages, disadvantages in growing trend\". Chicago Tribune. Archived from the original on January 22, 2018. Retrieved January 21, 2018.\n",
      "\n",
      "^ Wang, Amy X. \"Coursera is offering a way to get a real master's degree for a lot less money\". Quartz. Archived from the original on January 22, 2018. Retrieved January 21, 2018.\n",
      "\n",
      "^ \"Best Graduate Computer Science Programs\". U.S. News & World Report. January 21, 2018. Archived from the original on March 14, 2017. Retrieved January 21, 2018.\n",
      "\n",
      "^ \"University of Illinois at Urbana–Champaign, HEC Paris Launch Master's Degrees on Coursera – Campus Technology\". Campus Technology. Archived from the original on January 22, 2018. Retrieved January 21, 2018.\n",
      "\n",
      "^ \"Master's in Accounting – iMSA by University of Illinois | Coursera\". Coursera. Archived from the original on January 22, 2018. Retrieved January 21, 2018.\n",
      "\n",
      "^ \"Master of Computer Science in Data Science | Coursera\". Coursera. Archived from the original on January 22, 2018. Retrieved January 21, 2018.\n",
      "\n",
      "^ \"America's Top Colleges 2024\". Forbes. September 6, 2024. Retrieved September 10, 2024.\n",
      "\n",
      "^ \"2024-2025 Best National Universities Rankings\". U.S. News & World Report. September 23, 2024. Retrieved November 22, 2024.\n",
      "\n",
      "^ \"2024 National University Rankings\". Washington Monthly. August 25, 2024. Retrieved August 29, 2024.\n",
      "\n",
      "^ \"2025 Best Colleges in the U.S.\" The Wall Street Journal/College Pulse. September 4, 2024. Retrieved September 6, 2024.\n",
      "\n",
      "^ \"2024 Academic Ranking of World Universities\". ShanghaiRanking Consultancy. August 15, 2024. Retrieved August 21, 2024.\n",
      "\n",
      "^ \"QS World University Rankings 2025\". Quacquarelli Symonds. June 4, 2024. Retrieved August 9, 2024.\n",
      "\n",
      "^ \"World University Rankings 2024\". Times Higher Education. September 27, 2023. Retrieved August 9, 2024.\n",
      "\n",
      "^ \"2024-2025 Best Global Universities Rankings\". U.S. News & World Report. June 24, 2024. Retrieved August 9, 2024.\n",
      "\n",
      "^ \"THE World University Rankings 2024 by subject: computer science\". October 18, 2023. Retrieved December 10, 2023.\n",
      "\n",
      "^ \"QS World University Rankings by Subject 2023: Computer Science and Information Systems\". Retrieved December 10, 2023.\n",
      "\n",
      "^ \"CSRankings: Computer Science Rankings\". Retrieved December 10, 2023.\n",
      "\n",
      "^ \"University of Illinois-Urbana-Champaign - U.S. News Best Grad School Rankings\". U.S. News & World Report. Retrieved June 7, 2024.\n",
      "\n",
      "^ \"University of Illinois-Urbana-Champaign - U.S. News Best Global University Rankings\". U.S. News & World Report. Archived from the original on February 28, 2020. Retrieved October 22, 2020.\n",
      "\n",
      "^ \"University of Illinois--Urbana-Champaign Rankings\". U.S. News & World Report. Archived from the original on October 7, 2019. Retrieved October 22, 2020.\n",
      "\n",
      "^ \"2020 National University Rankings\". Washington Monthly. Archived from the original on September 1, 2020. Retrieved September 1, 2020.\n",
      "\n",
      "^ \"Kiplinger's Best College Values – Public Colleges\". The Kiplinger Washington Editors. July 2019. Archived from the original on August 23, 2019. Retrieved September 11, 2019.\n",
      "\n",
      "^ \"The Top Schools For Urban Planners\". Planetizen - Urban Planning News, Jobs, and Education. Archived from the original on July 3, 2019. Retrieved September 11, 2019.\n",
      "\n",
      "^ Greene, Howard R.; Greene, Matthew W. (2001). The public ivies: America's flagship public universities (1st ed.). New York: Cliff Street Books. ISBN 978-0060934590.\n",
      "\n",
      "^ \"Top party schools named by the Princeton Review\". CBS News. August 3, 2015. Archived from the original on November 17, 2015. Retrieved November 13, 2015.\n",
      "\n",
      "^ \"Academic Ranking of World Universities 2016\". ShanghaiRanking Consultancy. Archived from the original on July 31, 2019. Retrieved September 11, 2019.\n",
      "\n",
      "^ \"CWUR - World University Rankings 2019-2020\". cwur.org. Archived from the original on September 7, 2019. Retrieved September 11, 2019.\n",
      "\n",
      "^ \"The top 50 universities by reputation 2018\". Times Higher Education (THE). May 30, 2018. Archived from the original on June 12, 2018. Retrieved June 7, 2018.\n",
      "\n",
      "^ \"Research- The Center for Measuring University Performance\" (PDF). Mup.asu.edu. Archived from the original (PDF) on October 20, 2012. Retrieved July 29, 2012.\n",
      "\n",
      "^ \"Research- The Center for Measuring University Performance\". Mup.asu.edu. Archived from the original on June 17, 2012. Retrieved July 29, 2012.\n",
      "\n",
      "^ \"About Us: Buildings and Facilities – ECE ILLINOIS | University of Illinois at Urbana–Champaign\". Ece.uiuc.edu. Archived from the original on August 28, 2008. Retrieved July 29, 2012.\n",
      "\n",
      "^ \"Remarks by Bill Gates\". Microsoft. Archived from the original on July 5, 2007. Retrieved July 5, 2007.\n",
      "\n",
      "^ Department of Computer Science. \"News & Events | Department of Computer Science at Illinois\". Cs.uiuc.edu. Archived from the original on October 16, 2007. Retrieved July 29, 2012.\n",
      "\n",
      "^ \"National Science Board Approves Funds for Petascale Computing Systems\". Archived from the original on August 31, 2007. Retrieved August 24, 2007.\n",
      "\n",
      "^ Feldman, Michael (November 14, 2011). \"NCSA Signs Up Cray for Blue Waters Redo\". HPC Wire. Archived from the original on February 16, 2013. Retrieved December 11, 2012.\n",
      "\n",
      "^ \"Blue Waters system stats\". Ncsa.illinois.edu. Archived from the original on October 28, 2012. Retrieved December 11, 2012.\n",
      "\n",
      "^ \"Blue Waters One Year Later: Delivering Sustained Petascale Science\". Nncsa.illinois.edu. Archived from the original on January 25, 2013. Retrieved December 11, 2012.\n",
      "\n",
      "^ \"Cahokiamounds.com\". Cahokiamounds.com. Archived from the original on October 6, 2008.\n",
      "\n",
      "^ \"What is TEC?\". Archived from the original on October 24, 2019. Retrieved October 24, 2019.\n",
      "\n",
      "^ \"Cozad New Venture Challenge\". Archived from the original on October 24, 2019. Retrieved October 24, 2019.\n",
      "\n",
      "^ \"Silicon Valley Entrepreneurship Workshop Application Due Sept. 30, 2019\". Archived from the original on October 30, 2020. Retrieved October 24, 2019.\n",
      "\n",
      "^ \"NSF Innovation Corps\". Archived from the original on November 4, 2019. Retrieved October 24, 2019.\n",
      "\n",
      "^ \"Illinois I-Corps\". Archived from the original on July 9, 2019. Retrieved October 24, 2019.\n",
      "\n",
      "^ \"SocialFuse\". Archived from the original on October 24, 2019. Retrieved November 14, 2019.\n",
      "\n",
      "^ Max-Planck-Institut für Plasmaphysik (September 22, 2014). \"WEGA fusion experiment passed on to the USA\". Phys.org. Archived from the original on November 25, 2021. Retrieved December 3, 2021.\n",
      "\n",
      "^ Semaca, Michael (September 15, 2016). \"University's nuclear fusion device receives million dollar grant\". The Daily Illini. Archived from the original on November 9, 2021. Retrieved December 3, 2021.\n",
      "\n",
      "^ \"AVS zeichnet Mark C. Hersam und David N. Ruzik\" [American Vacuum Society honors Mark C. Hersam and David N. Ruzik]. Physik Journal (in German). October 16, 2020. Archived from the original on November 9, 2021. Retrieved December 3, 2021.\n",
      "\n",
      "^ \"EnterpriseWorks Incubator\". Research Park at Illinois. Archived from the original on May 7, 2015. Retrieved April 27, 2015.\n",
      "\n",
      "^ \"Urbana Named a Top Startup City by Popular Mechanics\". Research Park at Illinois. January 14, 2015. Archived from the original on April 30, 2015. Retrieved April 27, 2015.\n",
      "\n",
      "^ \"About\". Research Park at Illinois. Archived from the original on May 4, 2015. Retrieved April 27, 2015.\n",
      "\n",
      "^ \"John Bardeen, Nobelist, Inventor of Transistor, Dies\". Washington Post. January 31, 1991. Archived from the original on November 2, 2012. Retrieved August 3, 2007.\n",
      "\n",
      "^ Levey Larson, Debra (August 2003). \"Supersweet sweet corn: 50 years in the making\". Inside Illinois. 23 (3). University of Illinois Urbana-Champaign. Archived from the original on October 12, 2008. Retrieved September 3, 2009.\n",
      "\n",
      "^ Andrew Stiller, \"Hiller, Lejaren (Arthur)\", Grove Music Online (reviewed December 3, 2010; accessed December 14, 2014).\n",
      "\n",
      "^ Denis L. Baggi, \"The Role of Computer Technology in Music and Musicology Archived July 22, 2011, at the Wayback Machine\", lim.dico.unimi.it (December 9, 1998).\n",
      "\n",
      "^ \"The LLVM Compiler Infrastructure Project\". llvm.org. Archived from the original on May 3, 2004. Retrieved January 20, 2017.\n",
      "\n",
      "^ Vetter, Ronald J. (October 1994). \"Mosaic and the World-Wide Web\" (PDF). North Dakota State University. Archived from the original (PDF) on August 24, 2014. Retrieved November 20, 2010.\n",
      "\n",
      "^ Don Bitzer, Email\n",
      "\n",
      "^ CSL Quarterly Report for June, July, August 1960 (Report). Coordinated Science Laboratory, University of Illinois. September 1960.\n",
      "\n",
      "^ \"100 Important Innovations That Came From University Research - Online Universities\". OnlineUniversities.com. August 27, 2012. Archived from the original on May 16, 2019. Retrieved May 16, 2019.\n",
      "\n",
      "^ \"Welcome to the new Talkomatic : Homepage\". Talko.cc. Archived from the original on December 4, 2021. Retrieved February 23, 2022.\n",
      "\n",
      "^ Falk, Joni K.; Drayton, Brian (2015). Creating and Sustaining Online Professional Learning Communities. Teachers College Press. pp. 8–. ISBN 978-0807772140. Archived from the original on July 9, 2014. Retrieved May 30, 2014.\n",
      "\n",
      "^ Bidgoli, Hossein (2004). The Internet Encyclopedia. John Wiley & Sons. pp. 665–. ISBN 978-0471222040. Retrieved May 30, 2014.\n",
      "\n",
      "^ Tykociner, Joseph T., \"Photographic recording and photoelectric reproduction of sound,\" Trans. SMPE, no. 16, 90-119, 1923. cited in [1] Archived December 13, 2016, at the Wayback Machine Kellogg, Edward W., History of Sound Motion Pictures, First Installment. Journal of the SMPTE, 1955, June, pp. 291–302. retrieved December 17, 2006\n",
      "\n",
      "^ \"Enrollment Spring 2018\". UIUC Student Enrollment Spring 2018. UIUC. Archived from the original on February 20, 2018. Retrieved February 2, 2018.\n",
      "\n",
      "^ a b \"Illinois launches Chinese-language broadcasts of football games Archived July 10, 2017, at the Wayback Machine.\" The Guardian. Saturday September 19, 2015. Retrieved on October 16, 2015.\n",
      "\n",
      "^ \"Enrollment 2015\". UIUC Student Enrollment. UIUC campus. Archived from the original on September 15, 2015. Retrieved September 18, 2015.\n",
      "\n",
      "^ a b c \"Students\". Campus Facts. University of Illinois Urbana Champaign. Archived from the original on September 5, 2015. Retrieved September 18, 2015.\n",
      "\n",
      "^ a b \"Enrollment Fall 2015\". UIUC Student Enrollment Fall 2015. UIUC. Archived from the original on October 18, 2015. Retrieved October 16, 2015.\n",
      "\n",
      "^ Elizabeth Redden, \"The University of China at Illinois,\" Inside Higher Education Jan 7, 2015 Archived January 7, 2015, at the Wayback Machine\n",
      "\n",
      "^ \"University of Illinois at Urbana–Champaign\". Illinois.collegiatelink.net. Archived from the original on July 24, 2012. Retrieved July 29, 2012.\n",
      "\n",
      "^ \"Programs and Activities\". Union.uiuc.edu. Archived from the original on June 22, 2012. Retrieved July 29, 2012.\n",
      "\n",
      "^ \"About Us – Varsity Men's Glee Club\". Archived from the original on October 11, 2016. Retrieved June 21, 2016.\n",
      "\n",
      "^ \"Men's Glee Club to Host Choral Conference\". US Fed News Service. April 17, 2006. Archived from the original on February 20, 2016. Retrieved June 21, 2016 – via HighBeam.\n",
      "\n",
      "^ \"Chapter Standing\". Alpha Phi Omega National Service Fraternity. Archived from the original on August 7, 2019. Retrieved August 7, 2019.\n",
      "\n",
      "^ Fraternity & Sorority Affairs :: University of Illinois Archived January 9, 2019, at the Wayback Machine. Odos.uiuc.edu. Retrieved on August 7, 2013.\n",
      "\n",
      "^ \"Fraternity and Sorority Affairs\". Archived from the original on December 7, 2008. Retrieved September 22, 2008.\n",
      "\n",
      "^ \"IFC chapter membership\". Archived from the original on December 24, 2005. Retrieved April 24, 2006.\n",
      "\n",
      "^ About – Black Greek Council Archived March 10, 2016, at the Wayback Machine. Archived March 10, 2016, at the Wayback Machine. Retrieved on March 8, 2016.\n",
      "\n",
      "^ \"United Greek Council at the University of Illinois at Urbana-Champaign\". Illinoisugc.org. Archived from the original on March 10, 2016. Retrieved February 23, 2022.\n",
      "\n",
      "^ Solberg, Winton (September 1966). \"The University of Illinois and the Reform of Discipline in the Modern University, 1868-1891\". AAUP Bulletin. 52 (3): 305–314. doi:10.2307/40224166. JSTOR 40224166.\n",
      "\n",
      "^ \"Student Council, Committee Hold Dinner Meeting\". Daily Illini. November 16, 1933. Archived from the original on November 17, 2015. Retrieved October 20, 2014.\n",
      "\n",
      "^ \"Graduate Student Association Subject File, 1967–71\" (PDF). University of Illinois. Retrieved July 17, 2012.[permanent dead link‍]\n",
      "\n",
      "^ Blan, Ken (February 4, 1967). \"First GSA Meeting Monday\". Daily Illini. Archived from the original on January 27, 2016. Retrieved October 20, 2014.\n",
      "\n",
      "^ a b \"Student Senate Files, 1948–2008\". University of Illinois. Archived from the original on May 3, 2023. Retrieved July 17, 2012.\n",
      "\n",
      "^ \"ISS Executive Board\". Iss.illinois.edu. Archived from the original on October 4, 2012. Retrieved July 29, 2012.\n",
      "\n",
      "^ \"Private Certified Housing FAQ\". Private Certified Housing University of Illinois. 2016. Archived from the original on November 2, 2016. Retrieved November 4, 2016.\n",
      "\n",
      "^ Wurth, Julie (September 16, 2015). \"Education secretary visits UI as part of national tour\". The News Gazette. Archived from the original on September 19, 2015. Retrieved September 21, 2015.\n",
      "\n",
      "^ \"University makes strides to honor first Native American alumnus\". The Daily Illini. April 22, 2015. Archived from the original on August 8, 2015. Retrieved August 9, 2015.\n",
      "\n",
      "^ Roebuck, Gary; Morris, Shaneka; Kyrillidou, Martha (October 6, 2011). \"Rank Order Table 1: Volumes in Libraries\". ARL Statistics 2009-2010. Archived from the original on May 16, 2019. Retrieved May 16, 2019 – via publications.arl.org.\n",
      "\n",
      "^ \"About the Main Stacks\". Library.illinois.edu. Archived from the original on December 20, 2016. Retrieved December 2, 2016.\n",
      "\n",
      "^ \"University and College Rankings\". Archived from the original on September 15, 2008. Retrieved September 15, 2008.\n",
      "\n",
      "^ \"What our users were doing on Snapshot Day\". Library.illinois.edu. Archived from the original on May 16, 2013. Retrieved July 29, 2012.\n",
      "\n",
      "^ \"Living-Learning Communities | University Housing at Illinois\". Housing.uiuc.edu. Archived from the original on March 11, 2009. Retrieved July 29, 2012.\n",
      "\n",
      "^ \"Residence Hall Libraries\". Archived from the original on March 11, 2009. Retrieved July 29, 2012.\n",
      "\n",
      "^ \"About Us\". Archived from the original on July 25, 2008. Retrieved April 14, 2008.\n",
      "\n",
      "^ \"Home: UIUC Rare Book and Manuscript Library: UIUC Rare Books and Manuscript Library\". Archived from the original on June 8, 2015. Retrieved May 29, 2015.\n",
      "\n",
      "^ \"About the Library\". Archived from the original on May 5, 2015. Retrieved May 29, 2015.\n",
      "\n",
      "^ \"The Kolb–Proust Archive for Research\". Archived from the original on June 8, 2015. Retrieved May 29, 2015.\n",
      "\n",
      "^ \"Book Collections\". Archived from the original on May 5, 2015. Retrieved May 29, 2015.\n",
      "\n",
      "^ \"Manuscript Collections\". Archived from the original on May 5, 2015. Retrieved May 29, 2015.\n",
      "\n",
      "^ \"Illinois Open Publishing Network – digital publishing from the University Library\". University of Illinois Urbana-Champaign University Library. University of Illinois Urbana-Champaign. Archived from the original on October 6, 2022. Retrieved October 2, 2022.\n",
      "\n",
      "^ \"Intramural Physical Education Building / IMPE\". UIHistories Project. Archived from the original on October 18, 2015. Retrieved April 27, 2015.\n",
      "\n",
      "^ \"Campus Recreation » University of Illinois\". Campusrec.uiuc.edu. Archived from the original on July 9, 2006. Retrieved July 29, 2012.\n",
      "\n",
      "^ Lorey, Christina (July 6, 2017). \"University of Illinois increasing security on campus following kidnapping\". WQAD-TV. Retrieved July 9, 2017.\n",
      "\n",
      "^ Cui, Willie. \"Recent UI graduate charged with hate crime against Jewish students\". The Daily Illini. Retrieved October 9, 2023.\n",
      "\n",
      "^ \"University, area businesses invest $300,000 to fight local crime\". UIUC News Bureau. Retrieved October 9, 2023.\n",
      "\n",
      "^ \"What UIPD's Campustown plans mean for student safety\". UIUC Division of Public Safety. September 30, 2022. Retrieved October 8, 2023.\n",
      "\n",
      "^ Sadovi, Aidan. \"Champaign shooting incidents drop by half in 2022\". The Daily Illini. Retrieved October 9, 2023.\n",
      "\n",
      "^ \"Columbia Missourian — Tradition's beginnings mysterious\". Archived from the original on October 24, 2006.\n",
      "\n",
      "^ \"Origin of the University Homecoming\" (PDF). Archived from the original (PDF) on February 19, 2006. Retrieved December 13, 2005.\n",
      "\n",
      "^ Staff (July 26, 2006). \"Ice Arena Facility\". University of Illinois, Division of Campus Recreation. Archived from the original on April 26, 2006. Retrieved August 22, 2006.\n",
      "\n",
      "^ Kaler, Robin. \"Urbana campus consolidates to single logo\". news.illinois.edu. Archived from the original on September 4, 2017. Retrieved March 24, 2018.\n",
      "\n",
      "^ \"What is a Fighting Illini? Explaining the origin of Illinois' nickname, mascot history | Sporting News\". www.sportingnews.com. March 28, 2024. Retrieved March 12, 2025.\n",
      "\n",
      "^ Norwood, Robyn (August 6, 2005). \"NCAA to crack down on hostile nicknames\". Los Angeles Times. Archived from the original on November 5, 2016. Retrieved November 4, 2016.\n",
      "\n",
      "^ Academic Freedom and Tenure: The University of Illinois Urbana-Champaign Archived May 1, 2015, at the Wayback Machine AAUP, April 2015, pp. 5–6\n",
      "\n",
      "^ Quintana, Chris (September 13, 2018). \"'Exhaustion, Confusion, and Anger': U. of Illinois Finds a Community at Odds Over Old Mascot\". The Chronicle of Higher Education. Archived from the original on September 16, 2018. Retrieved September 16, 2018.\n",
      "\n",
      "^ \"ct-viz-university-of-illinois-belted-kingfisher-mascot\". Chicago Tribune. April 13, 2023. Retrieved March 12, 2025.\n",
      "\n",
      "^ Niekerk, Maaike; Gregerman, Sam (December 4, 2024). \"Kingfisher movement pushes for new campus mascot\". The Daily Illini. Retrieved March 12, 2025.\n",
      "\n",
      "^ \"The University of Illinois Might Make a Kingfisher Its New Mascot. It should! | Audubon\". www.audubon.org. September 18, 2020. Retrieved March 12, 2025.\n",
      "\n",
      "^ \"Kingfisher mascot makes first appearance on U of I campus\". WCIA.com. August 19, 2023. Retrieved March 12, 2025.\n",
      "\n",
      "^ Knight-Gibson, Louise (October 25, 2023). \"The students behind the Kingfisher mascot - Culture\". Smile Politely — Champaign-Urbana's Culture Magazine. Retrieved March 12, 2025.\n",
      "\n",
      "^ SIMMONS, ETHAN (December 9, 2022). \"American Indian group: Proposal to make kingfisher UI's new mascot isn't for the birds\". The News-Gazette. Retrieved March 12, 2025.\n",
      "\n",
      "^ \"Nobel Laureates & Pulitzer Prize Winners\". University of Illinois Urbana-Champaign. Archived from the original on October 5, 2018. Retrieved August 31, 2020.\n",
      "\n",
      "^ a b \"This School In Rural Illinois Has Produced Some Of The Most Amazing Visionaries In Tech\". Business Insider. Archived from the original on April 30, 2020. Retrieved September 1, 2020.\n",
      "\n",
      "^ \"William F. Baker\". Som.com. December 19, 2011. Archived from the original on August 12, 2012. Retrieved July 29, 2012.\n",
      "\n",
      "^ \"Richard Wesley Hamming\". IEEE Computer Society. Archived from the original on September 4, 2019. Retrieved August 30, 2020.\n",
      "\n",
      "^ \"Honorees Announced for the 67th Engineering Emmy Awards\". Television Academy. Archived from the original on July 12, 2021. Retrieved July 12, 2021.\n",
      "\n",
      "^ \"CTBUH Profile\". Archived from the original on May 21, 2014. Retrieved May 29, 2015.\n",
      "\n",
      "^ \"Illinois VENTURES – UofI Alumni Founded Companies\". illinoisventures.com. Archived from the original on December 1, 2017. Retrieved November 23, 2017.\n",
      "\n",
      "^ Afridi, Ali (July 23, 2015). \"Tech companies started by University of Illinois alum\". Medium. Archived from the original on December 28, 2017. Retrieved December 27, 2017.\n",
      "\n",
      "^ \"Jerry Colangelo profile\". Nba.com. Archived from the original on July 13, 2018. Retrieved December 27, 2017.\n",
      "\n",
      "^ Markey, Patrick. Ecuador's Correa leaps from outsider to take lead[dead link‍], Washington Post, October 11, 2006\n",
      "\n",
      "^ Professor Paul Kruty. Establishing Architecture at the University of Illinois Archived September 1, 2006, at the Wayback Machine. Last updated May 28, 2005.\n",
      "\n",
      "^ Cone, Kitty. \"Kitty Richmond Cone\" (PDF). University of Illinois Archive. Archived (PDF) from the original on August 17, 2017. Retrieved August 17, 2017.\n",
      "\n",
      "^ \"Ken Holtzman - Society for American Baseball Research\". sabr.org. Archived from the original on April 1, 2018. Retrieved April 1, 2018.\n",
      "\n",
      "^ \"About\". IEEE Eta Kappa Nu (IEEE-HKN). Archived from the original on December 20, 2021. Retrieved December 20, 2021.\n",
      "\n",
      "^ \"ECE's IEEE-ΗΚΝ chapter wins national recognition\". University of Illinois. Archived from the original on November 1, 2020. Retrieved August 30, 2020.\n",
      "\n",
      "^ \"The School of Molecular and Cellular Biology University of Illinois Urbana-Champaign\". mcb.illinois.edu. Archived from the original on May 11, 2021. Retrieved February 16, 2021.\n",
      "\n",
      "^ Baker, Suzanne (April 10, 2019). \"Naperville native sets new Jeopardy! record for 1-day winnings with $110,914; 4-day streak continues\". Naperville Sun. Illinois: Tribune Publishing. Retrieved April 10, 2019.\n",
      "\n",
      "https://www.chicagotribune.com/suburbs/naperville-sun/news/ct-nvs-jeopardy-naperville-native-st-0410-story.html\n",
      "\n",
      "^ \"Professional Sports Gambler James Holzhauer's Aggressive Style Paying Off on Jeopardy!\". PokerNews. April 12, 2019. Retrieved April 19, 2019.https://www.pokernews.com/news/2019/04/sports-gambler-james-holzhauer-aggressive-style-jeopardy-33890.htm\n",
      "\n",
      "\n",
      "Further reading[edit]\n",
      "Hoddeson, Lillian. No Boundaries: University of Illinois Vignettes. (University of Illinois Press, 2004; ISBN 9780252072031)\n",
      "Johnson, Henry C. Jr. and Erwin V. Johanningmeier. Teachers for the Prairie: The University of Illinois and the Schools, 1868–1945 (University of Illinois Press, 1972)\n",
      "Kanfer, Alaina. Illini Loyalty: The University of Illinois. (University of Illinois Press, 2011; ISBN 9780252035005)\n",
      "Scheinman, Muriel. A Guide to Art at the University of Illinois: Urbana-Champaign, Robert Allerton Park, and Chicago (University of Illinois Press, 1995) online\n",
      "Solberg, Winton U. The University of Illinois, 1894-1904: an intellectual and cultural history. (University of Illinois Press, 2000; ISBN 9780252025792) online\n",
      "Tate, Lex; Franch, John. An Illini Place - Building the University of Illinois Campus. (University of Illinois Press, 2017; ISBN 9780252041112)\n",
      "Williamson, Ann Joy. Black Power on Campus - The University of Illinois, 1965-75. (University of Illinois Press, 2003; ISBN 9780252095801) online\n",
      "External links[edit]\n",
      "\n",
      "\n",
      "\n",
      "Wikimedia Commons has media related to University of Illinois at Urbana–Champaign.\n",
      "\n",
      "Official website \n",
      "Official website of University of Illinois Athletics\n",
      "\"Illinois, University of\" . Collier's New Encyclopedia. 1921.\n",
      "\"Illinois, University of\" . New International Encyclopedia. 1905.\n",
      "40°6′38″N 88°13′42″W﻿ / ﻿40.11056°N 88.22833°W﻿ / 40.11056; -88.22833\n",
      "\n",
      "vteUniversity of Illinois Urbana-ChampaignLocated in: Urbana and Champaign, IllinoisAcademicsSchools and colleges\n",
      "Agricultural, Consumer, and Environmental Sciences\n",
      "Applied Health Sciences\n",
      "Architecture\n",
      "Carle (Medicine)\n",
      "Education\n",
      "Fine and Applied Arts\n",
      "Gies (Business)\n",
      "Grainger (Engineering)\n",
      "Labor and Employment Relations\n",
      "Law\n",
      "Liberal Arts and Sciences\n",
      "Information Sciences\n",
      "Media\n",
      "Social Work\n",
      "Veterinary Medicine\n",
      "Centers and institutes\n",
      "Beckman Institute for Advanced Science and Technology\n",
      "Carl R. Woese Institute for Genomic Biology\n",
      "Center for International Business Education and Research\n",
      "Center for the Simulation of Advanced Rockets\n",
      "Coordinated Science Laboratory\n",
      "Illinois Newspaper Project\n",
      "Information Trust Institute\n",
      "Institute for Computing in the Humanities, Arts, and Social Science\n",
      "Institute for Condensed Matter Theory\n",
      "Mortenson Center for International Library Programs\n",
      "National Center for Supercomputing Applications\n",
      "Prairie Research Institute\n",
      "Rare Book and Manuscript Library\n",
      "Regional Economics Applications Laboratory\n",
      "Sousa Archives and Center for American Music\n",
      "State Farm Research and Development Center\n",
      "University Library\n",
      "Universal Parallel Computing Research Center - Illinois\n",
      "AthleticsNCAA sports\n",
      "Illinois Fighting Illini\n",
      "Baseball\n",
      "Football\n",
      "Men's basketball\n",
      "Men's golf\n",
      "Men's gymnastics\n",
      "Men's tennis\n",
      "Softball\n",
      "Women's basketball\n",
      "Women's volleyball\n",
      "Track and field\n",
      "Club sports\n",
      "Men's ice hockey\n",
      "Men's volleyball\n",
      "Rowing\n",
      "Wheelchair basketball\n",
      "Facilities\n",
      "Activities and Recreation Center\n",
      "Atkins Tennis Center\n",
      "Campus Recreation Center – East\n",
      "Freer Hall\n",
      "Huff Hall\n",
      "Ice Arena\n",
      "Illinois Field\n",
      "Kenney Gym and Kenney Gym Annex\n",
      "Memorial Stadium\n",
      "State Farm Center\n",
      "Rivalries\n",
      "Braggin' Rights\n",
      "Missouri\n",
      "Northwestern\n",
      "Ohio State football\n",
      "Purdue\n",
      "Spirit\n",
      "Chief Illiniwek\n",
      "Songs (\"Hail to the Orange,\" \"Illinois Loyalty,\" \"Oskee Wow-Wow\")\n",
      "Orange Krush\n",
      "Student lifeGroups\n",
      "Fraternities and sororities\n",
      "Dial-A-Carol\n",
      "Graduate Employees' Organization\n",
      "Illinois Business Consulting\n",
      "Illinois Solar Decathlon\n",
      "Marching Illini\n",
      "Media\n",
      "Fighting Illini Sports Network\n",
      "Illini Media\n",
      "The Daily Illini\n",
      "WPGU\n",
      "Illinois Public Media\n",
      "Journals\n",
      "Comparative Labor Law and Policy Journal\n",
      "Illinois Journal of Mathematics\n",
      "Ninth Letter\n",
      "University of Illinois Law Review\n",
      "CampusHistoric buildings\n",
      "Altgeld Hall (Altgeld Chimes)\n",
      "Busey–Evans Residence Halls\n",
      "Engineering Hall\n",
      "English Building\n",
      "Foellinger Auditorium\n",
      "Harker Hall\n",
      "Illini Union\n",
      "Lincoln Hall\n",
      "Main Library\n",
      "Natural History Building\n",
      "Noyes Laboratory of Chemistry\n",
      "Observatory\n",
      "Round barns\n",
      "Smith Memorial Hall\n",
      "Uni High School\n",
      "Other buildings\n",
      "Business Instructional Facility\n",
      "Grainger Engineering Library\n",
      "Japan House\n",
      "Krannert Art Museum\n",
      "Krannert Center for the Performing Arts\n",
      "Newmark Civil Engineering Laboratory\n",
      "Siebel Center for Computer Science\n",
      "Spurlock Museum\n",
      "Around campus\n",
      "History\n",
      "Alma Mater sculpture\n",
      "Arboretum\n",
      "Boneyard Creek\n",
      "Conservatory and Plant Collection\n",
      "Engineering Campus\n",
      "McFarland Memorial Bell Tower\n",
      "Morrow Plots\n",
      "Residence halls\n",
      "Off campus\n",
      "Allerton Park\n",
      "Campustown\n",
      "Mount Laguna Observatory\n",
      "Research Park\n",
      "Willard Airport\n",
      "History and people\n",
      "1960s slush fund scandal\n",
      "2000s clout scandal\n",
      "Unofficial Saint Patrick's Day\n",
      "Chancellors of UIUC\n",
      "COVID-19 pandemic response\n",
      "Notable people\n",
      "Other\n",
      "Blue Waters\n",
      "Pinto Bean\n",
      "Public transit\n",
      "Stoesser Lecturer\n",
      "University of Illinois System\n",
      "\n",
      "Links to related articles\n",
      "vteUniversity of Illinois SystemCampuses\n",
      "University of Illinois Chicago\n",
      "University of Illinois Springfield\n",
      "University of Illinois Urbana-Champaign\n",
      "People\n",
      "List of presidents\n",
      "List of chancellors\n",
      "Chicago\n",
      "Springfield\n",
      "Urbana-Champaign\n",
      "Media\n",
      "University of Illinois Press\n",
      "American Journal of Psychology\n",
      "American Philosophical Quarterly\n",
      "Bulletin of the Council for Research in Music Education\n",
      "The Invention of Art: A Cultural History\n",
      "Journal of American Folklore\n",
      "Journal of English and Germanic Philology\n",
      "Journal of Film and Video\n",
      "Public Affairs Quarterly\n",
      "The Philosophic Thought of Ayn Rand\n",
      "The Plains Across\n",
      "Red Diapers: Growing Up in the Communist Left\n",
      "Studies of the Book of Mormon\n",
      "Related\n",
      "Illinois Fighting Illini\n",
      "UIC Flames\n",
      "UIS Prairie Stars\n",
      "University of Illinois Global Campus\n",
      "\n",
      "vtePublic Ivy universitiesRichard Moll's 1985 listOriginal eight\n",
      "William and Mary\n",
      "Miami\n",
      "California\n",
      "Michigan\n",
      "North Carolina\n",
      "Texas\n",
      "Vermont\n",
      "Virginia\n",
      "\"Worthy runners-up\"\n",
      "Binghamton\n",
      "Colorado\n",
      "Georgia Tech\n",
      "Illinois\n",
      "New College\n",
      "Penn State\n",
      "Pittsburgh\n",
      "Washington\n",
      "Wisconsin\n",
      "Greenes' Guides 2001 listEastern\n",
      "Binghamton\n",
      "Connecticut\n",
      "Delaware\n",
      "Maryland\n",
      "North Carolina\n",
      "Penn State\n",
      "Rutgers\n",
      "Vermont\n",
      "Virginia\n",
      "William and Mary\n",
      "Western\n",
      "Arizona\n",
      "California\n",
      "Berkeley\n",
      "Davis\n",
      "Irvine\n",
      "Los Angeles\n",
      "San Diego\n",
      "Santa Barbara\n",
      "Colorado\n",
      "Washington\n",
      "Great Lakes\n",
      "Illinois\n",
      "Indiana\n",
      "Iowa\n",
      "Miami\n",
      "Ohio State\n",
      "Michigan\n",
      "Michigan State\n",
      "Minnesota\n",
      "Wisconsin\n",
      "Southern\n",
      "Florida\n",
      "Georgia\n",
      "Texas\n",
      "\n",
      "vteLargest United States universities by undergraduate enrollment\n",
      "Central Florida\n",
      "Texas A&M\n",
      "Ohio State\n",
      "Pennsylvania State\n",
      "Texas\n",
      "Florida International\n",
      "Arizona State\n",
      "Michigan State\n",
      "Florida\n",
      "Illinois\n",
      "(2018–19 Academic Year)\n",
      "vtePublic universities in IllinoisUniversity of Illinois system\n",
      "University of Illinois at Chicago (1965)\n",
      "University of Illinois Springfield (1969)\n",
      "University of Illinois Urbana-Champaign (1867)\n",
      "Individual universities\n",
      "Chicago State University (1867)\n",
      "Eastern Illinois University (1895)\n",
      "Governors State University (1969)\n",
      "Illinois State University (1857)\n",
      "Northeastern Illinois University (1949)\n",
      "Northern Illinois University (1895)\n",
      "Western Illinois University (1895)\n",
      "Southern Illinois University system\n",
      "Southern Illinois University Carbondale (1869)\n",
      "Southern Illinois University Edwardsville (1957)\n",
      "\n",
      "vteCity of ChampaignPeople\n",
      "List of people from Champaign\n",
      "History and government\n",
      "Burnham Athenaeum\n",
      "Cattle Bank\n",
      "Champaign City Building\n",
      "Champaign Public Library\n",
      "Construction of Assembly Hall\n",
      "First Presbyterian Church\n",
      "Illinois Traction Building\n",
      "Inman Hotel\n",
      "Lincoln Building\n",
      "Orpheum Theatre\n",
      "Stone Arch Bridge\n",
      "U.S. Post Office\n",
      "Vriner's Confectionery\n",
      "Education\n",
      "Centennial High School\n",
      "Champaign Central High School\n",
      "Judah Christian School\n",
      "St. Thomas More High School\n",
      "Parkland College\n",
      "University of Illinois Urbana-Champaign\n",
      "Cultural places and events\n",
      "Boneyard Creek\n",
      "Campustown\n",
      "Champaign Park District\n",
      "Centennial Park\n",
      "Dodds Park\n",
      "Champaign Swarm (MPBA)\n",
      "Ebertfest: Roger Ebert's Film Festival\n",
      "Illinois Marathon\n",
      "JSM Challenger of Champaign–Urbana\n",
      "Krannert Art Museum\n",
      "Market Place Mall\n",
      "Orpheum Children's Science Museum\n",
      "Staerkel Planetarium\n",
      "State Farm Center\n",
      "Virginia Theatre\n",
      "UIUC Main Library\n",
      "Public transportation\n",
      "Champaign County Area Rural Transit System\n",
      "Champaign–Urbana Mass Transit District\n",
      "Illinois Terminal\n",
      "University of Illinois Willard Airport\n",
      "Interstates and highways\n",
      "Interstate 57\n",
      "Interstate 72\n",
      "Interstate 74\n",
      "U.S. Route 45\n",
      "U.S. Route 150\n",
      "Illinois Route 10\n",
      "\n",
      " Category\n",
      " Commons\n",
      "\n",
      "vteBig Ten ConferenceCurrent members\n",
      "Illinois Fighting Illini\n",
      "Indiana Hoosiers\n",
      "Iowa Hawkeyes\n",
      "Maryland Terrapins\n",
      "Michigan Wolverines\n",
      "Michigan State Spartans\n",
      "Minnesota Golden Gophers\n",
      "Nebraska Cornhuskers\n",
      "Northwestern Wildcats\n",
      "Ohio State Buckeyes\n",
      "Oregon Ducks\n",
      "Penn State Nittany Lions\n",
      "Purdue Boilermakers\n",
      "Rutgers Scarlet Knights\n",
      "UCLA Bruins\n",
      "USC Trojans\n",
      "Washington Huskies\n",
      "Wisconsin Badgers\n",
      "Associate members\n",
      "Johns Hopkins Blue Jays (men's and women's lacrosse)\n",
      "Notre Dame Fighting Irish (men's ice hockey)\n",
      "Former members\n",
      "Chicago Maroons\n",
      "Championships & awards\n",
      "Athlete of the Year\n",
      "B1G Super Saturday\n",
      "National Championships\n",
      "Sports\n",
      "Football (Standings, Champions)\n",
      "Men's basketball (Regular season, Tournament)\n",
      "Women's basketball (Regular season, Tournament)\n",
      "Ice hockey (Tournament)\n",
      "Men's lacrosse\n",
      "Women's lacrosse\n",
      "Volleyball\n",
      "Media\n",
      "Big Ten Network\n",
      "\n",
      "vteBig Ten Academic Alliance\n",
      "Illinois\n",
      "Indiana\n",
      "Iowa\n",
      "Maryland\n",
      "Michigan\n",
      "Michigan State\n",
      "Minnesota\n",
      "Nebraska\n",
      "Northwestern\n",
      "Ohio State\n",
      "Oregon\n",
      "Pennsylvania State\n",
      "Purdue\n",
      "Rutgers\n",
      "UCLA\n",
      "USC\n",
      "Washington\n",
      "Wisconsin\n",
      "\n",
      "vteAssociation of American UniversitiesPublic\n",
      "Arizona\n",
      "Arizona State\n",
      "California\n",
      "Berkeley\n",
      "Davis\n",
      "Irvine\n",
      "Riverside\n",
      "Los Angeles\n",
      "San Diego\n",
      "Santa Barbara\n",
      "Santa Cruz\n",
      "Colorado\n",
      "Florida\n",
      "Georgia Tech\n",
      "Illinois\n",
      "Indiana\n",
      "Iowa\n",
      "Kansas\n",
      "Maryland\n",
      "McGill\n",
      "Michigan\n",
      "Michigan State\n",
      "Minnesota\n",
      "Missouri\n",
      "New York\n",
      "Buffalo\n",
      "Stony Brook\n",
      "North Carolina\n",
      "Ohio State\n",
      "Oregon\n",
      "Pennsylvania State\n",
      "Pittsburgh\n",
      "Purdue\n",
      "Rutgers\n",
      "South Florida\n",
      "Texas\n",
      "Texas A&M\n",
      "Toronto\n",
      "Utah\n",
      "Virginia\n",
      "Washington\n",
      "Wisconsin\n",
      "Private\n",
      "Boston U\n",
      "Brandeis\n",
      "Brown\n",
      "Caltech\n",
      "Carnegie Mellon\n",
      "Case Western Reserve\n",
      "Chicago\n",
      "Columbia\n",
      "Cornell\n",
      "Dartmouth\n",
      "Duke\n",
      "Emory\n",
      "George Washington\n",
      "Harvard\n",
      "Johns Hopkins\n",
      "Miami\n",
      "MIT\n",
      "Northwestern\n",
      "Notre Dame\n",
      "NYU\n",
      "Penn\n",
      "Princeton\n",
      "Rice\n",
      "Rochester\n",
      "Southern California\n",
      "Stanford\n",
      "Tufts\n",
      "Tulane\n",
      "Vanderbilt\n",
      "Washington St. Louis\n",
      "Yale\n",
      "\n",
      "Authority control databases InternationalISNIVIAFFASTNationalGermanyUnited StatesFranceBnF dataAustraliaCzech RepublicSpainNorwayKoreaPolandVaticanIsraelCataloniaGeographicMusicBrainz placeAcademicsCiNiiPeopleTroveOtherIdRefSNAC\n",
      "\n",
      "\n",
      "\n",
      "\n",
      "Retrieved from \"https://en.wikipedia.org/w/index.php?title=University_of_Illinois_Urbana-Champaign&oldid=1280176982\"\n",
      "Categories: University of Illinois Urbana-Champaign1867 establishments in IllinoisBuildings and structures in Champaign, IllinoisBuildings and structures in Urbana, IllinoisUniversities and colleges established in 1867Education in Champaign County, IllinoisFlagship universities in the United StatesForestry educationLand-grant universities and collegesNational Register of Historic Places in Champaign County, IllinoisPublic universities and colleges in IllinoisTourist attractions in Champaign County, IllinoisUniversity and college buildings on the National Register of Historic Places in IllinoisUniversity of Illinois System campusesHidden categories: Webarchive template wayback linksCS1 German-language sources (de)All articles with dead external linksArticles with dead external links from November 2023Articles with permanently dead external linksArticles with dead external links from June 2021Pages using gadget WikiMiniAtlasArticles with short descriptionShort description is different from WikidataUse American English from October 2019All Wikipedia articles written in American EnglishUse mdy dates from January 2025Articles using infobox universityAll articles with unsourced statementsArticles with unsourced statements from October 2021Articles containing potentially dated statements from 2015All articles containing potentially dated statementsArticles containing potentially dated statements from 2012Articles containing potentially dated statements from 2019Commons category link is on WikidataOfficial website different in Wikidata and WikipediaWikipedia articles incorporating a citation from Collier's EncyclopediaWikipedia articles incorporating a citation from the New International EncyclopediaCoordinates on Wikidata\n",
      "\n",
      "\n",
      "\n",
      "\n",
      "\n",
      "\n",
      " This page was last edited on 13 March 2025, at 00:30 (UTC).\n",
      "Text is available under the Creative Commons Attribution-ShareAlike 4.0 License;\n",
      "additional terms may apply. By using this site, you agree to the Terms of Use and Privacy Policy. Wikipedia® is a registered trademark of the Wikimedia Foundation, Inc., a non-profit organization.\n",
      "\n",
      "\n",
      "Privacy policy\n",
      "About Wikipedia\n",
      "Disclaimers\n",
      "Contact Wikipedia\n",
      "Code of Conduct\n",
      "Developers\n",
      "Statistics\n",
      "Cookie statement\n",
      "Mobile view\n",
      "\n",
      "\n",
      "\n",
      "\n",
      "\n",
      "\n",
      "\n",
      "\n",
      "\n",
      "\n",
      "\n",
      "\n",
      "\n",
      "\n",
      "Search\n",
      "\n",
      "\n",
      "\n",
      "\n",
      "\n",
      "\n",
      "\n",
      "\n",
      "\n",
      "\n",
      "\n",
      "\n",
      "\n",
      "Search\n",
      "\n",
      "\n",
      "\n",
      "\n",
      "\n",
      "\n",
      "\n",
      "\n",
      "\n",
      "Toggle the table of contents\n",
      "\n",
      "\n",
      "\n",
      "\n",
      "\n",
      "\n",
      "\n",
      "University of Illinois Urbana-Champaign\n",
      "\n",
      "\n",
      "\n",
      "\n",
      "\n",
      "\n",
      "\n",
      "\n",
      "\n",
      "\n",
      "\n",
      "\n",
      "\n",
      "\n",
      "\n",
      "\n",
      "\n",
      "\n",
      "\n",
      "\n",
      "\n",
      "\n",
      "\n",
      "\n",
      "\n",
      "\n",
      "\n",
      "\n",
      "42 languages\n",
      "\n",
      "\n",
      "Add topic\n",
      "\n",
      "\n",
      "\n",
      "\n",
      "\n",
      "\n",
      "\n",
      "\n",
      "\n",
      "\n",
      "\n",
      "\n",
      "\n",
      "\n",
      "\n",
      "\n",
      "\n"
     ]
    }
   ],
   "source": [
    "#save and print the text content of a page with all tags removed\n",
    "import requests\n",
    "from bs4 import BeautifulSoup\n",
    "\n",
    "url = \"https://en.wikipedia.org/wiki/University_of_Illinois_Urbana-Champaign\"\n",
    "\n",
    "response = requests.get(url)\n",
    "\n",
    "if response.status_code == 200:\n",
    "    soup = BeautifulSoup(response.text, 'html.parser')\n",
    "    \n",
    "    text = soup.get_text()\n",
    "    \n",
    "    print(text)\n",
    "    \n",
    "    with open('output.txt', 'w', encoding='utf-8') as file:\n",
    "        file.write(text)\n",
    "else:\n",
    "    print(\"Failed to retrieve the webpage. Status code:\", response.status_code)"
   ]
  },
  {
   "cell_type": "code",
   "execution_count": 8,
   "metadata": {},
   "outputs": [
    {
     "name": "stdout",
     "output_type": "stream",
     "text": [
      "Image downloaded and saved as University_of_Illinois_seal.png\n"
     ]
    }
   ],
   "source": [
    "#download an image with beautifulsoup and save it in this repository\n",
    "import requests\n",
    "from bs4 import BeautifulSoup\n",
    "\n",
    "image_url = \"https://upload.wikimedia.org/wikipedia/commons/thumb/a/af/University_of_Illinois_seal.svg/150px-University_of_Illinois_seal.svg.png\"\n",
    "\n",
    "response = requests.get(image_url)\n",
    "\n",
    "if response.status_code == 200:\n",
    "    with open('University_of_Illinois_seal.png', 'wb') as file:\n",
    "        file.write(response.content)\n",
    "    print(\"Image downloaded and saved as University_of_Illinois_seal.png\")\n",
    "else:\n",
    "    print(\"Failed to retrieve the image. Status code:\", response.status_code)"
   ]
  },
  {
   "cell_type": "code",
   "execution_count": 11,
   "metadata": {},
   "outputs": [
    {
     "name": "stdout",
     "output_type": "stream",
     "text": [
      "#bodyContent\n",
      "/wiki/Main_Page\n",
      "/wiki/Wikipedia:Contents\n",
      "/wiki/Portal:Current_events\n",
      "/wiki/Special:Random\n",
      "/wiki/Wikipedia:About\n",
      "//en.wikipedia.org/wiki/Wikipedia:Contact_us\n",
      "/wiki/Help:Contents\n",
      "/wiki/Help:Introduction\n",
      "/wiki/Wikipedia:Community_portal\n"
     ]
    }
   ],
   "source": [
    "#find all the links in a page with beautifulsoup\n",
    "#print the first 100 characters of ten of these links\n",
    "import requests\n",
    "from bs4 import BeautifulSoup\n",
    "\n",
    "url = \"https://en.wikipedia.org/wiki/University_of_Illinois_Urbana-Champaign\"\n",
    "\n",
    "response = requests.get(url)\n",
    "\n",
    "soup = BeautifulSoup(response.text, 'html.parser')\n",
    "\n",
    "links = soup.find_all('a', href=True)\n",
    "\n",
    "for link in links[:10]:\n",
    "    print(str(link['href'])[:100])"
   ]
  },
  {
   "cell_type": "markdown",
   "metadata": {},
   "source": [
    "## Part 3: Downloading scripts"
   ]
  },
  {
   "cell_type": "code",
   "execution_count": 13,
   "metadata": {},
   "outputs": [],
   "source": [
    "scripts=pd.read_csv('pudding_data.csv')"
   ]
  },
  {
   "cell_type": "code",
   "execution_count": 14,
   "metadata": {},
   "outputs": [
    {
     "data": {
      "text/html": [
       "<div>\n",
       "<style scoped>\n",
       "    .dataframe tbody tr th:only-of-type {\n",
       "        vertical-align: middle;\n",
       "    }\n",
       "\n",
       "    .dataframe tbody tr th {\n",
       "        vertical-align: top;\n",
       "    }\n",
       "\n",
       "    .dataframe thead th {\n",
       "        text-align: right;\n",
       "    }\n",
       "</style>\n",
       "<table border=\"1\" class=\"dataframe\">\n",
       "  <thead>\n",
       "    <tr style=\"text-align: right;\">\n",
       "      <th></th>\n",
       "      <th>imdb_id</th>\n",
       "      <th>script_id</th>\n",
       "      <th>title</th>\n",
       "      <th>year</th>\n",
       "      <th>gross (inflation-adjusted)</th>\n",
       "      <th>link</th>\n",
       "    </tr>\n",
       "  </thead>\n",
       "  <tbody>\n",
       "    <tr>\n",
       "      <th>0</th>\n",
       "      <td>tt0019777</td>\n",
       "      <td>4031</td>\n",
       "      <td>The Cocoanuts</td>\n",
       "      <td>1929</td>\n",
       "      <td>NaN</td>\n",
       "      <td>http://www.pages.drexel.edu/~ina22/splaylib/Sc...</td>\n",
       "    </tr>\n",
       "    <tr>\n",
       "      <th>1</th>\n",
       "      <td>tt0021884</td>\n",
       "      <td>8521</td>\n",
       "      <td>Frankenstein</td>\n",
       "      <td>1931</td>\n",
       "      <td>298.0</td>\n",
       "      <td>Frankenstein (Florey &amp; Fort) [1931-5-23] [Scan...</td>\n",
       "    </tr>\n",
       "    <tr>\n",
       "      <th>2</th>\n",
       "      <td>tt0022054</td>\n",
       "      <td>1086</td>\n",
       "      <td>The Last Flight</td>\n",
       "      <td>1931</td>\n",
       "      <td>NaN</td>\n",
       "      <td>film_20100519/all_imsdb_05_19_10/Last-Flight,-...</td>\n",
       "    </tr>\n",
       "    <tr>\n",
       "      <th>3</th>\n",
       "      <td>tt0022626</td>\n",
       "      <td>1631</td>\n",
       "      <td>American Madness</td>\n",
       "      <td>1932</td>\n",
       "      <td>NaN</td>\n",
       "      <td>http://www.imsdb.com/Movie Scripts/American Ma...</td>\n",
       "    </tr>\n",
       "    <tr>\n",
       "      <th>4</th>\n",
       "      <td>tt0022958</td>\n",
       "      <td>2438</td>\n",
       "      <td>Grand Hotel</td>\n",
       "      <td>1932</td>\n",
       "      <td>NaN</td>\n",
       "      <td>http://www.imsdb.com/Movie Scripts/Grand Hotel...</td>\n",
       "    </tr>\n",
       "    <tr>\n",
       "      <th>...</th>\n",
       "      <td>...</td>\n",
       "      <td>...</td>\n",
       "      <td>...</td>\n",
       "      <td>...</td>\n",
       "      <td>...</td>\n",
       "      <td>...</td>\n",
       "    </tr>\n",
       "    <tr>\n",
       "      <th>1995</th>\n",
       "      <td>tt3733778</td>\n",
       "      <td>8533</td>\n",
       "      <td>Pay the Ghost</td>\n",
       "      <td>2015</td>\n",
       "      <td>NaN</td>\n",
       "      <td>Pay The Ghost (Dan Kay, 9-1-09).pdf</td>\n",
       "    </tr>\n",
       "    <tr>\n",
       "      <th>1996</th>\n",
       "      <td>tt3808342</td>\n",
       "      <td>5499</td>\n",
       "      <td>Son of Saul</td>\n",
       "      <td>2015</td>\n",
       "      <td>0.0</td>\n",
       "      <td>http://gointothestory.blcklst.com/wp-content/u...</td>\n",
       "    </tr>\n",
       "    <tr>\n",
       "      <th>1997</th>\n",
       "      <td>tt3850214</td>\n",
       "      <td>8056</td>\n",
       "      <td>Dope</td>\n",
       "      <td>2015</td>\n",
       "      <td>18.0</td>\n",
       "      <td>Dope (2013.10.31) [Digital].pdf</td>\n",
       "    </tr>\n",
       "    <tr>\n",
       "      <th>1998</th>\n",
       "      <td>tt3859076</td>\n",
       "      <td>5507</td>\n",
       "      <td>Truth</td>\n",
       "      <td>2015</td>\n",
       "      <td>2.0</td>\n",
       "      <td>http://gointothestory.blcklst.com/wp-content/u...</td>\n",
       "    </tr>\n",
       "    <tr>\n",
       "      <th>1999</th>\n",
       "      <td>tt4270516</td>\n",
       "      <td>5410</td>\n",
       "      <td>Grandma</td>\n",
       "      <td>2015</td>\n",
       "      <td>7.0</td>\n",
       "      <td>http://gointothestory.blcklst.com/wp-content/u...</td>\n",
       "    </tr>\n",
       "  </tbody>\n",
       "</table>\n",
       "<p>2000 rows × 6 columns</p>\n",
       "</div>"
      ],
      "text/plain": [
       "        imdb_id  script_id             title  year  \\\n",
       "0     tt0019777       4031     The Cocoanuts  1929   \n",
       "1     tt0021884       8521      Frankenstein  1931   \n",
       "2     tt0022054       1086   The Last Flight  1931   \n",
       "3     tt0022626       1631  American Madness  1932   \n",
       "4     tt0022958       2438       Grand Hotel  1932   \n",
       "...         ...        ...               ...   ...   \n",
       "1995  tt3733778       8533     Pay the Ghost  2015   \n",
       "1996  tt3808342       5499       Son of Saul  2015   \n",
       "1997  tt3850214       8056              Dope  2015   \n",
       "1998  tt3859076       5507             Truth  2015   \n",
       "1999  tt4270516       5410           Grandma  2015   \n",
       "\n",
       "      gross (inflation-adjusted)  \\\n",
       "0                            NaN   \n",
       "1                          298.0   \n",
       "2                            NaN   \n",
       "3                            NaN   \n",
       "4                            NaN   \n",
       "...                          ...   \n",
       "1995                         NaN   \n",
       "1996                         0.0   \n",
       "1997                        18.0   \n",
       "1998                         2.0   \n",
       "1999                         7.0   \n",
       "\n",
       "                                                   link  \n",
       "0     http://www.pages.drexel.edu/~ina22/splaylib/Sc...  \n",
       "1     Frankenstein (Florey & Fort) [1931-5-23] [Scan...  \n",
       "2     film_20100519/all_imsdb_05_19_10/Last-Flight,-...  \n",
       "3     http://www.imsdb.com/Movie Scripts/American Ma...  \n",
       "4     http://www.imsdb.com/Movie Scripts/Grand Hotel...  \n",
       "...                                                 ...  \n",
       "1995                Pay The Ghost (Dan Kay, 9-1-09).pdf  \n",
       "1996  http://gointothestory.blcklst.com/wp-content/u...  \n",
       "1997                    Dope (2013.10.31) [Digital].pdf  \n",
       "1998  http://gointothestory.blcklst.com/wp-content/u...  \n",
       "1999  http://gointothestory.blcklst.com/wp-content/u...  \n",
       "\n",
       "[2000 rows x 6 columns]"
      ]
     },
     "execution_count": 14,
     "metadata": {},
     "output_type": "execute_result"
    }
   ],
   "source": [
    "scripts"
   ]
  },
  {
   "cell_type": "code",
   "execution_count": null,
   "metadata": {},
   "outputs": [],
   "source": [
    "#using the links in the \"link\" column, download the first 1000 characters of each script\n",
    "#use requests and bs4, remember to remove all html tags"
   ]
  },
  {
   "cell_type": "code",
   "execution_count": null,
   "metadata": {},
   "outputs": [],
   "source": [
    "#add a new column to the df with the text downloaded\n",
    "#save this new dataframe as \"pudding_texts.csv\""
   ]
  },
  {
   "cell_type": "code",
   "execution_count": null,
   "metadata": {},
   "outputs": [
    {
     "name": "stdout",
     "output_type": "stream",
     "text": [
      "Error processing http://www.pages.drexel.edu/~ina22/splaylib/Screenplay-Cocoanuts,_The.pdf: HTTPConnectionPool(host='www.pages.drexel.edu', port=80): Max retries exceeded with url: /~ina22/splaylib/Screenplay-Cocoanuts,_The.pdf (Caused by NameResolutionError(\"<urllib3.connection.HTTPConnection object at 0x139c5f160>: Failed to resolve 'www.pages.drexel.edu' ([Errno 8] nodename nor servname provided, or not known)\"))\n",
      "Invalid URL format: http://Frankenstein (Florey & Fort) [1931-5-23] [Scan].pdf\n",
      "Error processing http://film_20100519/all_imsdb_05_19_10/Last-Flight,-The.html: HTTPConnectionPool(host='film_20100519', port=80): Max retries exceeded with url: /all_imsdb_05_19_10/Last-Flight,-The.html (Caused by NameResolutionError(\"<urllib3.connection.HTTPConnection object at 0x138f04610>: Failed to resolve 'film_20100519' ([Errno 8] nodename nor servname provided, or not known)\"))\n"
     ]
    },
    {
     "name": "stderr",
     "output_type": "stream",
     "text": [
      "Some characters could not be decoded, and were replaced with REPLACEMENT CHARACTER.\n"
     ]
    },
    {
     "name": "stdout",
     "output_type": "stream",
     "text": [
      "Error processing http://film_20100519/all_imsdb_05_19_10/Duck-Soup.html: HTTPConnectionPool(host='film_20100519', port=80): Max retries exceeded with url: /all_imsdb_05_19_10/Duck-Soup.html (Caused by NameResolutionError(\"<urllib3.connection.HTTPConnection object at 0x13904d060>: Failed to resolve 'film_20100519' ([Errno 8] nodename nor servname provided, or not known)\"))\n",
      "Error processing http://King Kong - 1933 Orig. (Includes End Notes) (Digital).pdf: HTTPConnectionPool(host='king%20kong%20-%201933%20orig.%20(includes%20end%20notes)%20(digital).pdf', port=80): Max retries exceeded with url: / (Caused by NameResolutionError(\"<urllib3.connection.HTTPConnection object at 0x13904e530>: Failed to resolve 'king%20kong%20-%201933%20orig.%20(includes%20end%20notes)%20(digital).pdf' ([Errno 8] nodename nor servname provided, or not known)\"))\n",
      "Error processing http://film_20100519/all_imsdb_05_19_10/Wizard-of-Oz,-The.html: HTTPConnectionPool(host='film_20100519', port=80): Max retries exceeded with url: /all_imsdb_05_19_10/Wizard-of-Oz,-The.html (Caused by NameResolutionError(\"<urllib3.connection.HTTPConnection object at 0x138fc2c20>: Failed to resolve 'film_20100519' ([Errno 8] nodename nor servname provided, or not known)\"))\n",
      "Error processing http://film_20100519/all_imsdb_05_19_10/His-Girl-Friday.html: HTTPConnectionPool(host='film_20100519', port=80): Max retries exceeded with url: /all_imsdb_05_19_10/His-Girl-Friday.html (Caused by NameResolutionError(\"<urllib3.connection.HTTPConnection object at 0x13904ce80>: Failed to resolve 'film_20100519' ([Errno 8] nodename nor servname provided, or not known)\"))\n",
      "Error processing http://film_20100519/all_imsdb_05_19_10/Citizen-Kane.html: HTTPConnectionPool(host='film_20100519', port=80): Max retries exceeded with url: /all_imsdb_05_19_10/Citizen-Kane.html (Caused by NameResolutionError(\"<urllib3.connection.HTTPConnection object at 0x138f07610>: Failed to resolve 'film_20100519' ([Errno 8] nodename nor servname provided, or not known)\"))\n",
      "Error processing http://Dr. Jekyll and Mr. Hyde (John Lee Mahin) (Shooting Script - 1941).pdf: HTTPConnectionPool(host='dr.%20jekyll%20and%20mr.%20hyde%20(john%20lee%20mahin)%20(shooting%20script%20-%201941).pdf', port=80): Max retries exceeded with url: / (Caused by NameResolutionError(\"<urllib3.connection.HTTPConnection object at 0x138f06410>: Failed to resolve 'dr.%20jekyll%20and%20mr.%20hyde%20(john%20lee%20mahin)%20(shooting%20script%20-%201941).pdf' ([Errno 8] nodename nor servname provided, or not known)\"))\n",
      "Error processing http://Sullivan's Travels.pdf: HTTPConnectionPool(host=\"sullivan's%20travels.pdf\", port=80): Max retries exceeded with url: / (Caused by NameResolutionError(\"<urllib3.connection.HTTPConnection object at 0x138f04970>: Failed to resolve 'sullivan's%20travels.pdf' ([Errno 8] nodename nor servname provided, or not known)\"))\n",
      "Error processing http://film_20100519/all_imsdb_05_19_10/Kate-&-Leopold.html: HTTPConnectionPool(host='film_20100519', port=80): Max retries exceeded with url: /all_imsdb_05_19_10/Kate-&-Leopold.html (Caused by NameResolutionError(\"<urllib3.connection.HTTPConnection object at 0x138f07880>: Failed to resolve 'film_20100519' ([Errno 8] nodename nor servname provided, or not known)\"))\n",
      "Error processing http://film_20100519/all_imsdb_05_19_10/Double-Indemnity.html: HTTPConnectionPool(host='film_20100519', port=80): Max retries exceeded with url: /all_imsdb_05_19_10/Double-Indemnity.html (Caused by NameResolutionError(\"<urllib3.connection.HTTPConnection object at 0x12dc5b1f0>: Failed to resolve 'film_20100519' ([Errno 8] nodename nor servname provided, or not known)\"))\n",
      "Error processing http://film_20100519/all_imsdb_05_19_10/Tall-in-the-Saddle.html: HTTPConnectionPool(host='film_20100519', port=80): Max retries exceeded with url: /all_imsdb_05_19_10/Tall-in-the-Saddle.html (Caused by NameResolutionError(\"<urllib3.connection.HTTPConnection object at 0x12dc5ba00>: Failed to resolve 'film_20100519' ([Errno 8] nodename nor servname provided, or not known)\"))\n",
      "Error processing http://Lost Weekend (1945).pdf: HTTPConnectionPool(host='lost%20weekend%20(1945).pdf', port=80): Max retries exceeded with url: / (Caused by NameResolutionError(\"<urllib3.connection.HTTPConnection object at 0x12dc5a4a0>: Failed to resolve 'lost%20weekend%20(1945).pdf' ([Errno 8] nodename nor servname provided, or not known)\"))\n"
     ]
    },
    {
     "name": "stderr",
     "output_type": "stream",
     "text": [
      "Some characters could not be decoded, and were replaced with REPLACEMENT CHARACTER.\n"
     ]
    },
    {
     "name": "stdout",
     "output_type": "stream",
     "text": [
      "Error processing http://Lady From Shanghai (Orson Welles) (Final Draft - 8-17-1946).pdf: Failed to parse: 'lady%20from%20shanghai%20(orson%20welles)%20(final%20draft%20-%208-17-1946).pdf', label empty or too long\n",
      "Error processing http://film_20100519/all_imsdb_05_19_10/Station-West.html: HTTPConnectionPool(host='film_20100519', port=80): Max retries exceeded with url: /all_imsdb_05_19_10/Station-West.html (Caused by NameResolutionError(\"<urllib3.connection.HTTPConnection object at 0x12dc59d20>: Failed to resolve 'film_20100519' ([Errno 8] nodename nor servname provided, or not known)\"))\n",
      "Error processing http://film_20100519/all_imsdb_05_19_10/Roughshod.html: HTTPConnectionPool(host='film_20100519', port=80): Max retries exceeded with url: /all_imsdb_05_19_10/Roughshod.html (Caused by NameResolutionError(\"<urllib3.connection.HTTPConnection object at 0x138fc0130>: Failed to resolve 'film_20100519' ([Errno 8] nodename nor servname provided, or not known)\"))\n",
      "Error processing http://She Wore a Yellow Ribbon - 1948-10-16 - Shooting script.pdf: Failed to parse: 'she%20wore%20a%20yellow%20ribbon%20-%201948-10-16%20-%20shooting%20script.pdf', label empty or too long\n",
      "Error processing http://film_20100519/all_imsdb_05_19_10/Day-the-Earth-Stood-Still,-The.html: HTTPConnectionPool(host='film_20100519', port=80): Max retries exceeded with url: /all_imsdb_05_19_10/Day-the-Earth-Stood-Still,-The.html (Caused by NameResolutionError(\"<urllib3.connection.HTTPConnection object at 0x139ac3070>: Failed to resolve 'film_20100519' ([Errno 8] nodename nor servname provided, or not known)\"))\n",
      "Error processing http://Julius Caesar - 1952-07-07 - Draft.pdf: HTTPConnectionPool(host='julius%20caesar%20-%201952-07-07%20-%20draft.pdf', port=80): Max retries exceeded with url: / (Caused by NameResolutionError(\"<urllib3.connection.HTTPConnection object at 0x138f06140>: Failed to resolve 'julius%20caesar%20-%201952-07-07%20-%20draft.pdf' ([Errno 8] nodename nor servname provided, or not known)\"))\n",
      "Error processing http://Seven Samurai (Akira Kurosawa & Shinobu Hashimoto & Hideo Oguni) (Translated by Donald Richie).pdf: Failed to parse: 'seven%20samurai%20(akira%20kurosawa%20&%20shinobu%20hashimoto%20&%20hideo%20oguni)%20(translated%20by%20donald%20richie).pdf', label empty or too long\n",
      "Error processing http://film_20100519/all_imsdb_05_19_10/White-Christmas.html: HTTPConnectionPool(host='film_20100519', port=80): Max retries exceeded with url: /all_imsdb_05_19_10/White-Christmas.html (Caused by NameResolutionError(\"<urllib3.connection.HTTPConnection object at 0x13904dc30>: Failed to resolve 'film_20100519' ([Errno 8] nodename nor servname provided, or not known)\"))\n"
     ]
    },
    {
     "name": "stderr",
     "output_type": "stream",
     "text": [
      "Some characters could not be decoded, and were replaced with REPLACEMENT CHARACTER.\n"
     ]
    },
    {
     "name": "stdout",
     "output_type": "stream",
     "text": [
      "Error processing http://film_20100519/all_imsdb_05_19_10/Seventh-Seal,-The.html: HTTPConnectionPool(host='film_20100519', port=80): Max retries exceeded with url: /all_imsdb_05_19_10/Seventh-Seal,-The.html (Caused by NameResolutionError(\"<urllib3.connection.HTTPConnection object at 0x12dc21630>: Failed to resolve 'film_20100519' ([Errno 8] nodename nor servname provided, or not known)\"))\n",
      "Error processing http://film_20100519/all_imsdb_05_19_10/Sweet-Smell-of-Success.html: HTTPConnectionPool(host='film_20100519', port=80): Max retries exceeded with url: /all_imsdb_05_19_10/Sweet-Smell-of-Success.html (Caused by NameResolutionError(\"<urllib3.connection.HTTPConnection object at 0x138fc16f0>: Failed to resolve 'film_20100519' ([Errno 8] nodename nor servname provided, or not known)\"))\n",
      "Error processing http://Witness for the Prosecution (1957.06.10).pdf: HTTPConnectionPool(host='witness%20for%20the%20prosecution%20(1957.06.10).pdf', port=80): Max retries exceeded with url: / (Caused by NameResolutionError(\"<urllib3.connection.HTTPConnection object at 0x138fc1060>: Failed to resolve 'witness%20for%20the%20prosecution%20(1957.06.10).pdf' ([Errno 8] nodename nor servname provided, or not known)\"))\n"
     ]
    },
    {
     "name": "stderr",
     "output_type": "stream",
     "text": [
      "Some characters could not be decoded, and were replaced with REPLACEMENT CHARACTER.\n"
     ]
    },
    {
     "name": "stdout",
     "output_type": "stream",
     "text": [
      "Error processing http://NorthByNorthwest.pdf: HTTPConnectionPool(host='northbynorthwest.pdf', port=80): Max retries exceeded with url: / (Caused by NameResolutionError(\"<urllib3.connection.HTTPConnection object at 0x13904dde0>: Failed to resolve 'northbynorthwest.pdf' ([Errno 8] nodename nor servname provided, or not known)\"))\n",
      "Error processing http://film_20100519/all_imsdb_05_19_10/Avventura,-L'-(The-Adventure).html: HTTPConnectionPool(host='film_20100519', port=80): Max retries exceeded with url: /all_imsdb_05_19_10/Avventura,-L'-(The-Adventure).html (Caused by NameResolutionError(\"<urllib3.connection.HTTPConnection object at 0x10e85e980>: Failed to resolve 'film_20100519' ([Errno 8] nodename nor servname provided, or not known)\"))\n",
      "Error processing http://film_20100519/all_imsdb_05_19_10/Peeping-Tom.html: HTTPConnectionPool(host='film_20100519', port=80): Max retries exceeded with url: /all_imsdb_05_19_10/Peeping-Tom.html (Caused by NameResolutionError(\"<urllib3.connection.HTTPConnection object at 0x138907430>: Failed to resolve 'film_20100519' ([Errno 8] nodename nor servname provided, or not known)\"))\n",
      "Error processing http://film_20100519/all_imsdb_05_19_10/Psycho.html: HTTPConnectionPool(host='film_20100519', port=80): Max retries exceeded with url: /all_imsdb_05_19_10/Psycho.html (Caused by NameResolutionError(\"<urllib3.connection.HTTPConnection object at 0x138907c10>: Failed to resolve 'film_20100519' ([Errno 8] nodename nor servname provided, or not known)\"))\n",
      "Error processing http://film_20100519/all_imsdb_05_19_10/Orgy-of-the-Dead.html: HTTPConnectionPool(host='film_20100519', port=80): Max retries exceeded with url: /all_imsdb_05_19_10/Orgy-of-the-Dead.html (Caused by NameResolutionError(\"<urllib3.connection.HTTPConnection object at 0x138948430>: Failed to resolve 'film_20100519' ([Errno 8] nodename nor servname provided, or not known)\"))\n",
      "Error processing http://film_20100519/all_imsdb_05_19_10/Cincinnati-Kid,-The.html: HTTPConnectionPool(host='film_20100519', port=80): Max retries exceeded with url: /all_imsdb_05_19_10/Cincinnati-Kid,-The.html (Caused by NameResolutionError(\"<urllib3.connection.HTTPConnection object at 0x138907ca0>: Failed to resolve 'film_20100519' ([Errno 8] nodename nor servname provided, or not known)\"))\n",
      "Invalid URL format: http://Harper (1966) [1965-6-9] [Rev. Final] [Scan].pdf\n",
      "Error processing http://El Dorado.pdf: HTTPConnectionPool(host='el%20dorado.pdf', port=80): Max retries exceeded with url: / (Caused by NameResolutionError(\"<urllib3.connection.HTTPConnection object at 0x13899dcc0>: Failed to resolve 'el%20dorado.pdf' ([Errno 8] nodename nor servname provided, or not known)\"))\n",
      "Error processing http://film_20100519/all_imsdb_05_19_10/2001-A-Space-Odyssey.html: HTTPConnectionPool(host='film_20100519', port=80): Max retries exceeded with url: /all_imsdb_05_19_10/2001-A-Space-Odyssey.html (Caused by NameResolutionError(\"<urllib3.connection.HTTPConnection object at 0x13899ee30>: Failed to resolve 'film_20100519' ([Errno 8] nodename nor servname provided, or not known)\"))\n",
      "Error processing http://film_20100519/all_imsdb_05_19_10/Petulia.html: HTTPConnectionPool(host='film_20100519', port=80): Max retries exceeded with url: /all_imsdb_05_19_10/Petulia.html (Caused by NameResolutionError(\"<urllib3.connection.HTTPConnection object at 0x138906e60>: Failed to resolve 'film_20100519' ([Errno 8] nodename nor servname provided, or not known)\"))\n",
      "Error processing http://film_20100519/all_imsdb_05_19_10/Wild-Bunch,-The.html: HTTPConnectionPool(host='film_20100519', port=80): Max retries exceeded with url: /all_imsdb_05_19_10/Wild-Bunch,-The.html (Caused by NameResolutionError(\"<urllib3.connection.HTTPConnection object at 0x1389ed6f0>: Failed to resolve 'film_20100519' ([Errno 8] nodename nor servname provided, or not known)\"))\n"
     ]
    },
    {
     "name": "stderr",
     "output_type": "stream",
     "text": [
      "Some characters could not be decoded, and were replaced with REPLACEMENT CHARACTER.\n"
     ]
    },
    {
     "name": "stdout",
     "output_type": "stream",
     "text": [
      "Error processing http://Catch 22.pdf: HTTPConnectionPool(host='catch%2022.pdf', port=80): Max retries exceeded with url: / (Caused by NameResolutionError(\"<urllib3.connection.HTTPConnection object at 0x1389ed9c0>: Failed to resolve 'catch%2022.pdf' ([Errno 8] nodename nor servname provided, or not known)\"))\n",
      "Error processing http://film_20100519/all_imsdb_05_19_10/Five-Easy-Pieces.html: HTTPConnectionPool(host='film_20100519', port=80): Max retries exceeded with url: /all_imsdb_05_19_10/Five-Easy-Pieces.html (Caused by NameResolutionError(\"<urllib3.connection.HTTPConnection object at 0x13892e140>: Failed to resolve 'film_20100519' ([Errno 8] nodename nor servname provided, or not known)\"))\n",
      "Error processing http://MASH.pdf: HTTPConnectionPool(host='mash.pdf', port=80): Max retries exceeded with url: / (Caused by NameResolutionError(\"<urllib3.connection.HTTPConnection object at 0x13892f790>: Failed to resolve 'mash.pdf' ([Errno 8] nodename nor servname provided, or not known)\"))\n",
      "Error processing http://www.pages.drexel.edu/~ina22/splaylib/Screenplay-Rise_and_Rise_of_Michael_Rimmer,_The.pdf: HTTPConnectionPool(host='www.pages.drexel.edu', port=80): Max retries exceeded with url: /~ina22/splaylib/Screenplay-Rise_and_Rise_of_Michael_Rimmer,_The.pdf (Caused by NameResolutionError(\"<urllib3.connection.HTTPConnection object at 0x13892df90>: Failed to resolve 'www.pages.drexel.edu' ([Errno 8] nodename nor servname provided, or not known)\"))\n",
      "Error processing http://Duel (Richard Matheson) (Revision; September 1, 1971).pdf: Failed to parse: 'duel%20(richard%20matheson)%20(revision;%20september%201,%201971).pdf', label empty or too long\n",
      "Error processing http://film_20100519/all_imsdb_05_19_10/Happy-Birthday,-Wanda-June.html: HTTPConnectionPool(host='film_20100519', port=80): Max retries exceeded with url: /all_imsdb_05_19_10/Happy-Birthday,-Wanda-June.html (Caused by NameResolutionError(\"<urllib3.connection.HTTPConnection object at 0x13892e530>: Failed to resolve 'film_20100519' ([Errno 8] nodename nor servname provided, or not known)\"))\n",
      "Error processing http://film_20100519/all_imsdb_05_19_10/Hospital,-The.html: HTTPConnectionPool(host='film_20100519', port=80): Max retries exceeded with url: /all_imsdb_05_19_10/Hospital,-The.html (Caused by NameResolutionError(\"<urllib3.connection.HTTPConnection object at 0x10e85f340>: Failed to resolve 'film_20100519' ([Errno 8] nodename nor servname provided, or not known)\"))\n",
      "Invalid URL format: http://Play Misty For Me (Jo Heims & Dean Riesner - Missing Title Page - Undated) [Scan] [Reduced].pdf\n",
      "Invalid URL format: http://Two Lane Blacktop (1970.01.05) [Scan].pdf\n",
      "Error processing http://VanishingPoint-GCain 1st draft-June1969.pdf: HTTPConnectionPool(host='vanishingpoint-gcain%201st%20draft-june1969.pdf', port=80): Max retries exceeded with url: / (Caused by NameResolutionError(\"<urllib3.connection.HTTPConnection object at 0x10f3a13c0>: Failed to resolve 'vanishingpoint-gcain%201st%20draft-june1969.pdf' ([Errno 8] nodename nor servname provided, or not known)\"))\n",
      "Error processing http://www.pages.drexel.edu/~ina22/splaylib/Screenplay-Cabaret.pdf: HTTPConnectionPool(host='www.pages.drexel.edu', port=80): Max retries exceeded with url: /~ina22/splaylib/Screenplay-Cabaret.pdf (Caused by NameResolutionError(\"<urllib3.connection.HTTPConnection object at 0x12efc0280>: Failed to resolve 'www.pages.drexel.edu' ([Errno 8] nodename nor servname provided, or not known)\"))\n"
     ]
    },
    {
     "name": "stderr",
     "output_type": "stream",
     "text": [
      "Some characters could not be decoded, and were replaced with REPLACEMENT CHARACTER.\n"
     ]
    },
    {
     "name": "stdout",
     "output_type": "stream",
     "text": [
      "Error processing http://film_20100519/all_imsdb_05_19_10/Day-the-Clown-Cried,-The.html: HTTPConnectionPool(host='film_20100519', port=80): Max retries exceeded with url: /all_imsdb_05_19_10/Day-the-Clown-Cried,-The.html (Caused by NameResolutionError(\"<urllib3.connection.HTTPConnection object at 0x138906ad0>: Failed to resolve 'film_20100519' ([Errno 8] nodename nor servname provided, or not known)\"))\n"
     ]
    },
    {
     "name": "stderr",
     "output_type": "stream",
     "text": [
      "Some characters could not be decoded, and were replaced with REPLACEMENT CHARACTER.\n"
     ]
    },
    {
     "name": "stdout",
     "output_type": "stream",
     "text": [
      "Invalid URL format: http://Jeremiah Johnson [Undated] [Scan].pdf\n"
     ]
    },
    {
     "name": "stderr",
     "output_type": "stream",
     "text": [
      "Some characters could not be decoded, and were replaced with REPLACEMENT CHARACTER.\n"
     ]
    },
    {
     "name": "stdout",
     "output_type": "stream",
     "text": [
      "Error processing http://film_20100519/all_imsdb_05_19_10/American-Graffiti.html: HTTPConnectionPool(host='film_20100519', port=80): Max retries exceeded with url: /all_imsdb_05_19_10/American-Graffiti.html (Caused by NameResolutionError(\"<urllib3.connection.HTTPConnection object at 0x139c5f520>: Failed to resolve 'film_20100519' ([Errno 8] nodename nor servname provided, or not known)\"))\n",
      "Invalid URL format: http://Enter The Dragon (1973) [1972-12-7] [Rev. 1972-12-19] [Scan].pdf\n",
      "Invalid URL format: http://Live And Let Die (1972.10.02) [Scan].pdf\n",
      "Error processing http://Long_Goodbye,_The_(1972).pdf: HTTPConnectionPool(host='long_goodbye,_the_(1972).pdf', port=80): Max retries exceeded with url: / (Caused by NameResolutionError(\"<urllib3.connection.HTTPConnection object at 0x13998d4e0>: Failed to resolve 'long_goodbye,_the_(1972).pdf' ([Errno 8] nodename nor servname provided, or not known)\"))\n",
      "Invalid URL format: http://Magnum Force [1973.03.05] [Rev. Final] [Scan].pdf\n",
      "Error processing http://Pat Garret And Billy The Kid.pdf: HTTPConnectionPool(host='pat%20garret%20and%20billy%20the%20kid.pdf', port=80): Max retries exceeded with url: / (Caused by NameResolutionError(\"<urllib3.connection.HTTPConnection object at 0x10dd5f9a0>: Failed to resolve 'pat%20garret%20and%20billy%20the%20kid.pdf' ([Errno 8] nodename nor servname provided, or not known)\"))\n",
      "Invalid URL format: http://Serpico [1973.06.18].pdf\n",
      "Error processing http://film_20100519/all_imsdb_05_19_10/Sting,-The.html: HTTPConnectionPool(host='film_20100519', port=80): Max retries exceeded with url: /all_imsdb_05_19_10/Sting,-The.html (Caused by NameResolutionError(\"<urllib3.connection.HTTPConnection object at 0x10e4a5cc0>: Failed to resolve 'film_20100519' ([Errno 8] nodename nor servname provided, or not known)\"))\n",
      "Error processing http://Blazing Saddles - Screenplay.pdf: HTTPConnectionPool(host='blazing%20saddles%20-%20screenplay.pdf', port=80): Max retries exceeded with url: / (Caused by NameResolutionError(\"<urllib3.connection.HTTPConnection object at 0x13998cd30>: Failed to resolve 'blazing%20saddles%20-%20screenplay.pdf' ([Errno 8] nodename nor servname provided, or not known)\"))\n"
     ]
    },
    {
     "name": "stderr",
     "output_type": "stream",
     "text": [
      "Some characters could not be decoded, and were replaced with REPLACEMENT CHARACTER.\n"
     ]
    },
    {
     "name": "stdout",
     "output_type": "stream",
     "text": [
      "Error processing http://film_20100519/all_imsdb_05_19_10/Barry-Lyndon.html: HTTPConnectionPool(host='film_20100519', port=80): Max retries exceeded with url: /all_imsdb_05_19_10/Barry-Lyndon.html (Caused by NameResolutionError(\"<urllib3.connection.HTTPConnection object at 0x10e4a5960>: Failed to resolve 'film_20100519' ([Errno 8] nodename nor servname provided, or not known)\"))\n",
      "Error processing http://film_20100519/all_imsdb_05_19_10/Dog-Day-Afternoon.html: HTTPConnectionPool(host='film_20100519', port=80): Max retries exceeded with url: /all_imsdb_05_19_10/Dog-Day-Afternoon.html (Caused by NameResolutionError(\"<urllib3.connection.HTTPConnection object at 0x10e221510>: Failed to resolve 'film_20100519' ([Errno 8] nodename nor servname provided, or not known)\"))\n",
      "Invalid URL format: http://French Connection 2 (1975) [1974-6-26] [Scan].pdf\n",
      "Error processing http://Hard Times.pdf: HTTPConnectionPool(host='hard%20times.pdf', port=80): Max retries exceeded with url: / (Caused by NameResolutionError(\"<urllib3.connection.HTTPConnection object at 0x10e221cc0>: Failed to resolve 'hard%20times.pdf' ([Errno 8] nodename nor servname provided, or not known)\"))\n"
     ]
    },
    {
     "name": "stderr",
     "output_type": "stream",
     "text": [
      "Some characters could not be decoded, and were replaced with REPLACEMENT CHARACTER.\n"
     ]
    },
    {
     "name": "stdout",
     "output_type": "stream",
     "text": [
      "Error processing http://film_20100519/all_imsdb_05_19_10/Rocky-Horror-Picture-Show,-The.html: HTTPConnectionPool(host='film_20100519', port=80): Max retries exceeded with url: /all_imsdb_05_19_10/Rocky-Horror-Picture-Show,-The.html (Caused by NameResolutionError(\"<urllib3.connection.HTTPConnection object at 0x10e223fd0>: Failed to resolve 'film_20100519' ([Errno 8] nodename nor servname provided, or not known)\"))\n",
      "Error processing http://film_20100519/all_imsdb_05_19_10/Shivers.html: HTTPConnectionPool(host='film_20100519', port=80): Max retries exceeded with url: /all_imsdb_05_19_10/Shivers.html (Caused by NameResolutionError(\"<urllib3.connection.HTTPConnection object at 0x32d78dcc0>: Failed to resolve 'film_20100519' ([Errno 8] nodename nor servname provided, or not known)\"))\n",
      "Error processing http://Stepford Wives.pdf: HTTPConnectionPool(host='stepford%20wives.pdf', port=80): Max retries exceeded with url: / (Caused by NameResolutionError(\"<urllib3.connection.HTTPConnection object at 0x13998e170>: Failed to resolve 'stepford%20wives.pdf' ([Errno 8] nodename nor servname provided, or not known)\"))\n"
     ]
    },
    {
     "name": "stderr",
     "output_type": "stream",
     "text": [
      "Some characters could not be decoded, and were replaced with REPLACEMENT CHARACTER.\n"
     ]
    },
    {
     "name": "stdout",
     "output_type": "stream",
     "text": [
      "Invalid URL format: http://Wind and the Lion, The [Scan].pdf\n",
      "Error processing http://Yakuza, The - Schrader - p.56&88.pdf: HTTPConnectionPool(host='yakuza,%20the%20-%20schrader%20-%20p.56&88.pdf', port=80): Max retries exceeded with url: / (Caused by NameResolutionError(\"<urllib3.connection.HTTPConnection object at 0x12a52bf40>: Failed to resolve 'yakuza,%20the%20-%20schrader%20-%20p.56&88.pdf' ([Errno 8] nodename nor servname provided, or not known)\"))\n",
      "Error processing http://ALL THE PRESIDENT'S MEN - 1975.03 draft by William Goldman.1.pdf: HTTPConnectionPool(host=\"all%20the%20president's%20men%20-%201975.03%20draft%20by%20william%20goldman.1.pdf\", port=80): Max retries exceeded with url: / (Caused by NameResolutionError(\"<urllib3.connection.HTTPConnection object at 0x138f07790>: Failed to resolve 'all%20the%20president's%20men%20-%201975.03%20draft%20by%20william%20goldman.1.pdf' ([Errno 8] nodename nor servname provided, or not known)\"))\n",
      "Error processing http://Family Plot (Missing pages 91,130,136).pdf: HTTPConnectionPool(host='family%20plot%20(missing%20pages%2091,130,136).pdf', port=80): Max retries exceeded with url: / (Caused by NameResolutionError(\"<urllib3.connection.HTTPConnection object at 0x138f05ed0>: Failed to resolve 'family%20plot%20(missing%20pages%2091,130,136).pdf' ([Errno 8] nodename nor servname provided, or not known)\"))\n",
      "Error processing http://Obsession_011775.pdf: HTTPConnectionPool(host='obsession_011775.pdf', port=80): Max retries exceeded with url: / (Caused by NameResolutionError(\"<urllib3.connection.HTTPConnection object at 0x138f04c70>: Failed to resolve 'obsession_011775.pdf' ([Errno 8] nodename nor servname provided, or not known)\"))\n",
      "Error processing http://Outlaw Josey Wales, The (1975.09.10).pdf: HTTPConnectionPool(host='outlaw%20josey%20wales,%20the%20(1975.09.10).pdf', port=80): Max retries exceeded with url: / (Caused by NameResolutionError(\"<urllib3.connection.HTTPConnection object at 0x12e879510>: Failed to resolve 'outlaw%20josey%20wales,%20the%20(1975.09.10).pdf' ([Errno 8] nodename nor servname provided, or not known)\"))\n",
      "Error processing http://film_20100519/all_imsdb_05_19_10/Rocky.html: HTTPConnectionPool(host='film_20100519', port=80): Max retries exceeded with url: /all_imsdb_05_19_10/Rocky.html (Caused by NameResolutionError(\"<urllib3.connection.HTTPConnection object at 0x12e879390>: Failed to resolve 'film_20100519' ([Errno 8] nodename nor servname provided, or not known)\"))\n",
      "Error processing http://Seven Per-Cent Solution, The.pdf: HTTPConnectionPool(host='seven%20per-cent%20solution,%20the.pdf', port=80): Max retries exceeded with url: / (Caused by NameResolutionError(\"<urllib3.connection.HTTPConnection object at 0x138f06860>: Failed to resolve 'seven%20per-cent%20solution,%20the.pdf' ([Errno 8] nodename nor servname provided, or not known)\"))\n",
      "Error processing http://www.pages.drexel.edu/~ina22/splaylib/Screenplay-Silver_Streak.pdf: HTTPConnectionPool(host='www.pages.drexel.edu', port=80): Max retries exceeded with url: /~ina22/splaylib/Screenplay-Silver_Streak.pdf (Caused by NameResolutionError(\"<urllib3.connection.HTTPConnection object at 0x12e8788e0>: Failed to resolve 'www.pages.drexel.edu' ([Errno 8] nodename nor servname provided, or not known)\"))\n",
      "Error processing http://three women-treatment.pdf: HTTPConnectionPool(host='three%20women-treatment.pdf', port=80): Max retries exceeded with url: / (Caused by NameResolutionError(\"<urllib3.connection.HTTPConnection object at 0x10e352470>: Failed to resolve 'three%20women-treatment.pdf' ([Errno 8] nodename nor servname provided, or not known)\"))\n",
      "Error processing http://film_20100519/all_imsdb_05_19_10/Annie-Hall.html: HTTPConnectionPool(host='film_20100519', port=80): Max retries exceeded with url: /all_imsdb_05_19_10/Annie-Hall.html (Caused by NameResolutionError(\"<urllib3.connection.HTTPConnection object at 0x10e351e10>: Failed to resolve 'film_20100519' ([Errno 8] nodename nor servname provided, or not known)\"))\n",
      "Invalid URL format: http://GOODBYE GIRL, THE (1977) by Neil Simon [1976.12] [3rd] [Scan].pdf\n",
      "Error processing http://Rabid.pdf: HTTPConnectionPool(host='rabid.pdf', port=80): Max retries exceeded with url: / (Caused by NameResolutionError(\"<urllib3.connection.HTTPConnection object at 0x12a52bf40>: Failed to resolve 'rabid.pdf' ([Errno 8] nodename nor servname provided, or not known)\"))\n",
      "Error processing http://ROLLING THUNDER (1977) by Paul Schrader.pdf: HTTPConnectionPool(host='rolling%20thunder%20(1977)%20by%20paul%20schrader.pdf', port=80): Max retries exceeded with url: / (Caused by NameResolutionError(\"<urllib3.connection.HTTPConnection object at 0x10e220f70>: Failed to resolve 'rolling%20thunder%20(1977)%20by%20paul%20schrader.pdf' ([Errno 8] nodename nor servname provided, or not known)\"))\n",
      "Error processing http://film_20100519/all_imsdb_05_19_10/Star-Wars-A-New-Hope.html: HTTPConnectionPool(host='film_20100519', port=80): Max retries exceeded with url: /all_imsdb_05_19_10/Star-Wars-A-New-Hope.html (Caused by NameResolutionError(\"<urllib3.connection.HTTPConnection object at 0x139c5f0a0>: Failed to resolve 'film_20100519' ([Errno 8] nodename nor servname provided, or not known)\"))\n",
      "Error processing http://Capricorn_One.pdf: HTTPConnectionPool(host='capricorn_one.pdf', port=80): Max retries exceeded with url: / (Caused by NameResolutionError(\"<urllib3.connection.HTTPConnection object at 0x10e352d10>: Failed to resolve 'capricorn_one.pdf' ([Errno 8] nodename nor servname provided, or not known)\"))\n",
      "Error processing http://film_20100519/all_imsdb_05_19_10/Days-of-Heaven.html: HTTPConnectionPool(host='film_20100519', port=80): Max retries exceeded with url: /all_imsdb_05_19_10/Days-of-Heaven.html (Caused by NameResolutionError(\"<urllib3.connection.HTTPConnection object at 0x10e3520b0>: Failed to resolve 'film_20100519' ([Errno 8] nodename nor servname provided, or not known)\"))\n",
      "Error processing http://film_20100519/all_imsdb_05_19_10/Deer-Hunter,-The.html: HTTPConnectionPool(host='film_20100519', port=80): Max retries exceeded with url: /all_imsdb_05_19_10/Deer-Hunter,-The.html (Caused by NameResolutionError(\"<urllib3.connection.HTTPConnection object at 0x10e220580>: Failed to resolve 'film_20100519' ([Errno 8] nodename nor servname provided, or not known)\"))\n",
      "Error processing http://Walter Hills screenplay for The Driver.pdf: Failed to parse: http://Walter Hills screenplay for The Driver.pdf\n",
      "Error processing http://Halloween-Carpenter&amp;Hill(1978).pdf: HTTPConnectionPool(host='halloween-carpenter&amp;hill(1978).pdf', port=80): Max retries exceeded with url: / (Caused by NameResolutionError(\"<urllib3.connection.HTTPConnection object at 0x138f05e40>: Failed to resolve 'halloween-carpenter&amp;hill(1978).pdf' ([Errno 8] nodename nor servname provided, or not known)\"))\n"
     ]
    },
    {
     "name": "stderr",
     "output_type": "stream",
     "text": [
      "Some characters could not be decoded, and were replaced with REPLACEMENT CHARACTER.\n"
     ]
    },
    {
     "name": "stdout",
     "output_type": "stream",
     "text": [
      "Error processing http://film_20100519/all_imsdb_05_19_10/Midnight-Express.html: HTTPConnectionPool(host='film_20100519', port=80): Max retries exceeded with url: /all_imsdb_05_19_10/Midnight-Express.html (Caused by NameResolutionError(\"<urllib3.connection.HTTPConnection object at 0x10e352ad0>: Failed to resolve 'film_20100519' ([Errno 8] nodename nor servname provided, or not known)\"))\n",
      "Error processing http://Unmarried Woman, An.pdf: HTTPConnectionPool(host='unmarried%20woman,%20an.pdf', port=80): Max retries exceeded with url: / (Caused by NameResolutionError(\"<urllib3.connection.HTTPConnection object at 0x12a529e10>: Failed to resolve 'unmarried%20woman,%20an.pdf' ([Errno 8] nodename nor servname provided, or not known)\"))\n"
     ]
    },
    {
     "name": "stderr",
     "output_type": "stream",
     "text": [
      "Some characters could not be decoded, and were replaced with REPLACEMENT CHARACTER.\n"
     ]
    },
    {
     "name": "stdout",
     "output_type": "stream",
     "text": [
      "Error processing http://Escape From Alcatraz.pdf: HTTPConnectionPool(host='escape%20from%20alcatraz.pdf', port=80): Max retries exceeded with url: / (Caused by NameResolutionError(\"<urllib3.connection.HTTPConnection object at 0x32d78dbd0>: Failed to resolve 'escape%20from%20alcatraz.pdf' ([Errno 8] nodename nor servname provided, or not known)\"))\n",
      "Error processing http://Hanover Street (1977.07).pdf: HTTPConnectionPool(host='hanover%20street%20(1977.07).pdf', port=80): Max retries exceeded with url: / (Caused by NameResolutionError(\"<urllib3.connection.HTTPConnection object at 0x12e90cc70>: Failed to resolve 'hanover%20street%20(1977.07).pdf' ([Errno 8] nodename nor servname provided, or not known)\"))\n",
      "Error processing http://Hot Stuff (1979).pdf: HTTPConnectionPool(host='hot%20stuff%20(1979).pdf', port=80): Max retries exceeded with url: / (Caused by NameResolutionError(\"<urllib3.connection.HTTPConnection object at 0x12e90cd30>: Failed to resolve 'hot%20stuff%20(1979).pdf' ([Errno 8] nodename nor servname provided, or not known)\"))\n",
      "Error processing http://www.pages.drexel.edu/~ina22/splaylib/Screenplay-Jerk,_The.pdf: HTTPConnectionPool(host='www.pages.drexel.edu', port=80): Max retries exceeded with url: /~ina22/splaylib/Screenplay-Jerk,_The.pdf (Caused by NameResolutionError(\"<urllib3.connection.HTTPConnection object at 0x12e90d990>: Failed to resolve 'www.pages.drexel.edu' ([Errno 8] nodename nor servname provided, or not known)\"))\n",
      "Error processing http://NORMA RAE by Irving Ravetch and Harriet Frank, Jr..pdf: Failed to parse: 'norma%20rae%20by%20irving%20ravetch%20and%20harriet%20frank,%20jr..pdf', label empty or too long\n",
      "Error processing http://OLD BOYFRIENDS (1979) 1977.12.12 draft by Paul Schrader and Leonard Schrader and Joan Tewkesbury.pdf: Failed to parse: 'old%20boyfriends%20(1979)%201977.12.12%20draft%20by%20paul%20schrader%20and%20leonard%20schrader%20and%20joan%20tewkesbury.pdf', label empty or too long\n",
      "Invalid URL format: http://Rocky ll [10-25-1978] [Scan].pdf\n",
      "Error processing http://Time After Time.pdf: HTTPConnectionPool(host='time%20after%20time.pdf', port=80): Max retries exceeded with url: / (Caused by NameResolutionError(\"<urllib3.connection.HTTPConnection object at 0x12e90fb20>: Failed to resolve 'time%20after%20time.pdf' ([Errno 8] nodename nor servname provided, or not known)\"))\n",
      "Error processing http://www.pages.drexel.edu/~ina22/splaylib/Screenplay-Nine_to_Five.pdf: HTTPConnectionPool(host='www.pages.drexel.edu', port=80): Max retries exceeded with url: /~ina22/splaylib/Screenplay-Nine_to_Five.pdf (Caused by NameResolutionError(\"<urllib3.connection.HTTPConnection object at 0x12e90e9e0>: Failed to resolve 'www.pages.drexel.edu' ([Errno 8] nodename nor servname provided, or not known)\"))\n",
      "Error processing http://film_20100519/all_imsdb_05_19_10/Airplane.html: HTTPConnectionPool(host='film_20100519', port=80): Max retries exceeded with url: /all_imsdb_05_19_10/Airplane.html (Caused by NameResolutionError(\"<urllib3.connection.HTTPConnection object at 0x129d4f880>: Failed to resolve 'film_20100519' ([Errno 8] nodename nor servname provided, or not known)\"))\n",
      "Error processing http://American Gigolo (1980).pdf: HTTPConnectionPool(host='american%20gigolo%20(1980).pdf', port=80): Max retries exceeded with url: / (Caused by NameResolutionError(\"<urllib3.connection.HTTPConnection object at 0x12a76c0a0>: Failed to resolve 'american%20gigolo%20(1980).pdf' ([Errno 8] nodename nor servname provided, or not known)\"))\n",
      "Error processing http://Caddyshack.pdf: HTTPConnectionPool(host='caddyshack.pdf', port=80): Max retries exceeded with url: / (Caused by NameResolutionError(\"<urllib3.connection.HTTPConnection object at 0x12a76c880>: Failed to resolve 'caddyshack.pdf' ([Errno 8] nodename nor servname provided, or not known)\"))\n",
      "Error processing http://www.pages.drexel.edu/~ina22/splaylib/Screenplay-Coal_Miner%27s_Daughter.pdf: HTTPConnectionPool(host='www.pages.drexel.edu', port=80): Max retries exceeded with url: /~ina22/splaylib/Screenplay-Coal_Miner%27s_Daughter.pdf (Caused by NameResolutionError(\"<urllib3.connection.HTTPConnection object at 0x12a76d060>: Failed to resolve 'www.pages.drexel.edu' ([Errno 8] nodename nor servname provided, or not known)\"))\n",
      "Error processing http://film_20100519/all_imsdb_05_19_10/Elephant-Man,-The.html: HTTPConnectionPool(host='film_20100519', port=80): Max retries exceeded with url: /all_imsdb_05_19_10/Elephant-Man,-The.html (Caused by NameResolutionError(\"<urllib3.connection.HTTPConnection object at 0x129d4ffa0>: Failed to resolve 'film_20100519' ([Errno 8] nodename nor servname provided, or not known)\"))\n",
      "Invalid URL format: http://GLORIA (1980) by John Cassavetes [5th draft rev. 1979.09.24].pdf\n",
      "Error processing http://Kagemusha (Akira Kurosawa & Masato Ide).pdf: HTTPConnectionPool(host='kagemusha%20(akira%20kurosawa%20&%20masato%20ide).pdf', port=80): Max retries exceeded with url: / (Caused by NameResolutionError(\"<urllib3.connection.HTTPConnection object at 0x129d4fc40>: Failed to resolve 'kagemusha%20(akira%20kurosawa%20&%20masato%20ide).pdf' ([Errno 8] nodename nor servname provided, or not known)\"))\n",
      "Error processing http://www.pages.drexel.edu/~ina22/splaylib/Screenplay-Melvin_and_Howard.pdf: HTTPConnectionPool(host='www.pages.drexel.edu', port=80): Max retries exceeded with url: /~ina22/splaylib/Screenplay-Melvin_and_Howard.pdf (Caused by NameResolutionError(\"<urllib3.connection.HTTPConnection object at 0x12e90e9e0>: Failed to resolve 'www.pages.drexel.edu' ([Errno 8] nodename nor servname provided, or not known)\"))\n",
      "Invalid URL format: http://Motel Hell (1980) [5-19-1980].pdf\n",
      "Error processing http://My Bodyguard (1980).pdf: HTTPConnectionPool(host='my%20bodyguard%20(1980).pdf', port=80): Max retries exceeded with url: / (Caused by NameResolutionError(\"<urllib3.connection.HTTPConnection object at 0x12a497c70>: Failed to resolve 'my%20bodyguard%20(1980).pdf' ([Errno 8] nodename nor servname provided, or not known)\"))\n",
      "Error processing http://Private Benjamin (11-20-79).pdf: HTTPConnectionPool(host='private%20benjamin%20(11-20-79).pdf', port=80): Max retries exceeded with url: / (Caused by NameResolutionError(\"<urllib3.connection.HTTPConnection object at 0x12a497d60>: Failed to resolve 'private%20benjamin%20(11-20-79).pdf' ([Errno 8] nodename nor servname provided, or not known)\"))\n",
      "Error processing http://Prom Night (1980).pdf: HTTPConnectionPool(host='prom%20night%20(1980).pdf', port=80): Max retries exceeded with url: / (Caused by NameResolutionError(\"<urllib3.connection.HTTPConnection object at 0x12a76c790>: Failed to resolve 'prom%20night%20(1980).pdf' ([Errno 8] nodename nor servname provided, or not known)\"))\n",
      "Error processing http://Scanners.pdf: HTTPConnectionPool(host='scanners.pdf', port=80): Max retries exceeded with url: / (Caused by NameResolutionError(\"<urllib3.connection.HTTPConnection object at 0x138f07df0>: Failed to resolve 'scanners.pdf' ([Errno 8] nodename nor servname provided, or not known)\"))\n",
      "Error processing http://Seems Like Old Times.pdf: HTTPConnectionPool(host='seems%20like%20old%20times.pdf', port=80): Max retries exceeded with url: / (Caused by NameResolutionError(\"<urllib3.connection.HTTPConnection object at 0x138f04580>: Failed to resolve 'seems%20like%20old%20times.pdf' ([Errno 8] nodename nor servname provided, or not known)\"))\n"
     ]
    },
    {
     "name": "stderr",
     "output_type": "stream",
     "text": [
      "Some characters could not be decoded, and were replaced with REPLACEMENT CHARACTER.\n"
     ]
    },
    {
     "name": "stdout",
     "output_type": "stream",
     "text": [
      "Error processing http://film_20100519/all_imsdb_05_19_10/American-Werewolf-in-London.html: HTTPConnectionPool(host='film_20100519', port=80): Max retries exceeded with url: /all_imsdb_05_19_10/American-Werewolf-in-London.html (Caused by NameResolutionError(\"<urllib3.connection.HTTPConnection object at 0x12e90d0c0>: Failed to resolve 'film_20100519' ([Errno 8] nodename nor servname provided, or not known)\"))\n",
      "Error processing http://film_20100519/all_imsdb_05_19_10/Dragonslayer.html: HTTPConnectionPool(host='film_20100519', port=80): Max retries exceeded with url: /all_imsdb_05_19_10/Dragonslayer.html (Caused by NameResolutionError(\"<urllib3.connection.HTTPConnection object at 0x12a496d40>: Failed to resolve 'film_20100519' ([Errno 8] nodename nor servname provided, or not known)\"))\n",
      "Error processing http://For Your Eyes Only_Reduced.pdf: HTTPConnectionPool(host='for%20your%20eyes%20only_reduced.pdf', port=80): Max retries exceeded with url: / (Caused by NameResolutionError(\"<urllib3.connection.HTTPConnection object at 0x12e90c160>: Failed to resolve 'for%20your%20eyes%20only_reduced.pdf' ([Errno 8] nodename nor servname provided, or not known)\"))\n",
      "Error processing http://Ghost Story (1981).pdf: HTTPConnectionPool(host='ghost%20story%20(1981).pdf', port=80): Max retries exceeded with url: / (Caused by NameResolutionError(\"<urllib3.connection.HTTPConnection object at 0x10e1f2fe0>: Failed to resolve 'ghost%20story%20(1981).pdf' ([Errno 8] nodename nor servname provided, or not known)\"))\n",
      "Error processing http://www.pages.drexel.edu/~ina22/splaylib/Screenplay-Great_Muppet_Caper.pdf: HTTPConnectionPool(host='www.pages.drexel.edu', port=80): Max retries exceeded with url: /~ina22/splaylib/Screenplay-Great_Muppet_Caper.pdf (Caused by NameResolutionError(\"<urllib3.connection.HTTPConnection object at 0x10e1f37c0>: Failed to resolve 'www.pages.drexel.edu' ([Errno 8] nodename nor servname provided, or not known)\"))\n",
      "Invalid URL format: http://Halloween 2 (1981) [1981-3-12] [Shoot.] [Scan].pdf\n",
      "Error processing http://Modern Problems (1981).pdf: HTTPConnectionPool(host='modern%20problems%20(1981).pdf', port=80): Max retries exceeded with url: / (Caused by NameResolutionError(\"<urllib3.connection.HTTPConnection object at 0x10e1f3310>: Failed to resolve 'modern%20problems%20(1981).pdf' ([Errno 8] nodename nor servname provided, or not known)\"))\n",
      "Error processing http://www.pages.drexel.edu/~ina22/splaylib/Screenplay-On_Golden_Pond.pdf: HTTPConnectionPool(host='www.pages.drexel.edu', port=80): Max retries exceeded with url: /~ina22/splaylib/Screenplay-On_Golden_Pond.pdf (Caused by NameResolutionError(\"<urllib3.connection.HTTPConnection object at 0x10e1f3070>: Failed to resolve 'www.pages.drexel.edu' ([Errno 8] nodename nor servname provided, or not known)\"))\n",
      "Error processing http://film_20100519/all_imsdb_05_19_10/Indiana-Jones-and-the-Raiders-of-the-Lost-Ark.html: HTTPConnectionPool(host='film_20100519', port=80): Max retries exceeded with url: /all_imsdb_05_19_10/Indiana-Jones-and-the-Raiders-of-the-Lost-Ark.html (Caused by NameResolutionError(\"<urllib3.connection.HTTPConnection object at 0x12e90e530>: Failed to resolve 'film_20100519' ([Errno 8] nodename nor servname provided, or not known)\"))\n"
     ]
    },
    {
     "name": "stderr",
     "output_type": "stream",
     "text": [
      "Some characters could not be decoded, and were replaced with REPLACEMENT CHARACTER.\n"
     ]
    },
    {
     "name": "stdout",
     "output_type": "stream",
     "text": [
      "Error processing http://film_20100519/all_imsdb_05_19_10/Airplane-2-The-Sequel.html: HTTPConnectionPool(host='film_20100519', port=80): Max retries exceeded with url: /all_imsdb_05_19_10/Airplane-2-The-Sequel.html (Caused by NameResolutionError(\"<urllib3.connection.HTTPConnection object at 0x10e1f3a00>: Failed to resolve 'film_20100519' ([Errno 8] nodename nor servname provided, or not known)\"))\n",
      "Invalid URL format: http://Creepshow (1979) [Scan].pdf\n",
      "Error processing http://www.pages.drexel.edu/~ina22/splaylib/Screenplay-Evil_Under_the_Sun.pdf: HTTPConnectionPool(host='www.pages.drexel.edu', port=80): Max retries exceeded with url: /~ina22/splaylib/Screenplay-Evil_Under_the_Sun.pdf (Caused by NameResolutionError(\"<urllib3.connection.HTTPConnection object at 0x12a7b7e20>: Failed to resolve 'www.pages.drexel.edu' ([Errno 8] nodename nor servname provided, or not known)\"))\n",
      "Error processing http://film_20100519/all_imsdb_05_19_10/Fast-Times-at-Ridgemont-High.html: HTTPConnectionPool(host='film_20100519', port=80): Max retries exceeded with url: /all_imsdb_05_19_10/Fast-Times-at-Ridgemont-High.html (Caused by NameResolutionError(\"<urllib3.connection.HTTPConnection object at 0x12e90fbe0>: Failed to resolve 'film_20100519' ([Errno 8] nodename nor servname provided, or not known)\"))\n",
      "Invalid URL format: http://Rocky III [2-26-1981] [Scan].pdf\n",
      "Error processing http://www.pages.drexel.edu/~ina22/splaylib/Screenplay-Shoot_the_Moon.pdf: HTTPConnectionPool(host='www.pages.drexel.edu', port=80): Max retries exceeded with url: /~ina22/splaylib/Screenplay-Shoot_the_Moon.pdf (Caused by NameResolutionError(\"<urllib3.connection.HTTPConnection object at 0x12e90f5e0>: Failed to resolve 'www.pages.drexel.edu' ([Errno 8] nodename nor servname provided, or not known)\"))\n",
      "Error processing http://Star Trek II - The Wrath of Khan.pdf: HTTPConnectionPool(host='star%20trek%20ii%20-%20the%20wrath%20of%20khan.pdf', port=80): Max retries exceeded with url: / (Caused by NameResolutionError(\"<urllib3.connection.HTTPConnection object at 0x12a76c0a0>: Failed to resolve 'star%20trek%20ii%20-%20the%20wrath%20of%20khan.pdf' ([Errno 8] nodename nor servname provided, or not known)\"))\n",
      "Error processing http://Tootsie.pdf: HTTPConnectionPool(host='tootsie.pdf', port=80): Max retries exceeded with url: / (Caused by NameResolutionError(\"<urllib3.connection.HTTPConnection object at 0x138f050c0>: Failed to resolve 'tootsie.pdf' ([Errno 8] nodename nor servname provided, or not known)\"))\n",
      "Error processing http://film_20100519/all_imsdb_05_19_10/TRON.html: HTTPConnectionPool(host='film_20100519', port=80): Max retries exceeded with url: /all_imsdb_05_19_10/TRON.html (Caused by NameResolutionError(\"<urllib3.connection.HTTPConnection object at 0x138f05d20>: Failed to resolve 'film_20100519' ([Errno 8] nodename nor servname provided, or not known)\"))\n",
      "Invalid URL format: http://CHRISTINE (1983) by Bill Phillips [1983.02.16] [Scan].pdf\n",
      "Invalid URL format: http://CUJO by Stephen King (1st Draft) [scan].pdf\n",
      "Invalid URL format: http://KEEP, THE (1983) [1982-04-13] Michael Mann - First Draft.pdf\n",
      "Error processing http://film_20100519/all_imsdb_05_19_10/King-of-Comedy,-The.html: HTTPConnectionPool(host='film_20100519', port=80): Max retries exceeded with url: /all_imsdb_05_19_10/King-of-Comedy,-The.html (Caused by NameResolutionError(\"<urllib3.connection.HTTPConnection object at 0x138f04c40>: Failed to resolve 'film_20100519' ([Errno 8] nodename nor servname provided, or not known)\"))\n",
      "Error processing http://Local Hero (1981.11).pdf: HTTPConnectionPool(host='local%20hero%20(1981.11).pdf', port=80): Max retries exceeded with url: / (Caused by NameResolutionError(\"<urllib3.connection.HTTPConnection object at 0x10e1b9690>: Failed to resolve 'local%20hero%20(1981.11).pdf' ([Errno 8] nodename nor servname provided, or not known)\"))\n",
      "Error processing http://Octopussy8.19.82Draft.pdf: HTTPConnectionPool(host='octopussy8.19.82draft.pdf', port=80): Max retries exceeded with url: / (Caused by NameResolutionError(\"<urllib3.connection.HTTPConnection object at 0x10e1b9e70>: Failed to resolve 'octopussy8.19.82draft.pdf' ([Errno 8] nodename nor servname provided, or not known)\"))\n",
      "Error processing http://Outsiders, The.pdf: HTTPConnectionPool(host='outsiders,%20the.pdf', port=80): Max retries exceeded with url: / (Caused by NameResolutionError(\"<urllib3.connection.HTTPConnection object at 0x10e1ba650>: Failed to resolve 'outsiders,%20the.pdf' ([Errno 8] nodename nor servname provided, or not known)\"))\n",
      "Invalid URL format: http://Psycho 2 (1983) [1982-7-19] [Scan].pdf\n",
      "Error processing http://film_20100519/all_imsdb_05_19_10/Star-Wars-Return-of-the-Jedi.html: HTTPConnectionPool(host='film_20100519', port=80): Max retries exceeded with url: /all_imsdb_05_19_10/Star-Wars-Return-of-the-Jedi.html (Caused by NameResolutionError(\"<urllib3.connection.HTTPConnection object at 0x10e1baa10>: Failed to resolve 'film_20100519' ([Errno 8] nodename nor servname provided, or not known)\"))\n",
      "Error processing http://Risky Business.pdf: HTTPConnectionPool(host='risky%20business.pdf', port=80): Max retries exceeded with url: / (Caused by NameResolutionError(\"<urllib3.connection.HTTPConnection object at 0x10e1bab90>: Failed to resolve 'risky%20business.pdf' ([Errno 8] nodename nor servname provided, or not known)\"))\n",
      "Error processing http://film_20100519/all_imsdb_05_19_10/Scarface.html: HTTPConnectionPool(host='film_20100519', port=80): Max retries exceeded with url: /all_imsdb_05_19_10/Scarface.html (Caused by NameResolutionError(\"<urllib3.connection.HTTPConnection object at 0x10e1ba770>: Failed to resolve 'film_20100519' ([Errno 8] nodename nor servname provided, or not known)\"))\n",
      "Error processing http://www.pages.drexel.edu/~ina22/splaylib/Screenplay-Something_Wicked This Way_Comes.pdf: HTTPConnectionPool(host='www.pages.drexel.edu', port=80): Max retries exceeded with url: /~ina22/splaylib/Screenplay-Something_Wicked%20This%20Way_Comes.pdf (Caused by NameResolutionError(\"<urllib3.connection.HTTPConnection object at 0x10e1b9fc0>: Failed to resolve 'www.pages.drexel.edu' ([Errno 8] nodename nor servname provided, or not known)\"))\n",
      "Error processing http://www.pages.drexel.edu/~ina22/splaylib/Screenplay-Tender_Mercies.pdf: HTTPConnectionPool(host='www.pages.drexel.edu', port=80): Max retries exceeded with url: /~ina22/splaylib/Screenplay-Tender_Mercies.pdf (Caused by NameResolutionError(\"<urllib3.connection.HTTPConnection object at 0x10e1b9cc0>: Failed to resolve 'www.pages.drexel.edu' ([Errno 8] nodename nor servname provided, or not known)\"))\n",
      "Error processing http://www.pages.drexel.edu/~ina22/splaylib/Screenplay-Terms_of_Endearment.pdf: HTTPConnectionPool(host='www.pages.drexel.edu', port=80): Max retries exceeded with url: /~ina22/splaylib/Screenplay-Terms_of_Endearment.pdf (Caused by NameResolutionError(\"<urllib3.connection.HTTPConnection object at 0x10e1bb6d0>: Failed to resolve 'www.pages.drexel.edu' ([Errno 8] nodename nor servname provided, or not known)\"))\n",
      "Error processing http://Trading Places (1982.07).pdf: HTTPConnectionPool(host='trading%20places%20(1982.07).pdf', port=80): Max retries exceeded with url: / (Caused by NameResolutionError(\"<urllib3.connection.HTTPConnection object at 0x10e1f3940>: Failed to resolve 'trading%20places%20(1982.07).pdf' ([Errno 8] nodename nor servname provided, or not known)\"))\n",
      "Error processing http://film_20100519/all_imsdb_05_19_10/Adventures-of-Buckaroo-Banzai-Across-the-Eighth-Dimension,-The.html: HTTPConnectionPool(host='film_20100519', port=80): Max retries exceeded with url: /all_imsdb_05_19_10/Adventures-of-Buckaroo-Banzai-Across-the-Eighth-Dimension,-The.html (Caused by NameResolutionError(\"<urllib3.connection.HTTPConnection object at 0x10e1f2020>: Failed to resolve 'film_20100519' ([Errno 8] nodename nor servname provided, or not known)\"))\n",
      "Error processing http://film_20100519/all_imsdb_05_19_10/Amadeus.html: HTTPConnectionPool(host='film_20100519', port=80): Max retries exceeded with url: /all_imsdb_05_19_10/Amadeus.html (Caused by NameResolutionError(\"<urllib3.connection.HTTPConnection object at 0x12a497f10>: Failed to resolve 'film_20100519' ([Errno 8] nodename nor servname provided, or not known)\"))\n",
      "Error processing http://film_20100519/all_imsdb_05_19_10/Bachelor-Party.html: HTTPConnectionPool(host='film_20100519', port=80): Max retries exceeded with url: /all_imsdb_05_19_10/Bachelor-Party.html (Caused by NameResolutionError(\"<urllib3.connection.HTTPConnection object at 0x138f07c10>: Failed to resolve 'film_20100519' ([Errno 8] nodename nor servname provided, or not known)\"))\n",
      "Error processing http://childrenofthecorn.pdf: HTTPConnectionPool(host='childrenofthecorn.pdf', port=80): Max retries exceeded with url: / (Caused by NameResolutionError(\"<urllib3.connection.HTTPConnection object at 0x138f056c0>: Failed to resolve 'childrenofthecorn.pdf' ([Errno 8] nodename nor servname provided, or not known)\"))\n",
      "Invalid URL format: http://CHOOSE ME (1984) by Alan Rudolph [Undated] [Scan].pdf\n",
      "Invalid URL format: http://City Heat (1984.04.06) [Scan].pdf\n",
      "Error processing http://film_20100519/all_imsdb_05_19_10/Dune.html: HTTPConnectionPool(host='film_20100519', port=80): Max retries exceeded with url: /all_imsdb_05_19_10/Dune.html (Caused by NameResolutionError(\"<urllib3.connection.HTTPConnection object at 0x12e90f190>: Failed to resolve 'film_20100519' ([Errno 8] nodename nor servname provided, or not known)\"))\n",
      "Error processing http://Firestarter.pdf: HTTPConnectionPool(host='firestarter.pdf', port=80): Max retries exceeded with url: / (Caused by NameResolutionError(\"<urllib3.connection.HTTPConnection object at 0x138f05180>: Failed to resolve 'firestarter.pdf' ([Errno 8] nodename nor servname provided, or not known)\"))\n",
      "Error processing http://GHOSTBUSTERS - 1983.10.07 revision by Harold Ramis & Dan Aykroyd.pdf: HTTPConnectionPool(host='ghostbusters%20-%201983.10.07%20revision%20by%20harold%20ramis%20&%20dan%20aykroyd.pdf', port=80): Max retries exceeded with url: / (Caused by NameResolutionError(\"<urllib3.connection.HTTPConnection object at 0x138f04130>: Failed to resolve 'ghostbusters%20-%201983.10.07%20revision%20by%20harold%20ramis%20&%20dan%20aykroyd.pdf' ([Errno 8] nodename nor servname provided, or not known)\"))\n",
      "Error processing http://film_20100519/all_imsdb_05_19_10/Gremlins.html: HTTPConnectionPool(host='film_20100519', port=80): Max retries exceeded with url: /all_imsdb_05_19_10/Gremlins.html (Caused by NameResolutionError(\"<urllib3.connection.HTTPConnection object at 0x138f04ca0>: Failed to resolve 'film_20100519' ([Errno 8] nodename nor servname provided, or not known)\"))\n",
      "Error processing http://film_20100519/all_imsdb_05_19_10/Indiana-Jones-and-the-Temple-of-Doom.html: HTTPConnectionPool(host='film_20100519', port=80): Max retries exceeded with url: /all_imsdb_05_19_10/Indiana-Jones-and-the-Temple-of-Doom.html (Caused by NameResolutionError(\"<urllib3.connection.HTTPConnection object at 0x12a497d00>: Failed to resolve 'film_20100519' ([Errno 8] nodename nor servname provided, or not known)\"))\n",
      "Error processing http://www.pages.drexel.edu/~ina22/splaylib/Screenplay-Karate_Kid,_The_%281983%29.pdf: HTTPConnectionPool(host='www.pages.drexel.edu', port=80): Max retries exceeded with url: /~ina22/splaylib/Screenplay-Karate_Kid,_The_%281983%29.pdf (Caused by NameResolutionError(\"<urllib3.connection.HTTPConnection object at 0x12e90c3d0>: Failed to resolve 'www.pages.drexel.edu' ([Errno 8] nodename nor servname provided, or not known)\"))\n",
      "Error processing http://Moscow On The Hudson.pdf: HTTPConnectionPool(host='moscow%20on%20the%20hudson.pdf', port=80): Max retries exceeded with url: / (Caused by NameResolutionError(\"<urllib3.connection.HTTPConnection object at 0x12e90fc70>: Failed to resolve 'moscow%20on%20the%20hudson.pdf' ([Errno 8] nodename nor servname provided, or not known)\"))\n",
      "Error processing http://film_20100519/all_imsdb_05_19_10/Nightmare-on-Elm-Street,-A.html: HTTPConnectionPool(host='film_20100519', port=80): Max retries exceeded with url: /all_imsdb_05_19_10/Nightmare-on-Elm-Street,-A.html (Caused by NameResolutionError(\"<urllib3.connection.HTTPConnection object at 0x10e1f2050>: Failed to resolve 'film_20100519' ([Errno 8] nodename nor servname provided, or not known)\"))\n",
      "Error processing http://film_20100519/all_imsdb_05_19_10/Purple-Rain.html: HTTPConnectionPool(host='film_20100519', port=80): Max retries exceeded with url: /all_imsdb_05_19_10/Purple-Rain.html (Caused by NameResolutionError(\"<urllib3.connection.HTTPConnection object at 0x138f05750>: Failed to resolve 'film_20100519' ([Errno 8] nodename nor servname provided, or not known)\"))\n",
      "Error processing http://film_20100519/all_imsdb_05_19_10/Repo-Man.html: HTTPConnectionPool(host='film_20100519', port=80): Max retries exceeded with url: /all_imsdb_05_19_10/Repo-Man.html (Caused by NameResolutionError(\"<urllib3.connection.HTTPConnection object at 0x12e90fd90>: Failed to resolve 'film_20100519' ([Errno 8] nodename nor servname provided, or not known)\"))\n",
      "Invalid URL format: http://Sixteen Candles [John Hughes] [06.22.83] [scan].pdf\n",
      "Error processing http://film_20100519/all_imsdb_05_19_10/Starman.html: HTTPConnectionPool(host='film_20100519', port=80): Max retries exceeded with url: /all_imsdb_05_19_10/Starman.html (Caused by NameResolutionError(\"<urllib3.connection.HTTPConnection object at 0x12e90ea10>: Failed to resolve 'film_20100519' ([Errno 8] nodename nor servname provided, or not known)\"))\n",
      "Invalid URL format: http://BACK TO THE FUTURE (1985) Robert Zemeckis & Bob Gale [1984-10-12][4th].pdf\n",
      "Error processing http://film_20100519/all_imsdb_05_19_10/Brazil.html: HTTPConnectionPool(host='film_20100519', port=80): Max retries exceeded with url: /all_imsdb_05_19_10/Brazil.html (Caused by NameResolutionError(\"<urllib3.connection.HTTPConnection object at 0x10e1bac50>: Failed to resolve 'film_20100519' ([Errno 8] nodename nor servname provided, or not known)\"))\n"
     ]
    },
    {
     "name": "stderr",
     "output_type": "stream",
     "text": [
      "Some characters could not be decoded, and were replaced with REPLACEMENT CHARACTER.\n"
     ]
    },
    {
     "name": "stdout",
     "output_type": "stream",
     "text": [
      "Error processing http://www.awesomefilm.comscript/clue.html: HTTPConnectionPool(host='www.awesomefilm.comscript', port=80): Max retries exceeded with url: /clue.html (Caused by NameResolutionError(\"<urllib3.connection.HTTPConnection object at 0x10e6fbca0>: Failed to resolve 'www.awesomefilm.comscript' ([Errno 8] nodename nor servname provided, or not known)\"))\n",
      "Error processing http://film_20100519/all_imsdb_05_19_10/Code-of-Silence.html: HTTPConnectionPool(host='film_20100519', port=80): Max retries exceeded with url: /all_imsdb_05_19_10/Code-of-Silence.html (Caused by NameResolutionError(\"<urllib3.connection.HTTPConnection object at 0x10e1bb2e0>: Failed to resolve 'film_20100519' ([Errno 8] nodename nor servname provided, or not known)\"))\n",
      "Error processing http://film_20100519/all_imsdb_05_19_10/Day-of-the-Dead.html: HTTPConnectionPool(host='film_20100519', port=80): Max retries exceeded with url: /all_imsdb_05_19_10/Day-of-the-Dead.html (Caused by NameResolutionError(\"<urllib3.connection.HTTPConnection object at 0x12a497850>: Failed to resolve 'film_20100519' ([Errno 8] nodename nor servname provided, or not known)\"))\n",
      "Error processing http://film_20100519/all_imsdb_05_19_10/Fletch.html: HTTPConnectionPool(host='film_20100519', port=80): Max retries exceeded with url: /all_imsdb_05_19_10/Fletch.html (Caused by NameResolutionError(\"<urllib3.connection.HTTPConnection object at 0x10e1bac20>: Failed to resolve 'film_20100519' ([Errno 8] nodename nor servname provided, or not known)\"))\n",
      "Error processing http://Into the Night.pdf: HTTPConnectionPool(host='into%20the%20night.pdf', port=80): Max retries exceeded with url: / (Caused by NameResolutionError(\"<urllib3.connection.HTTPConnection object at 0x10e1b8fd0>: Failed to resolve 'into%20the%20night.pdf' ([Errno 8] nodename nor servname provided, or not known)\"))\n",
      "Error processing http://lost_in_america.pdf: HTTPConnectionPool(host='lost_in_america.pdf', port=80): Max retries exceeded with url: / (Caused by NameResolutionError(\"<urllib3.connection.HTTPConnection object at 0x10e1bacb0>: Failed to resolve 'lost_in_america.pdf' ([Errno 8] nodename nor servname provided, or not known)\"))\n",
      "Error processing http://Mala-Noche-1985-Draft-Script.pdf: HTTPConnectionPool(host='mala-noche-1985-draft-script.pdf', port=80): Max retries exceeded with url: / (Caused by NameResolutionError(\"<urllib3.connection.HTTPConnection object at 0x10e6fb700>: Failed to resolve 'mala-noche-1985-draft-script.pdf' ([Errno 8] nodename nor servname provided, or not known)\"))\n",
      "Error processing http://NIGHTMARE ON ELMS STREET 2 - FREDDY'S REVENGE by David Chaskin.pdf: Failed to parse: 'nightmare%20on%20elms%20street%202%20-%20freddy's%20revenge%20by%20david%20chaskin.pdf', label empty or too long\n",
      "Error processing http://film_20100519/all_imsdb_05_19_10/Rambo-First-Blood-II-The-Mission.html: HTTPConnectionPool(host='film_20100519', port=80): Max retries exceeded with url: /all_imsdb_05_19_10/Rambo-First-Blood-II-The-Mission.html (Caused by NameResolutionError(\"<urllib3.connection.HTTPConnection object at 0x12a495f00>: Failed to resolve 'film_20100519' ([Errno 8] nodename nor servname provided, or not known)\"))\n",
      "Error processing http://film_20100519/all_imsdb_05_19_10/Real-Genius.html: HTTPConnectionPool(host='film_20100519', port=80): Max retries exceeded with url: /all_imsdb_05_19_10/Real-Genius.html (Caused by NameResolutionError(\"<urllib3.connection.HTTPConnection object at 0x12a496350>: Failed to resolve 'film_20100519' ([Errno 8] nodename nor servname provided, or not known)\"))\n",
      "Error processing http://film_20100519/all_imsdb_05_19_10/Silver-Bullet.html: HTTPConnectionPool(host='film_20100519', port=80): Max retries exceeded with url: /all_imsdb_05_19_10/Silver-Bullet.html (Caused by NameResolutionError(\"<urllib3.connection.HTTPConnection object at 0x12a494970>: Failed to resolve 'film_20100519' ([Errno 8] nodename nor servname provided, or not known)\"))\n",
      "Invalid URL format: http://Weird Science [John Hughes] [09.24.84] [Rev. Final] [Scan].pdf\n",
      "Error processing http://film_20100519/all_imsdb_05_19_10/Witness.html: HTTPConnectionPool(host='film_20100519', port=80): Max retries exceeded with url: /all_imsdb_05_19_10/Witness.html (Caused by NameResolutionError(\"<urllib3.connection.HTTPConnection object at 0x10e6fb1f0>: Failed to resolve 'film_20100519' ([Errno 8] nodename nor servname provided, or not known)\"))\n",
      "Invalid URL format: http://Down And Out In Beverly Hills (aka Jerry Saved From Drowning) [Scan].pdf\n",
      "Error processing http://film_20100519/all_imsdb_05_19_10/Ferris-Bueller's-Day-Off.html: HTTPConnectionPool(host='film_20100519', port=80): Max retries exceeded with url: /all_imsdb_05_19_10/Ferris-Bueller's-Day-Off.html (Caused by NameResolutionError(\"<urllib3.connection.HTTPConnection object at 0x12a496230>: Failed to resolve 'film_20100519' ([Errno 8] nodename nor servname provided, or not known)\"))\n",
      "Error processing http://Jumpin' Jack Flash (1986.01.13).pdf: HTTPConnectionPool(host=\"jumpin'%20jack%20flash%20(1986.01.13).pdf\", port=80): Max retries exceeded with url: / (Caused by NameResolutionError(\"<urllib3.connection.HTTPConnection object at 0x138ec7580>: Failed to resolve 'jumpin'%20jack%20flash%20(1986.01.13).pdf' ([Errno 8] nodename nor servname provided, or not known)\"))\n",
      "Error processing http://film_20100519/all_imsdb_05_19_10/Manhunter.html: HTTPConnectionPool(host='film_20100519', port=80): Max retries exceeded with url: /all_imsdb_05_19_10/Manhunter.html (Caused by NameResolutionError(\"<urllib3.connection.HTTPConnection object at 0x138ec7d30>: Failed to resolve 'film_20100519' ([Errno 8] nodename nor servname provided, or not known)\"))\n",
      "Error processing http://Maximum Overdrive.pdf: HTTPConnectionPool(host='maximum%20overdrive.pdf', port=80): Max retries exceeded with url: / (Caused by NameResolutionError(\"<urllib3.connection.HTTPConnection object at 0x138ec8940>: Failed to resolve 'maximum%20overdrive.pdf' ([Errno 8] nodename nor servname provided, or not known)\"))\n",
      "Error processing http://MOSQUITO COAST, THE (1986) by Paul Schrader.pdf: HTTPConnectionPool(host='mosquito%20coast,%20the%20(1986)%20by%20paul%20schrader.pdf', port=80): Max retries exceeded with url: / (Caused by NameResolutionError(\"<urllib3.connection.HTTPConnection object at 0x138ec9120>: Failed to resolve 'mosquito%20coast,%20the%20(1986)%20by%20paul%20schrader.pdf' ([Errno 8] nodename nor servname provided, or not known)\"))\n",
      "Error processing http://film_20100519/all_imsdb_05_19_10/Peggy-Sue-Got-Married.html: HTTPConnectionPool(host='film_20100519', port=80): Max retries exceeded with url: /all_imsdb_05_19_10/Peggy-Sue-Got-Married.html (Caused by NameResolutionError(\"<urllib3.connection.HTTPConnection object at 0x138ec9900>: Failed to resolve 'film_20100519' ([Errno 8] nodename nor servname provided, or not known)\"))\n"
     ]
    },
    {
     "name": "stderr",
     "output_type": "stream",
     "text": [
      "Some characters could not be decoded, and were replaced with REPLACEMENT CHARACTER.\n"
     ]
    },
    {
     "name": "stdout",
     "output_type": "stream",
     "text": [
      "Error processing http://www.dailyscript.com/scripts/A_Room_With_A_View.pdf: The markup you provided was rejected by the parser. Trying a different parser or a different encoding may help.\n",
      "\n",
      "Original exception(s) from parser:\n",
      " AssertionError: expected name token at '<![�KM$��I��\\x06���\\x01zwO'\n",
      "Error processing http://Running%20Scared.pdf: HTTPConnectionPool(host='running%20scared.pdf', port=80): Max retries exceeded with url: / (Caused by NameResolutionError(\"<urllib3.connection.HTTPConnection object at 0x10e6fae00>: Failed to resolve 'running%20scared.pdf' ([Errno 8] nodename nor servname provided, or not known)\"))\n",
      "Error processing http://Frye, E. Max - Something Wild.pdf: HTTPConnectionPool(host='frye,%20e.%20max%20-%20something%20wild.pdf', port=80): Max retries exceeded with url: / (Caused by NameResolutionError(\"<urllib3.connection.HTTPConnection object at 0x12a494d60>: Failed to resolve 'frye,%20e.%20max%20-%20something%20wild.pdf' ([Errno 8] nodename nor servname provided, or not known)\"))\n"
     ]
    },
    {
     "name": "stderr",
     "output_type": "stream",
     "text": [
      "Some characters could not be decoded, and were replaced with REPLACEMENT CHARACTER.\n"
     ]
    },
    {
     "name": "stdout",
     "output_type": "stream",
     "text": [
      "Error processing http://House of Games.pdf: HTTPConnectionPool(host='house%20of%20games.pdf', port=80): Max retries exceeded with url: / (Caused by NameResolutionError(\"<urllib3.connection.HTTPConnection object at 0x138ec6b30>: Failed to resolve 'house%20of%20games.pdf' ([Errno 8] nodename nor servname provided, or not known)\"))\n",
      "Invalid URL format: http://LA BAMBA (1987) (aka LA BAMBA!) by Luis Valdez [1985.12.06] [2nd] [Scan].pdf\n",
      "Error processing http://LIGHT OF DAY (1987) 1985.11.20 draft by Paul Schrader.pdf: HTTPConnectionPool(host='light%20of%20day%20(1987)%201985.11.20%20draft%20by%20paul%20schrader.pdf', port=80): Max retries exceeded with url: / (Caused by NameResolutionError(\"<urllib3.connection.HTTPConnection object at 0x138ec7b50>: Failed to resolve 'light%20of%20day%20(1987)%201985.11.20%20draft%20by%20paul%20schrader.pdf' ([Errno 8] nodename nor servname provided, or not known)\"))\n",
      "Error processing http://film_20100519/all_imsdb_05_19_10/Predator.html: HTTPConnectionPool(host='film_20100519', port=80): Max retries exceeded with url: /all_imsdb_05_19_10/Predator.html (Caused by NameResolutionError(\"<urllib3.connection.HTTPConnection object at 0x10e2c4130>: Failed to resolve 'film_20100519' ([Errno 8] nodename nor servname provided, or not known)\"))\n",
      "Error processing http://Prince of Darkness (John Carpenter as Martin Quatermass, Revised Shooting Draft, 4-25-87).pdf: Failed to parse: 'prince%20of%20darkness%20(john%20carpenter%20as%20martin%20quatermass,%20revised%20shooting%20draft,%204-25-87).pdf', label empty or too long\n",
      "Error processing http://film_20100519/all_imsdb_05_19_10/Princess-Bride,-The.html: HTTPConnectionPool(host='film_20100519', port=80): Max retries exceeded with url: /all_imsdb_05_19_10/Princess-Bride,-The.html (Caused by NameResolutionError(\"<urllib3.connection.HTTPConnection object at 0x10e2c4f40>: Failed to resolve 'film_20100519' ([Errno 8] nodename nor servname provided, or not known)\"))\n",
      "Error processing http://RAISING ARIZONA by Ethan & Joel Coen.pdf: HTTPConnectionPool(host='raising%20arizona%20by%20ethan%20&%20joel%20coen.pdf', port=80): Max retries exceeded with url: / (Caused by NameResolutionError(\"<urllib3.connection.HTTPConnection object at 0x10e2da4a0>: Failed to resolve 'raising%20arizona%20by%20ethan%20&%20joel%20coen.pdf' ([Errno 8] nodename nor servname provided, or not known)\"))\n",
      "Error processing http://www.awesomefilm.comscript/spcballs.txt: HTTPConnectionPool(host='www.awesomefilm.comscript', port=80): Max retries exceeded with url: /spcballs.txt (Caused by NameResolutionError(\"<urllib3.connection.HTTPConnection object at 0x10e2dacb0>: Failed to resolve 'www.awesomefilm.comscript' ([Errno 8] nodename nor servname provided, or not known)\"))\n",
      "Error processing http://film_20100519/all_imsdb_05_19_10/Three-Men-and-a-Baby.html: HTTPConnectionPool(host='film_20100519', port=80): Max retries exceeded with url: /all_imsdb_05_19_10/Three-Men-and-a-Baby.html (Caused by NameResolutionError(\"<urllib3.connection.HTTPConnection object at 0x12ee9e560>: Failed to resolve 'film_20100519' ([Errno 8] nodename nor servname provided, or not known)\"))\n",
      "Error processing http://film_20100519/all_imsdb_05_19_10/Tin-Men.html: HTTPConnectionPool(host='film_20100519', port=80): Max retries exceeded with url: /all_imsdb_05_19_10/Tin-Men.html (Caused by NameResolutionError(\"<urllib3.connection.HTTPConnection object at 0x12ee9dc60>: Failed to resolve 'film_20100519' ([Errno 8] nodename nor servname provided, or not known)\"))\n"
     ]
    },
    {
     "name": "stderr",
     "output_type": "stream",
     "text": [
      "Some characters could not be decoded, and were replaced with REPLACEMENT CHARACTER.\n"
     ]
    },
    {
     "name": "stdout",
     "output_type": "stream",
     "text": [
      "Error processing http://film_20100519/all_imsdb_05_19_10/Above-the-Law.html: HTTPConnectionPool(host='film_20100519', port=80): Max retries exceeded with url: /all_imsdb_05_19_10/Above-the-Law.html (Caused by NameResolutionError(\"<urllib3.connection.HTTPConnection object at 0x12ede5c60>: Failed to resolve 'film_20100519' ([Errno 8] nodename nor servname provided, or not known)\"))\n",
      "Error processing http://film_20100519/all_imsdb_05_19_10/Alien-Nation.html: HTTPConnectionPool(host='film_20100519', port=80): Max retries exceeded with url: /all_imsdb_05_19_10/Alien-Nation.html (Caused by NameResolutionError(\"<urllib3.connection.HTTPConnection object at 0x12ede6cb0>: Failed to resolve 'film_20100519' ([Errno 8] nodename nor servname provided, or not known)\"))\n",
      "Error processing http://www.pages.drexel.edu/~ina22/splaylib/Screenplay-Beaches.pdf: HTTPConnectionPool(host='www.pages.drexel.edu', port=80): Max retries exceeded with url: /~ina22/splaylib/Screenplay-Beaches.pdf (Caused by NameResolutionError(\"<urllib3.connection.HTTPConnection object at 0x138ecbd00>: Failed to resolve 'www.pages.drexel.edu' ([Errno 8] nodename nor servname provided, or not known)\"))\n",
      "Error processing http://Blob, The (1988).pdf: HTTPConnectionPool(host='blob,%20the%20(1988).pdf', port=80): Max retries exceeded with url: / (Caused by NameResolutionError(\"<urllib3.connection.HTTPConnection object at 0x12ee9e620>: Failed to resolve 'blob,%20the%20(1988).pdf' ([Errno 8] nodename nor servname provided, or not known)\"))\n",
      "Error processing http://Coming To America (aka The Quest) (1987.09.02).pdf: HTTPConnectionPool(host='coming%20to%20america%20(aka%20the%20quest)%20(1987.09.02).pdf', port=80): Max retries exceeded with url: / (Caused by NameResolutionError(\"<urllib3.connection.HTTPConnection object at 0x10e2db670>: Failed to resolve 'coming%20to%20america%20(aka%20the%20quest)%20(1987.09.02).pdf' ([Errno 8] nodename nor servname provided, or not known)\"))\n",
      "Invalid URL format: http://CRITTERS 2 (1988) (aka CALL OF THE CRITTERS) by David Twohy (aka D.T. Twohy) (Rev. - Mick Garris) [1987.10.13] [3rd].pdf\n",
      "Error processing http://Dead Ringers.pdf: HTTPConnectionPool(host='dead%20ringers.pdf', port=80): Max retries exceeded with url: / (Caused by NameResolutionError(\"<urllib3.connection.HTTPConnection object at 0x12ee8e3b0>: Failed to resolve 'dead%20ringers.pdf' ([Errno 8] nodename nor servname provided, or not known)\"))\n",
      "Invalid URL format: http://GREAT OUTDOORS, THE by John Hughes [10.18.1987].pdf\n",
      "Error processing http://www.pages.drexel.edu/~ina22/splaylib/Screenplay-Last_Temptation_Of_Christ.pdf: HTTPConnectionPool(host='www.pages.drexel.edu', port=80): Max retries exceeded with url: /~ina22/splaylib/Screenplay-Last_Temptation_Of_Christ.pdf (Caused by NameResolutionError(\"<urllib3.connection.HTTPConnection object at 0x12ee9e380>: Failed to resolve 'www.pages.drexel.edu' ([Errno 8] nodename nor servname provided, or not known)\"))\n",
      "Error processing http://Red Heat (1987.08.17).pdf: HTTPConnectionPool(host='red%20heat%20(1987.08.17).pdf', port=80): Max retries exceeded with url: / (Caused by NameResolutionError(\"<urllib3.connection.HTTPConnection object at 0x12a494910>: Failed to resolve 'red%20heat%20(1987.08.17).pdf' ([Errno 8] nodename nor servname provided, or not known)\"))\n",
      "Error processing http://They Live (John Carpenter as Frank Armitage, Shooting Script, Rev. 2-10-88).pdf: Failed to parse: 'they%20live%20(john%20carpenter%20as%20frank%20armitage,%20shooting%20script,%20rev.%202-10-88).pdf', label empty or too long\n",
      "Error processing http://www.awesomefilm.comscript/workinggirl.txt: HTTPConnectionPool(host='www.awesomefilm.comscript', port=80): Max retries exceeded with url: /workinggirl.txt (Caused by NameResolutionError(\"<urllib3.connection.HTTPConnection object at 0x12a494c10>: Failed to resolve 'www.awesomefilm.comscript' ([Errno 8] nodename nor servname provided, or not known)\"))\n"
     ]
    },
    {
     "name": "stderr",
     "output_type": "stream",
     "text": [
      "Some characters could not be decoded, and were replaced with REPLACEMENT CHARACTER.\n"
     ]
    },
    {
     "name": "stdout",
     "output_type": "stream",
     "text": [
      "Error processing http://film_20100519/all_imsdb_05_19_10/Batman.html: HTTPConnectionPool(host='film_20100519', port=80): Max retries exceeded with url: /all_imsdb_05_19_10/Batman.html (Caused by NameResolutionError(\"<urllib3.connection.HTTPConnection object at 0x13977abf0>: Failed to resolve 'film_20100519' ([Errno 8] nodename nor servname provided, or not known)\"))\n",
      "Error processing http://film_20100519/all_imsdb_05_19_10/Black-Rain.html: HTTPConnectionPool(host='film_20100519', port=80): Max retries exceeded with url: /all_imsdb_05_19_10/Black-Rain.html (Caused by NameResolutionError(\"<urllib3.connection.HTTPConnection object at 0x12ee8ed70>: Failed to resolve 'film_20100519' ([Errno 8] nodename nor servname provided, or not known)\"))\n",
      "Error processing http://Born on the Fourth of July (June 1978 Draft) (scanned).pdf: Failed to parse: 'born%20on%20the%20fourth%20of%20july%20(june%201978%20draft)%20(scanned).pdf', label empty or too long\n",
      "Error processing http://Casualties Of War.pdf: HTTPConnectionPool(host='casualties%20of%20war.pdf', port=80): Max retries exceeded with url: / (Caused by NameResolutionError(\"<urllib3.connection.HTTPConnection object at 0x12ee8e080>: Failed to resolve 'casualties%20of%20war.pdf' ([Errno 8] nodename nor servname provided, or not known)\"))\n",
      "Error processing http://film_20100519/all_imsdb_05_19_10/Do-The-Right-Thing.html: HTTPConnectionPool(host='film_20100519', port=80): Max retries exceeded with url: /all_imsdb_05_19_10/Do-The-Right-Thing.html (Caused by NameResolutionError(\"<urllib3.connection.HTTPConnection object at 0x12ee8e680>: Failed to resolve 'film_20100519' ([Errno 8] nodename nor servname provided, or not known)\"))\n",
      "Error processing http://Screenplay-Drugstore_Cowboy.pdf: HTTPConnectionPool(host='screenplay-drugstore_cowboy.pdf', port=80): Max retries exceeded with url: / (Caused by NameResolutionError(\"<urllib3.connection.HTTPConnection object at 0x12ee9d060>: Failed to resolve 'screenplay-drugstore_cowboy.pdf' ([Errno 8] nodename nor servname provided, or not known)\"))\n",
      "Invalid URL format: http://Farewell to the King [p. 80].pdf\n",
      "Error processing http://film_20100519/all_imsdb_05_19_10/Friday-the-13th-Part-VIII-Jason-Takes-Manhattan.html: HTTPConnectionPool(host='film_20100519', port=80): Max retries exceeded with url: /all_imsdb_05_19_10/Friday-the-13th-Part-VIII-Jason-Takes-Manhattan.html (Caused by NameResolutionError(\"<urllib3.connection.HTTPConnection object at 0x10da388b0>: Failed to resolve 'film_20100519' ([Errno 8] nodename nor servname provided, or not known)\"))\n",
      "Invalid URL format: http://Gleaming The Cube (1987.02.17) [Scan].pdf\n",
      "Error processing http://Glory.pdf: HTTPConnectionPool(host='glory.pdf', port=80): Max retries exceeded with url: / (Caused by NameResolutionError(\"<urllib3.connection.HTTPConnection object at 0x10da3a320>: Failed to resolve 'glory.pdf' ([Errno 8] nodename nor servname provided, or not known)\"))\n",
      "Error processing http://Halloween 5.pdf: HTTPConnectionPool(host='halloween%205.pdf', port=80): Max retries exceeded with url: / (Caused by NameResolutionError(\"<urllib3.connection.HTTPConnection object at 0x12e9a1ba0>: Failed to resolve 'halloween%205.pdf' ([Errno 8] nodename nor servname provided, or not known)\"))\n",
      "Error processing http://www.pages.drexel.edu/~ina22/splaylib/Screenplay-Heathers.HTM: HTTPConnectionPool(host='www.pages.drexel.edu', port=80): Max retries exceeded with url: /~ina22/splaylib/Screenplay-Heathers.HTM (Caused by NameResolutionError(\"<urllib3.connection.HTTPConnection object at 0x1399a2a10>: Failed to resolve 'www.pages.drexel.edu' ([Errno 8] nodename nor servname provided, or not known)\"))\n",
      "Error processing http://film_20100519/all_imsdb_05_19_10/Leviathan.html: HTTPConnectionPool(host='film_20100519', port=80): Max retries exceeded with url: /all_imsdb_05_19_10/Leviathan.html (Caused by NameResolutionError(\"<urllib3.connection.HTTPConnection object at 0x12e9a3070>: Failed to resolve 'film_20100519' ([Errno 8] nodename nor servname provided, or not known)\"))\n",
      "Error processing http://Christmas Vacation.pdf: HTTPConnectionPool(host='christmas%20vacation.pdf', port=80): Max retries exceeded with url: / (Caused by NameResolutionError(\"<urllib3.connection.HTTPConnection object at 0x1399a11b0>: Failed to resolve 'christmas%20vacation.pdf' ([Errno 8] nodename nor servname provided, or not known)\"))\n",
      "Error processing http://www.pages.drexel.edu/~ina22/splaylib/Screenplay-Sea_of_Love.pdf: HTTPConnectionPool(host='www.pages.drexel.edu', port=80): Max retries exceeded with url: /~ina22/splaylib/Screenplay-Sea_of_Love.pdf (Caused by NameResolutionError(\"<urllib3.connection.HTTPConnection object at 0x10e2c7e20>: Failed to resolve 'www.pages.drexel.edu' ([Errno 8] nodename nor servname provided, or not known)\"))\n"
     ]
    },
    {
     "name": "stderr",
     "output_type": "stream",
     "text": [
      "Some characters could not be decoded, and were replaced with REPLACEMENT CHARACTER.\n"
     ]
    },
    {
     "name": "stdout",
     "output_type": "stream",
     "text": [
      "Invalid URL format: http://Uncle Buck [John Hughes] [10.07.88] [Scan].pdf\n",
      "Error processing http://were-no-angels_draft2_davidmamet.pdf: HTTPConnectionPool(host='were-no-angels_draft2_davidmamet.pdf', port=80): Max retries exceeded with url: / (Caused by NameResolutionError(\"<urllib3.connection.HTTPConnection object at 0x10e2c7d00>: Failed to resolve 'were-no-angels_draft2_davidmamet.pdf' ([Errno 8] nodename nor servname provided, or not known)\"))\n",
      "Invalid URL format: http://Wizard, The (1989) [4-12-1989] (1).pdf\n",
      "Error processing http://film_20100519/all_imsdb_05_19_10/Awakenings.html: HTTPConnectionPool(host='film_20100519', port=80): Max retries exceeded with url: /all_imsdb_05_19_10/Awakenings.html (Caused by NameResolutionError(\"<urllib3.connection.HTTPConnection object at 0x10e6b9450>: Failed to resolve 'film_20100519' ([Errno 8] nodename nor servname provided, or not known)\"))\n"
     ]
    },
    {
     "name": "stderr",
     "output_type": "stream",
     "text": [
      "Some characters could not be decoded, and were replaced with REPLACEMENT CHARACTER.\n"
     ]
    },
    {
     "name": "stdout",
     "output_type": "stream",
     "text": [
      "Invalid URL format: http://Bird On A Wire (1988.12.25) [Scan].pdf\n",
      "Error processing http://film_20100519/all_imsdb_05_19_10/Bonfire-of-the-Vanities.html: HTTPConnectionPool(host='film_20100519', port=80): Max retries exceeded with url: /all_imsdb_05_19_10/Bonfire-of-the-Vanities.html (Caused by NameResolutionError(\"<urllib3.connection.HTTPConnection object at 0x10e6b9990>: Failed to resolve 'film_20100519' ([Errno 8] nodename nor servname provided, or not known)\"))\n",
      "Error processing http://www.awesomefilm.comscript/seetheparadise.txt: HTTPConnectionPool(host='www.awesomefilm.comscript', port=80): Max retries exceeded with url: /seetheparadise.txt (Caused by NameResolutionError(\"<urllib3.connection.HTTPConnection object at 0x10e6b9c90>: Failed to resolve 'www.awesomefilm.comscript' ([Errno 8] nodename nor servname provided, or not known)\"))\n",
      "Error processing http://Days of Thunder.pdf: HTTPConnectionPool(host='days%20of%20thunder.pdf', port=80): Max retries exceeded with url: / (Caused by NameResolutionError(\"<urllib3.connection.HTTPConnection object at 0x10e6ba1d0>: Failed to resolve 'days%20of%20thunder.pdf' ([Errno 8] nodename nor servname provided, or not known)\"))\n",
      "Error processing http://film_20100519/all_imsdb_05_19_10/Edward-Scissorhands.html: HTTPConnectionPool(host='film_20100519', port=80): Max retries exceeded with url: /all_imsdb_05_19_10/Edward-Scissorhands.html (Caused by NameResolutionError(\"<urllib3.connection.HTTPConnection object at 0x12e9a0850>: Failed to resolve 'film_20100519' ([Errno 8] nodename nor servname provided, or not known)\"))\n",
      "Error processing http://film_20100519/all_imsdb_05_19_10/Gremlins-2.html: HTTPConnectionPool(host='film_20100519', port=80): Max retries exceeded with url: /all_imsdb_05_19_10/Gremlins-2.html (Caused by NameResolutionError(\"<urllib3.connection.HTTPConnection object at 0x10da3aaa0>: Failed to resolve 'film_20100519' ([Errno 8] nodename nor servname provided, or not known)\"))\n",
      "Error processing http://film_20100519/all_imsdb_05_19_10/Hard-to-Kill.html: HTTPConnectionPool(host='film_20100519', port=80): Max retries exceeded with url: /all_imsdb_05_19_10/Hard-to-Kill.html (Caused by NameResolutionError(\"<urllib3.connection.HTTPConnection object at 0x1399a0a30>: Failed to resolve 'film_20100519' ([Errno 8] nodename nor servname provided, or not known)\"))\n"
     ]
    },
    {
     "name": "stderr",
     "output_type": "stream",
     "text": [
      "Some characters could not be decoded, and were replaced with REPLACEMENT CHARACTER.\n"
     ]
    },
    {
     "name": "stdout",
     "output_type": "stream",
     "text": [
      "Error processing http://Home Alone (1990.02.02).pdf: HTTPConnectionPool(host='home%20alone%20(1990.02.02).pdf', port=80): Max retries exceeded with url: / (Caused by NameResolutionError(\"<urllib3.connection.HTTPConnection object at 0x138ec88b0>: Failed to resolve 'home%20alone%20(1990.02.02).pdf' ([Errno 8] nodename nor servname provided, or not known)\"))\n"
     ]
    },
    {
     "name": "stderr",
     "output_type": "stream",
     "text": [
      "Some characters could not be decoded, and were replaced with REPLACEMENT CHARACTER.\n"
     ]
    },
    {
     "name": "stdout",
     "output_type": "stream",
     "text": [
      "Error processing http://film_20100519/all_imsdb_05_19_10/Jacob's-Ladder.html: HTTPConnectionPool(host='film_20100519', port=80): Max retries exceeded with url: /all_imsdb_05_19_10/Jacob's-Ladder.html (Caused by NameResolutionError(\"<urllib3.connection.HTTPConnection object at 0x10e6b9f90>: Failed to resolve 'film_20100519' ([Errno 8] nodename nor servname provided, or not known)\"))\n",
      "Error processing http://My Blue Heaven (1988.11.04).pdf: HTTPConnectionPool(host='my%20blue%20heaven%20(1988.11.04).pdf', port=80): Max retries exceeded with url: / (Caused by NameResolutionError(\"<urllib3.connection.HTTPConnection object at 0x10e6ba5f0>: Failed to resolve 'my%20blue%20heaven%20(1988.11.04).pdf' ([Errno 8] nodename nor servname provided, or not known)\"))\n",
      "Error processing http://Narrow Margin 4.24.89 Revised Pink.pdf: HTTPConnectionPool(host='narrow%20margin%204.24.89%20revised%20pink.pdf', port=80): Max retries exceeded with url: / (Caused by NameResolutionError(\"<urllib3.connection.HTTPConnection object at 0x12ee8c6d0>: Failed to resolve 'narrow%20margin%204.24.89%20revised%20pink.pdf' ([Errno 8] nodename nor servname provided, or not known)\"))\n",
      "Invalid URL format: http://PREDATOR 2 (1990) by Jim Thomas & John Thomas [1989.12.15] [2nd] [Scan].pdf\n",
      "Error processing http://film_20100519/all_imsdb_05_19_10/Pretty-Woman.html: HTTPConnectionPool(host='film_20100519', port=80): Max retries exceeded with url: /all_imsdb_05_19_10/Pretty-Woman.html (Caused by NameResolutionError(\"<urllib3.connection.HTTPConnection object at 0x12ee8f880>: Failed to resolve 'film_20100519' ([Errno 8] nodename nor servname provided, or not known)\"))\n",
      "Error processing http://Revenge.pdf: HTTPConnectionPool(host='revenge.pdf', port=80): Max retries exceeded with url: / (Caused by NameResolutionError(\"<urllib3.connection.HTTPConnection object at 0x12ee8f640>: Failed to resolve 'revenge.pdf' ([Errno 8] nodename nor servname provided, or not known)\"))\n",
      "Invalid URL format: http://Rocky V [11-6-1989] [Scan].pdf\n",
      "Error processing http://Total Recall (8-22-1989) (Final) (Digital).pdf: HTTPConnectionPool(host='total%20recall%20(8-22-1989)%20(final)%20(digital).pdf', port=80): Max retries exceeded with url: / (Caused by NameResolutionError(\"<urllib3.connection.HTTPConnection object at 0x10da3a470>: Failed to resolve 'total%20recall%20(8-22-1989)%20(final)%20(digital).pdf' ([Errno 8] nodename nor servname provided, or not known)\"))\n"
     ]
    },
    {
     "name": "stderr",
     "output_type": "stream",
     "text": [
      "Some characters could not be decoded, and were replaced with REPLACEMENT CHARACTER.\n"
     ]
    },
    {
     "name": "stdout",
     "output_type": "stream",
     "text": [
      "Error processing http://www.awesomefilm.com/script/ashaolin.html: 404 Client Error: Not Found for url: http://www.awesomefilm.com/script/ashaolin.html\n",
      "Error processing http://film_20100519/all_imsdb_05_19_10/Barton-Fink.html: HTTPConnectionPool(host='film_20100519', port=80): Max retries exceeded with url: /all_imsdb_05_19_10/Barton-Fink.html (Caused by NameResolutionError(\"<urllib3.connection.HTTPConnection object at 0x10e1f29b0>: Failed to resolve 'film_20100519' ([Errno 8] nodename nor servname provided, or not known)\"))\n",
      "Invalid URL format: http://Boyz N the Hood (1990.09.28) [Scan].pdf\n",
      "Error processing http://Cape Fear - 1990-08-31 - Draft.pdf: HTTPConnectionPool(host='cape%20fear%20-%201990-08-31%20-%20draft.pdf', port=80): Max retries exceeded with url: / (Caused by NameResolutionError(\"<urllib3.connection.HTTPConnection object at 0x10e6b8760>: Failed to resolve 'cape%20fear%20-%201990-08-31%20-%20draft.pdf' ([Errno 8] nodename nor servname provided, or not known)\"))\n",
      "Invalid URL format: http://Career Opportunities [John Hughes] [09.12.89] [Scan].pdf\n",
      "Invalid URL format: http://Curly Sue [John Hughes] [07.01.90] [Scan].pdf\n",
      "Invalid URL format: http://DEAD AGAIN by Scott Frank [1990-8-27].pdf\n",
      "Error processing http://Deceived (1991).pdf: HTTPConnectionPool(host='deceived%20(1991).pdf', port=80): Max retries exceeded with url: / (Caused by NameResolutionError(\"<urllib3.connection.HTTPConnection object at 0x10e6b9000>: Failed to resolve 'deceived%20(1991).pdf' ([Errno 8] nodename nor servname provided, or not known)\"))\n",
      "Invalid URL format: http://DEFENDING YOUR LIFE by Albert Brooks [1989.11.01] [Scan].pdf\n",
      "Error processing http://film_20100519/all_imsdb_05_19_10/Doors,-The.html: HTTPConnectionPool(host='film_20100519', port=80): Max retries exceeded with url: /all_imsdb_05_19_10/Doors,-The.html (Caused by NameResolutionError(\"<urllib3.connection.HTTPConnection object at 0x10e6bad70>: Failed to resolve 'film_20100519' ([Errno 8] nodename nor servname provided, or not known)\"))\n",
      "Error processing http://www.awesomefilm.comscript/fatherofthebride.txt: HTTPConnectionPool(host='www.awesomefilm.comscript', port=80): Max retries exceeded with url: /fatherofthebride.txt (Caused by NameResolutionError(\"<urllib3.connection.HTTPConnection object at 0x10e6b8f70>: Failed to resolve 'www.awesomefilm.comscript' ([Errno 8] nodename nor servname provided, or not known)\"))\n",
      "Invalid URL format: http://Nightmare On Elm Street 6 - Freddys Dead (1991) [1990-10-29] [3rd Num.] [Rev. 1990-12-19] [Scan].pdf\n",
      "Error processing http://www.pages.drexel.edu/~ina22/splaylib/Screenplay-Fried_Green_Tomatoes.pdf: HTTPConnectionPool(host='www.pages.drexel.edu', port=80): Max retries exceeded with url: /~ina22/splaylib/Screenplay-Fried_Green_Tomatoes.pdf (Caused by NameResolutionError(\"<urllib3.connection.HTTPConnection object at 0x10e6b8a90>: Failed to resolve 'www.pages.drexel.edu' ([Errno 8] nodename nor servname provided, or not known)\"))\n",
      "Error processing http://Hook (early).pdf: HTTPConnectionPool(host='hook%20(early).pdf', port=80): Max retries exceeded with url: / (Caused by NameResolutionError(\"<urllib3.connection.HTTPConnection object at 0x10e6bac20>: Failed to resolve 'hook%20(early).pdf' ([Errno 8] nodename nor servname provided, or not known)\"))\n"
     ]
    },
    {
     "name": "stderr",
     "output_type": "stream",
     "text": [
      "Some characters could not be decoded, and were replaced with REPLACEMENT CHARACTER.\n"
     ]
    },
    {
     "name": "stdout",
     "output_type": "stream",
     "text": [
      "Error processing http://film_20100519/all_imsdb_05_19_10/Kafka.html: HTTPConnectionPool(host='film_20100519', port=80): Max retries exceeded with url: /all_imsdb_05_19_10/Kafka.html (Caused by NameResolutionError(\"<urllib3.connection.HTTPConnection object at 0x12e9a1f30>: Failed to resolve 'film_20100519' ([Errno 8] nodename nor servname provided, or not known)\"))\n",
      "Error processing http://film_20100519/all_imsdb_05_19_10/Last-Boy-Scout,-The.html: HTTPConnectionPool(host='film_20100519', port=80): Max retries exceeded with url: /all_imsdb_05_19_10/Last-Boy-Scout,-The.html (Caused by NameResolutionError(\"<urllib3.connection.HTTPConnection object at 0x10e1ebf10>: Failed to resolve 'film_20100519' ([Errno 8] nodename nor servname provided, or not known)\"))\n",
      "Error processing http://Little Man Tate (1990.05.14).pdf: HTTPConnectionPool(host='little%20man%20tate%20(1990.05.14).pdf', port=80): Max retries exceeded with url: / (Caused by NameResolutionError(\"<urllib3.connection.HTTPConnection object at 0x10e1eb490>: Failed to resolve 'little%20man%20tate%20(1990.05.14).pdf' ([Errno 8] nodename nor servname provided, or not known)\"))\n",
      "Invalid URL format: http://MARRYING MAN, THE (1991) by Neil Simon [1989.10.25] [Scan].pdf\n",
      "Error processing http://film_20100519/all_imsdb_05_19_10/My-Girl.html: HTTPConnectionPool(host='film_20100519', port=80): Max retries exceeded with url: /all_imsdb_05_19_10/My-Girl.html (Caused by NameResolutionError(\"<urllib3.connection.HTTPConnection object at 0x10e1ea5f0>: Failed to resolve 'film_20100519' ([Errno 8] nodename nor servname provided, or not known)\"))\n",
      "Error processing http://My Own Private Idaho.pdf: HTTPConnectionPool(host='my%20own%20private%20idaho.pdf', port=80): Max retries exceeded with url: / (Caused by NameResolutionError(\"<urllib3.connection.HTTPConnection object at 0x10e1e94b0>: Failed to resolve 'my%20own%20private%20idaho.pdf' ([Errno 8] nodename nor servname provided, or not known)\"))\n",
      "Error processing http://www.pages.drexel.edu/~ina22/splaylib/Screenplay-Naked_Gun_II,_The.pdf: HTTPConnectionPool(host='www.pages.drexel.edu', port=80): Max retries exceeded with url: /~ina22/splaylib/Screenplay-Naked_Gun_II,_The.pdf (Caused by NameResolutionError(\"<urllib3.connection.HTTPConnection object at 0x10e1e8670>: Failed to resolve 'www.pages.drexel.edu' ([Errno 8] nodename nor servname provided, or not known)\"))\n",
      "Invalid URL format: http://Naked Lunch (1991) [1990-2-12] [1st] [Scan].pdf\n",
      "Error processing http://Ricochet (1990.11.07).pdf: HTTPConnectionPool(host='ricochet%20(1990.11.07).pdf', port=80): Max retries exceeded with url: / (Caused by NameResolutionError(\"<urllib3.connection.HTTPConnection object at 0x10e1ea2f0>: Failed to resolve 'ricochet%20(1990.11.07).pdf' ([Errno 8] nodename nor servname provided, or not known)\"))\n",
      "Error processing http://film_20100519/all_imsdb_05_19_10/Robin-Hood-Prince-of-Thieves.html: HTTPConnectionPool(host='film_20100519', port=80): Max retries exceeded with url: /all_imsdb_05_19_10/Robin-Hood-Prince-of-Thieves.html (Caused by NameResolutionError(\"<urllib3.connection.HTTPConnection object at 0x138f066e0>: Failed to resolve 'film_20100519' ([Errno 8] nodename nor servname provided, or not known)\"))\n",
      "Error processing http://Rocketeer, The (1990.03.02).pdf: HTTPConnectionPool(host='rocketeer,%20the%20(1990.03.02).pdf', port=80): Max retries exceeded with url: / (Caused by NameResolutionError(\"<urllib3.connection.HTTPConnection object at 0x12e879600>: Failed to resolve 'rocketeer,%20the%20(1990.03.02).pdf' ([Errno 8] nodename nor servname provided, or not known)\"))\n",
      "Error processing http://film_20100519/all_imsdb_05_19_10/Silence-of-the-Lambs.html: HTTPConnectionPool(host='film_20100519', port=80): Max retries exceeded with url: /all_imsdb_05_19_10/Silence-of-the-Lambs.html (Caused by NameResolutionError(\"<urllib3.connection.HTTPConnection object at 0x138f05f00>: Failed to resolve 'film_20100519' ([Errno 8] nodename nor servname provided, or not known)\"))\n",
      "Error processing http://film_20100519/all_imsdb_05_19_10/Bad-Lieutenant.html: HTTPConnectionPool(host='film_20100519', port=80): Max retries exceeded with url: /all_imsdb_05_19_10/Bad-Lieutenant.html (Caused by NameResolutionError(\"<urllib3.connection.HTTPConnection object at 0x10e1f2b90>: Failed to resolve 'film_20100519' ([Errno 8] nodename nor servname provided, or not known)\"))\n",
      "Error processing http://film_20100519/all_imsdb_05_19_10/Basic-Instinct.html: HTTPConnectionPool(host='film_20100519', port=80): Max retries exceeded with url: /all_imsdb_05_19_10/Basic-Instinct.html (Caused by NameResolutionError(\"<urllib3.connection.HTTPConnection object at 0x10e1f2200>: Failed to resolve 'film_20100519' ([Errno 8] nodename nor servname provided, or not known)\"))\n",
      "Error processing http://film_20100519/all_imsdb_05_19_10/Batman-Returns.html: HTTPConnectionPool(host='film_20100519', port=80): Max retries exceeded with url: /all_imsdb_05_19_10/Batman-Returns.html (Caused by NameResolutionError(\"<urllib3.connection.HTTPConnection object at 0x12e9a08e0>: Failed to resolve 'film_20100519' ([Errno 8] nodename nor servname provided, or not known)\"))\n",
      "Error processing http://film_20100519/all_imsdb_05_19_10/Bodyguard.html: HTTPConnectionPool(host='film_20100519', port=80): Max retries exceeded with url: /all_imsdb_05_19_10/Bodyguard.html (Caused by NameResolutionError(\"<urllib3.connection.HTTPConnection object at 0x12e9a0970>: Failed to resolve 'film_20100519' ([Errno 8] nodename nor servname provided, or not known)\"))\n",
      "Invalid URL format: http://BRAM STOKER'S DRACULA (1992) by James V. Hart [1991.04.16] [2nd] [Scan].pdf\n",
      "Error processing http://Candyman (Bernard Rose) (Draft Revised - August 1991, Corrected).pdf: Failed to parse: 'candyman%20(bernard%20rose)%20(draft%20revised%20-%20august%201991,%20corrected).pdf', label empty or too long\n",
      "Error processing http://Chaplin (Shooting Script).pdf: HTTPConnectionPool(host='chaplin%20(shooting%20script).pdf', port=80): Max retries exceeded with url: / (Caused by NameResolutionError(\"<urllib3.connection.HTTPConnection object at 0x10e1f2560>: Failed to resolve 'chaplin%20(shooting%20script).pdf' ([Errno 8] nodename nor servname provided, or not known)\"))\n",
      "Error processing http://film_20100519/all_imsdb_05_19_10/City-of-Joy.html: HTTPConnectionPool(host='film_20100519', port=80): Max retries exceeded with url: /all_imsdb_05_19_10/City-of-Joy.html (Caused by NameResolutionError(\"<urllib3.connection.HTTPConnection object at 0x12e87a950>: Failed to resolve 'film_20100519' ([Errno 8] nodename nor servname provided, or not known)\"))\n",
      "Invalid URL format: http://CUTTING EDGE, THE (1992) by Tony Gilroy [1990.03.15] [Scan].pdf\n",
      "Invalid URL format: http://Death Becomes Her (1991.07.25) [Scan].pdf\n",
      "Error processing http://film_20100519/all_imsdb_05_19_10/Deep-Cover.html: HTTPConnectionPool(host='film_20100519', port=80): Max retries exceeded with url: /all_imsdb_05_19_10/Deep-Cover.html (Caused by NameResolutionError(\"<urllib3.connection.HTTPConnection object at 0x10e1f3df0>: Failed to resolve 'film_20100519' ([Errno 8] nodename nor servname provided, or not known)\"))\n",
      "Error processing http://Hand That Rocks the Cradle, The (2nd draft).pdf: HTTPConnectionPool(host='hand%20that%20rocks%20the%20cradle,%20the%20(2nd%20draft).pdf', port=80): Max retries exceeded with url: / (Caused by NameResolutionError(\"<urllib3.connection.HTTPConnection object at 0x1397f65f0>: Failed to resolve 'hand%20that%20rocks%20the%20cradle,%20the%20(2nd%20draft).pdf' ([Errno 8] nodename nor servname provided, or not known)\"))\n",
      "Error processing http://film_20100519/all_imsdb_05_19_10/Hellraiser-3-Hell-on-Earth.html: HTTPConnectionPool(host='film_20100519', port=80): Max retries exceeded with url: /all_imsdb_05_19_10/Hellraiser-3-Hell-on-Earth.html (Caused by NameResolutionError(\"<urllib3.connection.HTTPConnection object at 0x138eef880>: Failed to resolve 'film_20100519' ([Errno 8] nodename nor servname provided, or not known)\"))\n",
      "Error processing http://film_20100519/all_imsdb_05_19_10/Malcolm-X.html: HTTPConnectionPool(host='film_20100519', port=80): Max retries exceeded with url: /all_imsdb_05_19_10/Malcolm-X.html (Caused by NameResolutionError(\"<urllib3.connection.HTTPConnection object at 0x138f07f40>: Failed to resolve 'film_20100519' ([Errno 8] nodename nor servname provided, or not known)\"))\n",
      "Error processing http://film_20100519/all_imsdb_05_19_10/Man-Trouble.html: HTTPConnectionPool(host='film_20100519', port=80): Max retries exceeded with url: /all_imsdb_05_19_10/Man-Trouble.html (Caused by NameResolutionError(\"<urllib3.connection.HTTPConnection object at 0x12ee8ffa0>: Failed to resolve 'film_20100519' ([Errno 8] nodename nor servname provided, or not known)\"))\n",
      "Error processing http://film_20100519/all_imsdb_05_19_10/Mariachi,-El.html: HTTPConnectionPool(host='film_20100519', port=80): Max retries exceeded with url: /all_imsdb_05_19_10/Mariachi,-El.html (Caused by NameResolutionError(\"<urllib3.connection.HTTPConnection object at 0x12ee8cc40>: Failed to resolve 'film_20100519' ([Errno 8] nodename nor servname provided, or not known)\"))\n",
      "Error processing http://memoirs of an invisible man.pdf: HTTPConnectionPool(host='memoirs%20of%20an%20invisible%20man.pdf', port=80): Max retries exceeded with url: / (Caused by NameResolutionError(\"<urllib3.connection.HTTPConnection object at 0x10da3a1a0>: Failed to resolve 'memoirs%20of%20an%20invisible%20man.pdf' ([Errno 8] nodename nor servname provided, or not known)\"))\n",
      "Error processing http://my-cousin-vinny-screenplay.pdf: HTTPConnectionPool(host='my-cousin-vinny-screenplay.pdf', port=80): Max retries exceeded with url: / (Caused by NameResolutionError(\"<urllib3.connection.HTTPConnection object at 0x12ee8cb50>: Failed to resolve 'my-cousin-vinny-screenplay.pdf' ([Errno 8] nodename nor servname provided, or not known)\"))\n",
      "Error processing http://film_20100519/all_imsdb_05_19_10/Newsies.html: HTTPConnectionPool(host='film_20100519', port=80): Max retries exceeded with url: /all_imsdb_05_19_10/Newsies.html (Caused by NameResolutionError(\"<urllib3.connection.HTTPConnection object at 0x10e1f14e0>: Failed to resolve 'film_20100519' ([Errno 8] nodename nor servname provided, or not known)\"))\n",
      "Error processing http://film_20100519/all_imsdb_05_19_10/Pet-Sematary-II.html: HTTPConnectionPool(host='film_20100519', port=80): Max retries exceeded with url: /all_imsdb_05_19_10/Pet-Sematary-II.html (Caused by NameResolutionError(\"<urllib3.connection.HTTPConnection object at 0x12ee9cb20>: Failed to resolve 'film_20100519' ([Errno 8] nodename nor servname provided, or not known)\"))\n",
      "Error processing http://film_20100519/all_imsdb_05_19_10/Power-of-One,-The.html: HTTPConnectionPool(host='film_20100519', port=80): Max retries exceeded with url: /all_imsdb_05_19_10/Power-of-One,-The.html (Caused by NameResolutionError(\"<urllib3.connection.HTTPConnection object at 0x12e9a2b30>: Failed to resolve 'film_20100519' ([Errno 8] nodename nor servname provided, or not known)\"))\n",
      "Error processing http://Red Rock West (1992).pdf: HTTPConnectionPool(host='red%20rock%20west%20(1992).pdf', port=80): Max retries exceeded with url: / (Caused by NameResolutionError(\"<urllib3.connection.HTTPConnection object at 0x10e1f0c40>: Failed to resolve 'red%20rock%20west%20(1992).pdf' ([Errno 8] nodename nor servname provided, or not known)\"))\n"
     ]
    },
    {
     "name": "stderr",
     "output_type": "stream",
     "text": [
      "Some characters could not be decoded, and were replaced with REPLACEMENT CHARACTER.\n"
     ]
    },
    {
     "name": "stdout",
     "output_type": "stream",
     "text": [
      "Error processing http://film_20100519/all_imsdb_05_19_10/Sister-Act.html: HTTPConnectionPool(host='film_20100519', port=80): Max retries exceeded with url: /all_imsdb_05_19_10/Sister-Act.html (Caused by NameResolutionError(\"<urllib3.connection.HTTPConnection object at 0x1397f7e50>: Failed to resolve 'film_20100519' ([Errno 8] nodename nor servname provided, or not known)\"))\n",
      "Error processing http://film_20100519/all_imsdb_05_19_10/Thunderheart.html: HTTPConnectionPool(host='film_20100519', port=80): Max retries exceeded with url: /all_imsdb_05_19_10/Thunderheart.html (Caused by NameResolutionError(\"<urllib3.connection.HTTPConnection object at 0x1397f6740>: Failed to resolve 'film_20100519' ([Errno 8] nodename nor servname provided, or not known)\"))\n",
      "Error processing http://film_20100519/all_imsdb_05_19_10/Unforgiven.html: HTTPConnectionPool(host='film_20100519', port=80): Max retries exceeded with url: /all_imsdb_05_19_10/Unforgiven.html (Caused by NameResolutionError(\"<urllib3.connection.HTTPConnection object at 0x12e9a32e0>: Failed to resolve 'film_20100519' ([Errno 8] nodename nor servname provided, or not known)\"))\n",
      "Invalid URL format: http://Unlawful Entry (1992) [1991-5-28] [Rev. 1st] [Scan].pdf\n",
      "Error processing http://film_20100519/all_imsdb_05_19_10/Being-Human.html: HTTPConnectionPool(host='film_20100519', port=80): Max retries exceeded with url: /all_imsdb_05_19_10/Being-Human.html (Caused by NameResolutionError(\"<urllib3.connection.HTTPConnection object at 0x138eefbe0>: Failed to resolve 'film_20100519' ([Errno 8] nodename nor servname provided, or not known)\"))\n",
      "Error processing http://film_20100519/all_imsdb_05_19_10/Body-of-Evidence.html: HTTPConnectionPool(host='film_20100519', port=80): Max retries exceeded with url: /all_imsdb_05_19_10/Body-of-Evidence.html (Caused by NameResolutionError(\"<urllib3.connection.HTTPConnection object at 0x138eee260>: Failed to resolve 'film_20100519' ([Errno 8] nodename nor servname provided, or not known)\"))\n",
      "Error processing http://Boxing Helena (2nd Revised Draft).pdf: HTTPConnectionPool(host='boxing%20helena%20(2nd%20revised%20draft).pdf', port=80): Max retries exceeded with url: / (Caused by NameResolutionError(\"<urllib3.connection.HTTPConnection object at 0x12e87b7f0>: Failed to resolve 'boxing%20helena%20(2nd%20revised%20draft).pdf' ([Errno 8] nodename nor servname provided, or not known)\"))\n",
      "Invalid URL format: http://CARLITO'S WAY (1993) by David Koepp [1992.10.05] [Scan].pdf\n",
      "Error processing http://Dark Half, The (1990.08).pdf: HTTPConnectionPool(host='dark%20half,%20the%20(1990.08).pdf', port=80): Max retries exceeded with url: / (Caused by NameResolutionError(\"<urllib3.connection.HTTPConnection object at 0x1397f7be0>: Failed to resolve 'dark%20half,%20the%20(1990.08).pdf' ([Errno 8] nodename nor servname provided, or not known)\"))\n",
      "Error processing http://www.pages.drexel.edu/~ina22/splaylib/Screenplay-Dave.htm: HTTPConnectionPool(host='www.pages.drexel.edu', port=80): Max retries exceeded with url: /~ina22/splaylib/Screenplay-Dave.htm (Caused by NameResolutionError(\"<urllib3.connection.HTTPConnection object at 0x12a7a1270>: Failed to resolve 'www.pages.drexel.edu' ([Errno 8] nodename nor servname provided, or not known)\"))\n"
     ]
    },
    {
     "name": "stderr",
     "output_type": "stream",
     "text": [
      "Some characters could not be decoded, and were replaced with REPLACEMENT CHARACTER.\n"
     ]
    },
    {
     "name": "stdout",
     "output_type": "stream",
     "text": [
      "Error processing http://Demolition Man (1992.11.19).pdf: HTTPConnectionPool(host='demolition%20man%20(1992.11.19).pdf', port=80): Max retries exceeded with url: / (Caused by NameResolutionError(\"<urllib3.connection.HTTPConnection object at 0x12a7a1930>: Failed to resolve 'demolition%20man%20(1992.11.19).pdf' ([Errno 8] nodename nor servname provided, or not known)\"))\n",
      "Error processing http://film_20100519/all_imsdb_05_19_10/Groundhog-Day.html: HTTPConnectionPool(host='film_20100519', port=80): Max retries exceeded with url: /all_imsdb_05_19_10/Groundhog-Day.html (Caused by NameResolutionError(\"<urllib3.connection.HTTPConnection object at 0x10e1e9090>: Failed to resolve 'film_20100519' ([Errno 8] nodename nor servname provided, or not known)\"))\n",
      "Error processing http://In the Line of Fire - 1992-04 - Draft.pdf: HTTPConnectionPool(host='in%20the%20line%20of%20fire%20-%201992-04%20-%20draft.pdf', port=80): Max retries exceeded with url: / (Caused by NameResolutionError(\"<urllib3.connection.HTTPConnection object at 0x138eee440>: Failed to resolve 'in%20the%20line%20of%20fire%20-%201992-04%20-%20draft.pdf' ([Errno 8] nodename nor servname provided, or not known)\"))\n"
     ]
    },
    {
     "name": "stderr",
     "output_type": "stream",
     "text": [
      "Some characters could not be decoded, and were replaced with REPLACEMENT CHARACTER.\n"
     ]
    },
    {
     "name": "stdout",
     "output_type": "stream",
     "text": [
      "Invalid URL format: http://MALICE (1993) by Scott Frank (aka Damages) [1992-2-4] [Rev.] [Scan].pdf\n",
      "Error processing http://Needful Things.pdf: HTTPConnectionPool(host='needful%20things.pdf', port=80): Max retries exceeded with url: / (Caused by NameResolutionError(\"<urllib3.connection.HTTPConnection object at 0x138eed990>: Failed to resolve 'needful%20things.pdf' ([Errno 8] nodename nor servname provided, or not known)\"))\n",
      "Error processing http://Nowhere to Run (AKA Pals) - Joe Eszterhas.pdf: HTTPConnectionPool(host='nowhere%20to%20run%20(aka%20pals)%20-%20joe%20eszterhas.pdf', port=80): Max retries exceeded with url: / (Caused by NameResolutionError(\"<urllib3.connection.HTTPConnection object at 0x12a7a3430>: Failed to resolve 'nowhere%20to%20run%20(aka%20pals)%20-%20joe%20eszterhas.pdf' ([Errno 8] nodename nor servname provided, or not known)\"))\n",
      "Error processing http://www.pages.drexel.edu/~ina22/splaylib/Screenplay-Pelican_Brief.pdf: HTTPConnectionPool(host='www.pages.drexel.edu', port=80): Max retries exceeded with url: /~ina22/splaylib/Screenplay-Pelican_Brief.pdf (Caused by NameResolutionError(\"<urllib3.connection.HTTPConnection object at 0x12a7a3430>: Failed to resolve 'www.pages.drexel.edu' ([Errno 8] nodename nor servname provided, or not known)\"))\n",
      "Error processing http://film_20100519/all_imsdb_05_19_10/Perfect-World,-A.html: HTTPConnectionPool(host='film_20100519', port=80): Max retries exceeded with url: /all_imsdb_05_19_10/Perfect-World,-A.html (Caused by NameResolutionError(\"<urllib3.connection.HTTPConnection object at 0x12a7a3be0>: Failed to resolve 'film_20100519' ([Errno 8] nodename nor servname provided, or not known)\"))\n",
      "Error processing http://Point of No Return (1992.02.18).pdf: HTTPConnectionPool(host='point%20of%20no%20return%20(1992.02.18).pdf', port=80): Max retries exceeded with url: / (Caused by NameResolutionError(\"<urllib3.connection.HTTPConnection object at 0x138eed7e0>: Failed to resolve 'point%20of%20no%20return%20(1992.02.18).pdf' ([Errno 8] nodename nor servname provided, or not known)\"))\n"
     ]
    },
    {
     "name": "stderr",
     "output_type": "stream",
     "text": [
      "Some characters could not be decoded, and were replaced with REPLACEMENT CHARACTER.\n"
     ]
    },
    {
     "name": "stdout",
     "output_type": "stream",
     "text": [
      "Error processing http://Searching for Bobby Fischer.pdf: HTTPConnectionPool(host='searching%20for%20bobby%20fischer.pdf', port=80): Max retries exceeded with url: / (Caused by NameResolutionError(\"<urllib3.connection.HTTPConnection object at 0x10e169fc0>: Failed to resolve 'searching%20for%20bobby%20fischer.pdf' ([Errno 8] nodename nor servname provided, or not known)\"))\n",
      "Error processing http://www.awesomefilm.comscript/s_seatl.html: HTTPConnectionPool(host='www.awesomefilm.comscript', port=80): Max retries exceeded with url: /s_seatl.html (Caused by NameResolutionError(\"<urllib3.connection.HTTPConnection object at 0x138eecfa0>: Failed to resolve 'www.awesomefilm.comscript' ([Errno 8] nodename nor servname provided, or not known)\"))\n",
      "Error processing http://film_20100519/all_imsdb_05_19_10/So-I-Married-an-Axe-Murderer.html: HTTPConnectionPool(host='film_20100519', port=80): Max retries exceeded with url: /all_imsdb_05_19_10/So-I-Married-an-Axe-Murderer.html (Caused by NameResolutionError(\"<urllib3.connection.HTTPConnection object at 0x10e6df760>: Failed to resolve 'film_20100519' ([Errno 8] nodename nor servname provided, or not known)\"))\n",
      "Error processing http://film_20100519/all_imsdb_05_19_10/Spare-Me.html: HTTPConnectionPool(host='film_20100519', port=80): Max retries exceeded with url: /all_imsdb_05_19_10/Spare-Me.html (Caused by NameResolutionError(\"<urllib3.connection.HTTPConnection object at 0x138eed6c0>: Failed to resolve 'film_20100519' ([Errno 8] nodename nor servname provided, or not known)\"))\n",
      "Error processing http://film_20100519/all_imsdb_05_19_10/This-Boy's-Life.html: HTTPConnectionPool(host='film_20100519', port=80): Max retries exceeded with url: /all_imsdb_05_19_10/This-Boy's-Life.html (Caused by NameResolutionError(\"<urllib3.connection.HTTPConnection object at 0x10e6df460>: Failed to resolve 'film_20100519' ([Errno 8] nodename nor servname provided, or not known)\"))\n"
     ]
    },
    {
     "name": "stderr",
     "output_type": "stream",
     "text": [
      "Some characters could not be decoded, and were replaced with REPLACEMENT CHARACTER.\n"
     ]
    },
    {
     "name": "stdout",
     "output_type": "stream",
     "text": [
      "Error processing http://www.awesomefilm.comscript/priscilla.txt: HTTPConnectionPool(host='www.awesomefilm.comscript', port=80): Max retries exceeded with url: /priscilla.txt (Caused by NameResolutionError(\"<urllib3.connection.HTTPConnection object at 0x10d6eff40>: Failed to resolve 'www.awesomefilm.comscript' ([Errno 8] nodename nor servname provided, or not known)\"))\n",
      "Error processing http://bullets over broadway.pdf: HTTPConnectionPool(host='bullets%20over%20broadway.pdf', port=80): Max retries exceeded with url: / (Caused by NameResolutionError(\"<urllib3.connection.HTTPConnection object at 0x10d6e0790>: Failed to resolve 'bullets%20over%20broadway.pdf' ([Errno 8] nodename nor servname provided, or not known)\"))\n",
      "Error processing http://Clear and Present Danger by Donald Stewart Nov 10 1992.pdf: Failed to parse: 'clear%20and%20present%20danger%20by%20donald%20stewart%20nov%2010%201992.pdf', label empty or too long\n",
      "Error processing http://www.pages.drexel.edu/~ina22/splaylib/Screenplay-Client,_The.pdf: HTTPConnectionPool(host='www.pages.drexel.edu', port=80): Max retries exceeded with url: /~ina22/splaylib/Screenplay-Client,_The.pdf (Caused by NameResolutionError(\"<urllib3.connection.HTTPConnection object at 0x10d6e0040>: Failed to resolve 'www.pages.drexel.edu' ([Errno 8] nodename nor servname provided, or not known)\"))\n",
      "Error processing http://film_20100519/all_imsdb_05_19_10/Cobb.html: HTTPConnectionPool(host='film_20100519', port=80): Max retries exceeded with url: /all_imsdb_05_19_10/Cobb.html (Caused by NameResolutionError(\"<urllib3.connection.HTTPConnection object at 0x12a572d40>: Failed to resolve 'film_20100519' ([Errno 8] nodename nor servname provided, or not known)\"))\n",
      "Error processing http://Dolores Claiborne by Tony Gilroy.pdf: HTTPConnectionPool(host='dolores%20claiborne%20by%20tony%20gilroy.pdf', port=80): Max retries exceeded with url: / (Caused by NameResolutionError(\"<urllib3.connection.HTTPConnection object at 0x12e87a6b0>: Failed to resolve 'dolores%20claiborne%20by%20tony%20gilroy.pdf' ([Errno 8] nodename nor servname provided, or not known)\"))\n"
     ]
    },
    {
     "name": "stderr",
     "output_type": "stream",
     "text": [
      "Some characters could not be decoded, and were replaced with REPLACEMENT CHARACTER.\n"
     ]
    },
    {
     "name": "stdout",
     "output_type": "stream",
     "text": [
      "Error processing http://The Flintstones (Steven E. De Souza) (Early Draft - September 1987).pdf: HTTPConnectionPool(host='the%20flintstones%20(steven%20e.%20de%20souza)%20(early%20draft%20-%20september%201987).pdf', port=80): Max retries exceeded with url: / (Caused by NameResolutionError(\"<urllib3.connection.HTTPConnection object at 0x10e320100>: Failed to resolve 'the%20flintstones%20(steven%20e.%20de%20souza)%20(early%20draft%20-%20september%201987).pdf' ([Errno 8] nodename nor servname provided, or not known)\"))\n",
      "Error processing http://film_20100519/all_imsdb_05_19_10/Forrest-Gump.html: HTTPConnectionPool(host='film_20100519', port=80): Max retries exceeded with url: /all_imsdb_05_19_10/Forrest-Gump.html (Caused by NameResolutionError(\"<urllib3.connection.HTTPConnection object at 0x10e3230a0>: Failed to resolve 'film_20100519' ([Errno 8] nodename nor servname provided, or not known)\"))\n",
      "Error processing http://film_20100519/all_imsdb_05_19_10/Hudsucker-Proxy,-The.html: HTTPConnectionPool(host='film_20100519', port=80): Max retries exceeded with url: /all_imsdb_05_19_10/Hudsucker-Proxy,-The.html (Caused by NameResolutionError(\"<urllib3.connection.HTTPConnection object at 0x32d78ca90>: Failed to resolve 'film_20100519' ([Errno 8] nodename nor servname provided, or not known)\"))\n",
      "Error processing http://Killing Zoe (Roger Avary, Undated, Unspecified Draft).pdf: Failed to parse: 'killing%20zoe%20(roger%20avary,%20undated,%20unspecified%20draft).pdf', label empty or too long\n",
      "Error processing http://imsdb.com/scripts/Lion-King,-The.pdf: 404 Client Error: Not Found for url: https://imsdb.com:443/scripts/Lion-King,-The.pdf\n",
      "Error processing http://film_20100519/all_imsdb_05_19_10/Mask,-The.html: HTTPConnectionPool(host='film_20100519', port=80): Max retries exceeded with url: /all_imsdb_05_19_10/Mask,-The.html (Caused by NameResolutionError(\"<urllib3.connection.HTTPConnection object at 0x1399bbdc0>: Failed to resolve 'film_20100519' ([Errno 8] nodename nor servname provided, or not known)\"))\n"
     ]
    },
    {
     "name": "stderr",
     "output_type": "stream",
     "text": [
      "Some characters could not be decoded, and were replaced with REPLACEMENT CHARACTER.\n"
     ]
    },
    {
     "name": "stdout",
     "output_type": "stream",
     "text": [
      "Error processing http://film_20100519/all_imsdb_05_19_10/Natural-Born-Killers.html: HTTPConnectionPool(host='film_20100519', port=80): Max retries exceeded with url: /all_imsdb_05_19_10/Natural-Born-Killers.html (Caused by NameResolutionError(\"<urllib3.connection.HTTPConnection object at 0x1399a2560>: Failed to resolve 'film_20100519' ([Errno 8] nodename nor servname provided, or not known)\"))\n",
      "Error processing http://www.awesomefilm.com/script/onlyyou.html: 404 Client Error: Not Found for url: http://www.awesomefilm.com/script/onlyyou.html\n",
      "Error processing http://film_20100519/all_imsdb_05_19_10/Pulp-Fiction.html: HTTPConnectionPool(host='film_20100519', port=80): Max retries exceeded with url: /all_imsdb_05_19_10/Pulp-Fiction.html (Caused by NameResolutionError(\"<urllib3.connection.HTTPConnection object at 0x1399a0d00>: Failed to resolve 'film_20100519' ([Errno 8] nodename nor servname provided, or not known)\"))\n"
     ]
    },
    {
     "name": "stderr",
     "output_type": "stream",
     "text": [
      "Some characters could not be decoded, and were replaced with REPLACEMENT CHARACTER.\n"
     ]
    },
    {
     "name": "stdout",
     "output_type": "stream",
     "text": [
      "Error processing http://Ref, The (1993.02.04).pdf: HTTPConnectionPool(host='ref,%20the%20(1993.02.04).pdf', port=80): Max retries exceeded with url: / (Caused by NameResolutionError(\"<urllib3.connection.HTTPConnection object at 0x32d78dfc0>: Failed to resolve 'ref,%20the%20(1993.02.04).pdf' ([Errno 8] nodename nor servname provided, or not known)\"))\n",
      "Error processing http://film_20100519/all_imsdb_05_19_10/Serial-Mom.html: HTTPConnectionPool(host='film_20100519', port=80): Max retries exceeded with url: /all_imsdb_05_19_10/Serial-Mom.html (Caused by NameResolutionError(\"<urllib3.connection.HTTPConnection object at 0x32d78ee00>: Failed to resolve 'film_20100519' ([Errno 8] nodename nor servname provided, or not known)\"))\n",
      "Error processing http://film_20100519/all_imsdb_05_19_10/Bad-Boys.html: HTTPConnectionPool(host='film_20100519', port=80): Max retries exceeded with url: /all_imsdb_05_19_10/Bad-Boys.html (Caused by NameResolutionError(\"<urllib3.connection.HTTPConnection object at 0x12e879510>: Failed to resolve 'film_20100519' ([Errno 8] nodename nor servname provided, or not known)\"))\n"
     ]
    },
    {
     "name": "stderr",
     "output_type": "stream",
     "text": [
      "Some characters could not be decoded, and were replaced with REPLACEMENT CHARACTER.\n"
     ]
    },
    {
     "name": "stdout",
     "output_type": "stream",
     "text": [
      "Error processing http://www.awesomefilm.com/script/manhunt.html: 404 Client Error: Not Found for url: http://www.awesomefilm.com/script/manhunt.html\n",
      "Error processing http://www.awesomefilm.comscript/boysontheside.txt: HTTPConnectionPool(host='www.awesomefilm.comscript', port=80): Max retries exceeded with url: /boysontheside.txt (Caused by NameResolutionError(\"<urllib3.connection.HTTPConnection object at 0x10e3521a0>: Failed to resolve 'www.awesomefilm.comscript' ([Errno 8] nodename nor servname provided, or not known)\"))\n",
      "Error processing http://film_20100519/all_imsdb_05_19_10/Braveheart.html: HTTPConnectionPool(host='film_20100519', port=80): Max retries exceeded with url: /all_imsdb_05_19_10/Braveheart.html (Caused by NameResolutionError(\"<urllib3.connection.HTTPConnection object at 0x10e351e70>: Failed to resolve 'film_20100519' ([Errno 8] nodename nor servname provided, or not known)\"))\n",
      "Error processing http://Crimson Tide.pdf: HTTPConnectionPool(host='crimson%20tide.pdf', port=80): Max retries exceeded with url: / (Caused by NameResolutionError(\"<urllib3.connection.HTTPConnection object at 0x12a52b2e0>: Failed to resolve 'crimson%20tide.pdf' ([Errno 8] nodename nor servname provided, or not known)\"))\n",
      "Error processing http://3. Die Hard  - With a Vengeance.pdf: HTTPConnectionPool(host='3.%20die%20hard%20%20-%20with%20a%20vengeance.pdf', port=80): Max retries exceeded with url: / (Caused by NameResolutionError(\"<urllib3.connection.HTTPConnection object at 0x12a52a8f0>: Failed to resolve '3.%20die%20hard%20%20-%20with%20a%20vengeance.pdf' ([Errno 8] nodename nor servname provided, or not known)\"))\n",
      "Error processing http://www.awesomefilm.com/script/thedoomgeneration.html: 404 Client Error: Not Found for url: http://www.awesomefilm.com/script/thedoomgeneration.html\n",
      "Error processing http://GoldenEye_Reduced.pdf: HTTPConnectionPool(host='goldeneye_reduced.pdf', port=80): Max retries exceeded with url: / (Caused by NameResolutionError(\"<urllib3.connection.HTTPConnection object at 0x1399bbe80>: Failed to resolve 'goldeneye_reduced.pdf' ([Errno 8] nodename nor servname provided, or not known)\"))\n",
      "Error processing http://film_20100519/all_imsdb_05_19_10/Halloween-The-Curse-of-Michael-Myers.html: HTTPConnectionPool(host='film_20100519', port=80): Max retries exceeded with url: /all_imsdb_05_19_10/Halloween-The-Curse-of-Michael-Myers.html (Caused by NameResolutionError(\"<urllib3.connection.HTTPConnection object at 0x32d78d030>: Failed to resolve 'film_20100519' ([Errno 8] nodename nor servname provided, or not known)\"))\n",
      "Error processing http://film_20100519/all_imsdb_05_19_10/Heat.html: HTTPConnectionPool(host='film_20100519', port=80): Max retries exceeded with url: /all_imsdb_05_19_10/Heat.html (Caused by NameResolutionError(\"<urllib3.connection.HTTPConnection object at 0x12a52ace0>: Failed to resolve 'film_20100519' ([Errno 8] nodename nor servname provided, or not known)\"))\n",
      "Error processing http://In the Mouth of Madness (Michael De Luca).pdf: HTTPConnectionPool(host='in%20the%20mouth%20of%20madness%20(michael%20de%20luca).pdf', port=80): Max retries exceeded with url: / (Caused by NameResolutionError(\"<urllib3.connection.HTTPConnection object at 0x12e87a860>: Failed to resolve 'in%20the%20mouth%20of%20madness%20(michael%20de%20luca).pdf' ([Errno 8] nodename nor servname provided, or not known)\"))\n",
      "Error processing http://Kicking and Screaming.pdf: HTTPConnectionPool(host='kicking%20and%20screaming.pdf', port=80): Max retries exceeded with url: / (Caused by NameResolutionError(\"<urllib3.connection.HTTPConnection object at 0x10dd5fc70>: Failed to resolve 'kicking%20and%20screaming.pdf' ([Errno 8] nodename nor servname provided, or not known)\"))\n",
      "Error processing http://kiss of Death.pdf: HTTPConnectionPool(host='kiss%20of%20death.pdf', port=80): Max retries exceeded with url: / (Caused by NameResolutionError(\"<urllib3.connection.HTTPConnection object at 0x32d78db40>: Failed to resolve 'kiss%20of%20death.pdf' ([Errno 8] nodename nor servname provided, or not known)\"))\n",
      "Error processing http://Mallrats (1995.11.29).pdf: HTTPConnectionPool(host='mallrats%20(1995.11.29).pdf', port=80): Max retries exceeded with url: / (Caused by NameResolutionError(\"<urllib3.connection.HTTPConnection object at 0x12e87a260>: Failed to resolve 'mallrats%20(1995.11.29).pdf' ([Errno 8] nodename nor servname provided, or not known)\"))\n"
     ]
    },
    {
     "name": "stderr",
     "output_type": "stream",
     "text": [
      "Some characters could not be decoded, and were replaced with REPLACEMENT CHARACTER.\n"
     ]
    },
    {
     "name": "stdout",
     "output_type": "stream",
     "text": [
      "Error processing http://film_20100519/all_imsdb_05_19_10/Prophecy,-The.html: HTTPConnectionPool(host='film_20100519', port=80): Max retries exceeded with url: /all_imsdb_05_19_10/Prophecy,-The.html (Caused by NameResolutionError(\"<urllib3.connection.HTTPConnection object at 0x12e9a1270>: Failed to resolve 'film_20100519' ([Errno 8] nodename nor servname provided, or not known)\"))\n",
      "Invalid URL format: http://SHOWGIRLS (1995) by Joe Eszterhas [1994.09.30] [Scan] Kopie.pdf\n",
      "Error processing http://film_20100519/all_imsdb_05_19_10/Toy-Story.html: HTTPConnectionPool(host='film_20100519', port=80): Max retries exceeded with url: /all_imsdb_05_19_10/Toy-Story.html (Caused by NameResolutionError(\"<urllib3.connection.HTTPConnection object at 0x10e6d1420>: Failed to resolve 'film_20100519' ([Errno 8] nodename nor servname provided, or not known)\"))\n"
     ]
    },
    {
     "name": "stderr",
     "output_type": "stream",
     "text": [
      "Some characters could not be decoded, and were replaced with REPLACEMENT CHARACTER.\n"
     ]
    },
    {
     "name": "stdout",
     "output_type": "stream",
     "text": [
      "Error processing http://www.pages.drexel.edu/~ina22/splaylib/Screenplay-Usual_Suspects.HTM: HTTPConnectionPool(host='www.pages.drexel.edu', port=80): Max retries exceeded with url: /~ina22/splaylib/Screenplay-Usual_Suspects.HTM (Caused by NameResolutionError(\"<urllib3.connection.HTTPConnection object at 0x10e6f1630>: Failed to resolve 'www.pages.drexel.edu' ([Errno 8] nodename nor servname provided, or not known)\"))\n",
      "Error processing http://Village of the Damned (1993.06.25).pdf: HTTPConnectionPool(host='village%20of%20the%20damned%20(1993.06.25).pdf', port=80): Max retries exceeded with url: / (Caused by NameResolutionError(\"<urllib3.connection.HTTPConnection object at 0x10e6f1cf0>: Failed to resolve 'village%20of%20the%20damned%20(1993.06.25).pdf' ([Errno 8] nodename nor servname provided, or not known)\"))\n",
      "Error processing http://Waterworld (Second Revised Draft).pdf: HTTPConnectionPool(host='waterworld%20(second%20revised%20draft).pdf', port=80): Max retries exceeded with url: / (Caused by NameResolutionError(\"<urllib3.connection.HTTPConnection object at 0x10e6f2080>: Failed to resolve 'waterworld%20(second%20revised%20draft).pdf' ([Errno 8] nodename nor servname provided, or not known)\"))\n",
      "Invalid URL format: http://Wild Bill (3.29.94)[SCAN][REV][BLUE] 113pp.pdf\n",
      "Error processing http://film_20100519/all_imsdb_05_19_10/Beavis-and-Butt-head-Do-America.html: HTTPConnectionPool(host='film_20100519', port=80): Max retries exceeded with url: /all_imsdb_05_19_10/Beavis-and-Butt-head-Do-America.html (Caused by NameResolutionError(\"<urllib3.connection.HTTPConnection object at 0x138eb4130>: Failed to resolve 'film_20100519' ([Errno 8] nodename nor servname provided, or not known)\"))\n",
      "Error processing http://Bed of Roses (1996).pdf: HTTPConnectionPool(host='bed%20of%20roses%20(1996).pdf', port=80): Max retries exceeded with url: / (Caused by NameResolutionError(\"<urllib3.connection.HTTPConnection object at 0x138f100d0>: Failed to resolve 'bed%20of%20roses%20(1996).pdf' ([Errno 8] nodename nor servname provided, or not known)\"))\n",
      "Error processing http://film_20100519/all_imsdb_05_19_10/Broken-Arrow.html: HTTPConnectionPool(host='film_20100519', port=80): Max retries exceeded with url: /all_imsdb_05_19_10/Broken-Arrow.html (Caused by NameResolutionError(\"<urllib3.connection.HTTPConnection object at 0x10e6d1ba0>: Failed to resolve 'film_20100519' ([Errno 8] nodename nor servname provided, or not known)\"))\n",
      "Error processing http://Cable Guy.pdf: HTTPConnectionPool(host='cable%20guy.pdf', port=80): Max retries exceeded with url: / (Caused by NameResolutionError(\"<urllib3.connection.HTTPConnection object at 0x138f13580>: Failed to resolve 'cable%20guy.pdf' ([Errno 8] nodename nor servname provided, or not known)\"))\n",
      "Error processing http://Chain Reaction-Dead Drop 1995.pdf: HTTPConnectionPool(host='chain%20reaction-dead%20drop%201995.pdf', port=80): Max retries exceeded with url: / (Caused by NameResolutionError(\"<urllib3.connection.HTTPConnection object at 0x138f13d60>: Failed to resolve 'chain%20reaction-dead%20drop%201995.pdf' ([Errno 8] nodename nor servname provided, or not known)\"))\n",
      "Error processing http://www.pages.drexel.edu/~ina22/splaylib/Screenplay-City_Hall.pdf: HTTPConnectionPool(host='www.pages.drexel.edu', port=80): Max retries exceeded with url: /~ina22/splaylib/Screenplay-City_Hall.pdf (Caused by NameResolutionError(\"<urllib3.connection.HTTPConnection object at 0x10e2ac580>: Failed to resolve 'www.pages.drexel.edu' ([Errno 8] nodename nor servname provided, or not known)\"))\n"
     ]
    },
    {
     "name": "stderr",
     "output_type": "stream",
     "text": [
      "Some characters could not be decoded, and were replaced with REPLACEMENT CHARACTER.\n"
     ]
    },
    {
     "name": "stdout",
     "output_type": "stream",
     "text": [
      "Invalid URL format: http://Craft, The - Peter Filardi (revisions) Andrew Fleming [11.11.1994].pdf\n",
      "Error processing http://film_20100519/all_imsdb_05_19_10/Crow-City-of-Angels,-The.html: HTTPConnectionPool(host='film_20100519', port=80): Max retries exceeded with url: /all_imsdb_05_19_10/Crow-City-of-Angels,-The.html (Caused by NameResolutionError(\"<urllib3.connection.HTTPConnection object at 0x138f13a30>: Failed to resolve 'film_20100519' ([Errno 8] nodename nor servname provided, or not known)\"))\n",
      "Error processing http://Diabolique.pdf: HTTPConnectionPool(host='diabolique.pdf', port=80): Max retries exceeded with url: / (Caused by NameResolutionError(\"<urllib3.connection.HTTPConnection object at 0x138f13730>: Failed to resolve 'diabolique.pdf' ([Errno 8] nodename nor servname provided, or not known)\"))\n",
      "Error processing http://www.awesomefilm.comscript/emma.txt: HTTPConnectionPool(host='www.awesomefilm.comscript', port=80): Max retries exceeded with url: /emma.txt (Caused by NameResolutionError(\"<urllib3.connection.HTTPConnection object at 0x138f12ad0>: Failed to resolve 'www.awesomefilm.comscript' ([Errno 8] nodename nor servname provided, or not known)\"))\n",
      "Error processing http://film_20100519/all_imsdb_05_19_10/Escape-From-L.A..html: HTTPConnectionPool(host='film_20100519', port=80): Max retries exceeded with url: /all_imsdb_05_19_10/Escape-From-L.A..html (Caused by NameResolutionError(\"<urllib3.connection.HTTPConnection object at 0x138f11870>: Failed to resolve 'film_20100519' ([Errno 8] nodename nor servname provided, or not known)\"))\n",
      "Error processing http://film_20100519/all_imsdb_05_19_10/Executive-Decision.html: HTTPConnectionPool(host='film_20100519', port=80): Max retries exceeded with url: /all_imsdb_05_19_10/Executive-Decision.html (Caused by NameResolutionError(\"<urllib3.connection.HTTPConnection object at 0x12e9a00a0>: Failed to resolve 'film_20100519' ([Errno 8] nodename nor servname provided, or not known)\"))\n",
      "Invalid URL format: http://FRIGHTENERS, THE (1996) by Fran Walsh & Peter Jackson [1994.07.20] [3rd] [Scan].pdf\n"
     ]
    },
    {
     "name": "stderr",
     "output_type": "stream",
     "text": [
      "Some characters could not be decoded, and were replaced with REPLACEMENT CHARACTER.\n"
     ]
    },
    {
     "name": "stdout",
     "output_type": "stream",
     "text": [
      "Error processing http://film_20100519/all_imsdb_05_19_10/Independence-Day.html: HTTPConnectionPool(host='film_20100519', port=80): Max retries exceeded with url: /all_imsdb_05_19_10/Independence-Day.html (Caused by NameResolutionError(\"<urllib3.connection.HTTPConnection object at 0x10e6d1db0>: Failed to resolve 'film_20100519' ([Errno 8] nodename nor servname provided, or not known)\"))\n",
      "Error processing http://LAST MAN STANDING (1996) 1995.08.28 draft by Walter Hill.pdf: HTTPConnectionPool(host='last%20man%20standing%20(1996)%201995.08.28%20draft%20by%20walter%20hill.pdf', port=80): Max retries exceeded with url: / (Caused by NameResolutionError(\"<urllib3.connection.HTTPConnection object at 0x10e2af280>: Failed to resolve 'last%20man%20standing%20(1996)%201995.08.28%20draft%20by%20walter%20hill.pdf' ([Errno 8] nodename nor servname provided, or not known)\"))\n",
      "Error processing http://film_20100519/all_imsdb_05_19_10/Long-Kiss-Goodnight,-The.html: HTTPConnectionPool(host='film_20100519', port=80): Max retries exceeded with url: /all_imsdb_05_19_10/Long-Kiss-Goodnight,-The.html (Caused by NameResolutionError(\"<urllib3.connection.HTTPConnection object at 0x10e2ac1f0>: Failed to resolve 'film_20100519' ([Errno 8] nodename nor servname provided, or not known)\"))\n",
      "Error processing http://www.pages.drexel.edu/~ina22/splaylib/Screenplay-Mars_Attacks.pdf: HTTPConnectionPool(host='www.pages.drexel.edu', port=80): Max retries exceeded with url: /~ina22/splaylib/Screenplay-Mars_Attacks.pdf (Caused by NameResolutionError(\"<urllib3.connection.HTTPConnection object at 0x138f121a0>: Failed to resolve 'www.pages.drexel.edu' ([Errno 8] nodename nor servname provided, or not known)\"))\n"
     ]
    },
    {
     "name": "stderr",
     "output_type": "stream",
     "text": [
      "Some characters could not be decoded, and were replaced with REPLACEMENT CHARACTER.\n"
     ]
    },
    {
     "name": "stdout",
     "output_type": "stream",
     "text": [
      "Error processing http://www.pages.drexel.edu/~ina22/splaylib/Screenplay-Mrs._Winterbourne.pdf: HTTPConnectionPool(host='www.pages.drexel.edu', port=80): Max retries exceeded with url: /~ina22/splaylib/Screenplay-Mrs._Winterbourne.pdf (Caused by NameResolutionError(\"<urllib3.connection.HTTPConnection object at 0x138f13010>: Failed to resolve 'www.pages.drexel.edu' ([Errno 8] nodename nor servname provided, or not known)\"))\n",
      "Invalid URL format: http://Primal Fear (1996) [1995-4-10] [Rev.] [Scan].pdf\n",
      "Error processing http://Ransom (Richard Price, 11-3-95).pdf: HTTPConnectionPool(host='ransom%20(richard%20price,%2011-3-95).pdf', port=80): Max retries exceeded with url: / (Caused by NameResolutionError(\"<urllib3.connection.HTTPConnection object at 0x10e2f8a00>: Failed to resolve 'ransom%20(richard%20price,%2011-3-95).pdf' ([Errno 8] nodename nor servname provided, or not known)\"))\n",
      "Error processing http://film_20100519/all_imsdb_05_19_10/Rock,-The.html: HTTPConnectionPool(host='film_20100519', port=80): Max retries exceeded with url: /all_imsdb_05_19_10/Rock,-The.html (Caused by NameResolutionError(\"<urllib3.connection.HTTPConnection object at 0x10e2f91e0>: Failed to resolve 'film_20100519' ([Errno 8] nodename nor servname provided, or not known)\"))\n",
      "Error processing http://Space Jam Script.pdf: HTTPConnectionPool(host='space%20jam%20script.pdf', port=80): Max retries exceeded with url: / (Caused by NameResolutionError(\"<urllib3.connection.HTTPConnection object at 0x10e6d0a30>: Failed to resolve 'space%20jam%20script.pdf' ([Errno 8] nodename nor servname provided, or not known)\"))\n",
      "Error processing http://film_20100519/all_imsdb_05_19_10/Tin-Cup.html: HTTPConnectionPool(host='film_20100519', port=80): Max retries exceeded with url: /all_imsdb_05_19_10/Tin-Cup.html (Caused by NameResolutionError(\"<urllib3.connection.HTTPConnection object at 0x10e6d1f60>: Failed to resolve 'film_20100519' ([Errno 8] nodename nor servname provided, or not known)\"))\n",
      "Error processing http://Twister (Crichton & Martin, undated, unspecified draft).pdf: Failed to parse: 'twister%20(crichton%20&%20martin,%20undated,%20unspecified%20draft).pdf', label empty or too long\n",
      "Error processing http://www.pages.drexel.edu/~ina22/splaylib/Screenplay-Up_Close_and_Personal.pdf: HTTPConnectionPool(host='www.pages.drexel.edu', port=80): Max retries exceeded with url: /~ina22/splaylib/Screenplay-Up_Close_and_Personal.pdf (Caused by NameResolutionError(\"<urllib3.connection.HTTPConnection object at 0x10e6f39a0>: Failed to resolve 'www.pages.drexel.edu' ([Errno 8] nodename nor servname provided, or not known)\"))\n",
      "Error processing http://www.pages.drexel.edu/~ina22/splaylib/Screenplay-Watermelon_Woman,_The.pdf: HTTPConnectionPool(host='www.pages.drexel.edu', port=80): Max retries exceeded with url: /~ina22/splaylib/Screenplay-Watermelon_Woman,_The.pdf (Caused by NameResolutionError(\"<urllib3.connection.HTTPConnection object at 0x10e29cca0>: Failed to resolve 'www.pages.drexel.edu' ([Errno 8] nodename nor servname provided, or not known)\"))\n",
      "Error processing http://film_20100519/all_imsdb_05_19_10/White-Squall.html: HTTPConnectionPool(host='film_20100519', port=80): Max retries exceeded with url: /all_imsdb_05_19_10/White-Squall.html (Caused by NameResolutionError(\"<urllib3.connection.HTTPConnection object at 0x10e29d480>: Failed to resolve 'film_20100519' ([Errno 8] nodename nor servname provided, or not known)\"))\n"
     ]
    },
    {
     "name": "stderr",
     "output_type": "stream",
     "text": [
      "Some characters could not be decoded, and were replaced with REPLACEMENT CHARACTER.\n"
     ]
    },
    {
     "name": "stdout",
     "output_type": "stream",
     "text": [
      "Error processing http://www.dailyscript.com/scripts/187.pdf: The markup you provided was rejected by the parser. Trying a different parser or a different encoding may help.\n",
      "\n",
      "Original exception(s) from parser:\n",
      " AssertionError: expected name token at '<![��_�\\x1a0R��\\t�og$)��'\n",
      "Error processing http://film_20100519/all_imsdb_05_19_10/Air-Force-One.html: HTTPConnectionPool(host='film_20100519', port=80): Max retries exceeded with url: /all_imsdb_05_19_10/Air-Force-One.html (Caused by NameResolutionError(\"<urllib3.connection.HTTPConnection object at 0x10e6f26b0>: Failed to resolve 'film_20100519' ([Errno 8] nodename nor servname provided, or not known)\"))\n",
      "Error processing http://film_20100519/all_imsdb_05_19_10/Anastasia.html: HTTPConnectionPool(host='film_20100519', port=80): Max retries exceeded with url: /all_imsdb_05_19_10/Anastasia.html (Caused by NameResolutionError(\"<urllib3.connection.HTTPConnection object at 0x10e29d300>: Failed to resolve 'film_20100519' ([Errno 8] nodename nor servname provided, or not known)\"))\n",
      "Error processing http://film_20100519/all_imsdb_05_19_10/Assignment,-The.html: HTTPConnectionPool(host='film_20100519', port=80): Max retries exceeded with url: /all_imsdb_05_19_10/Assignment,-The.html (Caused by NameResolutionError(\"<urllib3.connection.HTTPConnection object at 0x10e29d570>: Failed to resolve 'film_20100519' ([Errno 8] nodename nor servname provided, or not known)\"))\n",
      "Error processing http://film_20100519/all_imsdb_05_19_10/Austin-Powers---International-Man-of-Mystery.html: HTTPConnectionPool(host='film_20100519', port=80): Max retries exceeded with url: /all_imsdb_05_19_10/Austin-Powers---International-Man-of-Mystery.html (Caused by NameResolutionError(\"<urllib3.connection.HTTPConnection object at 0x10e6d1690>: Failed to resolve 'film_20100519' ([Errno 8] nodename nor servname provided, or not known)\"))\n"
     ]
    },
    {
     "name": "stderr",
     "output_type": "stream",
     "text": [
      "Some characters could not be decoded, and were replaced with REPLACEMENT CHARACTER.\n"
     ]
    },
    {
     "name": "stdout",
     "output_type": "stream",
     "text": [
      "Error processing http://film_20100519/all_imsdb_05_19_10/Contact.html: HTTPConnectionPool(host='film_20100519', port=80): Max retries exceeded with url: /all_imsdb_05_19_10/Contact.html (Caused by NameResolutionError(\"<urllib3.connection.HTTPConnection object at 0x10e6d0b80>: Failed to resolve 'film_20100519' ([Errno 8] nodename nor servname provided, or not known)\"))\n",
      "Error processing http://deconstructing_harry.pdf: HTTPConnectionPool(host='deconstructing_harry.pdf', port=80): Max retries exceeded with url: / (Caused by NameResolutionError(\"<urllib3.connection.HTTPConnection object at 0x138f10b20>: Failed to resolve 'deconstructing_harry.pdf' ([Errno 8] nodename nor servname provided, or not known)\"))\n",
      "Error processing http://film_20100519/all_imsdb_05_19_10/Donnie-Brasco.html: HTTPConnectionPool(host='film_20100519', port=80): Max retries exceeded with url: /all_imsdb_05_19_10/Donnie-Brasco.html (Caused by NameResolutionError(\"<urllib3.connection.HTTPConnection object at 0x10e6f1780>: Failed to resolve 'film_20100519' ([Errno 8] nodename nor servname provided, or not known)\"))\n",
      "Invalid URL format: http://The Edge (1997) (aka Bookworm) [1996-1] [Scan].pdf\n",
      "Error processing http://film_20100519/all_imsdb_05_19_10/Face-Off.html: HTTPConnectionPool(host='film_20100519', port=80): Max retries exceeded with url: /all_imsdb_05_19_10/Face-Off.html (Caused by NameResolutionError(\"<urllib3.connection.HTTPConnection object at 0x10e2aead0>: Failed to resolve 'film_20100519' ([Errno 8] nodename nor servname provided, or not known)\"))\n"
     ]
    },
    {
     "name": "stderr",
     "output_type": "stream",
     "text": [
      "Some characters could not be decoded, and were replaced with REPLACEMENT CHARACTER.\n"
     ]
    },
    {
     "name": "stdout",
     "output_type": "stream",
     "text": [
      "Error processing http://film_20100519/all_imsdb_05_19_10/Fifth-Element,-The.html: HTTPConnectionPool(host='film_20100519', port=80): Max retries exceeded with url: /all_imsdb_05_19_10/Fifth-Element,-The.html (Caused by NameResolutionError(\"<urllib3.connection.HTTPConnection object at 0x10e2fb4c0>: Failed to resolve 'film_20100519' ([Errno 8] nodename nor servname provided, or not known)\"))\n",
      "Error processing http://film_20100519/all_imsdb_05_19_10/G.I.-Jane.html: HTTPConnectionPool(host='film_20100519', port=80): Max retries exceeded with url: /all_imsdb_05_19_10/G.I.-Jane.html (Caused by NameResolutionError(\"<urllib3.connection.HTTPConnection object at 0x10e6f0dc0>: Failed to resolve 'film_20100519' ([Errno 8] nodename nor servname provided, or not known)\"))\n",
      "Error processing http://www.pages.drexel.edu/~ina22/splaylib/Screenplay-Game_The.HTM: HTTPConnectionPool(host='www.pages.drexel.edu', port=80): Max retries exceeded with url: /~ina22/splaylib/Screenplay-Game_The.HTM (Caused by NameResolutionError(\"<urllib3.connection.HTTPConnection object at 0x10e6f3f10>: Failed to resolve 'www.pages.drexel.edu' ([Errno 8] nodename nor servname provided, or not known)\"))\n",
      "Error processing http://film_20100519/all_imsdb_05_19_10/Gattaca.html: HTTPConnectionPool(host='film_20100519', port=80): Max retries exceeded with url: /all_imsdb_05_19_10/Gattaca.html (Caused by NameResolutionError(\"<urllib3.connection.HTTPConnection object at 0x10e6f3610>: Failed to resolve 'film_20100519' ([Errno 8] nodename nor servname provided, or not known)\"))\n",
      "Error processing http://film_20100519/all_imsdb_05_19_10/Grosse-Point-Blank.html: HTTPConnectionPool(host='film_20100519', port=80): Max retries exceeded with url: /all_imsdb_05_19_10/Grosse-Point-Blank.html (Caused by NameResolutionError(\"<urllib3.connection.HTTPConnection object at 0x10e6f1b70>: Failed to resolve 'film_20100519' ([Errno 8] nodename nor servname provided, or not known)\"))\n",
      "Error processing http://I Know What You Did Last Summer.pdf: HTTPConnectionPool(host='i%20know%20what%20you%20did%20last%20summer.pdf', port=80): Max retries exceeded with url: / (Caused by NameResolutionError(\"<urllib3.connection.HTTPConnection object at 0x10e6f0eb0>: Failed to resolve 'i%20know%20what%20you%20did%20last%20summer.pdf' ([Errno 8] nodename nor servname provided, or not known)\"))\n"
     ]
    },
    {
     "name": "stderr",
     "output_type": "stream",
     "text": [
      "Some characters could not be decoded, and were replaced with REPLACEMENT CHARACTER.\n"
     ]
    },
    {
     "name": "stdout",
     "output_type": "stream",
     "text": [
      "Error processing http://film_20100519/all_imsdb_05_19_10/Kundun.html: HTTPConnectionPool(host='film_20100519', port=80): Max retries exceeded with url: /all_imsdb_05_19_10/Kundun.html (Caused by NameResolutionError(\"<urllib3.connection.HTTPConnection object at 0x10e2f8400>: Failed to resolve 'film_20100519' ([Errno 8] nodename nor servname provided, or not known)\"))\n",
      "Error processing http://film_20100519/all_imsdb_05_19_10/L.A.-Confidential.html: HTTPConnectionPool(host='film_20100519', port=80): Max retries exceeded with url: /all_imsdb_05_19_10/L.A.-Confidential.html (Caused by NameResolutionError(\"<urllib3.connection.HTTPConnection object at 0x10e2fb670>: Failed to resolve 'film_20100519' ([Errno 8] nodename nor servname provided, or not known)\"))\n",
      "Error processing http://film_20100519/all_imsdb_05_19_10/Men-in-Black.html: HTTPConnectionPool(host='film_20100519', port=80): Max retries exceeded with url: /all_imsdb_05_19_10/Men-in-Black.html (Caused by NameResolutionError(\"<urllib3.connection.HTTPConnection object at 0x12ee34dc0>: Failed to resolve 'film_20100519' ([Errno 8] nodename nor servname provided, or not known)\"))\n",
      "Error processing http://film_20100519/all_imsdb_05_19_10/Metro.html: HTTPConnectionPool(host='film_20100519', port=80): Max retries exceeded with url: /all_imsdb_05_19_10/Metro.html (Caused by NameResolutionError(\"<urllib3.connection.HTTPConnection object at 0x12ee37220>: Failed to resolve 'film_20100519' ([Errno 8] nodename nor servname provided, or not known)\"))\n",
      "Error processing http://film_20100519/all_imsdb_05_19_10/My-Best-Friend's-Wedding.html: HTTPConnectionPool(host='film_20100519', port=80): Max retries exceeded with url: /all_imsdb_05_19_10/My-Best-Friend's-Wedding.html (Caused by NameResolutionError(\"<urllib3.connection.HTTPConnection object at 0x12ee375e0>: Failed to resolve 'film_20100519' ([Errno 8] nodename nor servname provided, or not known)\"))\n",
      "Error processing http://film_20100519/all_imsdb_05_19_10/Saint,-The.html: HTTPConnectionPool(host='film_20100519', port=80): Max retries exceeded with url: /all_imsdb_05_19_10/Saint,-The.html (Caused by NameResolutionError(\"<urllib3.connection.HTTPConnection object at 0x32d78e050>: Failed to resolve 'film_20100519' ([Errno 8] nodename nor servname provided, or not known)\"))\n",
      "Error processing http://Scream 2.pdf: HTTPConnectionPool(host='scream%202.pdf', port=80): Max retries exceeded with url: / (Caused by NameResolutionError(\"<urllib3.connection.HTTPConnection object at 0x32d78e4a0>: Failed to resolve 'scream%202.pdf' ([Errno 8] nodename nor servname provided, or not known)\"))\n",
      "Error processing http://Spawn (1996.05.14).pdf: HTTPConnectionPool(host='spawn%20(1996.05.14).pdf', port=80): Max retries exceeded with url: / (Caused by NameResolutionError(\"<urllib3.connection.HTTPConnection object at 0x32d78cbb0>: Failed to resolve 'spawn%20(1996.05.14).pdf' ([Errno 8] nodename nor servname provided, or not known)\"))\n"
     ]
    },
    {
     "name": "stderr",
     "output_type": "stream",
     "text": [
      "Some characters could not be decoded, and were replaced with REPLACEMENT CHARACTER.\n"
     ]
    },
    {
     "name": "stdout",
     "output_type": "stream",
     "text": [
      "Error processing http://film_20100519/all_imsdb_05_19_10/Starship-Troopers.html: HTTPConnectionPool(host='film_20100519', port=80): Max retries exceeded with url: /all_imsdb_05_19_10/Starship-Troopers.html (Caused by NameResolutionError(\"<urllib3.connection.HTTPConnection object at 0x10e323c70>: Failed to resolve 'film_20100519' ([Errno 8] nodename nor servname provided, or not known)\"))\n",
      "Error processing http://film_20100519/all_imsdb_05_19_10/State-and-Main.html: HTTPConnectionPool(host='film_20100519', port=80): Max retries exceeded with url: /all_imsdb_05_19_10/State-and-Main.html (Caused by NameResolutionError(\"<urllib3.connection.HTTPConnection object at 0x10e3212a0>: Failed to resolve 'film_20100519' ([Errno 8] nodename nor servname provided, or not known)\"))\n",
      "Error processing http://www.awesomefilm.com/script/suburbia.html: 404 Client Error: Not Found for url: http://www.awesomefilm.com/script/suburbia.html\n",
      "Error processing http://www.pages.drexel.edu/~ina22/splaylib/Screenplay-Simple_Plan,_A.pdf: HTTPConnectionPool(host='www.pages.drexel.edu', port=80): Max retries exceeded with url: /~ina22/splaylib/Screenplay-Simple_Plan,_A.pdf (Caused by NameResolutionError(\"<urllib3.connection.HTTPConnection object at 0x10e322b00>: Failed to resolve 'www.pages.drexel.edu' ([Errno 8] nodename nor servname provided, or not known)\"))\n",
      "Error processing http://film_20100519/all_imsdb_05_19_10/Truman-Show,-The.html: HTTPConnectionPool(host='film_20100519', port=80): Max retries exceeded with url: /all_imsdb_05_19_10/Truman-Show,-The.html (Caused by NameResolutionError(\"<urllib3.connection.HTTPConnection object at 0x10e320700>: Failed to resolve 'film_20100519' ([Errno 8] nodename nor servname provided, or not known)\"))\n"
     ]
    },
    {
     "name": "stderr",
     "output_type": "stream",
     "text": [
      "Some characters could not be decoded, and were replaced with REPLACEMENT CHARACTER.\n"
     ]
    },
    {
     "name": "stdout",
     "output_type": "stream",
     "text": [
      "Error processing http://film_20100519/all_imsdb_05_19_10/Mummy,-The.html: HTTPConnectionPool(host='film_20100519', port=80): Max retries exceeded with url: /all_imsdb_05_19_10/Mummy,-The.html (Caused by NameResolutionError(\"<urllib3.connection.HTTPConnection object at 0x32d78ce80>: Failed to resolve 'film_20100519' ([Errno 8] nodename nor servname provided, or not known)\"))\n",
      "Error processing http://Breakfast of Champions.pdf: HTTPConnectionPool(host='breakfast%20of%20champions.pdf', port=80): Max retries exceeded with url: / (Caused by NameResolutionError(\"<urllib3.connection.HTTPConnection object at 0x138f04280>: Failed to resolve 'breakfast%20of%20champions.pdf' ([Errno 8] nodename nor servname provided, or not known)\"))\n",
      "Error processing http://A CIVIL ACTION.pdf: HTTPConnectionPool(host='a%20civil%20action.pdf', port=80): Max retries exceeded with url: / (Caused by NameResolutionError(\"<urllib3.connection.HTTPConnection object at 0x138f06d10>: Failed to resolve 'a%20civil%20action.pdf' ([Errno 8] nodename nor servname provided, or not known)\"))\n",
      "Error processing http://www.awesomefilm.comscript/Deep_End_of_the_Ocean.txt: HTTPConnectionPool(host='www.awesomefilm.comscript', port=80): Max retries exceeded with url: /Deep_End_of_the_Ocean.txt (Caused by NameResolutionError(\"<urllib3.connection.HTTPConnection object at 0x32d78f700>: Failed to resolve 'www.awesomefilm.comscript' ([Errno 8] nodename nor servname provided, or not known)\"))\n",
      "Error processing http://film_20100519/all_imsdb_05_19_10/Eyes-Wide-Shut.html: HTTPConnectionPool(host='film_20100519', port=80): Max retries exceeded with url: /all_imsdb_05_19_10/Eyes-Wide-Shut.html (Caused by NameResolutionError(\"<urllib3.connection.HTTPConnection object at 0x12a497340>: Failed to resolve 'film_20100519' ([Errno 8] nodename nor servname provided, or not known)\"))\n",
      "Error processing http://film_20100519/all_imsdb_05_19_10/Hard-Rain.html: HTTPConnectionPool(host='film_20100519', port=80): Max retries exceeded with url: /all_imsdb_05_19_10/Hard-Rain.html (Caused by NameResolutionError(\"<urllib3.connection.HTTPConnection object at 0x12a52b700>: Failed to resolve 'film_20100519' ([Errno 8] nodename nor servname provided, or not known)\"))\n",
      "Error processing http://film_20100519/all_imsdb_05_19_10/Lord-of-the-Rings-Fellowship-of-the-Ring,-The.html: HTTPConnectionPool(host='film_20100519', port=80): Max retries exceeded with url: /all_imsdb_05_19_10/Lord-of-the-Rings-Fellowship-of-the-Ring,-The.html (Caused by NameResolutionError(\"<urllib3.connection.HTTPConnection object at 0x12a52a080>: Failed to resolve 'film_20100519' ([Errno 8] nodename nor servname provided, or not known)\"))\n",
      "Error processing http://film_20100519/all_imsdb_05_19_10/Lost-in-Space.html: HTTPConnectionPool(host='film_20100519', port=80): Max retries exceeded with url: /all_imsdb_05_19_10/Lost-in-Space.html (Caused by NameResolutionError(\"<urllib3.connection.HTTPConnection object at 0x12a5298d0>: Failed to resolve 'film_20100519' ([Errno 8] nodename nor servname provided, or not known)\"))\n",
      "Error processing http://film_20100519/all_imsdb_05_19_10/Man-in-the-Iron-Mask.html: HTTPConnectionPool(host='film_20100519', port=80): Max retries exceeded with url: /all_imsdb_05_19_10/Man-in-the-Iron-Mask.html (Caused by NameResolutionError(\"<urllib3.connection.HTTPConnection object at 0x32d78eaa0>: Failed to resolve 'film_20100519' ([Errno 8] nodename nor servname provided, or not known)\"))\n"
     ]
    },
    {
     "name": "stderr",
     "output_type": "stream",
     "text": [
      "Some characters could not be decoded, and were replaced with REPLACEMENT CHARACTER.\n"
     ]
    },
    {
     "name": "stdout",
     "output_type": "stream",
     "text": [
      "Error processing http://www.awesomefilm.comscript/roxt.txt: HTTPConnectionPool(host='www.awesomefilm.comscript', port=80): Max retries exceeded with url: /roxt.txt (Caused by NameResolutionError(\"<urllib3.connection.HTTPConnection object at 0x10e6bb7f0>: Failed to resolve 'www.awesomefilm.comscript' ([Errno 8] nodename nor servname provided, or not known)\"))\n",
      "Invalid URL format: http://ODD COUPLE II, THE (1998) by Neil Simon [1997.04.10] [3rd] [Scan].pdf\n",
      "Error processing http://Payback (August 1997).pdf: HTTPConnectionPool(host='payback%20(august%201997).pdf', port=80): Max retries exceeded with url: / (Caused by NameResolutionError(\"<urllib3.connection.HTTPConnection object at 0x12ede9750>: Failed to resolve 'payback%20(august%201997).pdf' ([Errno 8] nodename nor servname provided, or not known)\"))\n",
      "Error processing http://www.awesomefilm.comscript/practicalmagic.html: HTTPConnectionPool(host='www.awesomefilm.comscript', port=80): Max retries exceeded with url: /practicalmagic.html (Caused by NameResolutionError(\"<urllib3.connection.HTTPConnection object at 0x12e879ea0>: Failed to resolve 'www.awesomefilm.comscript' ([Errno 8] nodename nor servname provided, or not known)\"))\n",
      "Error processing http://SnakeEyes.pdf: HTTPConnectionPool(host='snakeeyes.pdf', port=80): Max retries exceeded with url: / (Caused by NameResolutionError(\"<urllib3.connection.HTTPConnection object at 0x1397f5750>: Failed to resolve 'snakeeyes.pdf' ([Errno 8] nodename nor servname provided, or not known)\"))\n",
      "Error processing http://film_20100519/all_imsdb_05_19_10/Snow-Falling-On-Cedars.html: HTTPConnectionPool(host='film_20100519', port=80): Max retries exceeded with url: /all_imsdb_05_19_10/Snow-Falling-On-Cedars.html (Caused by NameResolutionError(\"<urllib3.connection.HTTPConnection object at 0x13a0f1ae0>: Failed to resolve 'film_20100519' ([Errno 8] nodename nor servname provided, or not known)\"))\n"
     ]
    },
    {
     "name": "stderr",
     "output_type": "stream",
     "text": [
      "Some characters could not be decoded, and were replaced with REPLACEMENT CHARACTER.\n"
     ]
    },
    {
     "name": "stdout",
     "output_type": "stream",
     "text": [
      "Error processing http://From Dusk Till Dawn 2- Texas Blood Money.pdf: HTTPConnectionPool(host='from%20dusk%20till%20dawn%202-%20texas%20blood%20money.pdf', port=80): Max retries exceeded with url: / (Caused by NameResolutionError(\"<urllib3.connection.HTTPConnection object at 0x139076f50>: Failed to resolve 'from%20dusk%20till%20dawn%202-%20texas%20blood%20money.pdf' ([Errno 8] nodename nor servname provided, or not known)\"))\n",
      "Error processing http://www.pages.drexel.edu/~ina22/splaylib/Screenplay-Wedding_Singer,_The.pdf: HTTPConnectionPool(host='www.pages.drexel.edu', port=80): Max retries exceeded with url: /~ina22/splaylib/Screenplay-Wedding_Singer,_The.pdf (Caused by NameResolutionError(\"<urllib3.connection.HTTPConnection object at 0x139077400>: Failed to resolve 'www.pages.drexel.edu' ([Errno 8] nodename nor servname provided, or not known)\"))\n"
     ]
    },
    {
     "name": "stderr",
     "output_type": "stream",
     "text": [
      "Some characters could not be decoded, and were replaced with REPLACEMENT CHARACTER.\n"
     ]
    },
    {
     "name": "stdout",
     "output_type": "stream",
     "text": [
      "Invalid URL format: http://X FILES, THE (1998) (aka X-FILES - FIGHT THE FUTURE) by Chris Carter [1997.06.30] [Yellow Pages] [Digital].pdf\n",
      "Error processing http://Zero Effect (Jake Kasdan, 4.21.97).pdf: HTTPConnectionPool(host='zero%20effect%20(jake%20kasdan,%204.21.97).pdf', port=80): Max retries exceeded with url: / (Caused by NameResolutionError(\"<urllib3.connection.HTTPConnection object at 0x12a5c9cf0>: Failed to resolve 'zero%20effect%20(jake%20kasdan,%204.21.97).pdf' ([Errno 8] nodename nor servname provided, or not known)\"))\n",
      "Error processing http://eXistenZ.pdf: HTTPConnectionPool(host='existenz.pdf', port=80): Max retries exceeded with url: / (Caused by NameResolutionError(\"<urllib3.connection.HTTPConnection object at 0x10d623430>: Failed to resolve 'existenz.pdf' ([Errno 8] nodename nor servname provided, or not known)\"))\n",
      "Error processing http://film_20100519/all_imsdb_05_19_10/Star-Wars-Attack-of-the-Clones.html: HTTPConnectionPool(host='film_20100519', port=80): Max retries exceeded with url: /all_imsdb_05_19_10/Star-Wars-Attack-of-the-Clones.html (Caused by NameResolutionError(\"<urllib3.connection.HTTPConnection object at 0x10d623280>: Failed to resolve 'film_20100519' ([Errno 8] nodename nor servname provided, or not known)\"))\n",
      "Error processing http://film_20100519/all_imsdb_05_19_10/Henry-Fool.html: HTTPConnectionPool(host='film_20100519', port=80): Max retries exceeded with url: /all_imsdb_05_19_10/Henry-Fool.html (Caused by NameResolutionError(\"<urllib3.connection.HTTPConnection object at 0x10e221030>: Failed to resolve 'film_20100519' ([Errno 8] nodename nor servname provided, or not known)\"))\n",
      "Error processing http://film_20100519/all_imsdb_05_19_10/Ronin.html: HTTPConnectionPool(host='film_20100519', port=80): Max retries exceeded with url: /all_imsdb_05_19_10/Ronin.html (Caused by NameResolutionError(\"<urllib3.connection.HTTPConnection object at 0x10e223fd0>: Failed to resolve 'film_20100519' ([Errno 8] nodename nor servname provided, or not known)\"))\n",
      "Error processing http://film_20100519/all_imsdb_05_19_10/Very-Bad-Things.html: HTTPConnectionPool(host='film_20100519', port=80): Max retries exceeded with url: /all_imsdb_05_19_10/Very-Bad-Things.html (Caused by NameResolutionError(\"<urllib3.connection.HTTPConnection object at 0x10e222ec0>: Failed to resolve 'film_20100519' ([Errno 8] nodename nor servname provided, or not known)\"))\n",
      "Error processing http://film_20100519/all_imsdb_05_19_10/Cider-House-Rules,-The.html: HTTPConnectionPool(host='film_20100519', port=80): Max retries exceeded with url: /all_imsdb_05_19_10/Cider-House-Rules,-The.html (Caused by NameResolutionError(\"<urllib3.connection.HTTPConnection object at 0x10e320400>: Failed to resolve 'film_20100519' ([Errno 8] nodename nor servname provided, or not known)\"))\n",
      "Error processing http://ElizabethHSF.pdf: HTTPConnectionPool(host='elizabethhsf.pdf', port=80): Max retries exceeded with url: / (Caused by NameResolutionError(\"<urllib3.connection.HTTPConnection object at 0x10e222440>: Failed to resolve 'elizabethhsf.pdf' ([Errno 8] nodename nor servname provided, or not known)\"))\n",
      "Error processing http://ROUNDERS (1998) by David Levien and Brian Koppelman.pdf: Failed to parse: 'rounders%20(1998)%20by%20david%20levien%20and%20brian%20koppelman.pdf', label empty or too long\n",
      "Error processing http://film_20100519/all_imsdb_05_19_10/Rushmore.html: HTTPConnectionPool(host='film_20100519', port=80): Max retries exceeded with url: /all_imsdb_05_19_10/Rushmore.html (Caused by NameResolutionError(\"<urllib3.connection.HTTPConnection object at 0x138f043d0>: Failed to resolve 'film_20100519' ([Errno 8] nodename nor servname provided, or not known)\"))\n",
      "Error processing http://The Iron Giant.pdf: HTTPConnectionPool(host='the%20iron%20giant.pdf', port=80): Max retries exceeded with url: / (Caused by NameResolutionError(\"<urllib3.connection.HTTPConnection object at 0x12a4940d0>: Failed to resolve 'the%20iron%20giant.pdf' ([Errno 8] nodename nor servname provided, or not known)\"))\n",
      "Error processing http://ravenous.pdf: HTTPConnectionPool(host='ravenous.pdf', port=80): Max retries exceeded with url: / (Caused by NameResolutionError(\"<urllib3.connection.HTTPConnection object at 0x12a4940d0>: Failed to resolve 'ravenous.pdf' ([Errno 8] nodename nor servname provided, or not known)\"))\n",
      "Error processing http://film_20100519/all_imsdb_05_19_10/Matrix,-The.html: HTTPConnectionPool(host='film_20100519', port=80): Max retries exceeded with url: /all_imsdb_05_19_10/Matrix,-The.html (Caused by NameResolutionError(\"<urllib3.connection.HTTPConnection object at 0x138f06890>: Failed to resolve 'film_20100519' ([Errno 8] nodename nor servname provided, or not known)\"))\n",
      "Error processing http://www.pages.drexel.edu/~ina22/splaylib/Screenplay-Faculty_The.pdf: HTTPConnectionPool(host='www.pages.drexel.edu', port=80): Max retries exceeded with url: /~ina22/splaylib/Screenplay-Faculty_The.pdf (Caused by NameResolutionError(\"<urllib3.connection.HTTPConnection object at 0x12a77f7c0>: Failed to resolve 'www.pages.drexel.edu' ([Errno 8] nodename nor servname provided, or not known)\"))\n",
      "Error processing http://Arlington Road.pdf: HTTPConnectionPool(host='arlington%20road.pdf', port=80): Max retries exceeded with url: / (Caused by NameResolutionError(\"<urllib3.connection.HTTPConnection object at 0x12a7fd5a0>: Failed to resolve 'arlington%20road.pdf' ([Errno 8] nodename nor servname provided, or not known)\"))\n",
      "Error processing http://film_20100519/all_imsdb_05_19_10/Fight-Club.html: HTTPConnectionPool(host='film_20100519', port=80): Max retries exceeded with url: /all_imsdb_05_19_10/Fight-Club.html (Caused by NameResolutionError(\"<urllib3.connection.HTTPConnection object at 0x12a4977c0>: Failed to resolve 'film_20100519' ([Errno 8] nodename nor servname provided, or not known)\"))\n",
      "Error processing http://film_20100519/all_imsdb_05_19_10/Intolerable-Cruelty.html: HTTPConnectionPool(host='film_20100519', port=80): Max retries exceeded with url: /all_imsdb_05_19_10/Intolerable-Cruelty.html (Caused by NameResolutionError(\"<urllib3.connection.HTTPConnection object at 0x12a77c7f0>: Failed to resolve 'film_20100519' ([Errno 8] nodename nor servname provided, or not known)\"))\n"
     ]
    },
    {
     "name": "stderr",
     "output_type": "stream",
     "text": [
      "Some characters could not be decoded, and were replaced with REPLACEMENT CHARACTER.\n",
      "Some characters could not be decoded, and were replaced with REPLACEMENT CHARACTER.\n"
     ]
    },
    {
     "name": "stdout",
     "output_type": "stream",
     "text": [
      "Error processing http://Ninth Gate, The (1999) (Numbered).pdf: HTTPConnectionPool(host='ninth%20gate,%20the%20(1999)%20(numbered).pdf', port=80): Max retries exceeded with url: / (Caused by NameResolutionError(\"<urllib3.connection.HTTPConnection object at 0x10e662350>: Failed to resolve 'ninth%20gate,%20the%20(1999)%20(numbered).pdf' ([Errno 8] nodename nor servname provided, or not known)\"))\n",
      "Error processing http://www.pages.drexel.edu/~ina22/splaylib/Screenplay-General%27s_Daughter.pdf: HTTPConnectionPool(host='www.pages.drexel.edu', port=80): Max retries exceeded with url: /~ina22/splaylib/Screenplay-General%27s_Daughter.pdf (Caused by NameResolutionError(\"<urllib3.connection.HTTPConnection object at 0x12a7fe920>: Failed to resolve 'www.pages.drexel.edu' ([Errno 8] nodename nor servname provided, or not known)\"))\n",
      "Error processing http://www.alibi-books.com/thelostson/thelostson.htm: 404 Client Error: Not Found for url: https://www.alibi-books.com/thelostson/thelostson.htm\n",
      "Error processing http://film_20100519/all_imsdb_05_19_10/Highlander-Endgame.html: HTTPConnectionPool(host='film_20100519', port=80): Max retries exceeded with url: /all_imsdb_05_19_10/Highlander-Endgame.html (Caused by NameResolutionError(\"<urllib3.connection.HTTPConnection object at 0x12a7fcd30>: Failed to resolve 'film_20100519' ([Errno 8] nodename nor servname provided, or not known)\"))\n",
      "Error processing http://film_20100519/all_imsdb_05_19_10/Austin-Powers---The-Spy-Who-Shagged-Me.html: HTTPConnectionPool(host='film_20100519', port=80): Max retries exceeded with url: /all_imsdb_05_19_10/Austin-Powers---The-Spy-Who-Shagged-Me.html (Caused by NameResolutionError(\"<urllib3.connection.HTTPConnection object at 0x12a7fc490>: Failed to resolve 'film_20100519' ([Errno 8] nodename nor servname provided, or not known)\"))\n",
      "Error processing http://film_20100519/all_imsdb_05_19_10/Thirteen-Days.html: HTTPConnectionPool(host='film_20100519', port=80): Max retries exceeded with url: /all_imsdb_05_19_10/Thirteen-Days.html (Caused by NameResolutionError(\"<urllib3.connection.HTTPConnection object at 0x12a7fc790>: Failed to resolve 'film_20100519' ([Errno 8] nodename nor servname provided, or not known)\"))\n",
      "Error processing http://End_of_Days.pdf: HTTPConnectionPool(host='end_of_days.pdf', port=80): Max retries exceeded with url: / (Caused by NameResolutionError(\"<urllib3.connection.HTTPConnection object at 0x138f06860>: Failed to resolve 'end_of_days.pdf' ([Errno 8] nodename nor servname provided, or not known)\"))\n"
     ]
    },
    {
     "name": "stderr",
     "output_type": "stream",
     "text": [
      "Some characters could not be decoded, and were replaced with REPLACEMENT CHARACTER.\n"
     ]
    },
    {
     "name": "stdout",
     "output_type": "stream",
     "text": [
      "Invalid URL format: http://All The Pretty Horses (2000) [1993-11-1] [1st Rev.] [Scan].pdf\n",
      "Error processing http://film_20100519/all_imsdb_05_19_10/South-Park.html: HTTPConnectionPool(host='film_20100519', port=80): Max retries exceeded with url: /all_imsdb_05_19_10/South-Park.html (Caused by NameResolutionError(\"<urllib3.connection.HTTPConnection object at 0x12ee3a710>: Failed to resolve 'film_20100519' ([Errno 8] nodename nor servname provided, or not known)\"))\n",
      "Error processing http://film_20100519/all_imsdb_05_19_10/Cast-Away.html: HTTPConnectionPool(host='film_20100519', port=80): Max retries exceeded with url: /all_imsdb_05_19_10/Cast-Away.html (Caused by NameResolutionError(\"<urllib3.connection.HTTPConnection object at 0x138ff9210>: Failed to resolve 'film_20100519' ([Errno 8] nodename nor servname provided, or not known)\"))\n",
      "Error processing http://film_20100519/all_imsdb_05_19_10/Jurassic-Park-III.html: HTTPConnectionPool(host='film_20100519', port=80): Max retries exceeded with url: /all_imsdb_05_19_10/Jurassic-Park-III.html (Caused by NameResolutionError(\"<urllib3.connection.HTTPConnection object at 0x12ee39fc0>: Failed to resolve 'film_20100519' ([Errno 8] nodename nor servname provided, or not known)\"))\n",
      "Error processing http://www.awesomefilm.com/script/chillfactor.html: 404 Client Error: Not Found for url: http://www.awesomefilm.com/script/chillfactor.html\n",
      "Error processing http://film_20100519/all_imsdb_05_19_10/Beach,-The.html: HTTPConnectionPool(host='film_20100519', port=80): Max retries exceeded with url: /all_imsdb_05_19_10/Beach,-The.html (Caused by NameResolutionError(\"<urllib3.connection.HTTPConnection object at 0x1390665c0>: Failed to resolve 'film_20100519' ([Errno 8] nodename nor servname provided, or not known)\"))\n",
      "Error processing http://film_20100519/all_imsdb_05_19_10/Bringing-Out-the-Dead.html: HTTPConnectionPool(host='film_20100519', port=80): Max retries exceeded with url: /all_imsdb_05_19_10/Bringing-Out-the-Dead.html (Caused by NameResolutionError(\"<urllib3.connection.HTTPConnection object at 0x139065c60>: Failed to resolve 'film_20100519' ([Errno 8] nodename nor servname provided, or not known)\"))\n",
      "Error processing http://film_20100519/all_imsdb_05_19_10/Stir-of-Echoes.html: HTTPConnectionPool(host='film_20100519', port=80): Max retries exceeded with url: /all_imsdb_05_19_10/Stir-of-Echoes.html (Caused by NameResolutionError(\"<urllib3.connection.HTTPConnection object at 0x138ff95d0>: Failed to resolve 'film_20100519' ([Errno 8] nodename nor servname provided, or not known)\"))\n",
      "Error processing http://Stuart Little (1997.09.05).pdf: HTTPConnectionPool(host='stuart%20little%20(1997.09.05).pdf', port=80): Max retries exceeded with url: / (Caused by NameResolutionError(\"<urllib3.connection.HTTPConnection object at 0x10d62d3f0>: Failed to resolve 'stuart%20little%20(1997.09.05).pdf' ([Errno 8] nodename nor servname provided, or not known)\"))\n",
      "Error processing http://film_20100519/all_imsdb_05_19_10/Monkeybone.html: HTTPConnectionPool(host='film_20100519', port=80): Max retries exceeded with url: /all_imsdb_05_19_10/Monkeybone.html (Caused by NameResolutionError(\"<urllib3.connection.HTTPConnection object at 0x139067310>: Failed to resolve 'film_20100519' ([Errno 8] nodename nor servname provided, or not known)\"))\n",
      "Error processing http://HELLBOY (1st draft, March '99).pdf: HTTPConnectionPool(host=\"hellboy%20(1st%20draft,%20march%20'99).pdf\", port=80): Max retries exceeded with url: / (Caused by NameResolutionError(\"<urllib3.connection.HTTPConnection object at 0x138ff9a50>: Failed to resolve 'hellboy%20(1st%20draft,%20march%20'99).pdf' ([Errno 8] nodename nor servname provided, or not known)\"))\n",
      "Error processing http://film_20100519/all_imsdb_05_19_10/Lord-of-the-Rings-Return-of-the-King.html: HTTPConnectionPool(host='film_20100519', port=80): Max retries exceeded with url: /all_imsdb_05_19_10/Lord-of-the-Rings-Return-of-the-King.html (Caused by NameResolutionError(\"<urllib3.connection.HTTPConnection object at 0x1397015d0>: Failed to resolve 'film_20100519' ([Errno 8] nodename nor servname provided, or not known)\"))\n",
      "Error processing http://film_20100519/all_imsdb_05_19_10/Lord-of-the-Rings-The-Two-Towers.html: HTTPConnectionPool(host='film_20100519', port=80): Max retries exceeded with url: /all_imsdb_05_19_10/Lord-of-the-Rings-The-Two-Towers.html (Caused by NameResolutionError(\"<urllib3.connection.HTTPConnection object at 0x10e297f10>: Failed to resolve 'film_20100519' ([Errno 8] nodename nor servname provided, or not known)\"))\n",
      "Error processing http://film_20100519/all_imsdb_05_19_10/15-Minutes.html: HTTPConnectionPool(host='film_20100519', port=80): Max retries exceeded with url: /all_imsdb_05_19_10/15-Minutes.html (Caused by NameResolutionError(\"<urllib3.connection.HTTPConnection object at 0x13a0e38e0>: Failed to resolve 'film_20100519' ([Errno 8] nodename nor servname provided, or not known)\"))\n",
      "Error processing http://www.pages.drexel.edu/~ina22/splaylib/Screenplay-Requiem_for_a_Dream.HTM: HTTPConnectionPool(host='www.pages.drexel.edu', port=80): Max retries exceeded with url: /~ina22/splaylib/Screenplay-Requiem_for_a_Dream.HTM (Caused by NameResolutionError(\"<urllib3.connection.HTTPConnection object at 0x138ffa290>: Failed to resolve 'www.pages.drexel.edu' ([Errno 8] nodename nor servname provided, or not known)\"))\n",
      "Error processing http://film_20100519/all_imsdb_05_19_10/Traffic.html: HTTPConnectionPool(host='film_20100519', port=80): Max retries exceeded with url: /all_imsdb_05_19_10/Traffic.html (Caused by NameResolutionError(\"<urllib3.connection.HTTPConnection object at 0x13a0e0490>: Failed to resolve 'film_20100519' ([Errno 8] nodename nor servname provided, or not known)\"))\n",
      "Error processing http://film_20100519/all_imsdb_05_19_10/Mission-to-Mars.html: HTTPConnectionPool(host='film_20100519', port=80): Max retries exceeded with url: /all_imsdb_05_19_10/Mission-to-Mars.html (Caused by NameResolutionError(\"<urllib3.connection.HTTPConnection object at 0x138ffa9e0>: Failed to resolve 'film_20100519' ([Errno 8] nodename nor servname provided, or not known)\"))\n"
     ]
    },
    {
     "name": "stderr",
     "output_type": "stream",
     "text": [
      "Some characters could not be decoded, and were replaced with REPLACEMENT CHARACTER.\n",
      "Some characters could not be decoded, and were replaced with REPLACEMENT CHARACTER.\n"
     ]
    },
    {
     "name": "stdout",
     "output_type": "stream",
     "text": [
      "Invalid URL format: http://GONE IN 60 SECONDS by Scott Rosenberg [1999-4-6] [Digital].pdf\n",
      "Error processing http://film_20100519/all_imsdb_05_19_10/Patriot,-The.html: HTTPConnectionPool(host='film_20100519', port=80): Max retries exceeded with url: /all_imsdb_05_19_10/Patriot,-The.html (Caused by NameResolutionError(\"<urllib3.connection.HTTPConnection object at 0x12ee3aec0>: Failed to resolve 'film_20100519' ([Errno 8] nodename nor servname provided, or not known)\"))\n"
     ]
    },
    {
     "name": "stderr",
     "output_type": "stream",
     "text": [
      "Some characters could not be decoded, and were replaced with REPLACEMENT CHARACTER.\n"
     ]
    },
    {
     "name": "stdout",
     "output_type": "stream",
     "text": [
      "Error processing http://film_20100519/all_imsdb_05_19_10/Replacements,-The.html: HTTPConnectionPool(host='film_20100519', port=80): Max retries exceeded with url: /all_imsdb_05_19_10/Replacements,-The.html (Caused by NameResolutionError(\"<urllib3.connection.HTTPConnection object at 0x12a5cba00>: Failed to resolve 'film_20100519' ([Errno 8] nodename nor servname provided, or not known)\"))\n",
      "Error processing http://www.pages.drexel.edu/~ina22/splaylib/Screenplay-28_Days.pdf: HTTPConnectionPool(host='www.pages.drexel.edu', port=80): Max retries exceeded with url: /~ina22/splaylib/Screenplay-28_Days.pdf (Caused by NameResolutionError(\"<urllib3.connection.HTTPConnection object at 0x12a5d84f0>: Failed to resolve 'www.pages.drexel.edu' ([Errno 8] nodename nor servname provided, or not known)\"))\n",
      "Error processing http://film_20100519/all_imsdb_05_19_10/Final-Destination.html: HTTPConnectionPool(host='film_20100519', port=80): Max retries exceeded with url: /all_imsdb_05_19_10/Final-Destination.html (Caused by NameResolutionError(\"<urllib3.connection.HTTPConnection object at 0x1390663b0>: Failed to resolve 'film_20100519' ([Errno 8] nodename nor servname provided, or not known)\"))\n",
      "Error processing http://film_20100519/all_imsdb_05_19_10/Ticker.html: HTTPConnectionPool(host='film_20100519', port=80): Max retries exceeded with url: /all_imsdb_05_19_10/Ticker.html (Caused by NameResolutionError(\"<urllib3.connection.HTTPConnection object at 0x139065d20>: Failed to resolve 'film_20100519' ([Errno 8] nodename nor servname provided, or not known)\"))\n",
      "Error processing http://Monsters, Inc. (2001.11).pdf: HTTPConnectionPool(host='monsters,%20inc.%20(2001.11).pdf', port=80): Max retries exceeded with url: / (Caused by NameResolutionError(\"<urllib3.connection.HTTPConnection object at 0x138fe99c0>: Failed to resolve 'monsters,%20inc.%20(2001.11).pdf' ([Errno 8] nodename nor servname provided, or not known)\"))\n",
      "Error processing http://film_20100519/all_imsdb_05_19_10/Red-Planet.html: HTTPConnectionPool(host='film_20100519', port=80): Max retries exceeded with url: /all_imsdb_05_19_10/Red-Planet.html (Caused by NameResolutionError(\"<urllib3.connection.HTTPConnection object at 0x13a0a3af0>: Failed to resolve 'film_20100519' ([Errno 8] nodename nor servname provided, or not known)\"))\n",
      "Error processing http://WayoftheGun,The.pdf: HTTPConnectionPool(host='wayofthegun,the.pdf', port=80): Max retries exceeded with url: / (Caused by NameResolutionError(\"<urllib3.connection.HTTPConnection object at 0x10e21c1c0>: Failed to resolve 'wayofthegun,the.pdf' ([Errno 8] nodename nor servname provided, or not known)\"))\n",
      "Error processing http://exorcist-the beginning.pdf: HTTPConnectionPool(host='exorcist-the%20beginning.pdf', port=80): Max retries exceeded with url: / (Caused by NameResolutionError(\"<urllib3.connection.HTTPConnection object at 0x10e21eb60>: Failed to resolve 'exorcist-the%20beginning.pdf' ([Errno 8] nodename nor servname provided, or not known)\"))\n",
      "Error processing http://film_20100519/all_imsdb_05_19_10/Save-the-Last-Dance.html: HTTPConnectionPool(host='film_20100519', port=80): Max retries exceeded with url: /all_imsdb_05_19_10/Save-the-Last-Dance.html (Caused by NameResolutionError(\"<urllib3.connection.HTTPConnection object at 0x138f057e0>: Failed to resolve 'film_20100519' ([Errno 8] nodename nor servname provided, or not known)\"))\n",
      "Invalid URL format: http://Joy Ride (2001) (aka Squelch) [1999-4-28] [Scan].pdf\n",
      "Error processing http://www.pages.drexel.edu/~ina22/splaylib/Screenplay-Children_of_Men.htm: HTTPConnectionPool(host='www.pages.drexel.edu', port=80): Max retries exceeded with url: /~ina22/splaylib/Screenplay-Children_of_Men.htm (Caused by NameResolutionError(\"<urllib3.connection.HTTPConnection object at 0x138f04f10>: Failed to resolve 'www.pages.drexel.edu' ([Errno 8] nodename nor servname provided, or not known)\"))\n",
      "Error processing http://film_20100519/all_imsdb_05_19_10/Snatch.html: HTTPConnectionPool(host='film_20100519', port=80): Max retries exceeded with url: /all_imsdb_05_19_10/Snatch.html (Caused by NameResolutionError(\"<urllib3.connection.HTTPConnection object at 0x10e21dde0>: Failed to resolve 'film_20100519' ([Errno 8] nodename nor servname provided, or not known)\"))\n"
     ]
    },
    {
     "name": "stderr",
     "output_type": "stream",
     "text": [
      "Some characters could not be decoded, and were replaced with REPLACEMENT CHARACTER.\n"
     ]
    },
    {
     "name": "stdout",
     "output_type": "stream",
     "text": [
      "Error processing http://film_20100519/all_imsdb_05_19_10/Ginger-Snaps.html: HTTPConnectionPool(host='film_20100519', port=80): Max retries exceeded with url: /all_imsdb_05_19_10/Ginger-Snaps.html (Caused by NameResolutionError(\"<urllib3.connection.HTTPConnection object at 0x138f05fc0>: Failed to resolve 'film_20100519' ([Errno 8] nodename nor servname provided, or not known)\"))\n",
      "Error processing http://Hannibal (Zaillian) (2000.02.09) (Scanned)-2.pdf: HTTPConnectionPool(host='hannibal%20(zaillian)%20(2000.02.09)%20(scanned)-2.pdf', port=80): Max retries exceeded with url: / (Caused by NameResolutionError(\"<urllib3.connection.HTTPConnection object at 0x10e2238b0>: Failed to resolve 'hannibal%20(zaillian)%20(2000.02.09)%20(scanned)-2.pdf' ([Errno 8] nodename nor servname provided, or not known)\"))\n",
      "Error processing http://film_20100519/all_imsdb_05_19_10/Pearl-Harbor.html: HTTPConnectionPool(host='film_20100519', port=80): Max retries exceeded with url: /all_imsdb_05_19_10/Pearl-Harbor.html (Caused by NameResolutionError(\"<urllib3.connection.HTTPConnection object at 0x10e223a00>: Failed to resolve 'film_20100519' ([Errno 8] nodename nor servname provided, or not known)\"))\n",
      "Error processing http://film_20100519/all_imsdb_05_19_10/Bamboozled.html: HTTPConnectionPool(host='film_20100519', port=80): Max retries exceeded with url: /all_imsdb_05_19_10/Bamboozled.html (Caused by NameResolutionError(\"<urllib3.connection.HTTPConnection object at 0x10e222620>: Failed to resolve 'film_20100519' ([Errno 8] nodename nor servname provided, or not known)\"))\n",
      "Error processing http://film_20100519/all_imsdb_05_19_10/Gangs-of-New-York.html: HTTPConnectionPool(host='film_20100519', port=80): Max retries exceeded with url: /all_imsdb_05_19_10/Gangs-of-New-York.html (Caused by NameResolutionError(\"<urllib3.connection.HTTPConnection object at 0x10e2200a0>: Failed to resolve 'film_20100519' ([Errno 8] nodename nor servname provided, or not known)\"))\n",
      "Error processing http://film_20100519/all_imsdb_05_19_10/Unbreakable.html: HTTPConnectionPool(host='film_20100519', port=80): Max retries exceeded with url: /all_imsdb_05_19_10/Unbreakable.html (Caused by NameResolutionError(\"<urllib3.connection.HTTPConnection object at 0x10e222080>: Failed to resolve 'film_20100519' ([Errno 8] nodename nor servname provided, or not known)\"))\n",
      "Invalid URL format: http://Dracula 2000 (2000.04.20) [Scan].pdf\n"
     ]
    },
    {
     "name": "stderr",
     "output_type": "stream",
     "text": [
      "Some characters could not be decoded, and were replaced with REPLACEMENT CHARACTER.\n",
      "Some characters could not be decoded, and were replaced with REPLACEMENT CHARACTER.\n",
      "Some characters could not be decoded, and were replaced with REPLACEMENT CHARACTER.\n"
     ]
    },
    {
     "name": "stdout",
     "output_type": "stream",
     "text": [
      "Error processing http://screenplayexplorer.com/wp-content/scripts/The-Fast-and-the-Furious.pdf: HTTPConnectionPool(host='screenplayexplorer.com', port=80): Max retries exceeded with url: /wp-content/scripts/The-Fast-and-the-Furious.pdf (Caused by NameResolutionError(\"<urllib3.connection.HTTPConnection object at 0x10e21fb80>: Failed to resolve 'screenplayexplorer.com' ([Errno 8] nodename nor servname provided, or not known)\"))\n",
      "Error processing http://film_20100519/all_imsdb_05_19_10/Collateral-Damage.html: HTTPConnectionPool(host='film_20100519', port=80): Max retries exceeded with url: /all_imsdb_05_19_10/Collateral-Damage.html (Caused by NameResolutionError(\"<urllib3.connection.HTTPConnection object at 0x32d78c070>: Failed to resolve 'film_20100519' ([Errno 8] nodename nor servname provided, or not known)\"))\n",
      "Error processing http://film_20100519/all_imsdb_05_19_10/Matrix-Reloaded,-The.html: HTTPConnectionPool(host='film_20100519', port=80): Max retries exceeded with url: /all_imsdb_05_19_10/Matrix-Reloaded,-The.html (Caused by NameResolutionError(\"<urllib3.connection.HTTPConnection object at 0x32d78eb60>: Failed to resolve 'film_20100519' ([Errno 8] nodename nor servname provided, or not known)\"))\n",
      "Error processing http://film_20100519/all_imsdb_05_19_10/Salton-Sea,-The.html: HTTPConnectionPool(host='film_20100519', port=80): Max retries exceeded with url: /all_imsdb_05_19_10/Salton-Sea,-The.html (Caused by NameResolutionError(\"<urllib3.connection.HTTPConnection object at 0x32d78cf10>: Failed to resolve 'film_20100519' ([Errno 8] nodename nor servname provided, or not known)\"))\n"
     ]
    },
    {
     "name": "stderr",
     "output_type": "stream",
     "text": [
      "Some characters could not be decoded, and were replaced with REPLACEMENT CHARACTER.\n"
     ]
    },
    {
     "name": "stdout",
     "output_type": "stream",
     "text": [
      "Error processing http://film_20100519/all_imsdb_05_19_10/Four-Feathers.html: HTTPConnectionPool(host='film_20100519', port=80): Max retries exceeded with url: /all_imsdb_05_19_10/Four-Feathers.html (Caused by NameResolutionError(\"<urllib3.connection.HTTPConnection object at 0x13999fb20>: Failed to resolve 'film_20100519' ([Errno 8] nodename nor servname provided, or not known)\"))\n",
      "Error processing http://Serendipity (1999.11.01).pdf: HTTPConnectionPool(host='serendipity%20(1999.11.01).pdf', port=80): Max retries exceeded with url: / (Caused by NameResolutionError(\"<urllib3.connection.HTTPConnection object at 0x10e221e40>: Failed to resolve 'serendipity%20(1999.11.01).pdf' ([Errno 8] nodename nor servname provided, or not known)\"))\n",
      "Error processing http://www.pages.drexel.edu/~ina22/splaylib/Screenplay-Chocolat.pdf: HTTPConnectionPool(host='www.pages.drexel.edu', port=80): Max retries exceeded with url: /~ina22/splaylib/Screenplay-Chocolat.pdf (Caused by NameResolutionError(\"<urllib3.connection.HTTPConnection object at 0x32d78d5d0>: Failed to resolve 'www.pages.drexel.edu' ([Errno 8] nodename nor servname provided, or not known)\"))\n",
      "Error processing http://film_20100519/all_imsdb_05_19_10/Harry-Potter-and-the-Sorcerer's-Stone.html: HTTPConnectionPool(host='film_20100519', port=80): Max retries exceeded with url: /all_imsdb_05_19_10/Harry-Potter-and-the-Sorcerer's-Stone.html (Caused by NameResolutionError(\"<urllib3.connection.HTTPConnection object at 0x139a1c1f0>: Failed to resolve 'film_20100519' ([Errno 8] nodename nor servname provided, or not known)\"))\n"
     ]
    },
    {
     "name": "stderr",
     "output_type": "stream",
     "text": [
      "Some characters could not be decoded, and were replaced with REPLACEMENT CHARACTER.\n",
      "Some characters could not be decoded, and were replaced with REPLACEMENT CHARACTER.\n",
      "Some characters could not be decoded, and were replaced with REPLACEMENT CHARACTER.\n",
      "Some characters could not be decoded, and were replaced with REPLACEMENT CHARACTER.\n"
     ]
    },
    {
     "name": "stdout",
     "output_type": "stream",
     "text": [
      "Error processing http://film_20100519/all_imsdb_05_19_10/Ali.html: HTTPConnectionPool(host='film_20100519', port=80): Max retries exceeded with url: /all_imsdb_05_19_10/Ali.html (Caused by NameResolutionError(\"<urllib3.connection.HTTPConnection object at 0x1399a25c0>: Failed to resolve 'film_20100519' ([Errno 8] nodename nor servname provided, or not known)\"))\n",
      "Error processing http://film_20100519/all_imsdb_05_19_10/Legally-Blonde.html: HTTPConnectionPool(host='film_20100519', port=80): Max retries exceeded with url: /all_imsdb_05_19_10/Legally-Blonde.html (Caused by NameResolutionError(\"<urllib3.connection.HTTPConnection object at 0x1399a15d0>: Failed to resolve 'film_20100519' ([Errno 8] nodename nor servname provided, or not known)\"))\n",
      "Error processing http://film_20100519/all_imsdb_05_19_10/John-Q.html: HTTPConnectionPool(host='film_20100519', port=80): Max retries exceeded with url: /all_imsdb_05_19_10/John-Q.html (Caused by NameResolutionError(\"<urllib3.connection.HTTPConnection object at 0x12e9a0820>: Failed to resolve 'film_20100519' ([Errno 8] nodename nor servname provided, or not known)\"))\n",
      "Error processing http://film_20100519/all_imsdb_05_19_10/House-of-1000-Corpses.html: HTTPConnectionPool(host='film_20100519', port=80): Max retries exceeded with url: /all_imsdb_05_19_10/House-of-1000-Corpses.html (Caused by NameResolutionError(\"<urllib3.connection.HTTPConnection object at 0x10da39840>: Failed to resolve 'film_20100519' ([Errno 8] nodename nor servname provided, or not known)\"))\n",
      "Error processing http://Hearts In Atlantis (2000.04).pdf: HTTPConnectionPool(host='hearts%20in%20atlantis%20(2000.04).pdf', port=80): Max retries exceeded with url: / (Caused by NameResolutionError(\"<urllib3.connection.HTTPConnection object at 0x10da39450>: Failed to resolve 'hearts%20in%20atlantis%20(2000.04).pdf' ([Errno 8] nodename nor servname provided, or not known)\"))\n"
     ]
    },
    {
     "name": "stderr",
     "output_type": "stream",
     "text": [
      "Some characters could not be decoded, and were replaced with REPLACEMENT CHARACTER.\n"
     ]
    },
    {
     "name": "stdout",
     "output_type": "stream",
     "text": [
      "Error processing http://film_20100519/all_imsdb_05_19_10/Heist.html: HTTPConnectionPool(host='film_20100519', port=80): Max retries exceeded with url: /all_imsdb_05_19_10/Heist.html (Caused by NameResolutionError(\"<urllib3.connection.HTTPConnection object at 0x10da39120>: Failed to resolve 'film_20100519' ([Errno 8] nodename nor servname provided, or not known)\"))\n"
     ]
    },
    {
     "name": "stderr",
     "output_type": "stream",
     "text": [
      "Some characters could not be decoded, and were replaced with REPLACEMENT CHARACTER.\n"
     ]
    },
    {
     "name": "stdout",
     "output_type": "stream",
     "text": [
      "Error processing http://Cursed (Kevin Williamson) (2nd White Revision - April 7, 2003).pdf: Failed to parse: 'cursed%20(kevin%20williamson)%20(2nd%20white%20revision%20-%20april%207,%202003).pdf', label empty or too long\n",
      "Error processing http://film_20100519/all_imsdb_05_19_10/Panic-Room.html: HTTPConnectionPool(host='film_20100519', port=80): Max retries exceeded with url: /all_imsdb_05_19_10/Panic-Room.html (Caused by NameResolutionError(\"<urllib3.connection.HTTPConnection object at 0x10da3be50>: Failed to resolve 'film_20100519' ([Errno 8] nodename nor servname provided, or not known)\"))\n",
      "Invalid URL format: http://MY BIG FAT GREEK WEDDING (2002) by Nia Vardalos [2000.06.26] [Scan].pdf\n",
      "Error processing http://film_20100519/all_imsdb_05_19_10/Vanilla-Sky.html: HTTPConnectionPool(host='film_20100519', port=80): Max retries exceeded with url: /all_imsdb_05_19_10/Vanilla-Sky.html (Caused by NameResolutionError(\"<urllib3.connection.HTTPConnection object at 0x12a4942e0>: Failed to resolve 'film_20100519' ([Errno 8] nodename nor servname provided, or not known)\"))\n",
      "Error processing http://Black Hawk Down - Undated - Shooting script.pdf: HTTPConnectionPool(host='black%20hawk%20down%20-%20undated%20-%20shooting%20script.pdf', port=80): Max retries exceeded with url: / (Caused by NameResolutionError(\"<urllib3.connection.HTTPConnection object at 0x10e352530>: Failed to resolve 'black%20hawk%20down%20-%20undated%20-%20shooting%20script.pdf' ([Errno 8] nodename nor servname provided, or not known)\"))\n",
      "Error processing http://RoyalTenenbaums (7.27.00).pdf: HTTPConnectionPool(host='royaltenenbaums%20(7.27.00).pdf', port=80): Max retries exceeded with url: / (Caused by NameResolutionError(\"<urllib3.connection.HTTPConnection object at 0x32d78e5c0>: Failed to resolve 'royaltenenbaums%20(7.27.00).pdf' ([Errno 8] nodename nor servname provided, or not known)\"))\n",
      "Error processing http://film_20100519/all_imsdb_05_19_10/Death-to-Smoochy.html: HTTPConnectionPool(host='film_20100519', port=80): Max retries exceeded with url: /all_imsdb_05_19_10/Death-to-Smoochy.html (Caused by NameResolutionError(\"<urllib3.connection.HTTPConnection object at 0x13999fc10>: Failed to resolve 'film_20100519' ([Errno 8] nodename nor servname provided, or not known)\"))\n",
      "Error processing http://man apart, a.pdf: HTTPConnectionPool(host='man%20apart,%20a.pdf', port=80): Max retries exceeded with url: / (Caused by NameResolutionError(\"<urllib3.connection.HTTPConnection object at 0x12e9a0d90>: Failed to resolve 'man%20apart,%20a.pdf' ([Errno 8] nodename nor servname provided, or not known)\"))\n",
      "Invalid URL format: http://SPY GAME by Michael Frost Beckner [Arata] [03.17.2000].pdf\n"
     ]
    },
    {
     "name": "stderr",
     "output_type": "stream",
     "text": [
      "Some characters could not be decoded, and were replaced with REPLACEMENT CHARACTER.\n"
     ]
    },
    {
     "name": "stdout",
     "output_type": "stream",
     "text": [
      "Invalid URL format: http://Scooby-Doo (2000.03.17) [S].pdf\n",
      "Invalid URL format: http://Adaptation (2002) [Rev. 2000-11-21] [Digital].pdf\n",
      "Error processing http://The-Majestic (Frank Darabont Rewrite).pdf: HTTPConnectionPool(host='the-majestic%20(frank%20darabont%20rewrite).pdf', port=80): Max retries exceeded with url: / (Caused by NameResolutionError(\"<urllib3.connection.HTTPConnection object at 0x10e6e2c80>: Failed to resolve 'the-majestic%20(frank%20darabont%20rewrite).pdf' ([Errno 8] nodename nor servname provided, or not known)\"))\n",
      "Error processing http://film_20100519/all_imsdb_05_19_10/Confessions-of-a-Dangerous-Mind.html: HTTPConnectionPool(host='film_20100519', port=80): Max retries exceeded with url: /all_imsdb_05_19_10/Confessions-of-a-Dangerous-Mind.html (Caused by NameResolutionError(\"<urllib3.connection.HTTPConnection object at 0x138f31b10>: Failed to resolve 'film_20100519' ([Errno 8] nodename nor servname provided, or not known)\"))\n",
      "Error processing http://www.pages.drexel.edu/~ina22/splaylib/Screenplay-Last_Castle.pdf: HTTPConnectionPool(host='www.pages.drexel.edu', port=80): Max retries exceeded with url: /~ina22/splaylib/Screenplay-Last_Castle.pdf (Caused by NameResolutionError(\"<urllib3.connection.HTTPConnection object at 0x138f308b0>: Failed to resolve 'www.pages.drexel.edu' ([Errno 8] nodename nor servname provided, or not known)\"))\n"
     ]
    },
    {
     "name": "stderr",
     "output_type": "stream",
     "text": [
      "Some characters could not be decoded, and were replaced with REPLACEMENT CHARACTER.\n"
     ]
    },
    {
     "name": "stdout",
     "output_type": "stream",
     "text": [
      "Error processing http://film_20100519/all_imsdb_05_19_10/Punch-Drunk-Love.html: HTTPConnectionPool(host='film_20100519', port=80): Max retries exceeded with url: /all_imsdb_05_19_10/Punch-Drunk-Love.html (Caused by NameResolutionError(\"<urllib3.connection.HTTPConnection object at 0x138f33760>: Failed to resolve 'film_20100519' ([Errno 8] nodename nor servname provided, or not known)\"))\n",
      "Error processing http://Gosford-Park.pdf: HTTPConnectionPool(host='gosford-park.pdf', port=80): Max retries exceeded with url: / (Caused by NameResolutionError(\"<urllib3.connection.HTTPConnection object at 0x138f30190>: Failed to resolve 'gosford-park.pdf' ([Errno 8] nodename nor servname provided, or not known)\"))\n",
      "Error processing http://film_20100519/all_imsdb_05_19_10/Walk-to-Remember,-A.html: HTTPConnectionPool(host='film_20100519', port=80): Max retries exceeded with url: /all_imsdb_05_19_10/Walk-to-Remember,-A.html (Caused by NameResolutionError(\"<urllib3.connection.HTTPConnection object at 0x138ff9db0>: Failed to resolve 'film_20100519' ([Errno 8] nodename nor servname provided, or not known)\"))\n",
      "Invalid URL format: http://Dreamcatcher (2001.10.01) [Scan].pdf\n"
     ]
    },
    {
     "name": "stderr",
     "output_type": "stream",
     "text": [
      "Some characters could not be decoded, and were replaced with REPLACEMENT CHARACTER.\n"
     ]
    },
    {
     "name": "stdout",
     "output_type": "stream",
     "text": [
      "Error processing http://film_20100519/all_imsdb_05_19_10/Signs.html: HTTPConnectionPool(host='film_20100519', port=80): Max retries exceeded with url: /all_imsdb_05_19_10/Signs.html (Caused by NameResolutionError(\"<urllib3.connection.HTTPConnection object at 0x138ffb3d0>: Failed to resolve 'film_20100519' ([Errno 8] nodename nor servname provided, or not known)\"))\n",
      "Error processing http://Hulk (John Turman).pdf: HTTPConnectionPool(host='hulk%20(john%20turman).pdf', port=80): Max retries exceeded with url: / (Caused by NameResolutionError(\"<urllib3.connection.HTTPConnection object at 0x138ffbbe0>: Failed to resolve 'hulk%20(john%20turman).pdf' ([Errno 8] nodename nor servname provided, or not known)\"))\n",
      "Error processing http://Talk-To-Her.pdf: HTTPConnectionPool(host='talk-to-her.pdf', port=80): Max retries exceeded with url: / (Caused by NameResolutionError(\"<urllib3.connection.HTTPConnection object at 0x139084400>: Failed to resolve 'talk-to-her.pdf' ([Errno 8] nodename nor servname provided, or not known)\"))\n",
      "Error processing http://28_DAYS_LATER_2002__undated_Alex_Garland.pdf: HTTPConnectionPool(host='28_days_later_2002__undated_alex_garland.pdf', port=80): Max retries exceeded with url: / (Caused by NameResolutionError(\"<urllib3.connection.HTTPConnection object at 0x12e9a07f0>: Failed to resolve '28_days_later_2002__undated_alex_garland.pdf' ([Errno 8] nodename nor servname provided, or not known)\"))\n",
      "Invalid URL format: http://Red Dragon (2002) [2001-4-23] [Scan].pdf\n",
      "Error processing http://film_20100519/all_imsdb_05_19_10/Analyze-That.html: HTTPConnectionPool(host='film_20100519', port=80): Max retries exceeded with url: /all_imsdb_05_19_10/Analyze-That.html (Caused by NameResolutionError(\"<urllib3.connection.HTTPConnection object at 0x12e9a2c50>: Failed to resolve 'film_20100519' ([Errno 8] nodename nor servname provided, or not known)\"))\n",
      "Error processing http://film_20100519/all_imsdb_05_19_10/Life-of-David-Gale,-The.html: HTTPConnectionPool(host='film_20100519', port=80): Max retries exceeded with url: /all_imsdb_05_19_10/Life-of-David-Gale,-The.html (Caused by NameResolutionError(\"<urllib3.connection.HTTPConnection object at 0x12e9a07f0>: Failed to resolve 'film_20100519' ([Errno 8] nodename nor servname provided, or not known)\"))\n"
     ]
    },
    {
     "name": "stderr",
     "output_type": "stream",
     "text": [
      "Some characters could not be decoded, and were replaced with REPLACEMENT CHARACTER.\n",
      "Some characters could not be decoded, and were replaced with REPLACEMENT CHARACTER.\n"
     ]
    },
    {
     "name": "stdout",
     "output_type": "stream",
     "text": [
      "Error processing http://The Recruit (aka The Farm).pdf: HTTPConnectionPool(host='the%20recruit%20(aka%20the%20farm).pdf', port=80): Max retries exceeded with url: / (Caused by NameResolutionError(\"<urllib3.connection.HTTPConnection object at 0x138f32f80>: Failed to resolve 'the%20recruit%20(aka%20the%20farm).pdf' ([Errno 8] nodename nor servname provided, or not known)\"))\n",
      "Error processing http://www.awesomefilm.comscript/rent.txt: HTTPConnectionPool(host='www.awesomefilm.comscript', port=80): Max retries exceeded with url: /rent.txt (Caused by NameResolutionError(\"<urllib3.connection.HTTPConnection object at 0x12e9a3f70>: Failed to resolve 'www.awesomefilm.comscript' ([Errno 8] nodename nor servname provided, or not known)\"))\n",
      "Error processing http://film_20100519/all_imsdb_05_19_10/Harry-Potter-and-the-Chamber-of-Secrets.html: HTTPConnectionPool(host='film_20100519', port=80): Max retries exceeded with url: /all_imsdb_05_19_10/Harry-Potter-and-the-Chamber-of-Secrets.html (Caused by NameResolutionError(\"<urllib3.connection.HTTPConnection object at 0x138f1bca0>: Failed to resolve 'film_20100519' ([Errno 8] nodename nor servname provided, or not known)\"))\n",
      "Error processing http://Wrong Turn.pdf: HTTPConnectionPool(host='wrong%20turn.pdf', port=80): Max retries exceeded with url: / (Caused by NameResolutionError(\"<urllib3.connection.HTTPConnection object at 0x138f1a440>: Failed to resolve 'wrong%20turn.pdf' ([Errno 8] nodename nor servname provided, or not known)\"))\n",
      "Error processing http://film_20100519/all_imsdb_05_19_10/xXx.html: HTTPConnectionPool(host='film_20100519', port=80): Max retries exceeded with url: /all_imsdb_05_19_10/xXx.html (Caused by NameResolutionError(\"<urllib3.connection.HTTPConnection object at 0x139084ca0>: Failed to resolve 'film_20100519' ([Errno 8] nodename nor servname provided, or not known)\"))\n"
     ]
    },
    {
     "name": "stderr",
     "output_type": "stream",
     "text": [
      "Some characters could not be decoded, and were replaced with REPLACEMENT CHARACTER.\n"
     ]
    },
    {
     "name": "stdout",
     "output_type": "stream",
     "text": [
      "Error processing https://tpsdrama7student.wikispaces.com/file/view/Shrek+2+script.pdf: HTTPSConnectionPool(host='tpsdrama7student.wikispaces.com', port=443): Max retries exceeded with url: /file/view/Shrek+2+script.pdf (Caused by NameResolutionError(\"<urllib3.connection.HTTPSConnection object at 0x138f31ea0>: Failed to resolve 'tpsdrama7student.wikispaces.com' ([Errno 8] nodename nor servname provided, or not known)\"))\n"
     ]
    },
    {
     "name": "stderr",
     "output_type": "stream",
     "text": [
      "Some characters could not be decoded, and were replaced with REPLACEMENT CHARACTER.\n"
     ]
    },
    {
     "name": "stdout",
     "output_type": "stream",
     "text": [
      "Error processing http://Old School.pdf: HTTPConnectionPool(host='old%20school.pdf', port=80): Max retries exceeded with url: / (Caused by NameResolutionError(\"<urllib3.connection.HTTPConnection object at 0x13998d240>: Failed to resolve 'old%20school.pdf' ([Errno 8] nodename nor servname provided, or not known)\"))\n",
      "Error processing http://film_20100519/all_imsdb_05_19_10/Harry-Potter-and-the-Prisoner-of-Azkaban.html: HTTPConnectionPool(host='film_20100519', port=80): Max retries exceeded with url: /all_imsdb_05_19_10/Harry-Potter-and-the-Prisoner-of-Azkaban.html (Caused by NameResolutionError(\"<urllib3.connection.HTTPConnection object at 0x139ac3250>: Failed to resolve 'film_20100519' ([Errno 8] nodename nor servname provided, or not known)\"))\n",
      "Error processing http://film_20100519/all_imsdb_05_19_10/Cradle-2-the-Grave.html: HTTPConnectionPool(host='film_20100519', port=80): Max retries exceeded with url: /all_imsdb_05_19_10/Cradle-2-the-Grave.html (Caused by NameResolutionError(\"<urllib3.connection.HTTPConnection object at 0x13998cbb0>: Failed to resolve 'film_20100519' ([Errno 8] nodename nor servname provided, or not known)\"))\n",
      "Error processing http://www.pages.drexel.edu/~ina22/splaylib/Screenplay-Solaris.pdf: HTTPConnectionPool(host='www.pages.drexel.edu', port=80): Max retries exceeded with url: /~ina22/splaylib/Screenplay-Solaris.pdf (Caused by NameResolutionError(\"<urllib3.connection.HTTPConnection object at 0x12e87ba90>: Failed to resolve 'www.pages.drexel.edu' ([Errno 8] nodename nor servname provided, or not known)\"))\n",
      "Error processing http://film_20100519/all_imsdb_05_19_10/25th-Hour.html: HTTPConnectionPool(host='film_20100519', port=80): Max retries exceeded with url: /all_imsdb_05_19_10/25th-Hour.html (Caused by NameResolutionError(\"<urllib3.connection.HTTPConnection object at 0x12e87b100>: Failed to resolve 'film_20100519' ([Errno 8] nodename nor servname provided, or not known)\"))\n"
     ]
    },
    {
     "name": "stderr",
     "output_type": "stream",
     "text": [
      "Some characters could not be decoded, and were replaced with REPLACEMENT CHARACTER.\n"
     ]
    },
    {
     "name": "stdout",
     "output_type": "stream",
     "text": [
      "Error processing http://aquilamorongstudio.com/wp-content/uploads/2012/08/The-Human-Stain.pdf: HTTPConnectionPool(host='aquilamorongstudio.com', port=80): Max retries exceeded with url: /wp-content/uploads/2012/08/The-Human-Stain.pdf (Caused by NameResolutionError(\"<urllib3.connection.HTTPConnection object at 0x12e878fa0>: Failed to resolve 'aquilamorongstudio.com' ([Errno 8] nodename nor servname provided, or not known)\"))\n"
     ]
    },
    {
     "name": "stderr",
     "output_type": "stream",
     "text": [
      "Some characters could not be decoded, and were replaced with REPLACEMENT CHARACTER.\n"
     ]
    },
    {
     "name": "stdout",
     "output_type": "stream",
     "text": [
      "Error processing http://film_20100519/all_imsdb_05_19_10/Crime-Spree.html: HTTPConnectionPool(host='film_20100519', port=80): Max retries exceeded with url: /all_imsdb_05_19_10/Crime-Spree.html (Caused by NameResolutionError(\"<urllib3.connection.HTTPConnection object at 0x12e8782e0>: Failed to resolve 'film_20100519' ([Errno 8] nodename nor servname provided, or not known)\"))\n"
     ]
    },
    {
     "name": "stderr",
     "output_type": "stream",
     "text": [
      "Some characters could not be decoded, and were replaced with REPLACEMENT CHARACTER.\n"
     ]
    },
    {
     "name": "stdout",
     "output_type": "stream",
     "text": [
      "Error processing http://film_20100519/all_imsdb_05_19_10/Bruce-Almighty.html: HTTPConnectionPool(host='film_20100519', port=80): Max retries exceeded with url: /all_imsdb_05_19_10/Bruce-Almighty.html (Caused by NameResolutionError(\"<urllib3.connection.HTTPConnection object at 0x138f1b130>: Failed to resolve 'film_20100519' ([Errno 8] nodename nor servname provided, or not known)\"))\n",
      "Error processing http://Spider-Man 2 (Michael Chabon).pdf: HTTPConnectionPool(host='spider-man%202%20(michael%20chabon).pdf', port=80): Max retries exceeded with url: / (Caused by NameResolutionError(\"<urllib3.connection.HTTPConnection object at 0x13998d210>: Failed to resolve 'spider-man%202%20(michael%20chabon).pdf' ([Errno 8] nodename nor servname provided, or not known)\"))\n",
      "Error processing http://film_20100519/all_imsdb_05_19_10/Incredibles,-The.html: HTTPConnectionPool(host='film_20100519', port=80): Max retries exceeded with url: /all_imsdb_05_19_10/Incredibles,-The.html (Caused by NameResolutionError(\"<urllib3.connection.HTTPConnection object at 0x13998cc10>: Failed to resolve 'film_20100519' ([Errno 8] nodename nor servname provided, or not known)\"))\n",
      "Error processing http://film_20100519/all_imsdb_05_19_10/Italian-Job,-The.html: HTTPConnectionPool(host='film_20100519', port=80): Max retries exceeded with url: /all_imsdb_05_19_10/Italian-Job,-The.html (Caused by NameResolutionError(\"<urllib3.connection.HTTPConnection object at 0x13998c760>: Failed to resolve 'film_20100519' ([Errno 8] nodename nor servname provided, or not known)\"))\n",
      "Error processing http://film_20100519/all_imsdb_05_19_10/Big-Fish.html: HTTPConnectionPool(host='film_20100519', port=80): Max retries exceeded with url: /all_imsdb_05_19_10/Big-Fish.html (Caused by NameResolutionError(\"<urllib3.connection.HTTPConnection object at 0x13998ca60>: Failed to resolve 'film_20100519' ([Errno 8] nodename nor servname provided, or not known)\"))\n",
      "Error processing http://Kingdom of Heaven - 2004-02-09 - Final Shooting Script.pdf: Failed to parse: 'kingdom%20of%20heaven%20-%202004-02-09%20-%20final%20shooting%20script.pdf', label empty or too long\n",
      "Error processing http://The Texas Chainsaw Massacre (2003).pdf: HTTPConnectionPool(host='the%20texas%20chainsaw%20massacre%20(2003).pdf', port=80): Max retries exceeded with url: / (Caused by NameResolutionError(\"<urllib3.connection.HTTPConnection object at 0x10ce27f10>: Failed to resolve 'the%20texas%20chainsaw%20massacre%20(2003).pdf' ([Errno 8] nodename nor servname provided, or not known)\"))\n",
      "Error processing http://film_20100519/all_imsdb_05_19_10/Matchstick-Men.html: HTTPConnectionPool(host='film_20100519', port=80): Max retries exceeded with url: /all_imsdb_05_19_10/Matchstick-Men.html (Caused by NameResolutionError(\"<urllib3.connection.HTTPConnection object at 0x10ce27d60>: Failed to resolve 'film_20100519' ([Errno 8] nodename nor servname provided, or not known)\"))\n",
      "Error processing http://PIRATES OF THE CARIBBEAN 1 THE CURSE OF THE BLACK PEARL (2003) by Ted Elliott & Terry Rossio.pdf: Failed to parse: 'pirates%20of%20the%20caribbean%201%20the%20curse%20of%20the%20black%20pearl%20(2003)%20by%20ted%20elliott%20&%20terry%20rossio.pdf', label empty or too long\n",
      "Error processing http://Mystic River.pdf: HTTPConnectionPool(host='mystic%20river.pdf', port=80): Max retries exceeded with url: / (Caused by NameResolutionError(\"<urllib3.connection.HTTPConnection object at 0x10d7e70d0>: Failed to resolve 'mystic%20river.pdf' ([Errno 8] nodename nor servname provided, or not known)\"))\n",
      "Error processing http://film_20100519/all_imsdb_05_19_10/Catwoman.html: HTTPConnectionPool(host='film_20100519', port=80): Max retries exceeded with url: /all_imsdb_05_19_10/Catwoman.html (Caused by NameResolutionError(\"<urllib3.connection.HTTPConnection object at 0x10d7e7970>: Failed to resolve 'film_20100519' ([Errno 8] nodename nor servname provided, or not known)\"))\n",
      "Error processing http://gointothestory.blcklst.com/wp-content/uploads/2014/07/Coraline.pdf: 404 Client Error: Not Found for url: https://gointothestory.blcklst.com/wp-content/uploads/2014/07/Coraline.pdf?gi=626c1d6dd334\n",
      "Error processing http://film_20100519/all_imsdb_05_19_10/Malibu's-Most-Wanted.html: HTTPConnectionPool(host='film_20100519', port=80): Max retries exceeded with url: /all_imsdb_05_19_10/Malibu's-Most-Wanted.html (Caused by NameResolutionError(\"<urllib3.connection.HTTPConnection object at 0x10ce27d00>: Failed to resolve 'film_20100519' ([Errno 8] nodename nor servname provided, or not known)\"))\n",
      "Error processing http://film_20100519/all_imsdb_05_19_10/Man-On-Fire.html: HTTPConnectionPool(host='film_20100519', port=80): Max retries exceeded with url: /all_imsdb_05_19_10/Man-On-Fire.html (Caused by NameResolutionError(\"<urllib3.connection.HTTPConnection object at 0x10d7b4f70>: Failed to resolve 'film_20100519' ([Errno 8] nodename nor servname provided, or not known)\"))\n"
     ]
    },
    {
     "name": "stderr",
     "output_type": "stream",
     "text": [
      "Some characters could not be decoded, and were replaced with REPLACEMENT CHARACTER.\n"
     ]
    },
    {
     "name": "stdout",
     "output_type": "stream",
     "text": [
      "Invalid URL format: http://Punisher, The [02-25-03].pdf\n",
      "Error processing http://School of Rock - 2002-06-07 - DRaft.pdf: HTTPConnectionPool(host='school%20of%20rock%20-%202002-06-07%20-%20draft.pdf', port=80): Max retries exceeded with url: / (Caused by NameResolutionError(\"<urllib3.connection.HTTPConnection object at 0x10d7e7df0>: Failed to resolve 'school%20of%20rock%20-%202002-06-07%20-%20draft.pdf' ([Errno 8] nodename nor servname provided, or not known)\"))\n",
      "Error processing http://www.awesomefilm.comscript/girlwithapearlearring.pdf: HTTPConnectionPool(host='www.awesomefilm.comscript', port=80): Max retries exceeded with url: /girlwithapearlearring.pdf (Caused by NameResolutionError(\"<urllib3.connection.HTTPConnection object at 0x12eaf32b0>: Failed to resolve 'www.awesomefilm.comscript' ([Errno 8] nodename nor servname provided, or not known)\"))\n",
      "Error processing http://www.awesomefilm.comscript/wonderland_script.html: HTTPConnectionPool(host='www.awesomefilm.comscript', port=80): Max retries exceeded with url: /wonderland_script.html (Caused by NameResolutionError(\"<urllib3.connection.HTTPConnection object at 0x12eaf2da0>: Failed to resolve 'www.awesomefilm.comscript' ([Errno 8] nodename nor servname provided, or not known)\"))\n",
      "Error processing http://www.cenobite.com/library/hr7-020829.pdf: 404 Client Error: Not Found for url: http://www.cenobite.com/library/hr7-020829.pdf\n",
      "Error processing http://film_20100519/all_imsdb_05_19_10/Something's-Gotta-Give.html: HTTPConnectionPool(host='film_20100519', port=80): Max retries exceeded with url: /all_imsdb_05_19_10/Something's-Gotta-Give.html (Caused by NameResolutionError(\"<urllib3.connection.HTTPConnection object at 0x13e5ae7a0>: Failed to resolve 'film_20100519' ([Errno 8] nodename nor servname provided, or not known)\"))\n",
      "Error processing http://film_20100519/all_imsdb_05_19_10/Cellular.html: HTTPConnectionPool(host='film_20100519', port=80): Max retries exceeded with url: /all_imsdb_05_19_10/Cellular.html (Caused by NameResolutionError(\"<urllib3.connection.HTTPConnection object at 0x13e4e37f0>: Failed to resolve 'film_20100519' ([Errno 8] nodename nor servname provided, or not known)\"))\n"
     ]
    },
    {
     "name": "stderr",
     "output_type": "stream",
     "text": [
      "Some characters could not be decoded, and were replaced with REPLACEMENT CHARACTER.\n"
     ]
    },
    {
     "name": "stdout",
     "output_type": "stream",
     "text": [
      "Invalid URL format: http://SHOPGIRL by Steve Martin (2005) [2001-9-24] [1st] [Scan].pdf\n",
      "Error processing http://Aviator.pdf: HTTPConnectionPool(host='aviator.pdf', port=80): Max retries exceeded with url: / (Caused by NameResolutionError(\"<urllib3.connection.HTTPConnection object at 0x13e4d59c0>: Failed to resolve 'aviator.pdf' ([Errno 8] nodename nor servname provided, or not known)\"))\n",
      "Error processing http://film_20100519/all_imsdb_05_19_10/Hostage.html: HTTPConnectionPool(host='film_20100519', port=80): Max retries exceeded with url: /all_imsdb_05_19_10/Hostage.html (Caused by NameResolutionError(\"<urllib3.connection.HTTPConnection object at 0x12a311f60>: Failed to resolve 'film_20100519' ([Errno 8] nodename nor servname provided, or not known)\"))\n",
      "Error processing http://goodshepherd.pdf: HTTPConnectionPool(host='goodshepherd.pdf', port=80): Max retries exceeded with url: / (Caused by NameResolutionError(\"<urllib3.connection.HTTPConnection object at 0x12a313070>: Failed to resolve 'goodshepherd.pdf' ([Errno 8] nodename nor servname provided, or not known)\"))\n"
     ]
    },
    {
     "name": "stderr",
     "output_type": "stream",
     "text": [
      "Some characters could not be decoded, and were replaced with REPLACEMENT CHARACTER.\n"
     ]
    },
    {
     "name": "stdout",
     "output_type": "stream",
     "text": [
      "Error processing http://film_20100519/all_imsdb_05_19_10/Gothika.html: HTTPConnectionPool(host='film_20100519', port=80): Max retries exceeded with url: /all_imsdb_05_19_10/Gothika.html (Caused by NameResolutionError(\"<urllib3.connection.HTTPConnection object at 0x12a3136a0>: Failed to resolve 'film_20100519' ([Errno 8] nodename nor servname provided, or not known)\"))\n",
      "Error processing http://film_20100519/all_imsdb_05_19_10/Walking-Tall.html: HTTPConnectionPool(host='film_20100519', port=80): Max retries exceeded with url: /all_imsdb_05_19_10/Walking-Tall.html (Caused by NameResolutionError(\"<urllib3.connection.HTTPConnection object at 0x12a310790>: Failed to resolve 'film_20100519' ([Errno 8] nodename nor servname provided, or not known)\"))\n",
      "Error processing http://www.pages.drexel.edu/~ina22/splaylib/Screenplay-Partners,_The.pdf: HTTPConnectionPool(host='www.pages.drexel.edu', port=80): Max retries exceeded with url: /~ina22/splaylib/Screenplay-Partners,_The.pdf (Caused by NameResolutionError(\"<urllib3.connection.HTTPConnection object at 0x13e4d53f0>: Failed to resolve 'www.pages.drexel.edu' ([Errno 8] nodename nor servname provided, or not known)\"))\n"
     ]
    },
    {
     "name": "stderr",
     "output_type": "stream",
     "text": [
      "Some characters could not be decoded, and were replaced with REPLACEMENT CHARACTER.\n"
     ]
    },
    {
     "name": "stdout",
     "output_type": "stream",
     "text": [
      "Error processing http://ANCHORMAN - THE LEGEND OF RON BURGUNDY (2004) (aka ANCHORMAN) (aka ACTION NEWS!  WITH RON BURGUNDY) by Will Ferrell .pdf: Failed to parse: 'anchorman%20-%20the%20legend%20of%20ron%20burgundy%20(2004)%20(aka%20anchorman)%20(aka%20action%20news!%20%20with%20ron%20burgundy)%20by%20will%20ferrell%20.pdf', label empty or too long\n",
      "Error processing http://My_Best_Friend's_Birthday.pdf: HTTPConnectionPool(host=\"my_best_friend's_birthday.pdf\", port=80): Max retries exceeded with url: / (Caused by NameResolutionError(\"<urllib3.connection.HTTPConnection object at 0x13e4d7d90>: Failed to resolve 'my_best_friend's_birthday.pdf' ([Errno 8] nodename nor servname provided, or not known)\"))\n"
     ]
    },
    {
     "name": "stderr",
     "output_type": "stream",
     "text": [
      "Some characters could not be decoded, and were replaced with REPLACEMENT CHARACTER.\n"
     ]
    },
    {
     "name": "stdout",
     "output_type": "stream",
     "text": [
      "Error processing http://film_20100519/all_imsdb_05_19_10/Spartan.html: HTTPConnectionPool(host='film_20100519', port=80): Max retries exceeded with url: /all_imsdb_05_19_10/Spartan.html (Caused by NameResolutionError(\"<urllib3.connection.HTTPConnection object at 0x12a313d30>: Failed to resolve 'film_20100519' ([Errno 8] nodename nor servname provided, or not known)\"))\n",
      "Error processing http://Undertow.pdf: HTTPConnectionPool(host='undertow.pdf', port=80): Max retries exceeded with url: / (Caused by NameResolutionError(\"<urllib3.connection.HTTPConnection object at 0x13e4d6b60>: Failed to resolve 'undertow.pdf' ([Errno 8] nodename nor servname provided, or not known)\"))\n",
      "Error processing http://film_20100519/all_imsdb_05_19_10/Constantine.html: HTTPConnectionPool(host='film_20100519', port=80): Max retries exceeded with url: /all_imsdb_05_19_10/Constantine.html (Caused by NameResolutionError(\"<urllib3.connection.HTTPConnection object at 0x13e4d6fb0>: Failed to resolve 'film_20100519' ([Errno 8] nodename nor servname provided, or not known)\"))\n",
      "Error processing http://www.pages.drexel.edu/~ina22/splaylib/Screenplay-Inglourious_Bastards.pdf: HTTPConnectionPool(host='www.pages.drexel.edu', port=80): Max retries exceeded with url: /~ina22/splaylib/Screenplay-Inglourious_Bastards.pdf (Caused by NameResolutionError(\"<urllib3.connection.HTTPConnection object at 0x12a3c0460>: Failed to resolve 'www.pages.drexel.edu' ([Errno 8] nodename nor servname provided, or not known)\"))\n",
      "Error processing http://life-aquatic.pdf (undated).pdf: HTTPConnectionPool(host='life-aquatic.pdf%20(undated).pdf', port=80): Max retries exceeded with url: / (Caused by NameResolutionError(\"<urllib3.connection.HTTPConnection object at 0x12a37fcd0>: Failed to resolve 'life-aquatic.pdf%20(undated).pdf' ([Errno 8] nodename nor servname provided, or not known)\"))\n",
      "Error processing http://film_20100519/all_imsdb_05_19_10/New-York-Minute.html: HTTPConnectionPool(host='film_20100519', port=80): Max retries exceeded with url: /all_imsdb_05_19_10/New-York-Minute.html (Caused by NameResolutionError(\"<urllib3.connection.HTTPConnection object at 0x12a37f4f0>: Failed to resolve 'film_20100519' ([Errno 8] nodename nor servname provided, or not known)\"))\n",
      "Error processing http://www.awesomefilm.comscript/narnia.html: HTTPConnectionPool(host='www.awesomefilm.comscript', port=80): Max retries exceeded with url: /narnia.html (Caused by NameResolutionError(\"<urllib3.connection.HTTPConnection object at 0x13e4d5cc0>: Failed to resolve 'www.awesomefilm.comscript' ([Errno 8] nodename nor servname provided, or not known)\"))\n",
      "Error processing http://film_20100519/all_imsdb_05_19_10/Taking-Lives.html: HTTPConnectionPool(host='film_20100519', port=80): Max retries exceeded with url: /all_imsdb_05_19_10/Taking-Lives.html (Caused by NameResolutionError(\"<urllib3.connection.HTTPConnection object at 0x12a37fc70>: Failed to resolve 'film_20100519' ([Errno 8] nodename nor servname provided, or not known)\"))\n",
      "Error processing http://Art School Confidential.pdf: HTTPConnectionPool(host='art%20school%20confidential.pdf', port=80): Max retries exceeded with url: / (Caused by NameResolutionError(\"<urllib3.connection.HTTPConnection object at 0x13e4d6290>: Failed to resolve 'art%20school%20confidential.pdf' ([Errno 8] nodename nor servname provided, or not known)\"))\n"
     ]
    },
    {
     "name": "stderr",
     "output_type": "stream",
     "text": [
      "Some characters could not be decoded, and were replaced with REPLACEMENT CHARACTER.\n"
     ]
    },
    {
     "name": "stdout",
     "output_type": "stream",
     "text": [
      "Error processing http://film_20100519/all_imsdb_05_19_10/Whiteout.html: HTTPConnectionPool(host='film_20100519', port=80): Max retries exceeded with url: /all_imsdb_05_19_10/Whiteout.html (Caused by NameResolutionError(\"<urllib3.connection.HTTPConnection object at 0x32d782440>: Failed to resolve 'film_20100519' ([Errno 8] nodename nor servname provided, or not known)\"))\n",
      "Error processing http://film_20100519/all_imsdb_05_19_10/Harold-and-Kumar-Go-to-White-Castle.html: HTTPConnectionPool(host='film_20100519', port=80): Max retries exceeded with url: /all_imsdb_05_19_10/Harold-and-Kumar-Go-to-White-Castle.html (Caused by NameResolutionError(\"<urllib3.connection.HTTPConnection object at 0x12a37f0a0>: Failed to resolve 'film_20100519' ([Errno 8] nodename nor servname provided, or not known)\"))\n",
      "Error processing http://Squid and the Whale.pdf: HTTPConnectionPool(host='squid%20and%20the%20whale.pdf', port=80): Max retries exceeded with url: / (Caused by NameResolutionError(\"<urllib3.connection.HTTPConnection object at 0x12a37e3b0>: Failed to resolve 'squid%20and%20the%20whale.pdf' ([Errno 8] nodename nor servname provided, or not known)\"))\n",
      "Invalid URL format: http://INDIANA JONES AND THE KINGDOM OF THE CRYSTAL SKULL (2008) by David Koepp [2007.10.17] [Shoot.] [Digital].pdf\n",
      "Invalid URL format: http://Hannibal Rising (2007) (aka Behind The Mask - Young Hannibal) [2004-12-1] [Scan].pdf\n",
      "Error processing http://film_20100519/all_imsdb_05_19_10/Manchurian-Candidate,-The.html: HTTPConnectionPool(host='film_20100519', port=80): Max retries exceeded with url: /all_imsdb_05_19_10/Manchurian-Candidate,-The.html (Caused by NameResolutionError(\"<urllib3.connection.HTTPConnection object at 0x13e4d66e0>: Failed to resolve 'film_20100519' ([Errno 8] nodename nor servname provided, or not known)\"))\n"
     ]
    },
    {
     "name": "stderr",
     "output_type": "stream",
     "text": [
      "Some characters could not be decoded, and were replaced with REPLACEMENT CHARACTER.\n",
      "Some characters could not be decoded, and were replaced with REPLACEMENT CHARACTER.\n",
      "Some characters could not be decoded, and were replaced with REPLACEMENT CHARACTER.\n"
     ]
    },
    {
     "name": "stdout",
     "output_type": "stream",
     "text": [
      "Error processing http://film_20100519/all_imsdb_05_19_10/Spanglish.html: HTTPConnectionPool(host='film_20100519', port=80): Max retries exceeded with url: /all_imsdb_05_19_10/Spanglish.html (Caused by NameResolutionError(\"<urllib3.connection.HTTPConnection object at 0x13e4d6e30>: Failed to resolve 'film_20100519' ([Errno 8] nodename nor servname provided, or not known)\"))\n"
     ]
    },
    {
     "name": "stderr",
     "output_type": "stream",
     "text": [
      "Some characters could not be decoded, and were replaced with REPLACEMENT CHARACTER.\n"
     ]
    },
    {
     "name": "stdout",
     "output_type": "stream",
     "text": [
      "Error processing http://Team_America.pdf: HTTPConnectionPool(host='team_america.pdf', port=80): Max retries exceeded with url: / (Caused by NameResolutionError(\"<urllib3.connection.HTTPConnection object at 0x32d7830d0>: Failed to resolve 'team_america.pdf' ([Errno 8] nodename nor servname provided, or not known)\"))\n"
     ]
    },
    {
     "name": "stderr",
     "output_type": "stream",
     "text": [
      "Some characters could not be decoded, and were replaced with REPLACEMENT CHARACTER.\n"
     ]
    },
    {
     "name": "stdout",
     "output_type": "stream",
     "text": [
      "Error processing http://www.pages.drexel.edu/~ina22/splaylib/Screenplay-Crash.HTM: HTTPConnectionPool(host='www.pages.drexel.edu', port=80): Max retries exceeded with url: /~ina22/splaylib/Screenplay-Crash.HTM (Caused by NameResolutionError(\"<urllib3.connection.HTTPConnection object at 0x10e7c3130>: Failed to resolve 'www.pages.drexel.edu' ([Errno 8] nodename nor servname provided, or not known)\"))\n"
     ]
    },
    {
     "name": "stderr",
     "output_type": "stream",
     "text": [
      "Some characters could not be decoded, and were replaced with REPLACEMENT CHARACTER.\n"
     ]
    },
    {
     "name": "stdout",
     "output_type": "stream",
     "text": [
      "Error processing http://KILL BILL - Vol 2.pdf: HTTPConnectionPool(host='kill%20bill%20-%20vol%202.pdf', port=80): Max retries exceeded with url: / (Caused by NameResolutionError(\"<urllib3.connection.HTTPConnection object at 0x13e4d7b50>: Failed to resolve 'kill%20bill%20-%20vol%202.pdf' ([Errno 8] nodename nor servname provided, or not known)\"))\n"
     ]
    },
    {
     "name": "stderr",
     "output_type": "stream",
     "text": [
      "Some characters could not be decoded, and were replaced with REPLACEMENT CHARACTER.\n"
     ]
    },
    {
     "name": "stdout",
     "output_type": "stream",
     "text": [
      "Error processing http://Before Sunset.pdf: HTTPConnectionPool(host='before%20sunset.pdf', port=80): Max retries exceeded with url: / (Caused by NameResolutionError(\"<urllib3.connection.HTTPConnection object at 0x13e4d7790>: Failed to resolve 'before%20sunset.pdf' ([Errno 8] nodename nor servname provided, or not known)\"))\n"
     ]
    },
    {
     "name": "stderr",
     "output_type": "stream",
     "text": [
      "Some characters could not be decoded, and were replaced with REPLACEMENT CHARACTER.\n"
     ]
    },
    {
     "name": "stdout",
     "output_type": "stream",
     "text": [
      "Error processing http://Three_Stooges.pdf: HTTPConnectionPool(host='three_stooges.pdf', port=80): Max retries exceeded with url: / (Caused by NameResolutionError(\"<urllib3.connection.HTTPConnection object at 0x10d891420>: Failed to resolve 'three_stooges.pdf' ([Errno 8] nodename nor servname provided, or not known)\"))\n",
      "Error processing http://Synecdoche, New York (July '07 draft).pdf: HTTPConnectionPool(host=\"synecdoche,%20new%20york%20(july%20'07%20draft).pdf\", port=80): Max retries exceeded with url: / (Caused by NameResolutionError(\"<urllib3.connection.HTTPConnection object at 0x10d892e60>: Failed to resolve 'synecdoche,%20new%20york%20(july%20'07%20draft).pdf' ([Errno 8] nodename nor servname provided, or not known)\"))\n",
      "Error processing http://PIRATES OF THE CARIBBEAN 2 DEAD MAN'S CHEST (2006) 2006.01.19 draft by Ted Elliot & Terry Rossio.pdf: Failed to parse: 'pirates%20of%20the%20caribbean%202%20dead%20man's%20chest%20(2006)%202006.01.19%20draft%20by%20ted%20elliot%20&%20terry%20rossio.pdf', label empty or too long\n",
      "Error processing http://Silent Hill 2005 draft.compressed.pdf: HTTPConnectionPool(host='silent%20hill%202005%20draft.compressed.pdf', port=80): Max retries exceeded with url: / (Caused by NameResolutionError(\"<urllib3.connection.HTTPConnection object at 0x10d8932b0>: Failed to resolve 'silent%20hill%202005%20draft.compressed.pdf' ([Errno 8] nodename nor servname provided, or not known)\"))\n",
      "Invalid URL format: http://WEATHER MAN, THE by Steve Conrad [10.5.2003].pdf\n",
      "Error processing http://www.pages.drexel.edu/~ina22/splaylib/Screenplay-In_Good_Company.pdf: HTTPConnectionPool(host='www.pages.drexel.edu', port=80): Max retries exceeded with url: /~ina22/splaylib/Screenplay-In_Good_Company.pdf (Caused by NameResolutionError(\"<urllib3.connection.HTTPConnection object at 0x10d892e60>: Failed to resolve 'www.pages.drexel.edu' ([Errno 8] nodename nor servname provided, or not known)\"))\n"
     ]
    },
    {
     "name": "stderr",
     "output_type": "stream",
     "text": [
      "Some characters could not be decoded, and were replaced with REPLACEMENT CHARACTER.\n",
      "Some characters could not be decoded, and were replaced with REPLACEMENT CHARACTER.\n"
     ]
    },
    {
     "name": "stdout",
     "output_type": "stream",
     "text": [
      "Error processing http://www.pages.drexel.edu/~ina22/splaylib/Screenplay-Where_The_Wild_Things_Are.pdf: HTTPConnectionPool(host='www.pages.drexel.edu', port=80): Max retries exceeded with url: /~ina22/splaylib/Screenplay-Where_The_Wild_Things_Are.pdf (Caused by NameResolutionError(\"<urllib3.connection.HTTPConnection object at 0x10e7c14b0>: Failed to resolve 'www.pages.drexel.edu' ([Errno 8] nodename nor servname provided, or not known)\"))\n",
      "Error processing http://Hitch (2001.12.11).pdf: HTTPConnectionPool(host='hitch%20(2001.12.11).pdf', port=80): Max retries exceeded with url: / (Caused by NameResolutionError(\"<urllib3.connection.HTTPConnection object at 0x10e7c0cd0>: Failed to resolve 'hitch%20(2001.12.11).pdf' ([Errno 8] nodename nor servname provided, or not known)\"))\n",
      "Error processing http://www.pages.drexel.edu/~ina22/splaylib/Screenplay-Idiocracy.htm: HTTPConnectionPool(host='www.pages.drexel.edu', port=80): Max retries exceeded with url: /~ina22/splaylib/Screenplay-Idiocracy.htm (Caused by NameResolutionError(\"<urllib3.connection.HTTPConnection object at 0x10e7c2c20>: Failed to resolve 'www.pages.drexel.edu' ([Errno 8] nodename nor servname provided, or not known)\"))\n",
      "Error processing http://film_20100519/all_imsdb_05_19_10/Black-Dahlia,-The.html: HTTPConnectionPool(host='film_20100519', port=80): Max retries exceeded with url: /all_imsdb_05_19_10/Black-Dahlia,-The.html (Caused by NameResolutionError(\"<urllib3.connection.HTTPConnection object at 0x10da7cc10>: Failed to resolve 'film_20100519' ([Errno 8] nodename nor servname provided, or not known)\"))\n",
      "Error processing http://aquilamorongstudio.com/wp-content/uploads/2012/10/IN-HER-SHOES.pdf: HTTPConnectionPool(host='aquilamorongstudio.com', port=80): Max retries exceeded with url: /wp-content/uploads/2012/10/IN-HER-SHOES.pdf (Caused by NameResolutionError(\"<urllib3.connection.HTTPConnection object at 0x10e7c1300>: Failed to resolve 'aquilamorongstudio.com' ([Errno 8] nodename nor servname provided, or not known)\"))\n"
     ]
    },
    {
     "name": "stderr",
     "output_type": "stream",
     "text": [
      "Some characters could not be decoded, and were replaced with REPLACEMENT CHARACTER.\n",
      "Some characters could not be decoded, and were replaced with REPLACEMENT CHARACTER.\n"
     ]
    },
    {
     "name": "stdout",
     "output_type": "stream",
     "text": [
      "Error processing http://www.joblo.com/scripts/script_beemovie.pdf: 404 Client Error: Not Found for url: https://www.joblo.com/scripts/script_beemovie.pdf\n"
     ]
    },
    {
     "name": "stderr",
     "output_type": "stream",
     "text": [
      "Some characters could not be decoded, and were replaced with REPLACEMENT CHARACTER.\n"
     ]
    },
    {
     "name": "stdout",
     "output_type": "stream",
     "text": [
      "Error processing http://www.pages.drexel.edu/~ina22/splaylib/Screenplay-Maria_Full_of_Grace.pdf: HTTPConnectionPool(host='www.pages.drexel.edu', port=80): Max retries exceeded with url: /~ina22/splaylib/Screenplay-Maria_Full_of_Grace.pdf (Caused by NameResolutionError(\"<urllib3.connection.HTTPConnection object at 0x10da7dff0>: Failed to resolve 'www.pages.drexel.edu' ([Errno 8] nodename nor servname provided, or not known)\"))\n",
      "Error processing http://film_20100519/all_imsdb_05_19_10/Hotel-Rwanda.html: HTTPConnectionPool(host='film_20100519', port=80): Max retries exceeded with url: /all_imsdb_05_19_10/Hotel-Rwanda.html (Caused by NameResolutionError(\"<urllib3.connection.HTTPConnection object at 0x10dabe0e0>: Failed to resolve 'film_20100519' ([Errno 8] nodename nor servname provided, or not known)\"))\n",
      "Error processing http://Devil's Rejects, The.pdf: HTTPConnectionPool(host=\"devil's%20rejects,%20the.pdf\", port=80): Max retries exceeded with url: / (Caused by NameResolutionError(\"<urllib3.connection.HTTPConnection object at 0x10e7c0370>: Failed to resolve 'devil's%20rejects,%20the.pdf' ([Errno 8] nodename nor servname provided, or not known)\"))\n",
      "Error processing http://film_20100519/all_imsdb_05_19_10/Pacifier,-The.html: HTTPConnectionPool(host='film_20100519', port=80): Max retries exceeded with url: /all_imsdb_05_19_10/Pacifier,-The.html (Caused by NameResolutionError(\"<urllib3.connection.HTTPConnection object at 0x10d8460b0>: Failed to resolve 'film_20100519' ([Errno 8] nodename nor servname provided, or not known)\"))\n"
     ]
    },
    {
     "name": "stderr",
     "output_type": "stream",
     "text": [
      "Some characters could not be decoded, and were replaced with REPLACEMENT CHARACTER.\n"
     ]
    },
    {
     "name": "stdout",
     "output_type": "stream",
     "text": [
      "Invalid URL format: http://HOUSE OF WAX by Chad Hayes and Carey Hayes [remake] [12.11.2003].pdf\n"
     ]
    },
    {
     "name": "stderr",
     "output_type": "stream",
     "text": [
      "Some characters could not be decoded, and were replaced with REPLACEMENT CHARACTER.\n",
      "Some characters could not be decoded, and were replaced with REPLACEMENT CHARACTER.\n"
     ]
    },
    {
     "name": "stdout",
     "output_type": "stream",
     "text": [
      "Invalid URL format: http://HISTORY OF VIOLENCE, A by Josh Olson (2003-07-18) [scan].pdf\n"
     ]
    },
    {
     "name": "stderr",
     "output_type": "stream",
     "text": [
      "Some characters could not be decoded, and were replaced with REPLACEMENT CHARACTER.\n",
      "Some characters could not be decoded, and were replaced with REPLACEMENT CHARACTER.\n",
      "Some characters could not be decoded, and were replaced with REPLACEMENT CHARACTER.\n"
     ]
    },
    {
     "name": "stdout",
     "output_type": "stream",
     "text": [
      "Error processing http://Tamara.pdf: HTTPConnectionPool(host='tamara.pdf', port=80): Max retries exceeded with url: / (Caused by NameResolutionError(\"<urllib3.connection.HTTPConnection object at 0x10d8477c0>: Failed to resolve 'tamara.pdf' ([Errno 8] nodename nor servname provided, or not known)\"))\n"
     ]
    },
    {
     "name": "stderr",
     "output_type": "stream",
     "text": [
      "Some characters could not be decoded, and were replaced with REPLACEMENT CHARACTER.\n",
      "Some characters could not be decoded, and were replaced with REPLACEMENT CHARACTER.\n",
      "Some characters could not be decoded, and were replaced with REPLACEMENT CHARACTER.\n"
     ]
    },
    {
     "name": "stdout",
     "output_type": "stream",
     "text": [
      "Invalid URL format: http://A Scanner Darkly [kaufman].pdf\n",
      "Invalid URL format: http://SOUTHLAND TALES (2007) by Richard Kelly [Undated] [Digital].pdf\n",
      "Error processing http://film_20100519/all_imsdb_05_19_10/War-of-the-Worlds.html: HTTPConnectionPool(host='film_20100519', port=80): Max retries exceeded with url: /all_imsdb_05_19_10/War-of-the-Worlds.html (Caused by NameResolutionError(\"<urllib3.connection.HTTPConnection object at 0x12a52b1c0>: Failed to resolve 'film_20100519' ([Errno 8] nodename nor servname provided, or not known)\"))\n",
      "Error processing http://www.joblo.com/scripts/script_sweeneytodd.pdf: 404 Client Error: Not Found for url: https://www.joblo.com/scripts/script_sweeneytodd.pdf\n"
     ]
    },
    {
     "name": "stderr",
     "output_type": "stream",
     "text": [
      "Some characters could not be decoded, and were replaced with REPLACEMENT CHARACTER.\n"
     ]
    },
    {
     "name": "stdout",
     "output_type": "stream",
     "text": [
      "Error processing http://film_20100519/all_imsdb_05_19_10/Watchmen.html: HTTPConnectionPool(host='film_20100519', port=80): Max retries exceeded with url: /all_imsdb_05_19_10/Watchmen.html (Caused by NameResolutionError(\"<urllib3.connection.HTTPConnection object at 0x10e6ba860>: Failed to resolve 'film_20100519' ([Errno 8] nodename nor servname provided, or not known)\"))\n",
      "Error processing http://film_20100519/all_imsdb_05_19_10/Hellboy-2-The-Golden-Army.html: HTTPConnectionPool(host='film_20100519', port=80): Max retries exceeded with url: /all_imsdb_05_19_10/Hellboy-2-The-Golden-Army.html (Caused by NameResolutionError(\"<urllib3.connection.HTTPConnection object at 0x10e6bbaf0>: Failed to resolve 'film_20100519' ([Errno 8] nodename nor servname provided, or not known)\"))\n",
      "Error processing http://film_20100519/all_imsdb_05_19_10/Elizabeth-The-Golden-Age.html: HTTPConnectionPool(host='film_20100519', port=80): Max retries exceeded with url: /all_imsdb_05_19_10/Elizabeth-The-Golden-Age.html (Caused by NameResolutionError(\"<urllib3.connection.HTTPConnection object at 0x10e6bb820>: Failed to resolve 'film_20100519' ([Errno 8] nodename nor servname provided, or not known)\"))\n",
      "Error processing http://Final Destination 3 Draft 9-24-04.pdf: HTTPConnectionPool(host='final%20destination%203%20draft%209-24-04.pdf', port=80): Max retries exceeded with url: / (Caused by NameResolutionError(\"<urllib3.connection.HTTPConnection object at 0x12e879d20>: Failed to resolve 'final%20destination%203%20draft%209-24-04.pdf' ([Errno 8] nodename nor servname provided, or not known)\"))\n"
     ]
    },
    {
     "name": "stderr",
     "output_type": "stream",
     "text": [
      "Some characters could not be decoded, and were replaced with REPLACEMENT CHARACTER.\n"
     ]
    },
    {
     "name": "stdout",
     "output_type": "stream",
     "text": [
      "Error processing http://Match Point (Studio Release).pdf: HTTPConnectionPool(host='match%20point%20(studio%20release).pdf', port=80): Max retries exceeded with url: / (Caused by NameResolutionError(\"<urllib3.connection.HTTPConnection object at 0x10e6bbbe0>: Failed to resolve 'match%20point%20(studio%20release).pdf' ([Errno 8] nodename nor servname provided, or not known)\"))\n",
      "Invalid URL format: http://300 [Michael Gordon] [07.09.05] [Scan].pdf\n",
      "Error processing http://www.pages.drexel.edu/~ina22/splaylib/Screenplay-Harry_Potter_And_The_Half_Blood_Prince.pdf: HTTPConnectionPool(host='www.pages.drexel.edu', port=80): Max retries exceeded with url: /~ina22/splaylib/Screenplay-Harry_Potter_And_The_Half_Blood_Prince.pdf (Caused by NameResolutionError(\"<urllib3.connection.HTTPConnection object at 0x12a529630>: Failed to resolve 'www.pages.drexel.edu' ([Errno 8] nodename nor servname provided, or not known)\"))\n",
      "Error processing http://film_20100519/all_imsdb_05_19_10/Little-Athens.html: HTTPConnectionPool(host='film_20100519', port=80): Max retries exceeded with url: /all_imsdb_05_19_10/Little-Athens.html (Caused by NameResolutionError(\"<urllib3.connection.HTTPConnection object at 0x10e321450>: Failed to resolve 'film_20100519' ([Errno 8] nodename nor servname provided, or not known)\"))\n",
      "Error processing http://flags_of_our_fathers.pdf: HTTPConnectionPool(host='flags_of_our_fathers.pdf', port=80): Max retries exceeded with url: / (Caused by NameResolutionError(\"<urllib3.connection.HTTPConnection object at 0x10e320940>: Failed to resolve 'flags_of_our_fathers.pdf' ([Errno 8] nodename nor servname provided, or not known)\"))\n"
     ]
    },
    {
     "name": "stderr",
     "output_type": "stream",
     "text": [
      "Some characters could not be decoded, and were replaced with REPLACEMENT CHARACTER.\n",
      "Some characters could not be decoded, and were replaced with REPLACEMENT CHARACTER.\n"
     ]
    },
    {
     "name": "stdout",
     "output_type": "stream",
     "text": [
      "Error processing http://STRANGER THAN FICTION 04-27-05.pdf: HTTPConnectionPool(host='stranger%20than%20fiction%2004-27-05.pdf', port=80): Max retries exceeded with url: / (Caused by NameResolutionError(\"<urllib3.connection.HTTPConnection object at 0x10da395a0>: Failed to resolve 'stranger%20than%20fiction%2004-27-05.pdf' ([Errno 8] nodename nor servname provided, or not known)\"))\n",
      "Error processing http://Street Kings aka The Night Watchman (2008) (Ellroy & Moss) (2006-21-11) (125p) Scanned.pdf: Failed to parse: 'street%20kings%20aka%20the%20night%20watchman%20(2008)%20(ellroy%20&%20moss)%20(2006-21-11)%20(125p)%20scanned.pdf', label empty or too long\n"
     ]
    },
    {
     "name": "stderr",
     "output_type": "stream",
     "text": [
      "Some characters could not be decoded, and were replaced with REPLACEMENT CHARACTER.\n"
     ]
    },
    {
     "name": "stdout",
     "output_type": "stream",
     "text": [
      "Error processing http://Hatchet Unrated Screenplay.pdf: HTTPConnectionPool(host='hatchet%20unrated%20screenplay.pdf', port=80): Max retries exceeded with url: / (Caused by NameResolutionError(\"<urllib3.connection.HTTPConnection object at 0x12a52bc40>: Failed to resolve 'hatchet%20unrated%20screenplay.pdf' ([Errno 8] nodename nor servname provided, or not known)\"))\n",
      "Invalid URL format: http://Charlie Bartlett (2007) [2005-5-4] [Scan] [BL'05].pdf\n"
     ]
    },
    {
     "name": "stderr",
     "output_type": "stream",
     "text": [
      "Some characters could not be decoded, and were replaced with REPLACEMENT CHARACTER.\n",
      "Some characters could not be decoded, and were replaced with REPLACEMENT CHARACTER.\n"
     ]
    },
    {
     "name": "stdout",
     "output_type": "stream",
     "text": [
      "Error processing http://film_20100519/all_imsdb_05_19_10/Jimmy-and-Judy.html: HTTPConnectionPool(host='film_20100519', port=80): Max retries exceeded with url: /all_imsdb_05_19_10/Jimmy-and-Judy.html (Caused by NameResolutionError(\"<urllib3.connection.HTTPConnection object at 0x12a529b10>: Failed to resolve 'film_20100519' ([Errno 8] nodename nor servname provided, or not known)\"))\n",
      "Invalid URL format: http://LUCKY NUMBER SLEVIN by Jason Smilovic [undated] [scan] [Black'05].pdf\n",
      "Error processing http://film_20100519/all_imsdb_05_19_10/Feast.html: HTTPConnectionPool(host='film_20100519', port=80): Max retries exceeded with url: /all_imsdb_05_19_10/Feast.html (Caused by NameResolutionError(\"<urllib3.connection.HTTPConnection object at 0x10e353d00>: Failed to resolve 'film_20100519' ([Errno 8] nodename nor servname provided, or not known)\"))\n",
      "Error processing http://www.joblo.com/scripts/schmucks.pdf: 404 Client Error: Not Found for url: https://www.joblo.com/scripts/schmucks.pdf\n"
     ]
    },
    {
     "name": "stderr",
     "output_type": "stream",
     "text": [
      "Some characters could not be decoded, and were replaced with REPLACEMENT CHARACTER.\n"
     ]
    },
    {
     "name": "stdout",
     "output_type": "stream",
     "text": [
      "Error processing http://A-Team, The.pdf: HTTPConnectionPool(host='a-team,%20the.pdf', port=80): Max retries exceeded with url: / (Caused by NameResolutionError(\"<urllib3.connection.HTTPConnection object at 0x10da3beb0>: Failed to resolve 'a-team,%20the.pdf' ([Errno 8] nodename nor servname provided, or not known)\"))\n"
     ]
    },
    {
     "name": "stderr",
     "output_type": "stream",
     "text": [
      "Some characters could not be decoded, and were replaced with REPLACEMENT CHARACTER.\n"
     ]
    },
    {
     "name": "stdout",
     "output_type": "stream",
     "text": [
      "Error processing http://film_20100519/all_imsdb_05_19_10/Kingdom,-The.html: HTTPConnectionPool(host='film_20100519', port=80): Max retries exceeded with url: /all_imsdb_05_19_10/Kingdom,-The.html (Caused by NameResolutionError(\"<urllib3.connection.HTTPConnection object at 0x12e879d20>: Failed to resolve 'film_20100519' ([Errno 8] nodename nor servname provided, or not known)\"))\n"
     ]
    },
    {
     "name": "stderr",
     "output_type": "stream",
     "text": [
      "Some characters could not be decoded, and were replaced with REPLACEMENT CHARACTER.\n"
     ]
    },
    {
     "name": "stdout",
     "output_type": "stream",
     "text": [
      "Error processing http://www.joblo.com/scripts/Daybreakers.pdf: 404 Client Error: Not Found for url: https://www.joblo.com/scripts/Daybreakers.pdf\n"
     ]
    },
    {
     "name": "stderr",
     "output_type": "stream",
     "text": [
      "Some characters could not be decoded, and were replaced with REPLACEMENT CHARACTER.\n"
     ]
    },
    {
     "name": "stdout",
     "output_type": "stream",
     "text": [
      "Error processing http://film_20100519/all_imsdb_05_19_10/V-for-Vendetta.html: HTTPConnectionPool(host='film_20100519', port=80): Max retries exceeded with url: /all_imsdb_05_19_10/V-for-Vendetta.html (Caused by NameResolutionError(\"<urllib3.connection.HTTPConnection object at 0x12ede8cd0>: Failed to resolve 'film_20100519' ([Errno 8] nodename nor servname provided, or not known)\"))\n",
      "Error processing http://gointothestory.blcklst.com/wp-content/uploads/2015/11/MACBETH.pdf: 404 Client Error: Not Found for url: https://gointothestory.blcklst.com/wp-content/uploads/2015/11/MACBETH.pdf?gi=b3aafcc2858a\n",
      "Invalid URL format: http://DESCENT, THE (2006) (aka THE DARK) by Neil Marshall [2004.09.03] [Digital].pdf\n",
      "Error processing http://film_20100519/all_imsdb_05_19_10/Next.html: HTTPConnectionPool(host='film_20100519', port=80): Max retries exceeded with url: /all_imsdb_05_19_10/Next.html (Caused by NameResolutionError(\"<urllib3.connection.HTTPConnection object at 0x12a528700>: Failed to resolve 'film_20100519' ([Errno 8] nodename nor servname provided, or not known)\"))\n",
      "Error processing http://www.pages.drexel.edu/~ina22/splaylib/Screenplay-Toy_Story_3.pdf: HTTPConnectionPool(host='www.pages.drexel.edu', port=80): Max retries exceeded with url: /~ina22/splaylib/Screenplay-Toy_Story_3.pdf (Caused by NameResolutionError(\"<urllib3.connection.HTTPConnection object at 0x10e6b94e0>: Failed to resolve 'www.pages.drexel.edu' ([Errno 8] nodename nor servname provided, or not known)\"))\n",
      "Error processing http://film_20100519/all_imsdb_05_19_10/Queen,-The.html: HTTPConnectionPool(host='film_20100519', port=80): Max retries exceeded with url: /all_imsdb_05_19_10/Queen,-The.html (Caused by NameResolutionError(\"<urllib3.connection.HTTPConnection object at 0x10e351ed0>: Failed to resolve 'film_20100519' ([Errno 8] nodename nor servname provided, or not known)\"))\n",
      "Error processing http://www.joblo.com/scripts/script_beowulf.pdf: 404 Client Error: Not Found for url: https://www.joblo.com/scripts/script_beowulf.pdf\n"
     ]
    },
    {
     "name": "stderr",
     "output_type": "stream",
     "text": [
      "Some characters could not be decoded, and were replaced with REPLACEMENT CHARACTER.\n"
     ]
    },
    {
     "name": "stdout",
     "output_type": "stream",
     "text": [
      "Error processing http://The Illusionist-10.02.03.pdf: HTTPConnectionPool(host='the%20illusionist-10.02.03.pdf', port=80): Max retries exceeded with url: / (Caused by NameResolutionError(\"<urllib3.connection.HTTPConnection object at 0x10e2234f0>: Failed to resolve 'the%20illusionist-10.02.03.pdf' ([Errno 8] nodename nor servname provided, or not known)\"))\n",
      "Error processing http://www.joblo.com/scripts/jesse_james.pdf: 404 Client Error: Not Found for url: https://www.joblo.com/scripts/jesse_james.pdf\n",
      "Invalid URL format: http://Zodiac (2007) (aka Chronicles) [Rev. 2006-7-5] [Final Shoot.] [Digital] [BL'05].pdf\n",
      "Error processing http://Blades Of Glory.pdf: HTTPConnectionPool(host='blades%20of%20glory.pdf', port=80): Max retries exceeded with url: / (Caused by NameResolutionError(\"<urllib3.connection.HTTPConnection object at 0x10e220160>: Failed to resolve 'blades%20of%20glory.pdf' ([Errno 8] nodename nor servname provided, or not known)\"))\n"
     ]
    },
    {
     "name": "stderr",
     "output_type": "stream",
     "text": [
      "Some characters could not be decoded, and were replaced with REPLACEMENT CHARACTER.\n",
      "Some characters could not be decoded, and were replaced with REPLACEMENT CHARACTER.\n"
     ]
    },
    {
     "name": "stdout",
     "output_type": "stream",
     "text": [
      "Error processing http://PIRATES OF THE CARIBBEAN 3 AT WORLD'S END (2007) by Ted Elliot & Terry Rossio.pdf: Failed to parse: 'pirates%20of%20the%20caribbean%203%20at%20world's%20end%20(2007)%20by%20ted%20elliot%20&%20terry%20rossio.pdf', label empty or too long\n"
     ]
    },
    {
     "name": "stderr",
     "output_type": "stream",
     "text": [
      "Some characters could not be decoded, and were replaced with REPLACEMENT CHARACTER.\n"
     ]
    },
    {
     "name": "stdout",
     "output_type": "stream",
     "text": [
      "Error processing http://1408.pdf: HTTPConnectionPool(host='1408.pdf', port=80): Max retries exceeded with url: / (Caused by NameResolutionError(\"<urllib3.connection.HTTPConnection object at 0x32d78cbe0>: Failed to resolve '1408.pdf' ([Errno 8] nodename nor servname provided, or not known)\"))\n",
      "Invalid URL format: http://CIRQUE DU FREAK - THE VAMPIRE'S ASSISSTANT (2009) (aka CIRQUE DU FREAK) by Brian Helgeland [Undated] [Scan].pdf\n",
      "Error processing http://borderland by eric  poppen and zev berman .pdf: HTTPConnectionPool(host='borderland%20by%20eric%20%20poppen%20and%20zev%20berman%20.pdf', port=80): Max retries exceeded with url: / (Caused by NameResolutionError(\"<urllib3.connection.HTTPConnection object at 0x32d78e9e0>: Failed to resolve 'borderland%20by%20eric%20%20poppen%20and%20zev%20berman%20.pdf' ([Errno 8] nodename nor servname provided, or not known)\"))\n"
     ]
    },
    {
     "name": "stderr",
     "output_type": "stream",
     "text": [
      "Some characters could not be decoded, and were replaced with REPLACEMENT CHARACTER.\n"
     ]
    },
    {
     "name": "stdout",
     "output_type": "stream",
     "text": [
      "Error processing http://Vacancy.pdf: HTTPConnectionPool(host='vacancy.pdf', port=80): Max retries exceeded with url: / (Caused by NameResolutionError(\"<urllib3.connection.HTTPConnection object at 0x32d78faf0>: Failed to resolve 'vacancy.pdf' ([Errno 8] nodename nor servname provided, or not known)\"))\n",
      "Error processing http://Deja%20Vu.pdf: HTTPConnectionPool(host='deja%20vu.pdf', port=80): Max retries exceeded with url: / (Caused by NameResolutionError(\"<urllib3.connection.HTTPConnection object at 0x12a52ab30>: Failed to resolve 'deja%20vu.pdf' ([Errno 8] nodename nor servname provided, or not known)\"))\n",
      "Error processing http://Snow Angels.pdf: HTTPConnectionPool(host='snow%20angels.pdf', port=80): Max retries exceeded with url: / (Caused by NameResolutionError(\"<urllib3.connection.HTTPConnection object at 0x12a52a500>: Failed to resolve 'snow%20angels.pdf' ([Errno 8] nodename nor servname provided, or not known)\"))\n",
      "Error processing http://film_20100519/all_imsdb_05_19_10/TMNT.html: HTTPConnectionPool(host='film_20100519', port=80): Max retries exceeded with url: /all_imsdb_05_19_10/TMNT.html (Caused by NameResolutionError(\"<urllib3.connection.HTTPConnection object at 0x12a52ac80>: Failed to resolve 'film_20100519' ([Errno 8] nodename nor servname provided, or not known)\"))\n",
      "Error processing http://BLACK CHRISTMAS (Glenn Morgan) (Numbered Draft; October 19, 2005).pdf: Failed to parse: 'black%20christmas%20(glenn%20morgan)%20(numbered%20draft;%20october%2019,%202005).pdf', label empty or too long\n",
      "Error processing http://Inside_Man_by_Russell_Gewirtz_and_Menno_Meyjes.pdf: HTTPConnectionPool(host='inside_man_by_russell_gewirtz_and_menno_meyjes.pdf', port=80): Max retries exceeded with url: / (Caused by NameResolutionError(\"<urllib3.connection.HTTPConnection object at 0x12a494580>: Failed to resolve 'inside_man_by_russell_gewirtz_and_menno_meyjes.pdf' ([Errno 8] nodename nor servname provided, or not known)\"))\n",
      "Error processing http://www.joblo.com/scripts/The%20Crazies.pdf: 404 Client Error: Not Found for url: https://www.joblo.com/scripts/The%20Crazies.pdf\n",
      "Error processing http://THE EQUALIZER by Richard Wenk.pdf: HTTPConnectionPool(host='the%20equalizer%20by%20richard%20wenk.pdf', port=80): Max retries exceeded with url: / (Caused by NameResolutionError(\"<urllib3.connection.HTTPConnection object at 0x13998e170>: Failed to resolve 'the%20equalizer%20by%20richard%20wenk.pdf' ([Errno 8] nodename nor servname provided, or not known)\"))\n",
      "Error processing http://The Hitcher (Eric Red) (Undated) (Scan).pdf: HTTPConnectionPool(host='the%20hitcher%20(eric%20red)%20(undated)%20(scan).pdf', port=80): Max retries exceeded with url: / (Caused by NameResolutionError(\"<urllib3.connection.HTTPConnection object at 0x32d78cb20>: Failed to resolve 'the%20hitcher%20(eric%20red)%20(undated)%20(scan).pdf' ([Errno 8] nodename nor servname provided, or not known)\"))\n"
     ]
    },
    {
     "name": "stderr",
     "output_type": "stream",
     "text": [
      "Some characters could not be decoded, and were replaced with REPLACEMENT CHARACTER.\n"
     ]
    },
    {
     "name": "stdout",
     "output_type": "stream",
     "text": [
      "Invalid URL format: http://Captain America - The First Avenger [Digital].pdf\n"
     ]
    },
    {
     "name": "stderr",
     "output_type": "stream",
     "text": [
      "Some characters could not be decoded, and were replaced with REPLACEMENT CHARACTER.\n",
      "Some characters could not be decoded, and were replaced with REPLACEMENT CHARACTER.\n"
     ]
    },
    {
     "name": "stdout",
     "output_type": "stream",
     "text": [
      "Error processing http://film_20100519/all_imsdb_05_19_10/X-Men-Origins-Wolverine.html: HTTPConnectionPool(host='film_20100519', port=80): Max retries exceeded with url: /all_imsdb_05_19_10/X-Men-Origins-Wolverine.html (Caused by NameResolutionError(\"<urllib3.connection.HTTPConnection object at 0x32d7bc430>: Failed to resolve 'film_20100519' ([Errno 8] nodename nor servname provided, or not known)\"))\n",
      "Error processing http://grindhouse_planet_terror.pdf: HTTPConnectionPool(host='grindhouse_planet_terror.pdf', port=80): Max retries exceeded with url: / (Caused by NameResolutionError(\"<urllib3.connection.HTTPConnection object at 0x13998ead0>: Failed to resolve 'grindhouse_planet_terror.pdf' ([Errno 8] nodename nor servname provided, or not known)\"))\n",
      "Error processing http://28 WEEKS LATER (2007) - 2006.06.16 draft.pdf: HTTPConnectionPool(host='28%20weeks%20later%20(2007)%20-%202006.06.16%20draft.pdf', port=80): Max retries exceeded with url: / (Caused by NameResolutionError(\"<urllib3.connection.HTTPConnection object at 0x13e4d4eb0>: Failed to resolve '28%20weeks%20later%20(2007)%20-%202006.06.16%20draft.pdf' ([Errno 8] nodename nor servname provided, or not known)\"))\n",
      "Error processing http://National%20Treasure%20-%20The%20Book%20of%20Secrets.pdf: HTTPConnectionPool(host='national%20treasure%20-%20the%20book%20of%20secrets.pdf', port=80): Max retries exceeded with url: / (Caused by NameResolutionError(\"<urllib3.connection.HTTPConnection object at 0x138f065f0>: Failed to resolve 'national%20treasure%20-%20the%20book%20of%20secrets.pdf' ([Errno 8] nodename nor servname provided, or not known)\"))\n",
      "Error processing http://www.pages.drexel.edu/~ina22/splaylib/Screenplay-Michael_Clayton.pdf: HTTPConnectionPool(host='www.pages.drexel.edu', port=80): Max retries exceeded with url: /~ina22/splaylib/Screenplay-Michael_Clayton.pdf (Caused by NameResolutionError(\"<urllib3.connection.HTTPConnection object at 0x138f05300>: Failed to resolve 'www.pages.drexel.edu' ([Errno 8] nodename nor servname provided, or not known)\"))\n",
      "Error processing http://Push - Bourla David.pdf: HTTPConnectionPool(host='push%20-%20bourla%20david.pdf', port=80): Max retries exceeded with url: / (Caused by NameResolutionError(\"<urllib3.connection.HTTPConnection object at 0x10e353250>: Failed to resolve 'push%20-%20bourla%20david.pdf' ([Errno 8] nodename nor servname provided, or not known)\"))\n"
     ]
    },
    {
     "name": "stderr",
     "output_type": "stream",
     "text": [
      "Some characters could not be decoded, and were replaced with REPLACEMENT CHARACTER.\n"
     ]
    },
    {
     "name": "stdout",
     "output_type": "stream",
     "text": [
      "Error processing http://film_20100519/all_imsdb_05_19_10/Max-Payne.html: HTTPConnectionPool(host='film_20100519', port=80): Max retries exceeded with url: /all_imsdb_05_19_10/Max-Payne.html (Caused by NameResolutionError(\"<urllib3.connection.HTTPConnection object at 0x138f07d30>: Failed to resolve 'film_20100519' ([Errno 8] nodename nor servname provided, or not known)\"))\n",
      "Error processing http://film_20100519/all_imsdb_05_19_10/Other-Boleyn-Girl,-The.html: HTTPConnectionPool(host='film_20100519', port=80): Max retries exceeded with url: /all_imsdb_05_19_10/Other-Boleyn-Girl,-The.html (Caused by NameResolutionError(\"<urllib3.connection.HTTPConnection object at 0x138f05ba0>: Failed to resolve 'film_20100519' ([Errno 8] nodename nor servname provided, or not known)\"))\n",
      "Error processing http://World Trade Center.pdf: HTTPConnectionPool(host='world%20trade%20center.pdf', port=80): Max retries exceeded with url: / (Caused by NameResolutionError(\"<urllib3.connection.HTTPConnection object at 0x138f06ef0>: Failed to resolve 'world%20trade%20center.pdf' ([Errno 8] nodename nor servname provided, or not known)\"))\n",
      "Error processing http://gointothestory.blcklst.com/wp-content/uploads/2015/10/Ex-Machina.pdf: 404 Client Error: Not Found for url: https://gointothestory.blcklst.com/wp-content/uploads/2015/10/Ex-Machina.pdf?gi=4bab80c40558\n",
      "Error processing http://Tower Heist (2010.01.28).pdf: HTTPConnectionPool(host='tower%20heist%20(2010.01.28).pdf', port=80): Max retries exceeded with url: / (Caused by NameResolutionError(\"<urllib3.connection.HTTPConnection object at 0x138f05f90>: Failed to resolve 'tower%20heist%20(2010.01.28).pdf' ([Errno 8] nodename nor servname provided, or not known)\"))\n"
     ]
    },
    {
     "name": "stderr",
     "output_type": "stream",
     "text": [
      "Some characters could not be decoded, and were replaced with REPLACEMENT CHARACTER.\n",
      "Some characters could not be decoded, and were replaced with REPLACEMENT CHARACTER.\n"
     ]
    },
    {
     "name": "stdout",
     "output_type": "stream",
     "text": [
      "Error processing http://Prince of Persia - The Sands of Time.pdf: HTTPConnectionPool(host='prince%20of%20persia%20-%20the%20sands%20of%20time.pdf', port=80): Max retries exceeded with url: / (Caused by NameResolutionError(\"<urllib3.connection.HTTPConnection object at 0x13e4d5390>: Failed to resolve 'prince%20of%20persia%20-%20the%20sands%20of%20time.pdf' ([Errno 8] nodename nor servname provided, or not known)\"))\n",
      "Error processing http://film_20100519/all_imsdb_05_19_10/Smokin'-Aces.html: HTTPConnectionPool(host='film_20100519', port=80): Max retries exceeded with url: /all_imsdb_05_19_10/Smokin'-Aces.html (Caused by NameResolutionError(\"<urllib3.connection.HTTPConnection object at 0x10d847c40>: Failed to resolve 'film_20100519' ([Errno 8] nodename nor servname provided, or not known)\"))\n",
      "Error processing http://www.joblo.com/scripts/the_brave_one.pdf: 404 Client Error: Not Found for url: https://www.joblo.com/scripts/the_brave_one.pdf\n",
      "Error processing http://Unstoppable Mark Bomback 1-8-09 digital.pdf: HTTPConnectionPool(host='unstoppable%20mark%20bomback%201-8-09%20digital.pdf', port=80): Max retries exceeded with url: / (Caused by NameResolutionError(\"<urllib3.connection.HTTPConnection object at 0x10d847d00>: Failed to resolve 'unstoppable%20mark%20bomback%201-8-09%20digital.pdf' ([Errno 8] nodename nor servname provided, or not known)\"))\n",
      "Error processing http://NO COUNTRY FOR OLD MEN.pdf: HTTPConnectionPool(host='no%20country%20for%20old%20men.pdf', port=80): Max retries exceeded with url: / (Caused by NameResolutionError(\"<urllib3.connection.HTTPConnection object at 0x13e4d65c0>: Failed to resolve 'no%20country%20for%20old%20men.pdf' ([Errno 8] nodename nor servname provided, or not known)\"))\n",
      "Invalid URL format: http://21(2008)[SCAN][2nd](3.10.04)118pp.pdf\n"
     ]
    },
    {
     "name": "stderr",
     "output_type": "stream",
     "text": [
      "Some characters could not be decoded, and were replaced with REPLACEMENT CHARACTER.\n",
      "Some characters could not be decoded, and were replaced with REPLACEMENT CHARACTER.\n"
     ]
    },
    {
     "name": "stdout",
     "output_type": "stream",
     "text": [
      "Invalid URL format: http://ROCKY BALBOA [10-6-2005] [Scan].pdf\n"
     ]
    },
    {
     "name": "stderr",
     "output_type": "stream",
     "text": [
      "Some characters could not be decoded, and were replaced with REPLACEMENT CHARACTER.\n"
     ]
    },
    {
     "name": "stdout",
     "output_type": "stream",
     "text": [
      "Invalid URL format: http://One Missed Call (2008) [2006-5-23] [Scan].pdf\n",
      "Error processing http://Season of the Witch (2).pdf: HTTPConnectionPool(host='season%20of%20the%20witch%20(2).pdf', port=80): Max retries exceeded with url: / (Caused by NameResolutionError(\"<urllib3.connection.HTTPConnection object at 0x13e4d7ee0>: Failed to resolve 'season%20of%20the%20witch%20(2).pdf' ([Errno 8] nodename nor servname provided, or not known)\"))\n",
      "Error processing http://gointothestory.blcklst.com/wp-content/uploads/2014/07/Croods-The.pdf: 404 Client Error: Not Found for url: https://gointothestory.blcklst.com/wp-content/uploads/2014/07/Croods-The.pdf?gi=29acd46bf364\n"
     ]
    },
    {
     "name": "stderr",
     "output_type": "stream",
     "text": [
      "Some characters could not be decoded, and were replaced with REPLACEMENT CHARACTER.\n"
     ]
    },
    {
     "name": "stdout",
     "output_type": "stream",
     "text": [
      "Error processing http://Doomsday (2006).pdf: HTTPConnectionPool(host='doomsday%20(2006).pdf', port=80): Max retries exceeded with url: / (Caused by NameResolutionError(\"<urllib3.connection.HTTPConnection object at 0x10da7c1f0>: Failed to resolve 'doomsday%20(2006).pdf' ([Errno 8] nodename nor servname provided, or not known)\"))\n"
     ]
    },
    {
     "name": "stderr",
     "output_type": "stream",
     "text": [
      "Some characters could not be decoded, and were replaced with REPLACEMENT CHARACTER.\n",
      "Some characters could not be decoded, and were replaced with REPLACEMENT CHARACTER.\n"
     ]
    },
    {
     "name": "stdout",
     "output_type": "stream",
     "text": [
      "Error processing http://film_20100519/all_imsdb_05_19_10/Disturbia.html: HTTPConnectionPool(host='film_20100519', port=80): Max retries exceeded with url: /all_imsdb_05_19_10/Disturbia.html (Caused by NameResolutionError(\"<urllib3.connection.HTTPConnection object at 0x13e4d6830>: Failed to resolve 'film_20100519' ([Errno 8] nodename nor servname provided, or not known)\"))\n",
      "Error processing http://Jumper.pdf: HTTPConnectionPool(host='jumper.pdf', port=80): Max retries exceeded with url: / (Caused by NameResolutionError(\"<urllib3.connection.HTTPConnection object at 0x13e4d5150>: Failed to resolve 'jumper.pdf' ([Errno 8] nodename nor servname provided, or not known)\"))\n",
      "Invalid URL format: http://All The Boys Love Mandy Lane (2006) [Undated] [Digital].pdf\n",
      "Error processing http://awayfromherscript.com/afhSCRIPT.pdf: HTTPConnectionPool(host='awayfromherscript.com', port=80): Max retries exceeded with url: /afhSCRIPT.pdf (Caused by NameResolutionError(\"<urllib3.connection.HTTPConnection object at 0x13998ce20>: Failed to resolve 'awayfromherscript.com' ([Errno 8] nodename nor servname provided, or not known)\"))\n",
      "Error processing http://film_20100519/all_imsdb_05_19_10/Wanted.html: HTTPConnectionPool(host='film_20100519', port=80): Max retries exceeded with url: /all_imsdb_05_19_10/Wanted.html (Caused by NameResolutionError(\"<urllib3.connection.HTTPConnection object at 0x32d78ca00>: Failed to resolve 'film_20100519' ([Errno 8] nodename nor servname provided, or not known)\"))\n"
     ]
    },
    {
     "name": "stderr",
     "output_type": "stream",
     "text": [
      "Some characters could not be decoded, and were replaced with REPLACEMENT CHARACTER.\n",
      "Some characters could not be decoded, and were replaced with REPLACEMENT CHARACTER.\n"
     ]
    },
    {
     "name": "stdout",
     "output_type": "stream",
     "text": [
      "Error processing http://film_20100519/all_imsdb_05_19_10/We-Own-the-Night.html: HTTPConnectionPool(host='film_20100519', port=80): Max retries exceeded with url: /all_imsdb_05_19_10/We-Own-the-Night.html (Caused by NameResolutionError(\"<urllib3.connection.HTTPConnection object at 0x10e353070>: Failed to resolve 'film_20100519' ([Errno 8] nodename nor servname provided, or not known)\"))\n",
      "Invalid URL format: http://ALIENS VS. PREDATOR - REQUIEM (2007) (aka ALIEN VS. PREDATOR - REQUIEM) (aka AVP2) by Shane Salerno [2005.12.15] [1s.pdf\n",
      "Error processing http://Friday the 13th (2009) - Damian Shannon & Mark Swift (2008.4.12).pdf: Failed to parse: 'friday%20the%2013th%20(2009)%20-%20damian%20shannon%20&%20mark%20swift%20(2008.4.12).pdf', label empty or too long\n",
      "Invalid URL format: http://Love And Other Drugs (2010) [2008-7-16] [Digital] [BL'07].pdf\n",
      "Error processing http://Body of Lies (2007.09.21).pdf: HTTPConnectionPool(host='body%20of%20lies%20(2007.09.21).pdf', port=80): Max retries exceeded with url: / (Caused by NameResolutionError(\"<urllib3.connection.HTTPConnection object at 0x13e4d70d0>: Failed to resolve 'body%20of%20lies%20(2007.09.21).pdf' ([Errno 8] nodename nor servname provided, or not known)\"))\n",
      "Error processing http://www.joblo.com/scripts/Brothers.pdf: 404 Client Error: Not Found for url: https://www.joblo.com/scripts/Brothers.pdf\n",
      "Error processing http://film_20100519/all_imsdb_05_19_10/American-Gangster.html: HTTPConnectionPool(host='film_20100519', port=80): Max retries exceeded with url: /all_imsdb_05_19_10/American-Gangster.html (Caused by NameResolutionError(\"<urllib3.connection.HTTPConnection object at 0x10e284580>: Failed to resolve 'film_20100519' ([Errno 8] nodename nor servname provided, or not known)\"))\n",
      "Error processing http://www.joblo.com/scripts/Eastern_Promises.pdf: 404 Client Error: Not Found for url: https://www.joblo.com/scripts/Eastern_Promises.pdf\n"
     ]
    },
    {
     "name": "stderr",
     "output_type": "stream",
     "text": [
      "Some characters could not be decoded, and were replaced with REPLACEMENT CHARACTER.\n",
      "Some characters could not be decoded, and were replaced with REPLACEMENT CHARACTER.\n"
     ]
    },
    {
     "name": "stdout",
     "output_type": "stream",
     "text": [
      "Error processing http://film_20100519/all_imsdb_05_19_10/Mr-Brooks.html: HTTPConnectionPool(host='film_20100519', port=80): Max retries exceeded with url: /all_imsdb_05_19_10/Mr-Brooks.html (Caused by NameResolutionError(\"<urllib3.connection.HTTPConnection object at 0x13e4d5570>: Failed to resolve 'film_20100519' ([Errno 8] nodename nor servname provided, or not known)\"))\n",
      "Error processing http://The Wolf Man (Andrew Kevin Walker).pdf: HTTPConnectionPool(host='the%20wolf%20man%20(andrew%20kevin%20walker).pdf', port=80): Max retries exceeded with url: / (Caused by NameResolutionError(\"<urllib3.connection.HTTPConnection object at 0x10da7fac0>: Failed to resolve 'the%20wolf%20man%20(andrew%20kevin%20walker).pdf' ([Errno 8] nodename nor servname provided, or not known)\"))\n",
      "Error processing http://www.pages.drexel.edu/~ina22/splaylib/Screenplay-Atonement.pdf: HTTPConnectionPool(host='www.pages.drexel.edu', port=80): Max retries exceeded with url: /~ina22/splaylib/Screenplay-Atonement.pdf (Caused by NameResolutionError(\"<urllib3.connection.HTTPConnection object at 0x10da7fc10>: Failed to resolve 'www.pages.drexel.edu' ([Errno 8] nodename nor servname provided, or not known)\"))\n",
      "Error processing http://gointothestory.blcklst.com/wp-content/uploads/2014/11/Boxtrolls-The.pdf: 404 Client Error: Not Found for url: https://gointothestory.blcklst.com/wp-content/uploads/2014/11/Boxtrolls-The.pdf?gi=25d1a9e58557\n",
      "Error processing http://www.joblo.com/scripts/hot-rod.pdf: 404 Client Error: Not Found for url: https://www.joblo.com/scripts/hot-rod.pdf\n",
      "Error processing http://towelhead.pdf: HTTPConnectionPool(host='towelhead.pdf', port=80): Max retries exceeded with url: / (Caused by NameResolutionError(\"<urllib3.connection.HTTPConnection object at 0x10da7f5b0>: Failed to resolve 'towelhead.pdf' ([Errno 8] nodename nor servname provided, or not known)\"))\n",
      "Error processing http://focusguilds2013.com/workspace/media/dbc_final-script_-12.02.12-.pdf: HTTPConnectionPool(host='focusguilds2013.com', port=80): Max retries exceeded with url: /workspace/media/dbc_final-script_-12.02.12-.pdf (Caused by NameResolutionError(\"<urllib3.connection.HTTPConnection object at 0x10da7dc30>: Failed to resolve 'focusguilds2013.com' ([Errno 8] nodename nor servname provided, or not known)\"))\n"
     ]
    },
    {
     "name": "stderr",
     "output_type": "stream",
     "text": [
      "Some characters could not be decoded, and were replaced with REPLACEMENT CHARACTER.\n",
      "Some characters could not be decoded, and were replaced with REPLACEMENT CHARACTER.\n"
     ]
    },
    {
     "name": "stdout",
     "output_type": "stream",
     "text": [
      "Error processing http://Jack Reacher.pdf: HTTPConnectionPool(host='jack%20reacher.pdf', port=80): Max retries exceeded with url: / (Caused by NameResolutionError(\"<urllib3.connection.HTTPConnection object at 0x10e284520>: Failed to resolve 'jack%20reacher.pdf' ([Errno 8] nodename nor servname provided, or not known)\"))\n",
      "Error processing http://film_20100519/all_imsdb_05_19_10/Star-Trek.html: HTTPConnectionPool(host='film_20100519', port=80): Max retries exceeded with url: /all_imsdb_05_19_10/Star-Trek.html (Caused by NameResolutionError(\"<urllib3.connection.HTTPConnection object at 0x10e286500>: Failed to resolve 'film_20100519' ([Errno 8] nodename nor servname provided, or not known)\"))\n"
     ]
    },
    {
     "name": "stderr",
     "output_type": "stream",
     "text": [
      "Some characters could not be decoded, and were replaced with REPLACEMENT CHARACTER.\n"
     ]
    },
    {
     "name": "stdout",
     "output_type": "stream",
     "text": [
      "Error processing http://incredible20hulk2c20the.pdf: HTTPConnectionPool(host='incredible20hulk2c20the.pdf', port=80): Max retries exceeded with url: / (Caused by NameResolutionError(\"<urllib3.connection.HTTPConnection object at 0x10da7f340>: Failed to resolve 'incredible20hulk2c20the.pdf' ([Errno 8] nodename nor servname provided, or not known)\"))\n",
      "Error processing http://film_20100519/all_imsdb_05_19_10/Deception.html: HTTPConnectionPool(host='film_20100519', port=80): Max retries exceeded with url: /all_imsdb_05_19_10/Deception.html (Caused by NameResolutionError(\"<urllib3.connection.HTTPConnection object at 0x10da7e350>: Failed to resolve 'film_20100519' ([Errno 8] nodename nor servname provided, or not known)\"))\n",
      "Error processing http://The Promotion-Aka-Quebec.pdf: HTTPConnectionPool(host='the%20promotion-aka-quebec.pdf', port=80): Max retries exceeded with url: / (Caused by NameResolutionError(\"<urllib3.connection.HTTPConnection object at 0x10e2847c0>: Failed to resolve 'the%20promotion-aka-quebec.pdf' ([Errno 8] nodename nor servname provided, or not known)\"))\n",
      "Error processing http://www.pages.drexel.edu/~ina22/splaylib/Screenplay-It%27s_Kind_of_a_Funny_Story.pdf: HTTPConnectionPool(host='www.pages.drexel.edu', port=80): Max retries exceeded with url: /~ina22/splaylib/Screenplay-It%27s_Kind_of_a_Funny_Story.pdf (Caused by NameResolutionError(\"<urllib3.connection.HTTPConnection object at 0x10e284f70>: Failed to resolve 'www.pages.drexel.edu' ([Errno 8] nodename nor servname provided, or not known)\"))\n",
      "Error processing http://P2.pdf: HTTPConnectionPool(host='p2.pdf', port=80): Max retries exceeded with url: / (Caused by NameResolutionError(\"<urllib3.connection.HTTPConnection object at 0x10e286260>: Failed to resolve 'p2.pdf' ([Errno 8] nodename nor servname provided, or not known)\"))\n",
      "Error processing http://www.pages.drexel.edu/~ina22/splaylib/Screenplay-Brightstar.pdf: HTTPConnectionPool(host='www.pages.drexel.edu', port=80): Max retries exceeded with url: /~ina22/splaylib/Screenplay-Brightstar.pdf (Caused by NameResolutionError(\"<urllib3.connection.HTTPConnection object at 0x10e286590>: Failed to resolve 'www.pages.drexel.edu' ([Errno 8] nodename nor servname provided, or not known)\"))\n",
      "Error processing http://film_20100519/all_imsdb_05_19_10/Speed-Racer.html: HTTPConnectionPool(host='film_20100519', port=80): Max retries exceeded with url: /all_imsdb_05_19_10/Speed-Racer.html (Caused by NameResolutionError(\"<urllib3.connection.HTTPConnection object at 0x10da7d330>: Failed to resolve 'film_20100519' ([Errno 8] nodename nor servname provided, or not known)\"))\n",
      "Invalid URL format: http://Séance (2006) [2006-3-18] [Digital].pdf\n",
      "Error processing http://film_20100519/all_imsdb_05_19_10/She's-Out-of-My-League.html: HTTPConnectionPool(host='film_20100519', port=80): Max retries exceeded with url: /all_imsdb_05_19_10/She's-Out-of-My-League.html (Caused by NameResolutionError(\"<urllib3.connection.HTTPConnection object at 0x10da7c0d0>: Failed to resolve 'film_20100519' ([Errno 8] nodename nor servname provided, or not known)\"))\n",
      "Error processing http://Interstellar Final draft Nolan & Nolan (157 p).pdf: HTTPConnectionPool(host='interstellar%20final%20draft%20nolan%20&%20nolan%20(157%20p).pdf', port=80): Max retries exceeded with url: / (Caused by NameResolutionError(\"<urllib3.connection.HTTPConnection object at 0x10da7fbe0>: Failed to resolve 'interstellar%20final%20draft%20nolan%20&%20nolan%20(157%20p).pdf' ([Errno 8] nodename nor servname provided, or not known)\"))\n"
     ]
    },
    {
     "name": "stderr",
     "output_type": "stream",
     "text": [
      "Some characters could not be decoded, and were replaced with REPLACEMENT CHARACTER.\n",
      "Some characters could not be decoded, and were replaced with REPLACEMENT CHARACTER.\n"
     ]
    },
    {
     "name": "stdout",
     "output_type": "stream",
     "text": [
      "Error processing http://film_20100519/all_imsdb_05_19_10/Changeling.html: HTTPConnectionPool(host='film_20100519', port=80): Max retries exceeded with url: /all_imsdb_05_19_10/Changeling.html (Caused by NameResolutionError(\"<urllib3.connection.HTTPConnection object at 0x138fdfd30>: Failed to resolve 'film_20100519' ([Errno 8] nodename nor servname provided, or not known)\"))\n"
     ]
    },
    {
     "name": "stderr",
     "output_type": "stream",
     "text": [
      "Some characters could not be decoded, and were replaced with REPLACEMENT CHARACTER.\n"
     ]
    },
    {
     "name": "stdout",
     "output_type": "stream",
     "text": [
      "Invalid URL format: http://DRACULA UNTOLD (2014) (aka DRACULA YEAR ZERO) by Matt Sazama & Burk Sharpless [2006.04.28] [Digi.pdf\n"
     ]
    },
    {
     "name": "stderr",
     "output_type": "stream",
     "text": [
      "Some characters could not be decoded, and were replaced with REPLACEMENT CHARACTER.\n"
     ]
    },
    {
     "name": "stdout",
     "output_type": "stream",
     "text": [
      "Error processing http://DARJEELING LIMITED, THE by Wes Anderson, Coppola, Schwartsman.pdf: Failed to parse: 'darjeeling%20limited,%20the%20by%20wes%20anderson,%20coppola,%20schwartsman.pdf', label empty or too long\n",
      "Error processing http://film_20100519/all_imsdb_05_19_10/Semi-Pro.html: HTTPConnectionPool(host='film_20100519', port=80): Max retries exceeded with url: /all_imsdb_05_19_10/Semi-Pro.html (Caused by NameResolutionError(\"<urllib3.connection.HTTPConnection object at 0x139040250>: Failed to resolve 'film_20100519' ([Errno 8] nodename nor servname provided, or not known)\"))\n",
      "Error processing http://moviecultists.com/wp-content/uploads/screenplays/town.pdf: 404 Client Error: Not Found for url: https://moviecultists.com/wp-content/uploads/screenplays/town.pdf\n",
      "Invalid URL format: http://CLOUDY WITH A CHANCE OF MEATBALLS (2009) by Phil Lord & Chris Miller [Undated] [Digital].pdf\n"
     ]
    },
    {
     "name": "stderr",
     "output_type": "stream",
     "text": [
      "Some characters could not be decoded, and were replaced with REPLACEMENT CHARACTER.\n",
      "Some characters could not be decoded, and were replaced with REPLACEMENT CHARACTER.\n",
      "Some characters could not be decoded, and were replaced with REPLACEMENT CHARACTER.\n"
     ]
    },
    {
     "name": "stdout",
     "output_type": "stream",
     "text": [
      "Error processing http://FrostNixon.pdf: HTTPConnectionPool(host='frostnixon.pdf', port=80): Max retries exceeded with url: / (Caused by NameResolutionError(\"<urllib3.connection.HTTPConnection object at 0x13973d420>: Failed to resolve 'frostnixon.pdf' ([Errno 8] nodename nor servname provided, or not known)\"))\n"
     ]
    },
    {
     "name": "stderr",
     "output_type": "stream",
     "text": [
      "Some characters could not be decoded, and were replaced with REPLACEMENT CHARACTER.\n"
     ]
    },
    {
     "name": "stdout",
     "output_type": "stream",
     "text": [
      "Error processing http://gointothestory.blcklst.com/wp-content/uploads/2014/11/Please-Give.pdf: 404 Client Error: Not Found for url: https://gointothestory.blcklst.com/wp-content/uploads/2014/11/Please-Give.pdf?gi=8d6ffd67e791\n"
     ]
    },
    {
     "name": "stderr",
     "output_type": "stream",
     "text": [
      "Some characters could not be decoded, and were replaced with REPLACEMENT CHARACTER.\n"
     ]
    },
    {
     "name": "stdout",
     "output_type": "stream",
     "text": [
      "Error processing http://Mist, The (2005.08.05).pdf: HTTPConnectionPool(host='mist,%20the%20(2005.08.05).pdf', port=80): Max retries exceeded with url: / (Caused by NameResolutionError(\"<urllib3.connection.HTTPConnection object at 0x138f05c60>: Failed to resolve 'mist,%20the%20(2005.08.05).pdf' ([Errno 8] nodename nor servname provided, or not known)\"))\n",
      "Error processing http://film_20100519/all_imsdb_05_19_10/Burn-After-Reading.html: HTTPConnectionPool(host='film_20100519', port=80): Max retries exceeded with url: /all_imsdb_05_19_10/Burn-After-Reading.html (Caused by NameResolutionError(\"<urllib3.connection.HTTPConnection object at 0x13999fc10>: Failed to resolve 'film_20100519' ([Errno 8] nodename nor servname provided, or not known)\"))\n",
      "Error processing http://The Hurt Locker  (6 7 07) - Mark Boal.pdf: HTTPConnectionPool(host='the%20hurt%20locker%20%20(6%207%2007)%20-%20mark%20boal.pdf', port=80): Max retries exceeded with url: / (Caused by NameResolutionError(\"<urllib3.connection.HTTPConnection object at 0x139a1d6f0>: Failed to resolve 'the%20hurt%20locker%20%20(6%207%2007)%20-%20mark%20boal.pdf' ([Errno 8] nodename nor servname provided, or not known)\"))\n",
      "Error processing http://film_20100519/all_imsdb_05_19_10/While-She-Was-Out.html: HTTPConnectionPool(host='film_20100519', port=80): Max retries exceeded with url: /all_imsdb_05_19_10/While-She-Was-Out.html (Caused by NameResolutionError(\"<urllib3.connection.HTTPConnection object at 0x13999ff40>: Failed to resolve 'film_20100519' ([Errno 8] nodename nor servname provided, or not known)\"))\n",
      "Invalid URL format: http://SAW IV (2007) (aka SAW 4) by Patrick Melton & Marcus Dunstan [2006.11.20] [Digital].pdf\n",
      "Error processing http://lions_for_lambs.pdf: HTTPConnectionPool(host='lions_for_lambs.pdf', port=80): Max retries exceeded with url: / (Caused by NameResolutionError(\"<urllib3.connection.HTTPConnection object at 0x13999feb0>: Failed to resolve 'lions_for_lambs.pdf' ([Errno 8] nodename nor servname provided, or not known)\"))\n",
      "Error processing http://Street Fighter - The Legend of Chun Li.pdf: HTTPConnectionPool(host='street%20fighter%20-%20the%20legend%20of%20chun%20li.pdf', port=80): Max retries exceeded with url: / (Caused by NameResolutionError(\"<urllib3.connection.HTTPConnection object at 0x138f043a0>: Failed to resolve 'street%20fighter%20-%20the%20legend%20of%20chun%20li.pdf' ([Errno 8] nodename nor servname provided, or not known)\"))\n",
      "Error processing http://www.joblo.com/scripts/Letters to Juliet.pdf: 404 Client Error: Not Found for url: https://www.joblo.com/scripts/Letters%20to%20Juliet.pdf\n"
     ]
    },
    {
     "name": "stderr",
     "output_type": "stream",
     "text": [
      "Some characters could not be decoded, and were replaced with REPLACEMENT CHARACTER.\n"
     ]
    },
    {
     "name": "stdout",
     "output_type": "stream",
     "text": [
      "Error processing http://moviecultists.com/wp-content/uploads/screenplays/rabbit-hole.pdf: 404 Client Error: Not Found for url: https://moviecultists.com/wp-content/uploads/screenplays/rabbit-hole.pdf\n",
      "Invalid URL format: http://TAKEN (2008) by Luc Besson & Robert Mark Kamen [Undated] [Scan].pdf\n",
      "Error processing http://film_20100519/all_imsdb_05_19_10/Tropic-Thunder.html: HTTPConnectionPool(host='film_20100519', port=80): Max retries exceeded with url: /all_imsdb_05_19_10/Tropic-Thunder.html (Caused by NameResolutionError(\"<urllib3.connection.HTTPConnection object at 0x32d78f790>: Failed to resolve 'film_20100519' ([Errno 8] nodename nor servname provided, or not known)\"))\n"
     ]
    },
    {
     "name": "stderr",
     "output_type": "stream",
     "text": [
      "Some characters could not be decoded, and were replaced with REPLACEMENT CHARACTER.\n"
     ]
    },
    {
     "name": "stdout",
     "output_type": "stream",
     "text": [
      "Error processing http://www.joblo.com/scripts/Green Zone.pdf: 404 Client Error: Not Found for url: https://www.joblo.com/scripts/Green%20Zone.pdf\n",
      "Invalid URL format: http://CABIN FEVER (2002) by Eli Roth & Randy Pearlstein [2000.02] [2nd] [Scan].pdf\n",
      "Error processing http://www.pages.drexel.edu/~ina22/splaylib/Screenplay-Young_Victoria, The.pdf: HTTPConnectionPool(host='www.pages.drexel.edu', port=80): Max retries exceeded with url: /~ina22/splaylib/Screenplay-Young_Victoria,%20The.pdf (Caused by NameResolutionError(\"<urllib3.connection.HTTPConnection object at 0x12eeab790>: Failed to resolve 'www.pages.drexel.edu' ([Errno 8] nodename nor servname provided, or not known)\"))\n",
      "Error processing http://screenplayexplorer.com/wp-content/scripts/The-Sorcerers-Apprentice.pdf: HTTPConnectionPool(host='screenplayexplorer.com', port=80): Max retries exceeded with url: /wp-content/scripts/The-Sorcerers-Apprentice.pdf (Caused by NameResolutionError(\"<urllib3.connection.HTTPConnection object at 0x12eea9990>: Failed to resolve 'screenplayexplorer.com' ([Errno 8] nodename nor servname provided, or not known)\"))\n",
      "Error processing http://Solomon Kane.pdf: HTTPConnectionPool(host='solomon%20kane.pdf', port=80): Max retries exceeded with url: / (Caused by NameResolutionError(\"<urllib3.connection.HTTPConnection object at 0x32d78f820>: Failed to resolve 'solomon%20kane.pdf' ([Errno 8] nodename nor servname provided, or not known)\"))\n",
      "Error processing http://A+Perfect+Getaway.pdf: HTTPConnectionPool(host='a+perfect+getaway.pdf', port=80): Max retries exceeded with url: / (Caused by NameResolutionError(\"<urllib3.connection.HTTPConnection object at 0x1399a1690>: Failed to resolve 'a+perfect+getaway.pdf' ([Errno 8] nodename nor servname provided, or not known)\"))\n",
      "Error processing http://www.pages.drexel.edu/~ina22/splaylib/Screenplay-Hitchcock.pdf: HTTPConnectionPool(host='www.pages.drexel.edu', port=80): Max retries exceeded with url: /~ina22/splaylib/Screenplay-Hitchcock.pdf (Caused by NameResolutionError(\"<urllib3.connection.HTTPConnection object at 0x1399a2380>: Failed to resolve 'www.pages.drexel.edu' ([Errno 8] nodename nor servname provided, or not known)\"))\n",
      "Invalid URL format: http://Nick And Norah's Infinite Playlist (2008) [2005-6-1] [Scan] [BL'05].pdf\n",
      "Invalid URL format: http://The Adventures of Tintin The  Secret of the Unicorn (10-30-2011) [scan].pdf\n",
      "Error processing http://SHERLOCK HOLMES (2009) - 2009.02.02 draft by Michael Robert Johnson, Anthony Peckham and Simon Kinberg.pdf: Failed to parse: 'sherlock%20holmes%20(2009)%20-%202009.02.02%20draft%20by%20michael%20robert%20johnson,%20anthony%20peckham%20and%20simon%20kinberg.pdf', label empty or too long\n"
     ]
    },
    {
     "name": "stderr",
     "output_type": "stream",
     "text": [
      "Some characters could not be decoded, and were replaced with REPLACEMENT CHARACTER.\n"
     ]
    },
    {
     "name": "stdout",
     "output_type": "stream",
     "text": [
      "Invalid URL format: http://GHOST TOWN (2008) by David Koepp & John Kamps [2007.02.07] [Scan].pdf\n",
      "Error processing http://cbsla.files.wordpress.com/2012/01/the-iron-lady.pdf: 410 Client Error: Gone for url: https://cbsla.wordpress.com/wp-content/uploads/2012/01/the-iron-lady.pdf\n",
      "Error processing http://REDBELT by David Mamet (2007-04-02) (Scan).pdf: HTTPConnectionPool(host='redbelt%20by%20david%20mamet%20(2007-04-02)%20(scan).pdf', port=80): Max retries exceeded with url: / (Caused by NameResolutionError(\"<urllib3.connection.HTTPConnection object at 0x12e9a2e00>: Failed to resolve 'redbelt%20by%20david%20mamet%20(2007-04-02)%20(scan).pdf' ([Errno 8] nodename nor servname provided, or not known)\"))\n",
      "Error processing http://KNIGHT AND DAY.pdf: HTTPConnectionPool(host='knight%20and%20day.pdf', port=80): Max retries exceeded with url: / (Caused by NameResolutionError(\"<urllib3.connection.HTTPConnection object at 0x12eeaa8c0>: Failed to resolve 'knight%20and%20day.pdf' ([Errno 8] nodename nor servname provided, or not known)\"))\n",
      "Error processing http://film_20100519/all_imsdb_05_19_10/Milk.html: HTTPConnectionPool(host='film_20100519', port=80): Max retries exceeded with url: /all_imsdb_05_19_10/Milk.html (Caused by NameResolutionError(\"<urllib3.connection.HTTPConnection object at 0x12e9a0940>: Failed to resolve 'film_20100519' ([Errno 8] nodename nor servname provided, or not known)\"))\n",
      "Error processing http://www.joblo.com/scripts/Alice in Wonderland.pdf: 404 Client Error: Not Found for url: https://www.joblo.com/scripts/Alice%20in%20Wonderland.pdf\n",
      "Invalid URL format: http://Train (2008) (aka Terror Train) [2007-4-12] [Digital].pdf\n"
     ]
    },
    {
     "name": "stderr",
     "output_type": "stream",
     "text": [
      "Some characters could not be decoded, and were replaced with REPLACEMENT CHARACTER.\n"
     ]
    },
    {
     "name": "stdout",
     "output_type": "stream",
     "text": [
      "Error processing http://film_20100519/all_imsdb_05_19_10/A-Serious-Man.html: HTTPConnectionPool(host='film_20100519', port=80): Max retries exceeded with url: /all_imsdb_05_19_10/A-Serious-Man.html (Caused by NameResolutionError(\"<urllib3.connection.HTTPConnection object at 0x12eea84c0>: Failed to resolve 'film_20100519' ([Errno 8] nodename nor servname provided, or not known)\"))\n",
      "Invalid URL format: http://SELMA (2014) by Paul Webb & Ava DuVernay [2014.02.02] [Digital] [Black'07, Brit'07].pdf\n",
      "Error processing http://screenplayexplorer.com/wp-content/scripts/Secretariat.pdf: HTTPConnectionPool(host='screenplayexplorer.com', port=80): Max retries exceeded with url: /wp-content/scripts/Secretariat.pdf (Caused by NameResolutionError(\"<urllib3.connection.HTTPConnection object at 0x138f04c10>: Failed to resolve 'screenplayexplorer.com' ([Errno 8] nodename nor servname provided, or not known)\"))\n",
      "Error processing http://aquilamorongstudio.com/wp-content/uploads/2012/10/HENRY.POOLE_.10.12.06.pdf: HTTPConnectionPool(host='aquilamorongstudio.com', port=80): Max retries exceeded with url: /wp-content/uploads/2012/10/HENRY.POOLE_.10.12.06.pdf (Caused by NameResolutionError(\"<urllib3.connection.HTTPConnection object at 0x32d78e920>: Failed to resolve 'aquilamorongstudio.com' ([Errno 8] nodename nor servname provided, or not known)\"))\n",
      "Invalid URL format: http://Splinter (2008) (aka Tooth And Nail) [Undated] [Scan].pdf\n",
      "Error processing http://film_20100519/all_imsdb_05_19_10/RocknRolla.html: HTTPConnectionPool(host='film_20100519', port=80): Max retries exceeded with url: /all_imsdb_05_19_10/RocknRolla.html (Caused by NameResolutionError(\"<urllib3.connection.HTTPConnection object at 0x12e9a0940>: Failed to resolve 'film_20100519' ([Errno 8] nodename nor servname provided, or not known)\"))\n",
      "Error processing http://Bad Meat.pdf: HTTPConnectionPool(host='bad%20meat.pdf', port=80): Max retries exceeded with url: / (Caused by NameResolutionError(\"<urllib3.connection.HTTPConnection object at 0x12a4947f0>: Failed to resolve 'bad%20meat.pdf' ([Errno 8] nodename nor servname provided, or not known)\"))\n",
      "Error processing http://film_20100519/all_imsdb_05_19_10/Gamer.html: HTTPConnectionPool(host='film_20100519', port=80): Max retries exceeded with url: /all_imsdb_05_19_10/Gamer.html (Caused by NameResolutionError(\"<urllib3.connection.HTTPConnection object at 0x10e220700>: Failed to resolve 'film_20100519' ([Errno 8] nodename nor servname provided, or not known)\"))\n",
      "Error processing http://film_20100519/all_imsdb_05_19_10/Defiance.html: HTTPConnectionPool(host='film_20100519', port=80): Max retries exceeded with url: /all_imsdb_05_19_10/Defiance.html (Caused by NameResolutionError(\"<urllib3.connection.HTTPConnection object at 0x32d78d690>: Failed to resolve 'film_20100519' ([Errno 8] nodename nor servname provided, or not known)\"))\n",
      "Error processing http://film_20100519/all_imsdb_05_19_10/Legion.html: HTTPConnectionPool(host='film_20100519', port=80): Max retries exceeded with url: /all_imsdb_05_19_10/Legion.html (Caused by NameResolutionError(\"<urllib3.connection.HTTPConnection object at 0x12eea86d0>: Failed to resolve 'film_20100519' ([Errno 8] nodename nor servname provided, or not known)\"))\n",
      "Error processing http://film_20100519/all_imsdb_05_19_10/Bounty-Hunter,-The.html: HTTPConnectionPool(host='film_20100519', port=80): Max retries exceeded with url: /all_imsdb_05_19_10/Bounty-Hunter,-The.html (Caused by NameResolutionError(\"<urllib3.connection.HTTPConnection object at 0x12eea87c0>: Failed to resolve 'film_20100519' ([Errno 8] nodename nor servname provided, or not known)\"))\n",
      "Error processing http://film_20100519/all_imsdb_05_19_10/Proposal,-The.html: HTTPConnectionPool(host='film_20100519', port=80): Max retries exceeded with url: /all_imsdb_05_19_10/Proposal,-The.html (Caused by NameResolutionError(\"<urllib3.connection.HTTPConnection object at 0x12eea87c0>: Failed to resolve 'film_20100519' ([Errno 8] nodename nor servname provided, or not known)\"))\n",
      "Error processing http://film_20100519/all_imsdb_05_19_10/G.I.-Joe-The-Rise-of-Cobra.html: HTTPConnectionPool(host='film_20100519', port=80): Max retries exceeded with url: /all_imsdb_05_19_10/G.I.-Joe-The-Rise-of-Cobra.html (Caused by NameResolutionError(\"<urllib3.connection.HTTPConnection object at 0x138f07610>: Failed to resolve 'film_20100519' ([Errno 8] nodename nor servname provided, or not known)\"))\n",
      "Error processing http://film_20100519/all_imsdb_05_19_10/Invention-of-Lying,-The.html: HTTPConnectionPool(host='film_20100519', port=80): Max retries exceeded with url: /all_imsdb_05_19_10/Invention-of-Lying,-The.html (Caused by NameResolutionError(\"<urllib3.connection.HTTPConnection object at 0x12eeab430>: Failed to resolve 'film_20100519' ([Errno 8] nodename nor servname provided, or not known)\"))\n",
      "Error processing http://film_20100519/all_imsdb_05_19_10/Eagle-Eye.html: HTTPConnectionPool(host='film_20100519', port=80): Max retries exceeded with url: /all_imsdb_05_19_10/Eagle-Eye.html (Caused by NameResolutionError(\"<urllib3.connection.HTTPConnection object at 0x12eeab5b0>: Failed to resolve 'film_20100519' ([Errno 8] nodename nor servname provided, or not known)\"))\n",
      "Error processing http://CLOVERFIELD (2008) 2007.06.08 draft by Drew Goddard.pdf: HTTPConnectionPool(host='cloverfield%20(2008)%202007.06.08%20draft%20by%20drew%20goddard.pdf', port=80): Max retries exceeded with url: / (Caused by NameResolutionError(\"<urllib3.connection.HTTPConnection object at 0x10e220580>: Failed to resolve 'cloverfield%20(2008)%202007.06.08%20draft%20by%20drew%20goddard.pdf' ([Errno 8] nodename nor servname provided, or not known)\"))\n",
      "Error processing http://gointothestory.blcklst.com/wp-content/uploads/2014/11/Boyhood-screenplay-11-14-FINAL.pdf: 404 Client Error: Not Found for url: https://gointothestory.blcklst.com/wp-content/uploads/2014/11/Boyhood-screenplay-11-14-FINAL.pdf?gi=f38229a175fe\n",
      "Error processing http://www.joblo.com/scripts/Jonah-Hex.pdf: 404 Client Error: Not Found for url: https://www.joblo.com/scripts/Jonah-Hex.pdf\n",
      "Error processing http://gointothestory.blcklst.com/wp-content/uploads/2014/07/Lone-Survivor.pdf: 404 Client Error: Not Found for url: https://gointothestory.blcklst.com/wp-content/uploads/2014/07/Lone-Survivor.pdf?gi=3960af5e5ed8\n",
      "Error processing http://www.joblo.com/scripts/Adventureland.pdf: 404 Client Error: Not Found for url: https://www.joblo.com/scripts/Adventureland.pdf\n",
      "Error processing http://www.pages.drexel.edu/~ina22/splaylib/Screenplay-Russell_Girl.pdf: HTTPConnectionPool(host='www.pages.drexel.edu', port=80): Max retries exceeded with url: /~ina22/splaylib/Screenplay-Russell_Girl.pdf (Caused by NameResolutionError(\"<urllib3.connection.HTTPConnection object at 0x138f04280>: Failed to resolve 'www.pages.drexel.edu' ([Errno 8] nodename nor servname provided, or not known)\"))\n",
      "Error processing http://The Maiden Heist.pdf: HTTPConnectionPool(host='the%20maiden%20heist.pdf', port=80): Max retries exceeded with url: / (Caused by NameResolutionError(\"<urllib3.connection.HTTPConnection object at 0x13a0ad360>: Failed to resolve 'the%20maiden%20heist.pdf' ([Errno 8] nodename nor servname provided, or not known)\"))\n",
      "Error processing http://www.pages.drexel.edu/~ina22/splaylib/Screenplay-Blue_Valentine.pdf: HTTPConnectionPool(host='www.pages.drexel.edu', port=80): Max retries exceeded with url: /~ina22/splaylib/Screenplay-Blue_Valentine.pdf (Caused by NameResolutionError(\"<urllib3.connection.HTTPConnection object at 0x13a0ae020>: Failed to resolve 'www.pages.drexel.edu' ([Errno 8] nodename nor servname provided, or not known)\"))\n",
      "Error processing http://www.pages.drexel.edu/~ina22/splaylib/Screenplay-Mother_and_Child.pdf: HTTPConnectionPool(host='www.pages.drexel.edu', port=80): Max retries exceeded with url: /~ina22/splaylib/Screenplay-Mother_and_Child.pdf (Caused by NameResolutionError(\"<urllib3.connection.HTTPConnection object at 0x12e9a3a30>: Failed to resolve 'www.pages.drexel.edu' ([Errno 8] nodename nor servname provided, or not known)\"))\n",
      "Error processing http://Ides of March.pdf: HTTPConnectionPool(host='ides%20of%20march.pdf', port=80): Max retries exceeded with url: / (Caused by NameResolutionError(\"<urllib3.connection.HTTPConnection object at 0x12e9a0310>: Failed to resolve 'ides%20of%20march.pdf' ([Errno 8] nodename nor servname provided, or not known)\"))\n",
      "Error processing http://BIG EYES - Scott Alexander & Larry Karaszewski.pdf: HTTPConnectionPool(host='big%20eyes%20-%20scott%20alexander%20&%20larry%20karaszewski.pdf', port=80): Max retries exceeded with url: / (Caused by NameResolutionError(\"<urllib3.connection.HTTPConnection object at 0x12e9a1270>: Failed to resolve 'big%20eyes%20-%20scott%20alexander%20&%20larry%20karaszewski.pdf' ([Errno 8] nodename nor servname provided, or not known)\"))\n",
      "Error processing http://Sin Nombre.pdf: HTTPConnectionPool(host='sin%20nombre.pdf', port=80): Max retries exceeded with url: / (Caused by NameResolutionError(\"<urllib3.connection.HTTPConnection object at 0x10e6bba30>: Failed to resolve 'sin%20nombre.pdf' ([Errno 8] nodename nor servname provided, or not known)\"))\n",
      "Error processing http://www.pages.drexel.edu/~ina22/splaylib/Screenplay-Informant, The.pdf: HTTPConnectionPool(host='www.pages.drexel.edu', port=80): Max retries exceeded with url: /~ina22/splaylib/Screenplay-Informant,%20The.pdf (Caused by NameResolutionError(\"<urllib3.connection.HTTPConnection object at 0x13a0ad840>: Failed to resolve 'www.pages.drexel.edu' ([Errno 8] nodename nor servname provided, or not known)\"))\n",
      "Error processing http://jennifers-body-sept-20-07.pdf: HTTPConnectionPool(host='jennifers-body-sept-20-07.pdf', port=80): Max retries exceeded with url: / (Caused by NameResolutionError(\"<urllib3.connection.HTTPConnection object at 0x13a0aa290>: Failed to resolve 'jennifers-body-sept-20-07.pdf' ([Errno 8] nodename nor servname provided, or not known)\"))\n"
     ]
    },
    {
     "name": "stderr",
     "output_type": "stream",
     "text": [
      "Some characters could not be decoded, and were replaced with REPLACEMENT CHARACTER.\n"
     ]
    },
    {
     "name": "stdout",
     "output_type": "stream",
     "text": [
      "Error processing http://gointothestory.blcklst.com/wp-content/uploads/2014/11/Frankenweenie.pdf: 404 Client Error: Not Found for url: https://gointothestory.blcklst.com/wp-content/uploads/2014/11/Frankenweenie.pdf?gi=311c2418338e\n",
      "Error processing http://film_20100519/all_imsdb_05_19_10/Orphan.html: HTTPConnectionPool(host='film_20100519', port=80): Max retries exceeded with url: /all_imsdb_05_19_10/Orphan.html (Caused by NameResolutionError(\"<urllib3.connection.HTTPConnection object at 0x12e9a38e0>: Failed to resolve 'film_20100519' ([Errno 8] nodename nor servname provided, or not known)\"))\n",
      "Error processing http://www.pages.drexel.edu/~ina22/splaylib/Screenplay-Public_Enemies.html: HTTPConnectionPool(host='www.pages.drexel.edu', port=80): Max retries exceeded with url: /~ina22/splaylib/Screenplay-Public_Enemies.html (Caused by NameResolutionError(\"<urllib3.connection.HTTPConnection object at 0x12e9a3a90>: Failed to resolve 'www.pages.drexel.edu' ([Errno 8] nodename nor servname provided, or not known)\"))\n",
      "Error processing http://www.joblo.com/scripts/Whip-It.pdf: 404 Client Error: Not Found for url: https://www.joblo.com/scripts/Whip-It.pdf\n",
      "Error processing http://www.pages.drexel.edu/~ina22/splaylib/Screenplay-Company_Men.pdf: HTTPConnectionPool(host='www.pages.drexel.edu', port=80): Max retries exceeded with url: /~ina22/splaylib/Screenplay-Company_Men.pdf (Caused by NameResolutionError(\"<urllib3.connection.HTTPConnection object at 0x10da39d50>: Failed to resolve 'www.pages.drexel.edu' ([Errno 8] nodename nor servname provided, or not known)\"))\n",
      "Error processing http://www.pages.drexel.edu/~ina22/splaylib/Screenplay-City_Island.pdf: HTTPConnectionPool(host='www.pages.drexel.edu', port=80): Max retries exceeded with url: /~ina22/splaylib/Screenplay-City_Island.pdf (Caused by NameResolutionError(\"<urllib3.connection.HTTPConnection object at 0x10e6b9a80>: Failed to resolve 'www.pages.drexel.edu' ([Errno 8] nodename nor servname provided, or not known)\"))\n",
      "Error processing http://BUSH_10.15.07.pdf: HTTPConnectionPool(host='bush_10.15.07.pdf', port=80): Max retries exceeded with url: / (Caused by NameResolutionError(\"<urllib3.connection.HTTPConnection object at 0x10e6b9e10>: Failed to resolve 'bush_10.15.07.pdf' ([Errno 8] nodename nor servname provided, or not known)\"))\n",
      "Error processing http://My Bloody Valentine (2009).pdf: HTTPConnectionPool(host='my%20bloody%20valentine%20(2009).pdf', port=80): Max retries exceeded with url: / (Caused by NameResolutionError(\"<urllib3.connection.HTTPConnection object at 0x10e6b8d90>: Failed to resolve 'my%20bloody%20valentine%20(2009).pdf' ([Errno 8] nodename nor servname provided, or not known)\"))\n"
     ]
    },
    {
     "name": "stderr",
     "output_type": "stream",
     "text": [
      "Some characters could not be decoded, and were replaced with REPLACEMENT CHARACTER.\n"
     ]
    },
    {
     "name": "stdout",
     "output_type": "stream",
     "text": [
      "Error processing http://film_20100519/all_imsdb_05_19_10/Law-Abiding-Citizen.html: HTTPConnectionPool(host='film_20100519', port=80): Max retries exceeded with url: /all_imsdb_05_19_10/Law-Abiding-Citizen.html (Caused by NameResolutionError(\"<urllib3.connection.HTTPConnection object at 0x138eadea0>: Failed to resolve 'film_20100519' ([Errno 8] nodename nor servname provided, or not known)\"))\n",
      "Error processing http://Ouija (09.26.13, Juliet Snowden & Stiles White, 2014).pdf: HTTPConnectionPool(host='ouija%20(09.26.13,%20juliet%20snowden%20&%20stiles%20white,%202014).pdf', port=80): Max retries exceeded with url: / (Caused by NameResolutionError(\"<urllib3.connection.HTTPConnection object at 0x10e6ba470>: Failed to resolve 'ouija%20(09.26.13,%20juliet%20snowden%20&%20stiles%20white,%202014).pdf' ([Errno 8] nodename nor servname provided, or not known)\"))\n",
      "Error processing http://www.joblo.com/scripts/Brooklyns Finest.PDF: 404 Client Error: Not Found for url: https://www.joblo.com/scripts/Brooklyns%20Finest.PDF\n"
     ]
    },
    {
     "name": "stderr",
     "output_type": "stream",
     "text": [
      "Some characters could not be decoded, and were replaced with REPLACEMENT CHARACTER.\n"
     ]
    },
    {
     "name": "stdout",
     "output_type": "stream",
     "text": [
      "Error processing http://www.pages.drexel.edu/~ina22/splaylib/Screenplay-Middle_of_Nowhere.pdf: HTTPConnectionPool(host='www.pages.drexel.edu', port=80): Max retries exceeded with url: /~ina22/splaylib/Screenplay-Middle_of_Nowhere.pdf (Caused by NameResolutionError(\"<urllib3.connection.HTTPConnection object at 0x13a0acbe0>: Failed to resolve 'www.pages.drexel.edu' ([Errno 8] nodename nor servname provided, or not known)\"))\n",
      "Error processing http://www.joblo.com/scripts/hereafter.pdf: 404 Client Error: Not Found for url: https://www.joblo.com/scripts/hereafter.pdf\n",
      "Error processing http://Lawless (sks Wettest County In The World, The) (2009.06.15).pdf: Failed to parse: 'lawless%20(sks%20wettest%20county%20in%20the%20world,%20the)%20(2009.06.15).pdf', label empty or too long\n",
      "Error processing http://FOURTH KIND, THE (2009) 2007.09.12 draft by Olatunde Osunsanmi.pdf: HTTPConnectionPool(host='fourth%20kind,%20the%20(2009)%202007.09.12%20draft%20by%20olatunde%20osunsanmi.pdf', port=80): Max retries exceeded with url: / (Caused by NameResolutionError(\"<urllib3.connection.HTTPConnection object at 0x12ee09180>: Failed to resolve 'fourth%20kind,%20the%20(2009)%202007.09.12%20draft%20by%20olatunde%20osunsanmi.pdf' ([Errno 8] nodename nor servname provided, or not known)\"))\n",
      "Error processing http://www.joblo.com/scripts/Get%20Him%20To%20The%20Greek.PDF: 404 Client Error: Not Found for url: https://www.joblo.com/scripts/Get%20Him%20To%20The%20Greek.PDF\n",
      "Error processing http://www.joblo.com/scripts/Edge of Darkness.pdf: 404 Client Error: Not Found for url: https://www.joblo.com/scripts/Edge%20of%20Darkness.pdf\n",
      "Error processing http://BIG FAN - Robert Siegel.pdf: HTTPConnectionPool(host='big%20fan%20-%20robert%20siegel.pdf', port=80): Max retries exceeded with url: / (Caused by NameResolutionError(\"<urllib3.connection.HTTPConnection object at 0x1399a1360>: Failed to resolve 'big%20fan%20-%20robert%20siegel.pdf' ([Errno 8] nodename nor servname provided, or not known)\"))\n",
      "Error processing http://www.pages.drexel.edu/~ina22/splaylib/Screenplay-Let_Me_In.pdf: HTTPConnectionPool(host='www.pages.drexel.edu', port=80): Max retries exceeded with url: /~ina22/splaylib/Screenplay-Let_Me_In.pdf (Caused by NameResolutionError(\"<urllib3.connection.HTTPConnection object at 0x10e323880>: Failed to resolve 'www.pages.drexel.edu' ([Errno 8] nodename nor servname provided, or not known)\"))\n",
      "Error processing http://film_20100519/all_imsdb_05_19_10/S.-Darko.html: HTTPConnectionPool(host='film_20100519', port=80): Max retries exceeded with url: /all_imsdb_05_19_10/S.-Darko.html (Caused by NameResolutionError(\"<urllib3.connection.HTTPConnection object at 0x1399a16c0>: Failed to resolve 'film_20100519' ([Errno 8] nodename nor servname provided, or not known)\"))\n",
      "Error processing http://Sorority Row_draft 2.pdf: HTTPConnectionPool(host='sorority%20row_draft%202.pdf', port=80): Max retries exceeded with url: / (Caused by NameResolutionError(\"<urllib3.connection.HTTPConnection object at 0x10e321810>: Failed to resolve 'sorority%20row_draft%202.pdf' ([Errno 8] nodename nor servname provided, or not known)\"))\n",
      "Error processing http://www.pages.drexel.edu/~ina22/splaylib/Screenplay-Men_Who_Stare_At_Goats,%20The.pdf: HTTPConnectionPool(host='www.pages.drexel.edu', port=80): Max retries exceeded with url: /~ina22/splaylib/Screenplay-Men_Who_Stare_At_Goats,%20The.pdf (Caused by NameResolutionError(\"<urllib3.connection.HTTPConnection object at 0x12e9a3970>: Failed to resolve 'www.pages.drexel.edu' ([Errno 8] nodename nor servname provided, or not known)\"))\n",
      "Error processing http://www.pages.drexel.edu/~ina22/splaylib/Screenplay-Greenberg.pdf: HTTPConnectionPool(host='www.pages.drexel.edu', port=80): Max retries exceeded with url: /~ina22/splaylib/Screenplay-Greenberg.pdf (Caused by NameResolutionError(\"<urllib3.connection.HTTPConnection object at 0x12e9a3820>: Failed to resolve 'www.pages.drexel.edu' ([Errno 8] nodename nor servname provided, or not known)\"))\n",
      "Error processing http://www.pages.drexel.edu/~ina22/splaylib/Screenplay-We_Need_to_Talk_About_Kevin.pdf: HTTPConnectionPool(host='www.pages.drexel.edu', port=80): Max retries exceeded with url: /~ina22/splaylib/Screenplay-We_Need_to_Talk_About_Kevin.pdf (Caused by NameResolutionError(\"<urllib3.connection.HTTPConnection object at 0x13998d480>: Failed to resolve 'www.pages.drexel.edu' ([Errno 8] nodename nor servname provided, or not known)\"))\n"
     ]
    },
    {
     "name": "stderr",
     "output_type": "stream",
     "text": [
      "Some characters could not be decoded, and were replaced with REPLACEMENT CHARACTER.\n",
      "Some characters could not be decoded, and were replaced with REPLACEMENT CHARACTER.\n"
     ]
    },
    {
     "name": "stdout",
     "output_type": "stream",
     "text": [
      "Error processing http://moviecultists.com/wp-content/uploads/screenplays/conviction.pdf: 404 Client Error: Not Found for url: https://moviecultists.com/wp-content/uploads/screenplays/conviction.pdf\n",
      "Error processing http://Kick-Ass.pdf: HTTPConnectionPool(host='kick-ass.pdf', port=80): Max retries exceeded with url: / (Caused by NameResolutionError(\"<urllib3.connection.HTTPConnection object at 0x1399a2350>: Failed to resolve 'kick-ass.pdf' ([Errno 8] nodename nor servname provided, or not known)\"))\n",
      "Error processing http://www.joblo.com/scripts/ch.pdf: 404 Client Error: Not Found for url: https://www.joblo.com/scripts/ch.pdf\n",
      "Error processing http://www.pages.drexel.edu/~ina22/splaylib/Screenplay-Nowhere_Boy.pdf: HTTPConnectionPool(host='www.pages.drexel.edu', port=80): Max retries exceeded with url: /~ina22/splaylib/Screenplay-Nowhere_Boy.pdf (Caused by NameResolutionError(\"<urllib3.connection.HTTPConnection object at 0x10e223550>: Failed to resolve 'www.pages.drexel.edu' ([Errno 8] nodename nor servname provided, or not known)\"))\n",
      "Error processing http://Hatchet II UNRATED Screenplay.pdf: HTTPConnectionPool(host='hatchet%20ii%20unrated%20screenplay.pdf', port=80): Max retries exceeded with url: / (Caused by NameResolutionError(\"<urllib3.connection.HTTPConnection object at 0x12a495510>: Failed to resolve 'hatchet%20ii%20unrated%20screenplay.pdf' ([Errno 8] nodename nor servname provided, or not known)\"))\n"
     ]
    },
    {
     "name": "stderr",
     "output_type": "stream",
     "text": [
      "Some characters could not be decoded, and were replaced with REPLACEMENT CHARACTER.\n"
     ]
    },
    {
     "name": "stdout",
     "output_type": "stream",
     "text": [
      "Error processing http://www.pages.drexel.edu/~ina22/splaylib/Screenplay-Jack_Goes_Boating.pdf: HTTPConnectionPool(host='www.pages.drexel.edu', port=80): Max retries exceeded with url: /~ina22/splaylib/Screenplay-Jack_Goes_Boating.pdf (Caused by NameResolutionError(\"<urllib3.connection.HTTPConnection object at 0x10e220460>: Failed to resolve 'www.pages.drexel.edu' ([Errno 8] nodename nor servname provided, or not known)\"))\n"
     ]
    },
    {
     "name": "stderr",
     "output_type": "stream",
     "text": [
      "Some characters could not be decoded, and were replaced with REPLACEMENT CHARACTER.\n"
     ]
    },
    {
     "name": "stdout",
     "output_type": "stream",
     "text": [
      "Error processing http://www.joblo.com/scripts/Boondock%20Saints%202%20All%20Saints%20Day.pdf: 404 Client Error: Not Found for url: https://www.joblo.com/scripts/Boondock%20Saints%202%20All%20Saints%20Day.pdf\n",
      "Error processing http://www-deadline-com.vimg.net/wp-content/uploads/2011/12/50-50_FINAL_Shooting_Draft_12-1-11__111215013022.pdf: HTTPConnectionPool(host='www-deadline-com.vimg.net', port=80): Max retries exceeded with url: /wp-content/uploads/2011/12/50-50_FINAL_Shooting_Draft_12-1-11__111215013022.pdf (Caused by NameResolutionError(\"<urllib3.connection.HTTPConnection object at 0x12e879810>: Failed to resolve 'www-deadline-com.vimg.net' ([Errno 8] nodename nor servname provided, or not known)\"))\n",
      "Error processing http://seekingafriendattheendoftheworld-lorenescafaria-1.7.11.pdf: HTTPConnectionPool(host='seekingafriendattheendoftheworld-lorenescafaria-1.7.11.pdf', port=80): Max retries exceeded with url: / (Caused by NameResolutionError(\"<urllib3.connection.HTTPConnection object at 0x10e2231f0>: Failed to resolve 'seekingafriendattheendoftheworld-lorenescafaria-1.7.11.pdf' ([Errno 8] nodename nor servname provided, or not known)\"))\n"
     ]
    },
    {
     "name": "stderr",
     "output_type": "stream",
     "text": [
      "Some characters could not be decoded, and were replaced with REPLACEMENT CHARACTER.\n"
     ]
    },
    {
     "name": "stdout",
     "output_type": "stream",
     "text": [
      "Error processing http://www.pages.drexel.edu/~ina22/splaylib/Screenplay-Animal_Kingdom_The.pdf: HTTPConnectionPool(host='www.pages.drexel.edu', port=80): Max retries exceeded with url: /~ina22/splaylib/Screenplay-Animal_Kingdom_The.pdf (Caused by NameResolutionError(\"<urllib3.connection.HTTPConnection object at 0x10e223070>: Failed to resolve 'www.pages.drexel.edu' ([Errno 8] nodename nor servname provided, or not known)\"))\n",
      "Error processing http://www.pages.drexel.edu/~ina22/splaylib/Screenplay-Single_Man, A.pdf: HTTPConnectionPool(host='www.pages.drexel.edu', port=80): Max retries exceeded with url: /~ina22/splaylib/Screenplay-Single_Man,%20A.pdf (Caused by NameResolutionError(\"<urllib3.connection.HTTPConnection object at 0x12a496080>: Failed to resolve 'www.pages.drexel.edu' ([Errno 8] nodename nor servname provided, or not known)\"))\n",
      "Error processing http://www.joblo.com/scripts/expendables.pdf: 404 Client Error: Not Found for url: https://www.joblo.com/scripts/expendables.pdf\n",
      "Error processing http://BEAVER, THE (05.08.08).pdf: HTTPConnectionPool(host='beaver,%20the%20(05.08.08).pdf', port=80): Max retries exceeded with url: / (Caused by NameResolutionError(\"<urllib3.connection.HTTPConnection object at 0x10e223b80>: Failed to resolve 'beaver,%20the%20(05.08.08).pdf' ([Errno 8] nodename nor servname provided, or not known)\"))\n",
      "Error processing http://Gangster Squad (2010.09.16).pdf: HTTPConnectionPool(host='gangster%20squad%20(2010.09.16).pdf', port=80): Max retries exceeded with url: / (Caused by NameResolutionError(\"<urllib3.connection.HTTPConnection object at 0x12e879060>: Failed to resolve 'gangster%20squad%20(2010.09.16).pdf' ([Errno 8] nodename nor servname provided, or not known)\"))\n",
      "Error processing http://gointothestory.blcklst.com/wp-content/uploads/2014/06/August-Osage-County.pdf: 404 Client Error: Not Found for url: https://gointothestory.blcklst.com/wp-content/uploads/2014/06/August-Osage-County.pdf?gi=385b8fd8b20a\n",
      "Error processing http://www.pages.drexel.edu/~ina22/splaylib/Screenplay-Despicable_Me.pdf: HTTPConnectionPool(host='www.pages.drexel.edu', port=80): Max retries exceeded with url: /~ina22/splaylib/Screenplay-Despicable_Me.pdf (Caused by NameResolutionError(\"<urllib3.connection.HTTPConnection object at 0x12e879b40>: Failed to resolve 'www.pages.drexel.edu' ([Errno 8] nodename nor servname provided, or not known)\"))\n",
      "Error processing http://www.joblo.com/scripts/Twilight-Eclipse.pdf: 404 Client Error: Not Found for url: https://www.joblo.com/scripts/Twilight-Eclipse.pdf\n",
      "Error processing http://www.pages.drexel.edu/~ina22/splaylib/Screenplay-Butler.pdf: HTTPConnectionPool(host='www.pages.drexel.edu', port=80): Max retries exceeded with url: /~ina22/splaylib/Screenplay-Butler.pdf (Caused by NameResolutionError(\"<urllib3.connection.HTTPConnection object at 0x10e222ad0>: Failed to resolve 'www.pages.drexel.edu' ([Errno 8] nodename nor servname provided, or not known)\"))\n",
      "Error processing http://moviecultists.com/wp-content/uploads/screenplays/never-let-me-go.pdf: 404 Client Error: Not Found for url: https://moviecultists.com/wp-content/uploads/screenplays/never-let-me-go.pdf\n",
      "Invalid URL format: http://ROCK OF AGES (2012) by Chris D'Arienzo (Rev. - Michael Arndt, Allan Loeb, & Jordan Roberts) [2010.12.08] [Digital].pdf\n",
      "Error processing http://CYRUS by Mark Duplass and Jay Duplass (2010).pdf: HTTPConnectionPool(host='cyrus%20by%20mark%20duplass%20and%20jay%20duplass%20(2010).pdf', port=80): Max retries exceeded with url: / (Caused by NameResolutionError(\"<urllib3.connection.HTTPConnection object at 0x139703a30>: Failed to resolve 'cyrus%20by%20mark%20duplass%20and%20jay%20duplass%20(2010).pdf' ([Errno 8] nodename nor servname provided, or not known)\"))\n",
      "Error processing http://Terminator Genisys 2015 Kalogridis & Lussier Scan.pdf: HTTPConnectionPool(host='terminator%20genisys%202015%20kalogridis%20&%20lussier%20scan.pdf', port=80): Max retries exceeded with url: / (Caused by NameResolutionError(\"<urllib3.connection.HTTPConnection object at 0x139701ab0>: Failed to resolve 'terminator%20genisys%202015%20kalogridis%20&%20lussier%20scan.pdf' ([Errno 8] nodename nor servname provided, or not known)\"))\n",
      "Error processing http://Four Lions.pdf: HTTPConnectionPool(host='four%20lions.pdf', port=80): Max retries exceeded with url: / (Caused by NameResolutionError(\"<urllib3.connection.HTTPConnection object at 0x1397035b0>: Failed to resolve 'four%20lions.pdf' ([Errno 8] nodename nor servname provided, or not known)\"))\n",
      "Error processing http://www.pages.drexel.edu/~ina22/splaylib/Screenplay-How_Do_You_Know.pdf: HTTPConnectionPool(host='www.pages.drexel.edu', port=80): Max retries exceeded with url: /~ina22/splaylib/Screenplay-How_Do_You_Know.pdf (Caused by NameResolutionError(\"<urllib3.connection.HTTPConnection object at 0x1397010c0>: Failed to resolve 'www.pages.drexel.edu' ([Errno 8] nodename nor servname provided, or not known)\"))\n"
     ]
    },
    {
     "name": "stderr",
     "output_type": "stream",
     "text": [
      "Some characters could not be decoded, and were replaced with REPLACEMENT CHARACTER.\n"
     ]
    },
    {
     "name": "stdout",
     "output_type": "stream",
     "text": [
      "Error processing http://gointothestory.blcklst.com/wp-content/uploads/2014/11/Great-Gatsby.pdf: 404 Client Error: Not Found for url: https://gointothestory.blcklst.com/wp-content/uploads/2014/11/Great-Gatsby.pdf?gi=140ddba6d85a\n",
      "Error processing http://Dredd (Peach Trees).pdf: HTTPConnectionPool(host='dredd%20(peach%20trees).pdf', port=80): Max retries exceeded with url: / (Caused by NameResolutionError(\"<urllib3.connection.HTTPConnection object at 0x12a52b670>: Failed to resolve 'dredd%20(peach%20trees).pdf' ([Errno 8] nodename nor servname provided, or not known)\"))\n",
      "Error processing http://gointothestory.blcklst.com/wp-content/uploads/2015/12/Beasts-of-No-Nation.pdf: 404 Client Error: Not Found for url: https://gointothestory.blcklst.com/wp-content/uploads/2015/12/Beasts-of-No-Nation.pdf?gi=b9241feb96a0\n",
      "Error processing http://Ward, The.pdf: HTTPConnectionPool(host='ward,%20the.pdf', port=80): Max retries exceeded with url: / (Caused by NameResolutionError(\"<urllib3.connection.HTTPConnection object at 0x10e6bb9a0>: Failed to resolve 'ward,%20the.pdf' ([Errno 8] nodename nor servname provided, or not known)\"))\n"
     ]
    },
    {
     "name": "stderr",
     "output_type": "stream",
     "text": [
      "Some characters could not be decoded, and were replaced with REPLACEMENT CHARACTER.\n"
     ]
    },
    {
     "name": "stdout",
     "output_type": "stream",
     "text": [
      "Error processing http://www.pages.drexel.edu/~ina22/splaylib/Screenplay-Made_in_Dagenham.pdf: HTTPConnectionPool(host='www.pages.drexel.edu', port=80): Max retries exceeded with url: /~ina22/splaylib/Screenplay-Made_in_Dagenham.pdf (Caused by NameResolutionError(\"<urllib3.connection.HTTPConnection object at 0x10e6b9150>: Failed to resolve 'www.pages.drexel.edu' ([Errno 8] nodename nor servname provided, or not known)\"))\n"
     ]
    },
    {
     "name": "stderr",
     "output_type": "stream",
     "text": [
      "Some characters could not be decoded, and were replaced with REPLACEMENT CHARACTER.\n"
     ]
    },
    {
     "name": "stdout",
     "output_type": "stream",
     "text": [
      "Error processing http://www.joblo.com/scripts/Cop Out.pdf: 404 Client Error: Not Found for url: https://www.joblo.com/scripts/Cop%20Out.pdf\n",
      "Error processing http://The Other Guys aka The Back Ups - CHRIS HENCHY AND ADAM MCKAY.pdf: Failed to parse: 'the%20other%20guys%20aka%20the%20back%20ups%20-%20chris%20henchy%20and%20adam%20mckay.pdf', label empty or too long\n",
      "Invalid URL format: http://HUNGER GAMES, THE (2012) by Suzanne Collins (Rev. - Billy Ray) [2010.08.07] [1st] [Scan] [Black'10].pdf\n",
      "Invalid URL format: http://Taken 2 (2012) [8-31-2011] [D].pdf\n",
      "Error processing http://Straight Outta Compton (2008.08.16).pdf: HTTPConnectionPool(host='straight%20outta%20compton%20(2008.08.16).pdf', port=80): Max retries exceeded with url: / (Caused by NameResolutionError(\"<urllib3.connection.HTTPConnection object at 0x10ca71870>: Failed to resolve 'straight%20outta%20compton%20(2008.08.16).pdf' ([Errno 8] nodename nor servname provided, or not known)\"))\n",
      "Error processing http://www.pages.drexel.edu/~ina22/splaylib/Screenplay-Winters_Bone.pdf: HTTPConnectionPool(host='www.pages.drexel.edu', port=80): Max retries exceeded with url: /~ina22/splaylib/Screenplay-Winters_Bone.pdf (Caused by NameResolutionError(\"<urllib3.connection.HTTPConnection object at 0x12e993fd0>: Failed to resolve 'www.pages.drexel.edu' ([Errno 8] nodename nor servname provided, or not known)\"))\n",
      "Error processing http://True Grit-1.pdf: HTTPConnectionPool(host='true%20grit-1.pdf', port=80): Max retries exceeded with url: / (Caused by NameResolutionError(\"<urllib3.connection.HTTPConnection object at 0x10e6b9b70>: Failed to resolve 'true%20grit-1.pdf' ([Errno 8] nodename nor servname provided, or not known)\"))\n",
      "Error processing http://moviecultists.com/wp-content/uploads/screenplays/for-colored-girls.pdf: 404 Client Error: Not Found for url: https://moviecultists.com/wp-content/uploads/screenplays/for-colored-girls.pdf\n",
      "Invalid URL format: http://Unt. Chronicles Of Riddick (2012) (aka ...Dead Man Stalking) [2009-10-18] [Scan].pdf\n",
      "Error processing http://www.pages.drexel.edu/~ina22/splaylib/Screenplay-Barney%27s_Version.pdf: HTTPConnectionPool(host='www.pages.drexel.edu', port=80): Max retries exceeded with url: /~ina22/splaylib/Screenplay-Barney%27s_Version.pdf (Caused by NameResolutionError(\"<urllib3.connection.HTTPConnection object at 0x12e99b5b0>: Failed to resolve 'www.pages.drexel.edu' ([Errno 8] nodename nor servname provided, or not known)\"))\n",
      "Error processing http://www.pages.drexel.edu/~ina22/splaylib/Screenplay-Stone.pdf: HTTPConnectionPool(host='www.pages.drexel.edu', port=80): Max retries exceeded with url: /~ina22/splaylib/Screenplay-Stone.pdf (Caused by NameResolutionError(\"<urllib3.connection.HTTPConnection object at 0x10d7bd510>: Failed to resolve 'www.pages.drexel.edu' ([Errno 8] nodename nor servname provided, or not known)\"))\n",
      "Error processing http://Predators - Mike Finch & Alex Litvak.pdf: HTTPConnectionPool(host='predators%20-%20mike%20finch%20&%20alex%20litvak.pdf', port=80): Max retries exceeded with url: / (Caused by NameResolutionError(\"<urllib3.connection.HTTPConnection object at 0x10d7bdd20>: Failed to resolve 'predators%20-%20mike%20finch%20&%20alex%20litvak.pdf' ([Errno 8] nodename nor servname provided, or not known)\"))\n",
      "Error processing http://The Wolverine.pdf: HTTPConnectionPool(host='the%20wolverine.pdf', port=80): Max retries exceeded with url: / (Caused by NameResolutionError(\"<urllib3.connection.HTTPConnection object at 0x10d7be560>: Failed to resolve 'the%20wolverine.pdf' ([Errno 8] nodename nor servname provided, or not known)\"))\n"
     ]
    },
    {
     "name": "stderr",
     "output_type": "stream",
     "text": [
      "Some characters could not be decoded, and were replaced with REPLACEMENT CHARACTER.\n"
     ]
    },
    {
     "name": "stdout",
     "output_type": "stream",
     "text": [
      "Error processing http://Brick Mansions.pdf: HTTPConnectionPool(host='brick%20mansions.pdf', port=80): Max retries exceeded with url: / (Caused by NameResolutionError(\"<urllib3.connection.HTTPConnection object at 0x12e9cb730>: Failed to resolve 'brick%20mansions.pdf' ([Errno 8] nodename nor servname provided, or not known)\"))\n",
      "Error processing http://gointothestory.blcklst.com/wp-content/uploads/2014/11/Another-Year.pdf: 404 Client Error: Not Found for url: https://gointothestory.blcklst.com/wp-content/uploads/2014/11/Another-Year.pdf?gi=a14e3c325344\n",
      "Error processing http://gointothestory.blcklst.com/wp-content/uploads/2014/06/American-The.pdf: 404 Client Error: Not Found for url: https://gointothestory.blcklst.com/wp-content/uploads/2014/06/American-The.pdf?gi=2bd5d6438e9a\n",
      "Error processing http://gointothestory.blcklst.com/wp-content/uploads/2015/11/Testament-of-Youth.pdf: 404 Client Error: Not Found for url: https://gointothestory.blcklst.com/wp-content/uploads/2015/11/Testament-of-Youth.pdf?gi=61454980472a\n"
     ]
    },
    {
     "name": "stderr",
     "output_type": "stream",
     "text": [
      "Some characters could not be decoded, and were replaced with REPLACEMENT CHARACTER.\n"
     ]
    },
    {
     "name": "stdout",
     "output_type": "stream",
     "text": [
      "Invalid URL format: http://PARADISE (aka PROMETHEUS) By Damon Lindelof [FINAL Draft].pdf\n",
      "Error processing http://Tucker & Dale vs Evil.pdf: HTTPConnectionPool(host='tucker%20&%20dale%20vs%20evil.pdf', port=80): Max retries exceeded with url: / (Caused by NameResolutionError(\"<urllib3.connection.HTTPConnection object at 0x10ca70d60>: Failed to resolve 'tucker%20&%20dale%20vs%20evil.pdf' ([Errno 8] nodename nor servname provided, or not known)\"))\n",
      "Error processing http://gointothestory.blcklst.com/wp-content/uploads/2014/07/Hyde-Park-on-Hudson.pdf: 404 Client Error: Not Found for url: https://gointothestory.blcklst.com/wp-content/uploads/2014/07/Hyde-Park-on-Hudson.pdf?gi=111a9d9c1465\n",
      "Invalid URL format: http://Cosmopolis (2012) by David Cronenberg [Undated] [Digital].pdf\n",
      "Error processing http://www.pages.drexel.edu/~ina22/splaylib/Screenplay-Lorax.pdf: HTTPConnectionPool(host='www.pages.drexel.edu', port=80): Max retries exceeded with url: /~ina22/splaylib/Screenplay-Lorax.pdf (Caused by NameResolutionError(\"<urllib3.connection.HTTPConnection object at 0x10d7bd000>: Failed to resolve 'www.pages.drexel.edu' ([Errno 8] nodename nor servname provided, or not known)\"))\n",
      "Error processing http://Lego Movie, The.pdf: HTTPConnectionPool(host='lego%20movie,%20the.pdf', port=80): Max retries exceeded with url: / (Caused by NameResolutionError(\"<urllib3.connection.HTTPConnection object at 0x10ca68790>: Failed to resolve 'lego%20movie,%20the.pdf' ([Errno 8] nodename nor servname provided, or not known)\"))\n",
      "Error processing http://www.joblo.com/scripts/driveangry.pdf: 404 Client Error: Not Found for url: https://www.joblo.com/scripts/driveangry.pdf\n",
      "Invalid URL format: http://Super - James Gunn [08.28.2009].pdf\n",
      "Invalid URL format: http://Horns - Keith Bunin [07.10.2012].pdf\n",
      "Error processing http://EXODUS-7.06.13-Steven Zailian.pdf: HTTPConnectionPool(host='exodus-7.06.13-steven%20zailian.pdf', port=80): Max retries exceeded with url: / (Caused by NameResolutionError(\"<urllib3.connection.HTTPConnection object at 0x10d7ac5b0>: Failed to resolve 'exodus-7.06.13-steven%20zailian.pdf' ([Errno 8] nodename nor servname provided, or not known)\"))\n",
      "Error processing http://DADDY'S HOME (2015) 2007.04.05 draft by Brian Burns.pdf: HTTPConnectionPool(host=\"daddy's%20home%20(2015)%202007.04.05%20draft%20by%20brian%20burns.pdf\", port=80): Max retries exceeded with url: / (Caused by NameResolutionError(\"<urllib3.connection.HTTPConnection object at 0x10ca71b40>: Failed to resolve 'daddy's%20home%20(2015)%202007.04.05%20draft%20by%20brian%20burns.pdf' ([Errno 8] nodename nor servname provided, or not known)\"))\n",
      "Error processing http://EVERYTHING MUST GO - DAN RUSH.pdf: HTTPConnectionPool(host='everything%20must%20go%20-%20dan%20rush.pdf', port=80): Max retries exceeded with url: / (Caused by NameResolutionError(\"<urllib3.connection.HTTPConnection object at 0x10ca720b0>: Failed to resolve 'everything%20must%20go%20-%20dan%20rush.pdf' ([Errno 8] nodename nor servname provided, or not known)\"))\n"
     ]
    },
    {
     "name": "stderr",
     "output_type": "stream",
     "text": [
      "Some characters could not be decoded, and were replaced with REPLACEMENT CHARACTER.\n"
     ]
    },
    {
     "name": "stdout",
     "output_type": "stream",
     "text": [
      "Error processing http://Elysium_by_Neill_Blomkamp.pdf: HTTPConnectionPool(host='elysium_by_neill_blomkamp.pdf', port=80): Max retries exceeded with url: / (Caused by NameResolutionError(\"<urllib3.connection.HTTPConnection object at 0x10ca727d0>: Failed to resolve 'elysium_by_neill_blomkamp.pdf' ([Errno 8] nodename nor servname provided, or not known)\"))\n"
     ]
    },
    {
     "name": "stderr",
     "output_type": "stream",
     "text": [
      "Some characters could not be decoded, and were replaced with REPLACEMENT CHARACTER.\n"
     ]
    },
    {
     "name": "stdout",
     "output_type": "stream",
     "text": [
      "Invalid URL format: http://GUARD, THE (2011) by John Michael McDonagh [2009.10.09] [Shoot.] [Digital].pdf\n",
      "Error processing http://The Girl With the Dragon Tattoo Screenplay.pdf: HTTPConnectionPool(host='the%20girl%20with%20the%20dragon%20tattoo%20screenplay.pdf', port=80): Max retries exceeded with url: / (Caused by NameResolutionError(\"<urllib3.connection.HTTPConnection object at 0x12a528220>: Failed to resolve 'the%20girl%20with%20the%20dragon%20tattoo%20screenplay.pdf' ([Errno 8] nodename nor servname provided, or not known)\"))\n",
      "Error processing http://JEFF WHO LIVES AT HOME - Duplass.pdf: HTTPConnectionPool(host='jeff%20who%20lives%20at%20home%20-%20duplass.pdf', port=80): Max retries exceeded with url: / (Caused by NameResolutionError(\"<urllib3.connection.HTTPConnection object at 0x10da3b430>: Failed to resolve 'jeff%20who%20lives%20at%20home%20-%20duplass.pdf' ([Errno 8] nodename nor servname provided, or not known)\"))\n",
      "Invalid URL format: http://Sleeping Beauty [2008-6-10] [10] [Unprod.] [Digital] [BL'08].pdf\n",
      "Invalid URL format: http://Take This Waltz (Polley) [2009-5-26] [Unprod.] [Digital] [BL'09].pdf\n",
      "Error processing http://gointothestory.blcklst.com/wp-content/uploads/2015/10/Pawn-Sacrifice.pdf: 404 Client Error: Not Found for url: https://gointothestory.blcklst.com/wp-content/uploads/2015/10/Pawn-Sacrifice.pdf?gi=8f1171838bea\n",
      "Error processing http://gointothestory.blcklst.com/wp-content/uploads/2016/01/The-Big-Short.pdf: 404 Client Error: Not Found for url: https://gointothestory.blcklst.com/wp-content/uploads/2016/01/The-Big-Short.pdf?gi=ec0c14b3648f\n",
      "Invalid URL format: http://SAFE HOUSE (2012) by David Guggenheim [2010.01.30] [Digital] [Black'10, Hit'10].pdf\n",
      "Error processing http://Drop, The, aka Animal Rescue (Dennis Lehane) (1.15.2013).pdf: HTTPConnectionPool(host='drop,%20the,%20aka%20animal%20rescue%20(dennis%20lehane)%20(1.15.2013).pdf', port=80): Max retries exceeded with url: / (Caused by NameResolutionError(\"<urllib3.connection.HTTPConnection object at 0x32d78e680>: Failed to resolve 'drop,%20the,%20aka%20animal%20rescue%20(dennis%20lehane)%20(1.15.2013).pdf' ([Errno 8] nodename nor servname provided, or not known)\"))\n",
      "Error processing http://The Grey.pdf: HTTPConnectionPool(host='the%20grey.pdf', port=80): Max retries exceeded with url: / (Caused by NameResolutionError(\"<urllib3.connection.HTTPConnection object at 0x32d78e620>: Failed to resolve 'the%20grey.pdf' ([Errno 8] nodename nor servname provided, or not known)\"))\n"
     ]
    },
    {
     "name": "stderr",
     "output_type": "stream",
     "text": [
      "Some characters could not be decoded, and were replaced with REPLACEMENT CHARACTER.\n"
     ]
    },
    {
     "name": "stdout",
     "output_type": "stream",
     "text": [
      "Error processing http://gointothestory.blcklst.com/wp-content/uploads/2014/11/Amour.pdf: 404 Client Error: Not Found for url: https://gointothestory.blcklst.com/wp-content/uploads/2014/11/Amour.pdf?gi=cefdc04d605e\n"
     ]
    },
    {
     "name": "stderr",
     "output_type": "stream",
     "text": [
      "Some characters could not be decoded, and were replaced with REPLACEMENT CHARACTER.\n",
      "Some characters could not be decoded, and were replaced with REPLACEMENT CHARACTER.\n"
     ]
    },
    {
     "name": "stdout",
     "output_type": "stream",
     "text": [
      "Error processing http://SHARK_NIGHT_3D.pdf: HTTPConnectionPool(host='shark_night_3d.pdf', port=80): Max retries exceeded with url: / (Caused by NameResolutionError(\"<urllib3.connection.HTTPConnection object at 0x12edeabf0>: Failed to resolve 'shark_night_3d.pdf' ([Errno 8] nodename nor servname provided, or not known)\"))\n",
      "Invalid URL format: http://I'm.Mortal by Andrew Niccol [Undated] [Rev] [Scan].pdf\n",
      "Error processing http://Rampart_(2011)_(Ellroy_&_Moverman)_2010-21-10_Shoot._Rev._2010-22-09_112p_Digital.pdf: HTTPConnectionPool(host='rampart_(2011)_(ellroy_&_moverman)_2010-21-10_shoot._rev._2010-22-09_112p_digital.pdf', port=80): Max retries exceeded with url: / (Caused by NameResolutionError(\"<urllib3.connection.HTTPConnection object at 0x32d78c5b0>: Failed to resolve 'rampart_(2011)_(ellroy_&_moverman)_2010-21-10_shoot._rev._2010-22-09_112p_digital.pdf' ([Errno 8] nodename nor servname provided, or not known)\"))\n",
      "Error processing http://film_20100519/all_imsdb_05_19_10/Romeo-&-Juliet.html: HTTPConnectionPool(host='film_20100519', port=80): Max retries exceeded with url: /all_imsdb_05_19_10/Romeo-&-Juliet.html (Caused by NameResolutionError(\"<urllib3.connection.HTTPConnection object at 0x12e9a1a20>: Failed to resolve 'film_20100519' ([Errno 8] nodename nor servname provided, or not known)\"))\n",
      "Error processing http://WANDERLUST (2012) - 2010.01.21 draft by Ken Marino & David Wain.pdf: HTTPConnectionPool(host='wanderlust%20(2012)%20-%202010.01.21%20draft%20by%20ken%20marino%20&%20david%20wain.pdf', port=80): Max retries exceeded with url: / (Caused by NameResolutionError(\"<urllib3.connection.HTTPConnection object at 0x12e87bf10>: Failed to resolve 'wanderlust%20(2012)%20-%202010.01.21%20draft%20by%20ken%20marino%20&%20david%20wain.pdf' ([Errno 8] nodename nor servname provided, or not known)\"))\n",
      "Error processing http://Stolen (Guggenheim).pdf: HTTPConnectionPool(host='stolen%20(guggenheim).pdf', port=80): Max retries exceeded with url: / (Caused by NameResolutionError(\"<urllib3.connection.HTTPConnection object at 0x10da3a5f0>: Failed to resolve 'stolen%20(guggenheim).pdf' ([Errno 8] nodename nor servname provided, or not known)\"))\n",
      "Error processing http://REVENANT, THE (2015) 2007.04.24 draft by Mark L. Smith.pdf: HTTPConnectionPool(host='revenant,%20the%20(2015)%202007.04.24%20draft%20by%20mark%20l.%20smith.pdf', port=80): Max retries exceeded with url: / (Caused by NameResolutionError(\"<urllib3.connection.HTTPConnection object at 0x32d78f520>: Failed to resolve 'revenant,%20the%20(2015)%202007.04.24%20draft%20by%20mark%20l.%20smith.pdf' ([Errno 8] nodename nor servname provided, or not known)\"))\n",
      "Invalid URL format: http://Martyrs (2015) [2009-12-3] [Digital].pdf\n",
      "Error processing http://Pacific_Rim.pdf: HTTPConnectionPool(host='pacific_rim.pdf', port=80): Max retries exceeded with url: / (Caused by NameResolutionError(\"<urllib3.connection.HTTPConnection object at 0x12edeb220>: Failed to resolve 'pacific_rim.pdf' ([Errno 8] nodename nor servname provided, or not known)\"))\n",
      "Invalid URL format: http://NOW YOU SEE ME (2013) by Boaz Yakin & Edwart Ricourt [2009.05] [Scan] [Hit'10].pdf\n"
     ]
    },
    {
     "name": "stderr",
     "output_type": "stream",
     "text": [
      "Some characters could not be decoded, and were replaced with REPLACEMENT CHARACTER.\n"
     ]
    },
    {
     "name": "stdout",
     "output_type": "stream",
     "text": [
      "Error processing http://gointothestory.blcklst.com/wp-content/uploads/2014/11/The-Invisible-Woman.pdf: 404 Client Error: Not Found for url: https://gointothestory.blcklst.com/wp-content/uploads/2014/11/The-Invisible-Woman.pdf?gi=4b0103ca8075\n",
      "Error processing http://SNOWPIERCER - 2011.11.11 final draft by Bong Joon-Ho and Kelly Masterson.pdf: Failed to parse: 'snowpiercer%20-%202011.11.11%20final%20draft%20by%20bong%20joon-ho%20and%20kelly%20masterson.pdf', label empty or too long\n",
      "Error processing http://THE SPECTACULAR NOW written by Scott Neustadter & Michael Weber.pdf: Failed to parse: 'the%20spectacular%20now%20written%20by%20scott%20neustadter%20&%20michael%20weber.pdf', label empty or too long\n",
      "Error processing http://People Like Us (aka Welcome To People).pdf: HTTPConnectionPool(host='people%20like%20us%20(aka%20welcome%20to%20people).pdf', port=80): Max retries exceeded with url: / (Caused by NameResolutionError(\"<urllib3.connection.HTTPConnection object at 0x12ede8b80>: Failed to resolve 'people%20like%20us%20(aka%20welcome%20to%20people).pdf' ([Errno 8] nodename nor servname provided, or not known)\"))\n",
      "Error processing http://KILLER JOE by Tracy Letts.pdf: HTTPConnectionPool(host='killer%20joe%20by%20tracy%20letts.pdf', port=80): Max retries exceeded with url: / (Caused by NameResolutionError(\"<urllib3.connection.HTTPConnection object at 0x12ede8850>: Failed to resolve 'killer%20joe%20by%20tracy%20letts.pdf' ([Errno 8] nodename nor servname provided, or not known)\"))\n",
      "Invalid URL format: http://Sabotage (2014) [David Ayer Draft][2012-08].pdf\n",
      "Invalid URL format: http://Red Lights (2012) (Cortes) [2010-10] [Unspec.] [125p] [Digital].pdf\n",
      "Error processing http://Collection, The (Melton and Dunstan) 2010-8-22 Unspec. 102p Digital.pdf: Failed to parse: 'collection,%20the%20(melton%20and%20dunstan)%202010-8-22%20unspec.%20102p%20digital.pdf', label empty or too long\n",
      "Error processing http://www.joblo.com/scripts/no-one-lives-original-spec-script-september-2011.pdf: 404 Client Error: Not Found for url: https://www.joblo.com/scripts/no-one-lives-original-spec-script-september-2011.pdf\n",
      "Error processing http://Killing Them Softly.pdf: HTTPConnectionPool(host='killing%20them%20softly.pdf', port=80): Max retries exceeded with url: / (Caused by NameResolutionError(\"<urllib3.connection.HTTPConnection object at 0x12ede84f0>: Failed to resolve 'killing%20them%20softly.pdf' ([Errno 8] nodename nor servname provided, or not known)\"))\n",
      "Invalid URL format: http://Expendables 2 (2012) [2011-5-9] [Scan]_Reduced.pdf\n",
      "Error processing http://APOLLO 18 (2011) 2010.06.16 draft by Brian Miller.pdf: HTTPConnectionPool(host='apollo%2018%20(2011)%202010.06.16%20draft%20by%20brian%20miller.pdf', port=80): Max retries exceeded with url: / (Caused by NameResolutionError(\"<urllib3.connection.HTTPConnection object at 0x10e323580>: Failed to resolve 'apollo%2018%20(2011)%202010.06.16%20draft%20by%20brian%20miller.pdf' ([Errno 8] nodename nor servname provided, or not known)\"))\n",
      "Error processing http://gointothestory.blcklst.com/wp-content/uploads/2015/10/Danny-Collins.pdf: 404 Client Error: Not Found for url: https://gointothestory.blcklst.com/wp-content/uploads/2015/10/Danny-Collins.pdf?gi=7e05476ec019\n",
      "Error processing http://gointothestory.blcklst.com/wp-content/uploads/2014/11/Wreck-It-Ralph.pdf: 404 Client Error: Not Found for url: https://gointothestory.blcklst.com/wp-content/uploads/2014/11/Wreck-It-Ralph.pdf?gi=836b4a281524\n",
      "Invalid URL format: http://NO ESCAPE (2015) (aka THE COUP) by John Erick Dowdle & Drew Dowdle [2012.12.06] [Digital] (1).pdf\n",
      "Invalid URL format: http://Maze Runner, The - Noah Oppenheim [06.10.2011].pdf\n",
      "Invalid URL format: http://INHERENT VICE (2014) by Paul Thomas Anderson [2013.08.07] [Shoot.] [Digital].pdf\n",
      "Error processing http://gointothestory.blcklst.com/wp-content/uploads/2015/10/While-Were-Young.pdf: 404 Client Error: Not Found for url: https://gointothestory.blcklst.com/wp-content/uploads/2015/10/While-Were-Young.pdf?gi=9b6f946aa3ac\n",
      "Error processing http://SOUTHPAW (2015) 2014.03.03 draft by Kurt Sutter.pdf: HTTPConnectionPool(host='southpaw%20(2015)%202014.03.03%20draft%20by%20kurt%20sutter.pdf', port=80): Max retries exceeded with url: / (Caused by NameResolutionError(\"<urllib3.connection.HTTPConnection object at 0x10da39900>: Failed to resolve 'southpaw%20(2015)%202014.03.03%20draft%20by%20kurt%20sutter.pdf' ([Errno 8] nodename nor servname provided, or not known)\"))\n",
      "Error processing https://dl.dropboxusercontent.com/s/t711fe3u47rgkr1/HER%20%282013%29%20Spilke%20Jonze%20-Final-.pdf: 403 Client Error: Forbidden for url: https://dl.dropboxusercontent.com/s/t711fe3u47rgkr1/HER%20%282013%29%20Spilke%20Jonze%20-Final-.pdf\n",
      "Error processing http://focusguilds2013.com/workspace/media/tpbtp-final-script-9-26-2011.pdf: HTTPConnectionPool(host='focusguilds2013.com', port=80): Max retries exceeded with url: /workspace/media/tpbtp-final-script-9-26-2011.pdf (Caused by NameResolutionError(\"<urllib3.connection.HTTPConnection object at 0x32d78db70>: Failed to resolve 'focusguilds2013.com' ([Errno 8] nodename nor servname provided, or not known)\"))\n",
      "Error processing http://www.paramountguilds.com/pdf/nebraska_screenplay.pdf: 403 Client Error: Forbidden for url: https://www.paramount.com/\n"
     ]
    },
    {
     "name": "stderr",
     "output_type": "stream",
     "text": [
      "Some characters could not be decoded, and were replaced with REPLACEMENT CHARACTER.\n"
     ]
    },
    {
     "name": "stdout",
     "output_type": "stream",
     "text": [
      "Error processing http://EVIDENCE_by_John_Swetnam.pdf: HTTPConnectionPool(host='evidence_by_john_swetnam.pdf', port=80): Max retries exceeded with url: / (Caused by NameResolutionError(\"<urllib3.connection.HTTPConnection object at 0x10e3227a0>: Failed to resolve 'evidence_by_john_swetnam.pdf' ([Errno 8] nodename nor servname provided, or not known)\"))\n",
      "Error processing http://YOURE_NEXT_shooting.pdf: HTTPConnectionPool(host='youre_next_shooting.pdf', port=80): Max retries exceeded with url: / (Caused by NameResolutionError(\"<urllib3.connection.HTTPConnection object at 0x10e322d40>: Failed to resolve 'youre_next_shooting.pdf' ([Errno 8] nodename nor servname provided, or not known)\"))\n",
      "Error processing http://END OF WATCH_David Ayer.pdf: HTTPConnectionPool(host='end%20of%20watch_david%20ayer.pdf', port=80): Max retries exceeded with url: / (Caused by NameResolutionError(\"<urllib3.connection.HTTPConnection object at 0x10e323fd0>: Failed to resolve 'end%20of%20watch_david%20ayer.pdf' ([Errno 8] nodename nor servname provided, or not known)\"))\n"
     ]
    },
    {
     "name": "stderr",
     "output_type": "stream",
     "text": [
      "Some characters could not be decoded, and were replaced with REPLACEMENT CHARACTER.\n",
      "Some characters could not be decoded, and were replaced with REPLACEMENT CHARACTER.\n"
     ]
    },
    {
     "name": "stdout",
     "output_type": "stream",
     "text": [
      "Error processing http://Hatchet III UNRATED Screenplay.pdf: HTTPConnectionPool(host='hatchet%20iii%20unrated%20screenplay.pdf', port=80): Max retries exceeded with url: / (Caused by NameResolutionError(\"<urllib3.connection.HTTPConnection object at 0x10f6ef610>: Failed to resolve 'hatchet%20iii%20unrated%20screenplay.pdf' ([Errno 8] nodename nor servname provided, or not known)\"))\n",
      "Error processing http://The Judge.pdf: HTTPConnectionPool(host='the%20judge.pdf', port=80): Max retries exceeded with url: / (Caused by NameResolutionError(\"<urllib3.connection.HTTPConnection object at 0x10f6a3f70>: Failed to resolve 'the%20judge.pdf' ([Errno 8] nodename nor servname provided, or not known)\"))\n"
     ]
    },
    {
     "name": "stderr",
     "output_type": "stream",
     "text": [
      "Some characters could not be decoded, and were replaced with REPLACEMENT CHARACTER.\n"
     ]
    },
    {
     "name": "stdout",
     "output_type": "stream",
     "text": [
      "Error processing http://SPOTLIGHT (06.05.13) - Josh Singer, Tom McCarthy.pdf: HTTPConnectionPool(host='spotlight%20(06.05.13)%20-%20josh%20singer,%20tom%20mccarthy.pdf', port=80): Max retries exceeded with url: / (Caused by NameResolutionError(\"<urllib3.connection.HTTPConnection object at 0x10e05c460>: Failed to resolve 'spotlight%20(06.05.13)%20-%20josh%20singer,%20tom%20mccarthy.pdf' ([Errno 8] nodename nor servname provided, or not known)\"))\n"
     ]
    },
    {
     "name": "stderr",
     "output_type": "stream",
     "text": [
      "Some characters could not be decoded, and were replaced with REPLACEMENT CHARACTER.\n"
     ]
    },
    {
     "name": "stdout",
     "output_type": "stream",
     "text": [
      "Error processing http://SINISTER (2012) 2011.04.20 draft by Scott Derrickson & C. Robert Cargill.pdf: HTTPConnectionPool(host='sinister%20(2012)%202011.04.20%20draft%20by%20scott%20derrickson%20&%20c.%20robert%20cargill.pdf', port=80): Max retries exceeded with url: / (Caused by NameResolutionError(\"<urllib3.connection.HTTPConnection object at 0x10e05fdc0>: Failed to resolve 'sinister%20(2012)%202011.04.20%20draft%20by%20scott%20derrickson%20&%20c.%20robert%20cargill.pdf' ([Errno 8] nodename nor servname provided, or not known)\"))\n"
     ]
    },
    {
     "name": "stderr",
     "output_type": "stream",
     "text": [
      "Some characters could not be decoded, and were replaced with REPLACEMENT CHARACTER.\n"
     ]
    },
    {
     "name": "stdout",
     "output_type": "stream",
     "text": [
      "Invalid URL format: http://Seven Psychopaths by Martin McDonagh [UNDATED][Digital].pdf\n",
      "Invalid URL format: http://Carrie (2013) [10-31-2011].pdf\n",
      "Error processing http://EVERLY by Yale Hannon.pdf: HTTPConnectionPool(host='everly%20by%20yale%20hannon.pdf', port=80): Max retries exceeded with url: / (Caused by NameResolutionError(\"<urllib3.connection.HTTPConnection object at 0x10e05e860>: Failed to resolve 'everly%20by%20yale%20hannon.pdf' ([Errno 8] nodename nor servname provided, or not known)\"))\n",
      "Error processing http://NOAH by Aronofsky & Handel.pdf: HTTPConnectionPool(host='noah%20by%20aronofsky%20&%20handel.pdf', port=80): Max retries exceeded with url: / (Caused by NameResolutionError(\"<urllib3.connection.HTTPConnection object at 0x10f6ef280>: Failed to resolve 'noah%20by%20aronofsky%20&%20handel.pdf' ([Errno 8] nodename nor servname provided, or not known)\"))\n",
      "Error processing http://www.paramountguilds.com/pdf/labor_day_screenplay.pdf: 403 Client Error: Forbidden for url: https://www.paramount.com/\n",
      "Error processing http://gointothestory.blcklst.com/wp-content/uploads/2015/11/Infinitely-Polar-Bear.pdf: 404 Client Error: Not Found for url: https://gointothestory.blcklst.com/wp-content/uploads/2015/11/Infinitely-Polar-Bear.pdf?gi=b5cd15439455\n",
      "Error processing http://A Most Wanted Man .pdf: HTTPConnectionPool(host='a%20most%20wanted%20man%20.pdf', port=80): Max retries exceeded with url: / (Caused by NameResolutionError(\"<urllib3.connection.HTTPConnection object at 0x10e091060>: Failed to resolve 'a%20most%20wanted%20man%20.pdf' ([Errno 8] nodename nor servname provided, or not known)\"))\n"
     ]
    },
    {
     "name": "stderr",
     "output_type": "stream",
     "text": [
      "Some characters could not be decoded, and were replaced with REPLACEMENT CHARACTER.\n"
     ]
    },
    {
     "name": "stdout",
     "output_type": "stream",
     "text": [
      "Invalid URL format: http://Pain & Gain - Christopher Markus & Stephen McFeely (revisions) Jerry Stahl [01.21.2011].pdf\n",
      "Invalid URL format: http://BEGIN AGAIN (2014) (aka CAN A SONG SAVE YOUR LIFE) by John Carney [Undated] [Shoot.] [Digital].pdf\n"
     ]
    },
    {
     "name": "stderr",
     "output_type": "stream",
     "text": [
      "Some characters could not be decoded, and were replaced with REPLACEMENT CHARACTER.\n",
      "Some characters could not be decoded, and were replaced with REPLACEMENT CHARACTER.\n"
     ]
    },
    {
     "name": "stdout",
     "output_type": "stream",
     "text": [
      "Invalid URL format: http://IDENTITY THIEF (2013) (aka ID THEFT) by Jerry Eeten (Rev. - Craig Mazin) [2011.12.02] [1st] [Digital].pdf\n",
      "Error processing http://gointothestory.blcklst.com/wp-content/uploads/2014/12/Gambler-The.pdf: 404 Client Error: Not Found for url: https://gointothestory.blcklst.com/wp-content/uploads/2014/12/Gambler-The.pdf?gi=cefd8c5650ce\n",
      "Error processing http://gointothestory.blcklst.com/wp-content/uploads/2014/11/Smashed.pdf: 404 Client Error: Not Found for url: https://gointothestory.blcklst.com/wp-content/uploads/2014/11/Smashed.pdf?gi=b7fa42853bf3\n",
      "Error processing http://gointothestory.blcklst.com/wp-content/uploads/2015/11/Steve-Jobs.pdf: 404 Client Error: Not Found for url: https://gointothestory.blcklst.com/wp-content/uploads/2015/11/Steve-Jobs.pdf?gi=07f794383f45\n",
      "Error processing http://gointothestory.blcklst.com/wp-content/uploads/2014/12/Imitation-Game-The.pdf: 404 Client Error: Not Found for url: https://gointothestory.blcklst.com/wp-content/uploads/2014/12/Imitation-Game-The.pdf?gi=55843b8f960a\n",
      "Error processing http://gointothestory.blcklst.com/wp-content/uploads/2014/07/Promised-Land.pdf: 404 Client Error: Not Found for url: https://gointothestory.blcklst.com/wp-content/uploads/2014/07/Promised-Land.pdf?gi=4f12f10c003d\n",
      "Error processing http://DUMB & DUMBER TO.pdf: HTTPConnectionPool(host='dumb%20&%20dumber%20to.pdf', port=80): Max retries exceeded with url: / (Caused by NameResolutionError(\"<urllib3.connection.HTTPConnection object at 0x10f6ef940>: Failed to resolve 'dumb%20&%20dumber%20to.pdf' ([Errno 8] nodename nor servname provided, or not known)\"))\n",
      "Error processing http://gointothestory.blcklst.com/wp-content/uploads/2015/11/Inside-Out.pdf: 404 Client Error: Not Found for url: https://gointothestory.blcklst.com/wp-content/uploads/2015/11/Inside-Out.pdf?gi=c3cc1b56455d\n",
      "Error processing http://gointothestory.blcklst.com/wp-content/uploads/2014/11/Spring-Breakers.pdf: 404 Client Error: Not Found for url: https://gointothestory.blcklst.com/wp-content/uploads/2014/11/Spring-Breakers.pdf?gi=911e0a336c37\n",
      "Error processing http://The Final Girls 02-25-11.pdf: HTTPConnectionPool(host='the%20final%20girls%2002-25-11.pdf', port=80): Max retries exceeded with url: / (Caused by NameResolutionError(\"<urllib3.connection.HTTPConnection object at 0x10e05c520>: Failed to resolve 'the%20final%20girls%2002-25-11.pdf' ([Errno 8] nodename nor servname provided, or not known)\"))\n"
     ]
    },
    {
     "name": "stderr",
     "output_type": "stream",
     "text": [
      "Some characters could not be decoded, and were replaced with REPLACEMENT CHARACTER.\n"
     ]
    },
    {
     "name": "stdout",
     "output_type": "stream",
     "text": [
      "Error processing http://San Andreas 3D.pdf: HTTPConnectionPool(host='san%20andreas%203d.pdf', port=80): Max retries exceeded with url: / (Caused by NameResolutionError(\"<urllib3.connection.HTTPConnection object at 0x10f1bc2e0>: Failed to resolve 'san%20andreas%203d.pdf' ([Errno 8] nodename nor servname provided, or not known)\"))\n",
      "Error processing http://Selfless 06-27-11.pdf - Adobe Acrobat Pro.pdf: HTTPConnectionPool(host='selfless%2006-27-11.pdf%20-%20adobe%20acrobat%20pro.pdf', port=80): Max retries exceeded with url: / (Caused by NameResolutionError(\"<urllib3.connection.HTTPConnection object at 0x10f24c310>: Failed to resolve 'selfless%2006-27-11.pdf%20-%20adobe%20acrobat%20pro.pdf' ([Errno 8] nodename nor servname provided, or not known)\"))\n",
      "Error processing http://TWO_NIGHT_STAND-MARK_HAMMER.pdf: HTTPConnectionPool(host='two_night_stand-mark_hammer.pdf', port=80): Max retries exceeded with url: / (Caused by NameResolutionError(\"<urllib3.connection.HTTPConnection object at 0x10f1bffd0>: Failed to resolve 'two_night_stand-mark_hammer.pdf' ([Errno 8] nodename nor servname provided, or not known)\"))\n",
      "Error processing http://Horrible Bosses 2.pdf: HTTPConnectionPool(host='horrible%20bosses%202.pdf', port=80): Max retries exceeded with url: / (Caused by NameResolutionError(\"<urllib3.connection.HTTPConnection object at 0x10f27e290>: Failed to resolve 'horrible%20bosses%202.pdf' ([Errno 8] nodename nor servname provided, or not known)\"))\n",
      "Error processing http://gointothestory.blcklst.com/wp-content/uploads/2014/11/St.-Vincent.pdf: 404 Client Error: Not Found for url: https://gointothestory.blcklst.com/wp-content/uploads/2014/11/St.-Vincent.pdf?gi=b0366d30bf3e\n",
      "Error processing http://Maps To The Stars (2014) (Wagner) (2012-09-02) (88p).pdf: Failed to parse: 'maps%20to%20the%20stars%20(2014)%20(wagner)%20(2012-09-02)%20(88p).pdf', label empty or too long\n",
      "Invalid URL format: http://Three Days To Kill (2014) [Undated] [Digital].pdf\n",
      "Error processing http://American Sniper_Final Shooting.pdf: HTTPConnectionPool(host='american%20sniper_final%20shooting.pdf', port=80): Max retries exceeded with url: / (Caused by NameResolutionError(\"<urllib3.connection.HTTPConnection object at 0x10f27e890>: Failed to resolve 'american%20sniper_final%20shooting.pdf' ([Errno 8] nodename nor servname provided, or not known)\"))\n",
      "Error processing http://gointothestory.blcklst.com/wp-content/uploads/2014/12/Into-The-Woods.pdf: 404 Client Error: Not Found for url: https://gointothestory.blcklst.com/wp-content/uploads/2014/12/Into-The-Woods.pdf?gi=6a889a40f0c3\n",
      "Error processing http://Counselor, The (Cormac McCarthy) (NCP).pdf: HTTPConnectionPool(host='counselor,%20the%20(cormac%20mccarthy)%20(ncp).pdf', port=80): Max retries exceeded with url: / (Caused by NameResolutionError(\"<urllib3.connection.HTTPConnection object at 0x10f27fd90>: Failed to resolve 'counselor,%20the%20(cormac%20mccarthy)%20(ncp).pdf' ([Errno 8] nodename nor servname provided, or not known)\"))\n",
      "Error processing http://RUN ALL NIGHT - 2012.01.03 draft by Brad Ingelsby.pdf: HTTPConnectionPool(host='run%20all%20night%20-%202012.01.03%20draft%20by%20brad%20ingelsby.pdf', port=80): Max retries exceeded with url: / (Caused by NameResolutionError(\"<urllib3.connection.HTTPConnection object at 0x10f27f700>: Failed to resolve 'run%20all%20night%20-%202012.01.03%20draft%20by%20brad%20ingelsby.pdf' ([Errno 8] nodename nor servname provided, or not known)\"))\n",
      "Error processing http://gointothestory.blcklst.com/wp-content/uploads/2014/11/Before-Midnight.pdf: 404 Client Error: Not Found for url: https://gointothestory.blcklst.com/wp-content/uploads/2014/11/Before-Midnight.pdf?gi=74190d69222d\n",
      "Error processing http://TRANSCENDENCE_aka_UNTITLED_WALLY_PFISTER_PROJECT_by_Jack_Paglen.pdf: HTTPConnectionPool(host='transcendence_aka_untitled_wally_pfister_project_by_jack_paglen.pdf', port=80): Max retries exceeded with url: / (Caused by NameResolutionError(\"<urllib3.connection.HTTPConnection object at 0x10f24fb80>: Failed to resolve 'transcendence_aka_untitled_wally_pfister_project_by_jack_paglen.pdf' ([Errno 8] nodename nor servname provided, or not known)\"))\n",
      "Error processing https://dl.dropboxusercontent.com/u/90875400/Finders%20Keepers.pdf: 404 Client Error: Not Found for url: https://dl.dropboxusercontent.com/u/90875400/Finders%20Keepers.pdf\n",
      "Invalid URL format: http://INSIDIOUS 2 (2013) by Leigh Whannell [2012.11] [Digital] (1).pdf\n",
      "Error processing http://Heat aka Wild Card (2014) (Goldman) (2012-17-02) (109p).pdf: Failed to parse: 'heat%20aka%20wild%20card%20(2014)%20(goldman)%20(2012-17-02)%20(109p).pdf', label empty or too long\n",
      "Error processing http://Calvary.pdf: HTTPConnectionPool(host='calvary.pdf', port=80): Max retries exceeded with url: / (Caused by NameResolutionError(\"<urllib3.connection.HTTPConnection object at 0x10f24f340>: Failed to resolve 'calvary.pdf' ([Errno 8] nodename nor servname provided, or not known)\"))\n",
      "Error processing http://gointothestory.blcklst.com/wp-content/uploads/2014/12/Dear-White-People.pdf: 404 Client Error: Not Found for url: https://gointothestory.blcklst.com/wp-content/uploads/2014/12/Dear-White-People.pdf?gi=b81535739bbe\n",
      "Error processing http://gointothestory.blcklst.com/wp-content/uploads/2014/11/Wadjda.pdf: 404 Client Error: Not Found for url: https://gointothestory.blcklst.com/wp-content/uploads/2014/11/Wadjda.pdf?gi=7fe7b0d895df\n",
      "Error processing http://Gone Girl (06.14.13, Gillian Flynn, David Fincher's Movie, 2014).pdf: HTTPConnectionPool(host=\"gone%20girl%20(06.14.13,%20gillian%20flynn,%20david%20fincher's%20movie,%202014).pdf\", port=80): Max retries exceeded with url: / (Caused by NameResolutionError(\"<urllib3.connection.HTTPConnection object at 0x10f27cd60>: Failed to resolve 'gone%20girl%20(06.14.13,%20gillian%20flynn,%20david%20fincher's%20movie,%202014).pdf' ([Errno 8] nodename nor servname provided, or not known)\"))\n",
      "Error processing http://gointothestory.blcklst.com/wp-content/uploads/2014/11/Grand-Budapest-Hotel-The-FYC.pdf: 404 Client Error: Not Found for url: https://gointothestory.blcklst.com/wp-content/uploads/2014/11/Grand-Budapest-Hotel-The-FYC.pdf?gi=51ddf392d2a1\n",
      "Error processing http://Minions-Screenplay.pdf: HTTPConnectionPool(host='minions-screenplay.pdf', port=80): Max retries exceeded with url: / (Caused by NameResolutionError(\"<urllib3.connection.HTTPConnection object at 0x10f27c9d0>: Failed to resolve 'minions-screenplay.pdf' ([Errno 8] nodename nor servname provided, or not known)\"))\n",
      "Invalid URL format: http://22 JUMP STREET (2014) by Oren Uziel [2013.04.23] [Digital].pdf\n"
     ]
    },
    {
     "name": "stderr",
     "output_type": "stream",
     "text": [
      "Some characters could not be decoded, and were replaced with REPLACEMENT CHARACTER.\n"
     ]
    },
    {
     "name": "stdout",
     "output_type": "stream",
     "text": [
      "Error processing http://Wild.pdf: HTTPConnectionPool(host='wild.pdf', port=80): Max retries exceeded with url: / (Caused by NameResolutionError(\"<urllib3.connection.HTTPConnection object at 0x10f0bfbb0>: Failed to resolve 'wild.pdf' ([Errno 8] nodename nor servname provided, or not known)\"))\n",
      "Error processing http://THE BABADOOK 6.3_Kent_9_11.pdf: HTTPConnectionPool(host='the%20babadook%206.3_kent_9_11.pdf', port=80): Max retries exceeded with url: / (Caused by NameResolutionError(\"<urllib3.connection.HTTPConnection object at 0x10f0bc8e0>: Failed to resolve 'the%20babadook%206.3_kent_9_11.pdf' ([Errno 8] nodename nor servname provided, or not known)\"))\n",
      "Error processing http://The Zero Theorem.pdf: HTTPConnectionPool(host='the%20zero%20theorem.pdf', port=80): Max retries exceeded with url: / (Caused by NameResolutionError(\"<urllib3.connection.HTTPConnection object at 0x10f0bf040>: Failed to resolve 'the%20zero%20theorem.pdf' ([Errno 8] nodename nor servname provided, or not known)\"))\n",
      "Error processing http://Blue Jasmine.pdf: HTTPConnectionPool(host='blue%20jasmine.pdf', port=80): Max retries exceeded with url: / (Caused by NameResolutionError(\"<urllib3.connection.HTTPConnection object at 0x10f0bfb50>: Failed to resolve 'blue%20jasmine.pdf' ([Errno 8] nodename nor servname provided, or not known)\"))\n"
     ]
    },
    {
     "name": "stderr",
     "output_type": "stream",
     "text": [
      "Some characters could not be decoded, and were replaced with REPLACEMENT CHARACTER.\n"
     ]
    },
    {
     "name": "stdout",
     "output_type": "stream",
     "text": [
      "Error processing http://The Rover by David Michod.pdf: HTTPConnectionPool(host='the%20rover%20by%20david%20michod.pdf', port=80): Max retries exceeded with url: / (Caused by NameResolutionError(\"<urllib3.connection.HTTPConnection object at 0x10e093370>: Failed to resolve 'the%20rover%20by%20david%20michod.pdf' ([Errno 8] nodename nor servname provided, or not known)\"))\n",
      "Error processing http://gointothestory.blcklst.com/wp-content/uploads/2015/10/Mississippi-Grind.pdf: 404 Client Error: Not Found for url: https://gointothestory.blcklst.com/wp-content/uploads/2015/10/Mississippi-Grind.pdf?gi=a2648dd7f4b4\n",
      "Error processing http://The Lunchbox-screenplay.pdf: HTTPConnectionPool(host='the%20lunchbox-screenplay.pdf', port=80): Max retries exceeded with url: / (Caused by NameResolutionError(\"<urllib3.connection.HTTPConnection object at 0x10e0b9e40>: Failed to resolve 'the%20lunchbox-screenplay.pdf' ([Errno 8] nodename nor servname provided, or not known)\"))\n",
      "Error processing http://Runner, Runner (aka Rounders 2).pdf: HTTPConnectionPool(host='runner,%20runner%20(aka%20rounders%202).pdf', port=80): Max retries exceeded with url: / (Caused by NameResolutionError(\"<urllib3.connection.HTTPConnection object at 0x10f24fca0>: Failed to resolve 'runner,%20runner%20(aka%20rounders%202).pdf' ([Errno 8] nodename nor servname provided, or not known)\"))\n",
      "Error processing http://gointothestory.blcklst.com/wp-content/uploads/2013/12/Short-Term-12-FINAL.pdf: 404 Client Error: Not Found for url: https://gointothestory.blcklst.com/wp-content/uploads/2013/12/Short-Term-12-FINAL.pdf?gi=506accb87de3\n",
      "Error processing http://Deliver Us from Evil-Boardman aul_Harris.pdf: HTTPConnectionPool(host='deliver%20us%20from%20evil-boardman%20aul_harris.pdf', port=80): Max retries exceeded with url: / (Caused by NameResolutionError(\"<urllib3.connection.HTTPConnection object at 0x10f3b5f00>: Failed to resolve 'deliver%20us%20from%20evil-boardman%20aul_harris.pdf' ([Errno 8] nodename nor servname provided, or not known)\"))\n",
      "Error processing http://gointothestory.blcklst.com/wp-content/uploads/2015/12/Brooklyn.pdf: 404 Client Error: Not Found for url: https://gointothestory.blcklst.com/wp-content/uploads/2015/12/Brooklyn.pdf?gi=a500d83dd6c5\n",
      "Error processing http://Delivery Man, The (aka Starbuck) (2012.02.28).pdf: HTTPConnectionPool(host='delivery%20man,%20the%20(aka%20starbuck)%20(2012.02.28).pdf', port=80): Max retries exceeded with url: / (Caused by NameResolutionError(\"<urllib3.connection.HTTPConnection object at 0x10e05dd50>: Failed to resolve 'delivery%20man,%20the%20(aka%20starbuck)%20(2012.02.28).pdf' ([Errno 8] nodename nor servname provided, or not known)\"))\n",
      "Invalid URL format: http://Oculus (2014) [2011-12-15] [Digital].pdf\n",
      "Error processing http://gointothestory.blcklst.com/wp-content/uploads/2014/11/Enough-Said.pdf: 404 Client Error: Not Found for url: https://gointothestory.blcklst.com/wp-content/uploads/2014/11/Enough-Said.pdf?gi=f5f2189e7ff6\n",
      "Error processing http://NOVEMBER MAN.pdf: HTTPConnectionPool(host='november%20man.pdf', port=80): Max retries exceeded with url: / (Caused by NameResolutionError(\"<urllib3.connection.HTTPConnection object at 0x10f27ec20>: Failed to resolve 'november%20man.pdf' ([Errno 8] nodename nor servname provided, or not known)\"))\n",
      "Error processing http://gointothestory.blcklst.com/wp-content/uploads/2015/11/CAROL.pdf: 404 Client Error: Not Found for url: https://gointothestory.blcklst.com/wp-content/uploads/2015/11/CAROL.pdf?gi=475afea4a1a7\n",
      "Error processing http://Green Inferno (Eli Roth & Guillermo Amoedo, Undated, Unspecified Draft).pdf: Failed to parse: 'green%20inferno%20(eli%20roth%20&%20guillermo%20amoedo,%20undated,%20unspecified%20draft).pdf', label empty or too long\n",
      "Error processing http://gointothestory.blcklst.com/wp-content/uploads/2014/11/BELLE-FYC.pdf: 404 Client Error: Not Found for url: https://gointothestory.blcklst.com/wp-content/uploads/2014/11/BELLE-FYC.pdf?gi=c07ae5c525eb\n",
      "Error processing http://THE FAMILY aka MALAVITA-LUC_BESSON.pdf: HTTPConnectionPool(host='the%20family%20aka%20malavita-luc_besson.pdf', port=80): Max retries exceeded with url: / (Caused by NameResolutionError(\"<urllib3.connection.HTTPConnection object at 0x10f27e680>: Failed to resolve 'the%20family%20aka%20malavita-luc_besson.pdf' ([Errno 8] nodename nor servname provided, or not known)\"))\n"
     ]
    },
    {
     "name": "stderr",
     "output_type": "stream",
     "text": [
      "Some characters could not be decoded, and were replaced with REPLACEMENT CHARACTER.\n"
     ]
    },
    {
     "name": "stdout",
     "output_type": "stream",
     "text": [
      "Error processing http://gointothestory.blcklst.com/wp-content/uploads/2015/11/Woman-In-Gold.pdf: 404 Client Error: Not Found for url: https://gointothestory.blcklst.com/wp-content/uploads/2015/11/Woman-In-Gold.pdf?gi=1314a2751918\n",
      "Error processing http://PHILOMENA - 2013.01.16 draft by Steve Coogan and Jeff Pope.pdf: HTTPConnectionPool(host='philomena%20-%202013.01.16%20draft%20by%20steve%20coogan%20and%20jeff%20pope.pdf', port=80): Max retries exceeded with url: / (Caused by NameResolutionError(\"<urllib3.connection.HTTPConnection object at 0x10f24e080>: Failed to resolve 'philomena%20-%202013.01.16%20draft%20by%20steve%20coogan%20and%20jeff%20pope.pdf' ([Errno 8] nodename nor servname provided, or not known)\"))\n",
      "Invalid URL format: http://JOY by Annie Mumolo [2013.05.17] [1st Studio Draft] [Digital] [Unprod.].pdf\n",
      "Error processing http://gointothestory.blcklst.com/wp-content/uploads/2014/11/Get-On-Up.pdf: 404 Client Error: Not Found for url: https://gointothestory.blcklst.com/wp-content/uploads/2014/11/Get-On-Up.pdf?gi=750487bd1416\n",
      "Error processing http://gointothestory.blcklst.com/wp-content/uploads/2015/01/Mr.-Turner.pdf: 404 Client Error: Not Found for url: https://gointothestory.blcklst.com/wp-content/uploads/2015/01/Mr.-Turner.pdf?gi=eaa933eb653f\n",
      "Error processing http://Star Wars-Force-Awakens_Final Script.pdf: HTTPConnectionPool(host='star%20wars-force-awakens_final%20script.pdf', port=80): Max retries exceeded with url: / (Caused by NameResolutionError(\"<urllib3.connection.HTTPConnection object at 0x10f3b6410>: Failed to resolve 'star%20wars-force-awakens_final%20script.pdf' ([Errno 8] nodename nor servname provided, or not known)\"))\n",
      "Error processing http://gointothestory.blcklst.com/wp-content/uploads/2015/12/The-Keeping-Room.pdf: 404 Client Error: Not Found for url: https://gointothestory.blcklst.com/wp-content/uploads/2015/12/The-Keeping-Room.pdf?gi=260a707b4d81\n",
      "Error processing http://BONE TOMAHAWK Script.pdf: HTTPConnectionPool(host='bone%20tomahawk%20script.pdf', port=80): Max retries exceeded with url: / (Caused by NameResolutionError(\"<urllib3.connection.HTTPConnection object at 0x10f3b6320>: Failed to resolve 'bone%20tomahawk%20script.pdf' ([Errno 8] nodename nor servname provided, or not known)\"))\n",
      "Error processing http://ME HIM HER (2015) 2012.08.13 draft by Max Landis.pdf: HTTPConnectionPool(host='me%20him%20her%20(2015)%202012.08.13%20draft%20by%20max%20landis.pdf', port=80): Max retries exceeded with url: / (Caused by NameResolutionError(\"<urllib3.connection.HTTPConnection object at 0x10f3b4e20>: Failed to resolve 'me%20him%20her%20(2015)%202012.08.13%20draft%20by%20max%20landis.pdf' ([Errno 8] nodename nor servname provided, or not known)\"))\n",
      "Invalid URL format: http://GUNMAN, THE (2015) (aka PRONE GUNMAN) by Pete Travis (Rev. - Scott Silver & Andrew Baldwin) [2013.05.01] [Cannes Dra.pdf\n",
      "Error processing http://TOWN_THAT_DREADED_SUNDOWN_(2-25-13b) (1).pdf: HTTPConnectionPool(host='town_that_dreaded_sundown_(2-25-13b)%20(1).pdf', port=80): Max retries exceeded with url: / (Caused by NameResolutionError(\"<urllib3.connection.HTTPConnection object at 0x10f3b7070>: Failed to resolve 'town_that_dreaded_sundown_(2-25-13b)%20(1).pdf' ([Errno 8] nodename nor servname provided, or not known)\"))\n",
      "Error processing http://Get Hard (2015).pdf: HTTPConnectionPool(host='get%20hard%20(2015).pdf', port=80): Max retries exceeded with url: / (Caused by NameResolutionError(\"<urllib3.connection.HTTPConnection object at 0x10f0bf880>: Failed to resolve 'get%20hard%20(2015).pdf' ([Errno 8] nodename nor servname provided, or not known)\"))\n",
      "Error processing http://gointothestory.blcklst.com/wp-content/uploads/2014/11/BIRDMAN.pdf: 404 Client Error: Not Found for url: https://gointothestory.blcklst.com/wp-content/uploads/2014/11/BIRDMAN.pdf?gi=0eb067dabdc0\n",
      "Error processing http://Starred Up - Jonathan Asser.pdf: HTTPConnectionPool(host='starred%20up%20-%20jonathan%20asser.pdf', port=80): Max retries exceeded with url: / (Caused by NameResolutionError(\"<urllib3.connection.HTTPConnection object at 0x10f3b6680>: Failed to resolve 'starred%20up%20-%20jonathan%20asser.pdf' ([Errno 8] nodename nor servname provided, or not known)\"))\n",
      "Error processing http://gointothestory.blcklst.com/wp-content/uploads/2015/12/Me-Earl-the-Dying-Girl.pdf: 404 Client Error: Not Found for url: https://gointothestory.blcklst.com/wp-content/uploads/2015/12/Me-Earl-the-Dying-Girl.pdf?gi=369b5d6b393b\n",
      "Error processing http://WHIPLASH-DAMIEN_CHAZELLE.pdf: HTTPConnectionPool(host='whiplash-damien_chazelle.pdf', port=80): Max retries exceeded with url: / (Caused by NameResolutionError(\"<urllib3.connection.HTTPConnection object at 0x10f3b4580>: Failed to resolve 'whiplash-damien_chazelle.pdf' ([Errno 8] nodename nor servname provided, or not known)\"))\n",
      "Error processing http://gointothestory.blcklst.com/wp-content/uploads/2015/01/Love-is-Strange.pdf: 404 Client Error: Not Found for url: https://gointothestory.blcklst.com/wp-content/uploads/2015/01/Love-is-Strange.pdf?gi=4c9603788cbd\n"
     ]
    },
    {
     "name": "stderr",
     "output_type": "stream",
     "text": [
      "Some characters could not be decoded, and were replaced with REPLACEMENT CHARACTER.\n"
     ]
    },
    {
     "name": "stdout",
     "output_type": "stream",
     "text": [
      "Error processing http://gointothestory.blcklst.com/wp-content/uploads/2014/11/Locke.pdf: 404 Client Error: Not Found for url: https://gointothestory.blcklst.com/wp-content/uploads/2014/11/Locke.pdf?gi=4d6324bde480\n",
      "Invalid URL format: http://Fury (2014) by David Ayer [Undated].pdf\n",
      "Error processing http://POSH - Laura Wade.pdf: HTTPConnectionPool(host='posh%20-%20laura%20wade.pdf', port=80): Max retries exceeded with url: / (Caused by NameResolutionError(\"<urllib3.connection.HTTPConnection object at 0x10f27e410>: Failed to resolve 'posh%20-%20laura%20wade.pdf' ([Errno 8] nodename nor servname provided, or not known)\"))\n",
      "Invalid URL format: http://TOP FIVE (2014) (aka UNTITLED CHRIS ROCK MOVIE) by Chris Rock [2013.05.02] [Digital].pdf\n",
      "Error processing http://KINGSMAN - THE SECRET SERVICE (2015) (aka HUNTSMAN AND SONS) by Jane Goldman & Matthew Vaughn 20 (1).pdf: Failed to parse: 'kingsman%20-%20the%20secret%20service%20(2015)%20(aka%20huntsman%20and%20sons)%20by%20jane%20goldman%20&%20matthew%20vaughn%2020%20(1).pdf', label empty or too long\n",
      "Error processing http://SECOND COMING by Debbie Tucker Green.pdf: HTTPConnectionPool(host='second%20coming%20by%20debbie%20tucker%20green.pdf', port=80): Max retries exceeded with url: / (Caused by NameResolutionError(\"<urllib3.connection.HTTPConnection object at 0x10f0bf3d0>: Failed to resolve 'second%20coming%20by%20debbie%20tucker%20green.pdf' ([Errno 8] nodename nor servname provided, or not known)\"))\n",
      "Error processing http://gointothestory.blcklst.com/wp-content/uploads/2015/12/Mistress-America.pdf: 404 Client Error: Not Found for url: https://gointothestory.blcklst.com/wp-content/uploads/2015/12/Mistress-America.pdf?gi=053183d3b4af\n",
      "Error processing http://gointothestory.blcklst.com/wp-content/uploads/2014/12/NIGHTCRAWLER-Dan-Gilroy.pdf: 404 Client Error: Not Found for url: https://gointothestory.blcklst.com/wp-content/uploads/2014/12/NIGHTCRAWLER-Dan-Gilroy.pdf?gi=9dc9cb5cae4a\n",
      "Invalid URL format: http://LUCY by Luc Besson[2012.11.02][Scan].pdf\n",
      "Invalid URL format: http://CHEF (2014) [2013-01-31] Jon Favreau.pdf\n",
      "Invalid URL format: http://LAZARUS EFFECT, THE (2015) (aka LAZARUS) by Luke Dawson (Rev. - Jeremy Slater [2013.05.10] [Version 3.2] [Digital].pdf\n",
      "Error processing http://gointothestory.blcklst.com/wp-content/uploads/2015/12/Far-From-the-Madding-Crowd.pdf: 404 Client Error: Not Found for url: https://gointothestory.blcklst.com/wp-content/uploads/2015/12/Far-From-the-Madding-Crowd.pdf?gi=b4d3760aa92b\n",
      "Error processing http://gointothestory.blcklst.com/wp-content/uploads/2014/12/A-Most-Violent-Year.pdf: 404 Client Error: Not Found for url: https://gointothestory.blcklst.com/wp-content/uploads/2014/12/A-Most-Violent-Year.pdf?gi=270ac1c0c9d5\n",
      "Error processing http://gointothestory.blcklst.com/wp-content/uploads/2014/11/Theory-of-Everything-The.pdf: 404 Client Error: Not Found for url: https://gointothestory.blcklst.com/wp-content/uploads/2014/11/Theory-of-Everything-The.pdf?gi=b318d8947c09\n",
      "Error processing http://The Guest_finalscript.pdf: HTTPConnectionPool(host='the%20guest_finalscript.pdf', port=80): Max retries exceeded with url: / (Caused by NameResolutionError(\"<urllib3.connection.HTTPConnection object at 0x10f24e0e0>: Failed to resolve 'the%20guest_finalscript.pdf' ([Errno 8] nodename nor servname provided, or not known)\"))\n",
      "Error processing http://THE HUNDRED FOOT JOURNEY (04.26.13)-StevenKnight.pdf: HTTPConnectionPool(host='the%20hundred%20foot%20journey%20(04.26.13)-stevenknight.pdf', port=80): Max retries exceeded with url: / (Caused by NameResolutionError(\"<urllib3.connection.HTTPConnection object at 0x10f24e7d0>: Failed to resolve 'the%20hundred%20foot%20journey%20(04.26.13)-stevenknight.pdf' ([Errno 8] nodename nor servname provided, or not known)\"))\n",
      "Error processing http://gointothestory.blcklst.com/wp-content/uploads/2015/01/Wild-Tales.pdf: 404 Client Error: Not Found for url: https://gointothestory.blcklst.com/wp-content/uploads/2015/01/Wild-Tales.pdf?gi=47263279b3b8\n",
      "Invalid URL format: http://MORTDECAI (2015) by Eric Aronson (Rev. - Peter Baynham & David Koepp) [2013.06.20] [Digital].pdf\n",
      "Error processing http://gointothestory.blcklst.com/wp-content/uploads/2015/12/Learning-To-Drive.pdf: 404 Client Error: Not Found for url: https://gointothestory.blcklst.com/wp-content/uploads/2015/12/Learning-To-Drive.pdf?gi=58eb8c6ffd26\n",
      "Invalid URL format: http://Man Up (2013.02.25) [Digital].pdf\n"
     ]
    },
    {
     "name": "stderr",
     "output_type": "stream",
     "text": [
      "Some characters could not be decoded, and were replaced with REPLACEMENT CHARACTER.\n"
     ]
    },
    {
     "name": "stdout",
     "output_type": "stream",
     "text": [
      "Error processing http://gointothestory.blcklst.com/wp-content/uploads/2015/12/Suffragette.pdf: 404 Client Error: Not Found for url: https://gointothestory.blcklst.com/wp-content/uploads/2015/12/Suffragette.pdf?gi=45d56a7e34eb\n",
      "Error processing http://gointothestory.blcklst.com/wp-content/uploads/2015/11/Room.pdf: 404 Client Error: Not Found for url: https://gointothestory.blcklst.com/wp-content/uploads/2015/11/Room.pdf?gi=526e2fcf5279\n",
      "Error processing http://gointothestory.blcklst.com/wp-content/uploads/2015/11/Diary-of-a-Teenage-Girl-The.pdf: 404 Client Error: Not Found for url: https://gointothestory.blcklst.com/wp-content/uploads/2015/11/Diary-of-a-Teenage-Girl-The.pdf?gi=96af3ee4d7d2\n",
      "Error processing http://BOY NEXT DOOR THE - B  Curry.pdf: HTTPConnectionPool(host='boy%20next%20door%20the%20-%20b%20%20curry.pdf', port=80): Max retries exceeded with url: / (Caused by NameResolutionError(\"<urllib3.connection.HTTPConnection object at 0x10e222da0>: Failed to resolve 'boy%20next%20door%20the%20-%20b%20%20curry.pdf' ([Errno 8] nodename nor servname provided, or not known)\"))\n",
      "Error processing http://gointothestory.blcklst.com/wp-content/uploads/2015/10/Trumbo.pdf: 404 Client Error: Not Found for url: https://gointothestory.blcklst.com/wp-content/uploads/2015/10/Trumbo.pdf?gi=906d82165b45\n",
      "Error processing http://gointothestory.blcklst.com/wp-content/uploads/2015/10/Slow-West.pdf: 404 Client Error: Not Found for url: https://gointothestory.blcklst.com/wp-content/uploads/2015/10/Slow-West.pdf?gi=3780fd313240\n",
      "Error processing http://It Follows - 2015.pdf: HTTPConnectionPool(host='it%20follows%20-%202015.pdf', port=80): Max retries exceeded with url: / (Caused by NameResolutionError(\"<urllib3.connection.HTTPConnection object at 0x10e223ca0>: Failed to resolve 'it%20follows%20-%202015.pdf' ([Errno 8] nodename nor servname provided, or not known)\"))\n",
      "Error processing http://gointothestory.blcklst.com/wp-content/uploads/2015/10/Ill-See-You-In-My-Dreams.pdf: 404 Client Error: Not Found for url: https://gointothestory.blcklst.com/wp-content/uploads/2015/10/Ill-See-You-In-My-Dreams.pdf?gi=c778a4a3af9d\n",
      "Error processing http://gointothestory.blcklst.com/wp-content/uploads/2015/12/Youth.pdf: 404 Client Error: Not Found for url: https://gointothestory.blcklst.com/wp-content/uploads/2015/12/Youth.pdf?gi=75830fdd5868\n",
      "Invalid URL format: http://American Ultra (2015) [2013-3-13] [Digital].pdf\n",
      "Error processing http://Still Alice - WHITEscriptJan4(v.1).pdf: HTTPConnectionPool(host='still%20alice%20-%20whitescriptjan4(v.1).pdf', port=80): Max retries exceeded with url: / (Caused by NameResolutionError(\"<urllib3.connection.HTTPConnection object at 0x10e222980>: Failed to resolve 'still%20alice%20-%20whitescriptjan4(v.1).pdf' ([Errno 8] nodename nor servname provided, or not known)\"))\n",
      "Error processing http://Pan by Jason Fuchs.pdf: HTTPConnectionPool(host='pan%20by%20jason%20fuchs.pdf', port=80): Max retries exceeded with url: / (Caused by NameResolutionError(\"<urllib3.connection.HTTPConnection object at 0x10e2202b0>: Failed to resolve 'pan%20by%20jason%20fuchs.pdf' ([Errno 8] nodename nor servname provided, or not known)\"))\n",
      "Error processing http://SICARIO by Taylor Sheridan.pdf: HTTPConnectionPool(host='sicario%20by%20taylor%20sheridan.pdf', port=80): Max retries exceeded with url: / (Caused by NameResolutionError(\"<urllib3.connection.HTTPConnection object at 0x10e222dd0>: Failed to resolve 'sicario%20by%20taylor%20sheridan.pdf' ([Errno 8] nodename nor servname provided, or not known)\"))\n",
      "Error processing http://gointothestory.blcklst.com/wp-content/uploads/2015/10/End-Of-Tour-The.pdf: 404 Client Error: Not Found for url: https://gointothestory.blcklst.com/wp-content/uploads/2015/10/End-Of-Tour-The.pdf?gi=c4e8b305c036\n",
      "Error processing http://Cake by Patrick Tobin.pdf: HTTPConnectionPool(host='cake%20by%20patrick%20tobin.pdf', port=80): Max retries exceeded with url: / (Caused by NameResolutionError(\"<urllib3.connection.HTTPConnection object at 0x10e222290>: Failed to resolve 'cake%20by%20patrick%20tobin.pdf' ([Errno 8] nodename nor servname provided, or not known)\"))\n",
      "Error processing http://THE LOBSTER.pdf: HTTPConnectionPool(host='the%20lobster.pdf', port=80): Max retries exceeded with url: / (Caused by NameResolutionError(\"<urllib3.connection.HTTPConnection object at 0x10e221660>: Failed to resolve 'the%20lobster.pdf' ([Errno 8] nodename nor servname provided, or not known)\"))\n",
      "Invalid URL format: http://Legend (2015) [Digital] (Studio Release).pdf\n",
      "Error processing http://PAPER TOWNS (07.25.14)ScottNeustadter&MichaelH.Weber.pdf: HTTPConnectionPool(host='paper%20towns%20(07.25.14)scottneustadter&michaelh.weber.pdf', port=80): Max retries exceeded with url: / (Caused by NameResolutionError(\"<urllib3.connection.HTTPConnection object at 0x10e221bd0>: Failed to resolve 'paper%20towns%20(07.25.14)scottneustadter&michaelh.weber.pdf' ([Errno 8] nodename nor servname provided, or not known)\"))\n",
      "Error processing http://gointothestory.blcklst.com/wp-content/uploads/2015/12/I-Smile-Back.pdf: 404 Client Error: Not Found for url: https://gointothestory.blcklst.com/wp-content/uploads/2015/12/I-Smile-Back.pdf?gi=e1276f9c6190\n",
      "Error processing http://The Martian (Goddard, 10-4-13).pdf: HTTPConnectionPool(host='the%20martian%20(goddard,%2010-4-13).pdf', port=80): Max retries exceeded with url: / (Caused by NameResolutionError(\"<urllib3.connection.HTTPConnection object at 0x10e2233d0>: Failed to resolve 'the%20martian%20(goddard,%2010-4-13).pdf' ([Errno 8] nodename nor servname provided, or not known)\"))\n",
      "Error processing http://gointothestory.blcklst.com/wp-content/uploads/2015/11/Bridge-of-Spies.pdf: 404 Client Error: Not Found for url: https://gointothestory.blcklst.com/wp-content/uploads/2015/11/Bridge-of-Spies.pdf?gi=65f0a69a38ae\n",
      "Error processing http://gointothestory.blcklst.com/wp-content/uploads/2015/10/Remember.pdf: 404 Client Error: Not Found for url: https://gointothestory.blcklst.com/wp-content/uploads/2015/10/Remember.pdf?gi=13bcdfbde7de\n",
      "Error processing http://gointothestory.blcklst.com/wp-content/uploads/2015/11/Lady-in-the-Van-The.pdf: 404 Client Error: Not Found for url: https://gointothestory.blcklst.com/wp-content/uploads/2015/11/Lady-in-the-Van-The.pdf?gi=86328b4f64e9\n",
      "Error processing http://Pay The Ghost (Dan Kay, 9-1-09).pdf: HTTPConnectionPool(host='pay%20the%20ghost%20(dan%20kay,%209-1-09).pdf', port=80): Max retries exceeded with url: / (Caused by NameResolutionError(\"<urllib3.connection.HTTPConnection object at 0x10e222890>: Failed to resolve 'pay%20the%20ghost%20(dan%20kay,%209-1-09).pdf' ([Errno 8] nodename nor servname provided, or not known)\"))\n",
      "Error processing http://gointothestory.blcklst.com/wp-content/uploads/2015/11/Son-of-Saul-The.pdf: 404 Client Error: Not Found for url: https://gointothestory.blcklst.com/wp-content/uploads/2015/11/Son-of-Saul-The.pdf?gi=75a7c736532b\n",
      "Invalid URL format: http://Dope (2013.10.31) [Digital].pdf\n",
      "Error processing http://gointothestory.blcklst.com/wp-content/uploads/2015/11/Truth.pdf: 404 Client Error: Not Found for url: https://gointothestory.blcklst.com/wp-content/uploads/2015/11/Truth.pdf?gi=efe6101d3460\n",
      "Error processing http://gointothestory.blcklst.com/wp-content/uploads/2015/11/Grandma.pdf: 404 Client Error: Not Found for url: https://gointothestory.blcklst.com/wp-content/uploads/2015/11/Grandma.pdf?gi=c917071e33ba\n",
      "The new dataframe with downloaded script texts has been saved as 'pudding_texts.csv'.\n"
     ]
    }
   ],
   "source": [
    "from urllib.parse import urlparse\n",
    "\n",
    "scripts = pd.read_csv('pudding_data.csv')\n",
    "\n",
    "# Helper function to verify URL validity\n",
    "def is_valid_url(url):\n",
    "    try:\n",
    "        result = urlparse(url)\n",
    "        return all([result.scheme, result.netloc])\n",
    "    except Exception:\n",
    "        return False\n",
    "\n",
    "def download_script_text(url):\n",
    "    # Ensure the URL is complete: if it starts with '//', add 'https:'\n",
    "    if url.startswith('//'):\n",
    "        url = 'https:' + url\n",
    "    # If URL does not start with http, try to add 'http://'\n",
    "    elif not url.startswith('http'):\n",
    "        url = 'http://' + url\n",
    "    \n",
    "    # If the URL is not valid, return None\n",
    "    if not is_valid_url(url):\n",
    "        print(f\"Invalid URL format: {url}\")\n",
    "        return None\n",
    "    \n",
    "    try:\n",
    "        # Use a user-agent header to avoid blocks\n",
    "        headers = {'User-Agent': 'Mozilla/5.0'}\n",
    "        response = requests.get(url, headers=headers, timeout=10)\n",
    "        response.raise_for_status()\n",
    "        # Parse the response with BeautifulSoup and remove HTML tags\n",
    "        soup = BeautifulSoup(response.content, 'html.parser')\n",
    "        text = soup.get_text(separator=' ', strip=True)\n",
    "        cleaned_text = ' '.join(text.split())\n",
    "        # Return only the first 1000 characters\n",
    "        return cleaned_text[:1000]\n",
    "    except Exception as e:\n",
    "        print(f\"Error processing {url}: {e}\")\n",
    "        return None\n",
    "\n",
    "# Step 1: Download the first 1000 characters from each script link\n",
    "scripts['script_text'] = scripts['link'].apply(download_script_text)\n",
    "\n",
    "# Step 2: Save the updated dataframe to a new CSV file\n",
    "scripts.to_csv('pudding_texts.csv', index=False, escapechar='\\\\')\n",
    "print(\"The new dataframe with downloaded script texts has been saved as 'pudding_texts.csv'.\")"
   ]
  },
  {
   "cell_type": "markdown",
   "metadata": {},
   "source": [
    "## Part 4: TMDB database"
   ]
  },
  {
   "cell_type": "markdown",
   "metadata": {},
   "source": [
    "#### Browse the documentation at https://developer.themoviedb.org/reference/intro/getting-started. Create an account to authenticate"
   ]
  },
  {
   "cell_type": "code",
   "execution_count": null,
   "metadata": {},
   "outputs": [],
   "source": [
    "#create a dataset of the movies in theaters now. Include metadata fields you are interested in. "
   ]
  },
  {
   "cell_type": "code",
   "execution_count": null,
   "metadata": {},
   "outputs": [],
   "source": [
    "#download the movie posters for 10 of these movies and save them to this repository"
   ]
  },
  {
   "cell_type": "code",
   "execution_count": null,
   "metadata": {},
   "outputs": [
    {
     "name": "stdout",
     "output_type": "stream",
     "text": [
      "Saved metadata to movies_now_playing.csv\n",
      "Downloaded poster for Snow White\n",
      "Downloaded poster for The Shrouds\n",
      "Downloaded poster for Magma\n",
      "Downloaded poster for The Safe House\n",
      "Downloaded poster for Argoat\n",
      "Downloaded poster for My Mom, God and Sylvie Vartan\n",
      "Downloaded poster for Les Bodin’s partent en vrille\n",
      "Downloaded poster for Carmen & Bolude\n",
      "Downloaded poster for Witch\n",
      "Downloaded poster for Dead Man's Boots\n",
      "Downloaded posters for 10 movies.\n"
     ]
    }
   ],
   "source": [
    "import requests\n",
    "import pandas as pd\n",
    "import os\n",
    "\n",
    "api_key = \"f7c5a38539a73b94e1c62f94a8c00ac7\"\n",
    "\n",
    "# Base URLs for API and images\n",
    "tmdb_api_url = \"https://api.themoviedb.org/3\"\n",
    "now_playing_endpoint = f\"{tmdb_api_url}/movie/now_playing\"\n",
    "image_base_url = \"https://image.tmdb.org/t/p/w500\"  # Using a width of 500 pixels\n",
    "\n",
    "# Parameters for the API call (you can adjust language or page as needed)\n",
    "params = {\n",
    "    \"api_key\": api_key,\n",
    "    \"language\": \"en-US\",\n",
    "    \"page\": 1\n",
    "}\n",
    "\n",
    "# Retrieve movies in theaters now\n",
    "response = requests.get(now_playing_endpoint, params=params)\n",
    "if response.status_code == 200:\n",
    "    data = response.json()\n",
    "    results = data.get(\"results\", [])\n",
    "else:\n",
    "    print(\"Error fetching data:\", response.status_code)\n",
    "    results = []\n",
    "\n",
    "# metadata fields you are interested in\n",
    "# id, title, release_date, overview, vote_average, poster_path\n",
    "movies_data = []\n",
    "for movie in results:\n",
    "    movies_data.append({\n",
    "        \"id\": movie.get(\"id\"),\n",
    "        \"title\": movie.get(\"title\"),\n",
    "        \"release_date\": movie.get(\"release_date\"),\n",
    "        \"overview\": movie.get(\"overview\"),\n",
    "        \"vote_average\": movie.get(\"vote_average\"),\n",
    "        \"poster_path\": movie.get(\"poster_path\")\n",
    "    })\n",
    "\n",
    "# Create a DataFrame and save it to CSV\n",
    "movies_df = pd.DataFrame(movies_data)\n",
    "movies_df.to_csv(\"movies_now_playing.csv\", index=False)\n",
    "print(\"Saved metadata to movies_now_playing.csv\")\n",
    "\n",
    "# Download movie posters for 10 movies\n",
    "# Make sure a folder exists to save posters\n",
    "poster_dir = \"movie_posters\"\n",
    "os.makedirs(poster_dir, exist_ok=True)\n",
    "\n",
    "# download posters for the first 10 movies that have a poster_path\n",
    "downloaded = 0\n",
    "for movie in movies_data:\n",
    "    if movie[\"poster_path\"]:\n",
    "        poster_url = image_base_url + movie[\"poster_path\"]\n",
    "        try:\n",
    "            img_response = requests.get(poster_url, stream=True, timeout=10)\n",
    "            if img_response.status_code == 200:\n",
    "                # Create a safe filename\n",
    "                safe_title = \"\".join(c if c.isalnum() else \"_\" for c in movie[\"title\"])\n",
    "                filename = os.path.join(poster_dir, f\"{safe_title}.jpg\")\n",
    "                with open(filename, 'wb') as f:\n",
    "                    for chunk in img_response.iter_content(chunk_size=8192):\n",
    "                        f.write(chunk)\n",
    "                print(f\"Downloaded poster for {movie['title']}\")\n",
    "                downloaded += 1\n",
    "            else:\n",
    "                print(f\"Failed to download poster for {movie['title']}\")\n",
    "        except Exception as e:\n",
    "            print(f\"Error downloading poster for {movie['title']}: {e}\")\n",
    "    if downloaded >= 10:\n",
    "        break\n",
    "\n",
    "print(\"Downloaded posters for 10 movies.\")"
   ]
  }
 ],
 "metadata": {
  "kernelspec": {
   "display_name": "is310-env",
   "language": "python",
   "name": "python3"
  },
  "language_info": {
   "codemirror_mode": {
    "name": "ipython",
    "version": 3
   },
   "file_extension": ".py",
   "mimetype": "text/x-python",
   "name": "python",
   "nbconvert_exporter": "python",
   "pygments_lexer": "ipython3",
   "version": "3.10.16"
  }
 },
 "nbformat": 4,
 "nbformat_minor": 2
}
